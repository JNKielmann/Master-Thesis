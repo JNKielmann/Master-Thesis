{
 "cells": [
  {
   "cell_type": "markdown",
   "metadata": {},
   "source": [
    "# Data exploration"
   ]
  },
  {
   "cell_type": "code",
   "execution_count": 153,
   "metadata": {},
   "outputs": [],
   "source": [
    "%matplotlib inline\n",
    "from datetime import datetime\n",
    "from pymongo import MongoClient\n",
    "import pandas as pd\n",
    "pd.set_option('display.max_columns', None)  \n",
    "pd.set_option('display.expand_frame_repr', False)\n",
    "pd.set_option('max_colwidth', 1000)\n",
    "import matplotlib.pyplot as plt\n",
    "import seaborn as sns\n",
    "sns.set()\n",
    "import langid\n",
    "from whatthelang import WhatTheLang\n",
    "import re"
   ]
  },
  {
   "cell_type": "markdown",
   "metadata": {},
   "source": [
    "Connect to MongoDB filled with paper data from Microsoft Academic Graph"
   ]
  },
  {
   "cell_type": "code",
   "execution_count": 2,
   "metadata": {},
   "outputs": [],
   "source": [
    "mongo_client = MongoClient(\"localhost\", 27017, username=\"dev\", password=\"Password4DEV\")\n",
    "db = mongo_client[\"expert_recommender\"]\n",
    "paper_collection = db[\"paper_collection\"]"
   ]
  },
  {
   "cell_type": "code",
   "execution_count": 3,
   "metadata": {},
   "outputs": [
    {
     "name": "stdout",
     "output_type": "stream",
     "text": [
      "Total paper count: 62617\n",
      "Total author count: 32303\n",
      "Paper properties: _id, id, normalized_title, display_title, publication_date, citation_count, total_author_count, kit_authors, keywords, journal, conference, abstract\n"
     ]
    }
   ],
   "source": [
    "print(\"Total paper count:\", paper_collection.estimated_document_count())\n",
    "print(\"Total author count:\", len(paper_collection.distinct(\"kit_authors.id\")))\n",
    "print(\"Paper properties:\", \", \".join(next(paper_collection.find({})).keys()))"
   ]
  },
  {
   "cell_type": "code",
   "execution_count": 4,
   "metadata": {},
   "outputs": [
    {
     "data": {
      "text/html": [
       "<div>\n",
       "<style scoped>\n",
       "    .dataframe tbody tr th:only-of-type {\n",
       "        vertical-align: middle;\n",
       "    }\n",
       "\n",
       "    .dataframe tbody tr th {\n",
       "        vertical-align: top;\n",
       "    }\n",
       "\n",
       "    .dataframe thead th {\n",
       "        text-align: right;\n",
       "    }\n",
       "</style>\n",
       "<table border=\"1\" class=\"dataframe\">\n",
       "  <thead>\n",
       "    <tr style=\"text-align: right;\">\n",
       "      <th></th>\n",
       "      <th>_id</th>\n",
       "      <th>id</th>\n",
       "      <th>display_title</th>\n",
       "      <th>publication_date</th>\n",
       "    </tr>\n",
       "  </thead>\n",
       "  <tbody>\n",
       "    <tr>\n",
       "      <td>0</td>\n",
       "      <td>5da869bf7e08fb472b18e1ea</td>\n",
       "      <td>2150066425</td>\n",
       "      <td>Are we ready for autonomous driving? The KITTI vision benchmark suite</td>\n",
       "      <td>2012-06-01</td>\n",
       "    </tr>\n",
       "    <tr>\n",
       "      <td>1</td>\n",
       "      <td>5da869bf7e08fb472b18e1eb</td>\n",
       "      <td>2133151341</td>\n",
       "      <td>The HITRAN 2008 Molecular Spectroscopic Database</td>\n",
       "      <td>2005-12-01</td>\n",
       "    </tr>\n",
       "    <tr>\n",
       "      <td>2</td>\n",
       "      <td>5da869bf7e08fb472b18e1ec</td>\n",
       "      <td>2115579991</td>\n",
       "      <td>Vision meets robotics: The KITTI dataset</td>\n",
       "      <td>2013-09-01</td>\n",
       "    </tr>\n",
       "    <tr>\n",
       "      <td>3</td>\n",
       "      <td>5da869bf7e08fb472b18e1ed</td>\n",
       "      <td>1979112419</td>\n",
       "      <td>Review of particle properties</td>\n",
       "      <td>1994-08-01</td>\n",
       "    </tr>\n",
       "    <tr>\n",
       "      <td>4</td>\n",
       "      <td>5da869bf7e08fb472b18e1ee</td>\n",
       "      <td>1988091937</td>\n",
       "      <td>Balanced basis sets of split valence, triple zeta valence and quadruple zeta valence quality for H to Rn: Design and assessment of accuracy</td>\n",
       "      <td>2005-01-01</td>\n",
       "    </tr>\n",
       "  </tbody>\n",
       "</table>\n",
       "</div>"
      ],
      "text/plain": [
       "                        _id          id                                                                                                                                display_title publication_date\n",
       "0  5da869bf7e08fb472b18e1ea  2150066425  Are we ready for autonomous driving? The KITTI vision benchmark suite                                                                       2012-06-01      \n",
       "1  5da869bf7e08fb472b18e1eb  2133151341  The HITRAN 2008 Molecular Spectroscopic Database                                                                                            2005-12-01      \n",
       "2  5da869bf7e08fb472b18e1ec  2115579991  Vision meets robotics: The KITTI dataset                                                                                                    2013-09-01      \n",
       "3  5da869bf7e08fb472b18e1ed  1979112419  Review of particle properties                                                                                                               1994-08-01      \n",
       "4  5da869bf7e08fb472b18e1ee  1988091937  Balanced basis sets of split valence, triple zeta valence and quadruple zeta valence quality for H to Rn: Design and assessment of accuracy 2005-01-01      "
      ]
     },
     "execution_count": 4,
     "metadata": {},
     "output_type": "execute_result"
    }
   ],
   "source": [
    "papers = pd.DataFrame(list(paper_collection.find({},{\"publication_date\":1, \"id\":1, \"display_title\":1})))\n",
    "papers.head()"
   ]
  },
  {
   "cell_type": "code",
   "execution_count": 5,
   "metadata": {},
   "outputs": [
    {
     "data": {
      "text/plain": [
       "<matplotlib.axes._subplots.AxesSubplot at 0x1280e2550>"
      ]
     },
     "execution_count": 5,
     "metadata": {},
     "output_type": "execute_result"
    },
    {
     "data": {
      "image/png": "[encoded data removed]",
      "text/plain": [
       "<Figure size 1296x720 with 1 Axes>"
      ]
     },
     "metadata": {
      "needs_background": "light"
     },
     "output_type": "display_data"
    }
   ],
   "source": [
    "papers[\"publication_date\"].groupby(papers[\"publication_date\"].dt.year).count().plot(kind=\"bar\", figsize=(18,10));"
   ]
  },
  {
   "cell_type": "code",
   "execution_count": 6,
   "metadata": {},
   "outputs": [],
   "source": [
    "def get_authors_since(year):\n",
    "    return list(paper_collection.aggregate([\n",
    "        {\n",
    "            \"$unwind\":\"$kit_authors\"\n",
    "        },\n",
    "        {\n",
    "            \"$group\": {\n",
    "                \"_id\": \"$kit_authors.id\",\n",
    "                \"last_paper_date\": {\n",
    "                    \"$max\": \"$publication_date\"\n",
    "                },\n",
    "                \"paper_count\": {\n",
    "                    \"$sum\":1\n",
    "                }\n",
    "            }\n",
    "        },\n",
    "        {\n",
    "            \"$match\": {\n",
    "                \"$and\":[\n",
    "                    {\"paper_count\": {\"$gt\": 1}},\n",
    "                    {\"last_paper_date\":{\"$gt\":datetime(year,1,1)}}\n",
    "                ]\n",
    "            }\n",
    "        },\n",
    "        {\n",
    "            \"$group\":{\n",
    "                \"_id\":None,\n",
    "                \"author_ids\":{\"$push\":\"$_id\"} \n",
    "            }\n",
    "        }\n",
    "    ]))[0][\"author_ids\"]"
   ]
  },
  {
   "cell_type": "code",
   "execution_count": 7,
   "metadata": {},
   "outputs": [
    {
     "name": "stdout",
     "output_type": "stream",
     "text": [
      "CPU times: user 97 ms, sys: 10.9 ms, total: 108 ms\n",
      "Wall time: 14.9 s\n"
     ]
    }
   ],
   "source": [
    "%%time\n",
    "num_authors_list = [len(get_authors_since(year)) for year in range(1968,2020)]"
   ]
  },
  {
   "cell_type": "code",
   "execution_count": 8,
   "metadata": {},
   "outputs": [
    {
     "data": {
      "image/png": "[encoded data removed]",
      "text/plain": [
       "<Figure size 1296x720 with 1 Axes>"
      ]
     },
     "metadata": {
      "needs_background": "light"
     },
     "output_type": "display_data"
    }
   ],
   "source": [
    "plt.figure(figsize=(18, 10))\n",
    "plot = sns.barplot(x=list(range(1968,2020)),y=num_authors_list)\n",
    "plt.xticks(rotation=45)\n",
    "plt.xlabel(\"Year\", fontsize=12)\n",
    "plt.ylabel(\"Number of authors\", fontsize=12)\n",
    "plt.title(\"Number of authors since year\", fontsize=18);"
   ]
  },
  {
   "cell_type": "code",
   "execution_count": 235,
   "metadata": {},
   "outputs": [],
   "source": [
    "def get_papers_of_authors(author_ids):\n",
    "    return paper_collection.aggregate([\n",
    "        {\n",
    "            \"$match\": {\n",
    "                \"kit_authors.id\": {\"$in\":author_ids}\n",
    "            }\n",
    "        },\n",
    "        {\n",
    "            \"$project\":{\n",
    "                \"id\":1,\n",
    "                \"normalized_title\": 1,\n",
    "                \"abstract\":1,\n",
    "                \"kit_authors\":{\n",
    "                    \"$filter\": {\n",
    "                       \"input\": \"$kit_authors\",\n",
    "                       \"as\": \"item\",\n",
    "                       \"cond\": { \"$in\": [\"$$item.id\", author_ids] }\n",
    "                    }\n",
    "                }\n",
    "            }\n",
    "        }\n",
    "    ])"
   ]
  },
  {
   "cell_type": "code",
   "execution_count": 296,
   "metadata": {},
   "outputs": [
    {
     "name": "stdout",
     "output_type": "stream",
     "text": [
      "Number of experts 4904\n",
      "Number of papers published by current kit experts 38954\n"
     ]
    }
   ],
   "source": [
    "authors_since_2017 = get_authors_since(2017)\n",
    "expert_papers = list(get_papers_of_authors(authors_since_2017))\n",
    "print(\"Number of experts\", len(authors_since_2017))\n",
    "print(\"Number of papers published by current kit experts\", len(expert_papers))"
   ]
  },
  {
   "cell_type": "code",
   "execution_count": 297,
   "metadata": {},
   "outputs": [],
   "source": [
    "paper_df = pd.DataFrame(expert_papers).drop(\"_id\", axis=1)"
   ]
  },
  {
   "cell_type": "code",
   "execution_count": 298,
   "metadata": {},
   "outputs": [
    {
     "name": "stdout",
     "output_type": "stream",
     "text": [
      "Removed 4775 papers without abstracts\n"
     ]
    }
   ],
   "source": [
    "print(\"Removed {} papers without abstracts\".format(paper_df[\"abstract\"].isnull().sum()))\n",
    "paper_df = paper_df.dropna()"
   ]
  },
  {
   "cell_type": "code",
   "execution_count": 239,
   "metadata": {},
   "outputs": [
    {
     "data": {
      "image/png": "[encoded data removed]",
      "text/plain": [
       "<Figure size 1152x360 with 1 Axes>"
      ]
     },
     "metadata": {},
     "output_type": "display_data"
    }
   ],
   "source": [
    "paper_df[\"abstract_length\"] = paper_df[\"abstract\"].apply(len)\n",
    "# paper_df.plot.hist(by=\"abstract_length\", bins=100, figsize=(16,10))\n",
    "paper_df.boxplot(column=\"abstract_length\", vert=False, figsize=(16,5));"
   ]
  },
  {
   "cell_type": "code",
   "execution_count": 240,
   "metadata": {},
   "outputs": [
    {
     "name": "stdout",
     "output_type": "stream",
     "text": [
      "Removed 59 papers with more than 4000 characters\n"
     ]
    }
   ],
   "source": [
    "print(\"Removed {} papers with more than 4000 characters\".format((paper_df[\"abstract_length\"] > 4000).sum()))\n",
    "paper_df = paper_df[paper_df[\"abstract_length\"] < 4000]"
   ]
  },
  {
   "cell_type": "code",
   "execution_count": 241,
   "metadata": {},
   "outputs": [
    {
     "data": {
      "text/html": [
       "<div>\n",
       "<style scoped>\n",
       "    .dataframe tbody tr th:only-of-type {\n",
       "        vertical-align: middle;\n",
       "    }\n",
       "\n",
       "    .dataframe tbody tr th {\n",
       "        vertical-align: top;\n",
       "    }\n",
       "\n",
       "    .dataframe thead th {\n",
       "        text-align: right;\n",
       "    }\n",
       "</style>\n",
       "<table border=\"1\" class=\"dataframe\">\n",
       "  <thead>\n",
       "    <tr style=\"text-align: right;\">\n",
       "      <th></th>\n",
       "      <th>normalized_title</th>\n",
       "      <th>abstract</th>\n",
       "      <th>abstract_length</th>\n",
       "    </tr>\n",
       "  </thead>\n",
       "  <tbody>\n",
       "    <tr>\n",
       "      <td>35885</td>\n",
       "      <td>erratum cloud service selection based on variability modeling</td>\n",
       "      <td>In chapter 9, Figure 1 has been given incorrectly. The correct figure should be as follows:</td>\n",
       "      <td>91</td>\n",
       "    </tr>\n",
       "    <tr>\n",
       "      <td>6785</td>\n",
       "      <td>observation of the heavy baryons σb and σb</td>\n",
       "      <td>7 paginas, 2 figuras, 2 tablas.-- PACS nrs.: 14.20.Mr, 13.30.Eg.-- CDF Collaboration: et al.</td>\n",
       "      <td>92</td>\n",
       "    </tr>\n",
       "    <tr>\n",
       "      <td>12841</td>\n",
       "      <td>anomale oberflachenzusammensetzung stochiometrischer mischoxid verbindungen</td>\n",
       "      <td>Fil: Wachs, Israel E.. Lehigh University. Department of Chemical Engineering; Estados Unidos</td>\n",
       "      <td>92</td>\n",
       "    </tr>\n",
       "    <tr>\n",
       "      <td>25195</td>\n",
       "      <td>bestimmung des thermischen abbaus von feststoffen in einem isothermen gradientenfreien reaktor</td>\n",
       "      <td>Cf Article en Anglais dans Chemical Engineering &amp; Technology, 1998, Vol 21, No 4, pp. 332-337</td>\n",
       "      <td>93</td>\n",
       "    </tr>\n",
       "    <tr>\n",
       "      <td>557</td>\n",
       "      <td>search for bs0 μ μ and b0 μ μ decays with cdf ii</td>\n",
       "      <td>7 paginas, 1 figura.-- PACS numbers: 13.20.He, 12.15.Mm, 12.60.Jv.-- CDF Collaboration: et al.</td>\n",
       "      <td>94</td>\n",
       "    </tr>\n",
       "  </tbody>\n",
       "</table>\n",
       "</div>"
      ],
      "text/plain": [
       "                                                                                     normalized_title                                                                                        abstract  abstract_length\n",
       "35885                                   erratum cloud service selection based on variability modeling     In chapter 9, Figure 1 has been given incorrectly. The correct figure should be as follows:               91\n",
       "6785                                                       observation of the heavy baryons σb and σb    7 paginas, 2 figuras, 2 tablas.-- PACS nrs.: 14.20.Mr, 13.30.Eg.-- CDF Collaboration: et al.               92\n",
       "12841                     anomale oberflachenzusammensetzung stochiometrischer mischoxid verbindungen    Fil: Wachs, Israel E.. Lehigh University. Department of Chemical Engineering; Estados Unidos               92\n",
       "25195  bestimmung des thermischen abbaus von feststoffen in einem isothermen gradientenfreien reaktor   Cf Article en Anglais dans Chemical Engineering & Technology, 1998, Vol 21, No 4, pp. 332-337               93\n",
       "557                                                  search for bs0 μ μ and b0 μ μ decays with cdf ii  7 paginas, 1 figura.-- PACS numbers: 13.20.He, 12.15.Mm, 12.60.Jv.-- CDF Collaboration: et al.               94"
      ]
     },
     "execution_count": 241,
     "metadata": {},
     "output_type": "execute_result"
    }
   ],
   "source": [
    "paper_df.sort_values(by=\"abstract_length\")[[\"normalized_title\", \"abstract\", \"abstract_length\"]].head()"
   ]
  },
  {
   "cell_type": "code",
   "execution_count": 242,
   "metadata": {},
   "outputs": [
    {
     "name": "stdout",
     "output_type": "stream",
     "text": [
      "Removed 2395 papers with less than 400 characters\n"
     ]
    }
   ],
   "source": [
    "print(\"Removed {} papers with less than 400 characters\".format((paper_df[\"abstract_length\"] < 400).sum()))\n",
    "paper_df = paper_df[paper_df[\"abstract_length\"] > 400]"
   ]
  },
  {
   "cell_type": "code",
   "execution_count": 243,
   "metadata": {},
   "outputs": [
    {
     "data": {
      "text/html": [
       "<div>\n",
       "<style scoped>\n",
       "    .dataframe tbody tr th:only-of-type {\n",
       "        vertical-align: middle;\n",
       "    }\n",
       "\n",
       "    .dataframe tbody tr th {\n",
       "        vertical-align: top;\n",
       "    }\n",
       "\n",
       "    .dataframe thead th {\n",
       "        text-align: right;\n",
       "    }\n",
       "</style>\n",
       "<table border=\"1\" class=\"dataframe\">\n",
       "  <thead>\n",
       "    <tr style=\"text-align: right;\">\n",
       "      <th></th>\n",
       "      <th>normalized_title</th>\n",
       "      <th>abstract</th>\n",
       "      <th>abstract_length</th>\n",
       "    </tr>\n",
       "  </thead>\n",
       "  <tbody>\n",
       "    <tr>\n",
       "      <td>36448</td>\n",
       "      <td>damascus ein datenhaltungssystem fur den vlsi entwurf</td>\n",
       "      <td>Aufgrund zunehmender Integrationsdichte elektronischer Bauteile fallt beim Entwurfsprozess eine grose Menge komplex strukurierter und vielfaltig zusammenhangender Informationen an, fur deren Verwaltung Datenbankkonzepte heute unumganglich sind. Gangige Datenbanksysteme erweisen sich jedoch in der Entwurfsumgebung als nicht sehr geeignet, da neuartige Anforderungen zu berucksichtigen sind [LOCK 85].</td>\n",
       "      <td>401</td>\n",
       "    </tr>\n",
       "    <tr>\n",
       "      <td>28911</td>\n",
       "      <td>high resolution thermal expansion of mgb2</td>\n",
       "      <td>The thermal expansion of polycrystalline MgB2 from 5–300 K is studied using high-resolution capacitance dilatometry. The thermal expansivity exhibits a small jump of −5.8×10−8 K−1 at Tc (in accord with expectations from the Ehrenfest relationship and published specific heat and pressure data) and a negative peak-like feature close to 5 K. No indications of any structural instabilities are observed.</td>\n",
       "      <td>401</td>\n",
       "    </tr>\n",
       "    <tr>\n",
       "      <td>5044</td>\n",
       "      <td>skyrmion spacetime defect</td>\n",
       "      <td>A finite-energy static classical solution is obtained for standard Einstein gravity coupled to an $SO(3)\\ifmmode\\times\\else\\texttimes\\fi{}SO(3)$ chiral model of scalars (a Skyrme model). This nonsingular localized solution has nontrivial topology for both the spacetime manifold and the $SO(3)$ matter fields. The solution corresponds to a single spacetime defect embedded in flat Minkowski spacetime.</td>\n",
       "      <td>401</td>\n",
       "    </tr>\n",
       "    <tr>\n",
       "      <td>24227</td>\n",
       "      <td>the 2011 kit english asr system for the iwslt evaluation</td>\n",
       "      <td>This paper describes our English Speech-to-Text (STT) system for the 2011 IWSLT ASR track. The system consists of 2 subsystems with different front-ends—one MVDR based, one MFCC based—which are combined using confusion network combination to provide a base for a second pass speaker adapted MVDR system. We demonstrate that this set-up produces competitive results on the IWSLT 2010 dev and test sets.</td>\n",
       "      <td>401</td>\n",
       "    </tr>\n",
       "    <tr>\n",
       "      <td>32830</td>\n",
       "      <td>laser doppler anemometry a non intrusive optical measuring technique for fluid velocity</td>\n",
       "      <td>The present paper gives an introduction to laser Doppler anemometry. The fundamental principles of this measuring technique, as well as the basic features of its instrumental realizations, are explained. The application of laser Doppler anemometry to fluid investigations often requires an adaptation of the LDA-system to the measuring problem. Basic formulas for the lay-out and adaptation are given.</td>\n",
       "      <td>401</td>\n",
       "    </tr>\n",
       "  </tbody>\n",
       "</table>\n",
       "</div>"
      ],
      "text/plain": [
       "                                                                              normalized_title                                                                                                                                                                                                                                                                                                                                                                                                           abstract  abstract_length\n",
       "36448                                    damascus ein datenhaltungssystem fur den vlsi entwurf  Aufgrund zunehmender Integrationsdichte elektronischer Bauteile fallt beim Entwurfsprozess eine grose Menge komplex strukurierter und vielfaltig zusammenhangender Informationen an, fur deren Verwaltung Datenbankkonzepte heute unumganglich sind. Gangige Datenbanksysteme erweisen sich jedoch in der Entwurfsumgebung als nicht sehr geeignet, da neuartige Anforderungen zu berucksichtigen sind [LOCK 85].              401\n",
       "28911                                                high resolution thermal expansion of mgb2  The thermal expansion of polycrystalline MgB2 from 5–300 K is studied using high-resolution capacitance dilatometry. The thermal expansivity exhibits a small jump of −5.8×10−8 K−1 at Tc (in accord with expectations from the Ehrenfest relationship and published specific heat and pressure data) and a negative peak-like feature close to 5 K. No indications of any structural instabilities are observed.              401\n",
       "5044                                                                 skyrmion spacetime defect  A finite-energy static classical solution is obtained for standard Einstein gravity coupled to an $SO(3)\\ifmmode\\times\\else\\texttimes\\fi{}SO(3)$ chiral model of scalars (a Skyrme model). This nonsingular localized solution has nontrivial topology for both the spacetime manifold and the $SO(3)$ matter fields. The solution corresponds to a single spacetime defect embedded in flat Minkowski spacetime.              401\n",
       "24227                                 the 2011 kit english asr system for the iwslt evaluation  This paper describes our English Speech-to-Text (STT) system for the 2011 IWSLT ASR track. The system consists of 2 subsystems with different front-ends—one MVDR based, one MFCC based—which are combined using confusion network combination to provide a base for a second pass speaker adapted MVDR system. We demonstrate that this set-up produces competitive results on the IWSLT 2010 dev and test sets.              401\n",
       "32830  laser doppler anemometry a non intrusive optical measuring technique for fluid velocity  The present paper gives an introduction to laser Doppler anemometry. The fundamental principles of this measuring technique, as well as the basic features of its instrumental realizations, are explained. The application of laser Doppler anemometry to fluid investigations often requires an adaptation of the LDA-system to the measuring problem. Basic formulas for the lay-out and adaptation are given.              401"
      ]
     },
     "execution_count": 243,
     "metadata": {},
     "output_type": "execute_result"
    }
   ],
   "source": [
    "paper_df.sort_values(by=\"abstract_length\")[[\"normalized_title\", \"abstract\", \"abstract_length\"]].head()"
   ]
  },
  {
   "cell_type": "code",
   "execution_count": 205,
   "metadata": {},
   "outputs": [],
   "source": [
    "paper_df[\"abstract\"] = paper_df[\"abstract\"].apply(lambda text: re.sub(r\"(\\r|\\n)+\", \" \", text))"
   ]
  },
  {
   "cell_type": "code",
   "execution_count": 206,
   "metadata": {},
   "outputs": [],
   "source": [
    "wtl = WhatTheLang()\n",
    "paper_df[\"lang_wtl\"] = paper_df[\"abstract\"].apply(wtl.predict_lang)"
   ]
  },
  {
   "cell_type": "code",
   "execution_count": 207,
   "metadata": {},
   "outputs": [],
   "source": [
    "paper_df[\"lang_langid\"] = paper_df[\"abstract\"].apply(lambda a: langid.classify(a)[0])"
   ]
  },
  {
   "cell_type": "code",
   "execution_count": 208,
   "metadata": {},
   "outputs": [
    {
     "data": {
      "text/html": [
       "<div>\n",
       "<style scoped>\n",
       "    .dataframe tbody tr th:only-of-type {\n",
       "        vertical-align: middle;\n",
       "    }\n",
       "\n",
       "    .dataframe tbody tr th {\n",
       "        vertical-align: top;\n",
       "    }\n",
       "\n",
       "    .dataframe thead th {\n",
       "        text-align: right;\n",
       "    }\n",
       "</style>\n",
       "<table border=\"1\" class=\"dataframe\">\n",
       "  <thead>\n",
       "    <tr style=\"text-align: right;\">\n",
       "      <th></th>\n",
       "      <th>lang_wtl</th>\n",
       "      <th>lang_langid</th>\n",
       "      <th>abstract</th>\n",
       "    </tr>\n",
       "  </thead>\n",
       "  <tbody>\n",
       "    <tr>\n",
       "      <td>166</td>\n",
       "      <td>en</td>\n",
       "      <td>lb</td>\n",
       "      <td>L. Accardo, M. Aguilar, D. Aisa, B. Alpat, A. Alvino, G. Ambrosi, K. Andeen, L. Arruda, N. Attig, P. Azzarello, A. Bachlechner, F. Barao, A. Barrau, L. Barrin, A. Bartoloni, L. Basara, M. Battarbee, R. Battiston, J. Bazo, U. Becker, M. Behlmann, B. Beischer, J. Berdugo, B. Bertucci, G. Bigongiari, V. Bindi, S. Bizzaglia, M. Bizzarri, G. Boella, W. de Boer, K. Bollweg, V. Bonnivard, B. Borgia, S. Borsini, M. J. Boschini, M. Bourquin, J. Burger, F. Cadoux, X. D. Cai, M. Capell, S. Caroff, G. Carosi, J. Casaus, V. Cascioli, G. Castellini, I. Cernuda, D. Cerreta, F. Cervelli, M. J. Chae, Y. H. Chang, A. I. Chen, H. Chen, G. M. Cheng, H. S. Chen, L. Cheng, A. Chikanian, H. Y. Chou, E. Choumilov, V. Choutko, C. H. Chung, F. Cindolo, C. Clark, R. Clavero, G. Coignet, C. Consolandi, A. Contin, C. Corti, B. Coste, Z. Cui, M. Dai, C. Delgado, S. Della Torre, M. B. Demirkoz, L. Derome, S. Di Falco, L. Di Masso, F. Dimiccoli, C. Diaz, P. von Doetinchem, W. J. Du, M. Duranti, D. D’Urso, A. Elin...</td>\n",
       "    </tr>\n",
       "    <tr>\n",
       "      <td>187</td>\n",
       "      <td>en</td>\n",
       "      <td>lb</td>\n",
       "      <td>M. Aguilar, D. Aisa, A. Alvino, G. Ambrosi, K. Andeen, L. Arruda, N. Attig, P. Azzarello, A. Bachlechner, F. Barao, A. Barrau, L. Barrin, A. Bartoloni, L. Basara, M. Battarbee, R. Battiston, J. Bazo, U. Becker, M. Behlmann, B. Beischer, J. Berdugo, B. Bertucci, G. Bigongiari, V. Bindi, S. Bizzaglia, M. Bizzarri, G. Boella, W. de Boer, K. Bollweg, V. Bonnivard, B. Borgia, S. Borsini, M. J. Boschini, M. Bourquin, J. Burger, F. Cadoux, X. D. Cai, M. Capell, S. Caroff, J. Casaus, V. Cascioli, G. Castellini, I. Cernuda, F. Cervelli, M. J. Chae, Y. H. Chang, A. I. Chen, H. Chen, G. M. Cheng, H. S. Chen, L. Cheng, A. Chikanian, H. Y. Chou, E. Choumilov, V. Choutko, C. H. Chung, C. Clark, R. Clavero, G. Coignet, C. Consolandi, A. Contin, C. Corti, B. Coste, Z. Cui, M. Dai, C. Delgado, S. Della Torre, M. B. Demirkoz, L. Derome, S. Di Falco, L. Di Masso, F. Dimiccoli, C. Diaz, P. von Doetinchem, W. J. Du, M. Duranti, D. D’Urso, A. Eline, F. J. Eppling, T. Eronen, Y. Y. Fan, L. Farnesini, J. ...</td>\n",
       "    </tr>\n",
       "    <tr>\n",
       "      <td>296</td>\n",
       "      <td>ca</td>\n",
       "      <td>la</td>\n",
       "      <td>The World Stress Map (WSM) project is a global compilation of information on the contemporary crustal stress field from a wide range of stress indicators. The WSM database release 2008 contains 21,750 stress data records that are quality‐ranked using an updated and refined quality‐ranking scheme. Almost 17,000 of these data records have A‐C quality and are considered to record the orientation of maximum horizontal compressional stress SH to within ±25°. As this is almost a triplication of data records compared with the first WSM database release in 1992, we reinvestigate the spatial wave‐length of the stress patterns with a statistical analysis on a global 0.5° grid. The resulting smoothed global stress map displays both; the mean SH orientation that follows from the maximum smoothing radius for which the standard deviation is b25° and a countour map that displays the wave‐length of the stress pattern. This smoothed global map confirms that long wave‐length stress patterns (N2000 k...</td>\n",
       "    </tr>\n",
       "    <tr>\n",
       "      <td>5636</td>\n",
       "      <td>en</td>\n",
       "      <td>sw</td>\n",
       "      <td>O. Lutz, S. Neubauer, M. Heck, T. Kuhr, A. Zupanc, I. Adachi, H. Aihara, D. M. Asner, T. Aushev, T. Aziz, A. M. Bakich, K. Belous, V. Bhardwaj, B. Bhuyan, A. Bondar, G. Bonvicini, A. Bozek, M. Bracko, 18 T. E. Browder, P. Chang, V. Chekelian, A. Chen, P. Chen, B. G. Cheon, R. Chistov, K. Cho, V. Chobanova, Y. Choi, D. Cinabro, J. Dalseno, 50 M. Danilov, 30 Z. Doležal, Z. Drasal, D. Dutta, S. Eidelman, D. Epifanov, H. Farhat, J. E. Fast, M. Feindt, V. Gaur, N. Gabyshev, S. Ganguly, R. Gillard, Y. M. Goh, B. Golob, 18 J. Haba, T. Hara, K. Hayasaka, H. Hayashii, Y. Hoshi, W.-S. Hou, Y. B. Hsiung, H. J. Hyun, T. Iijima, 32 A. Ishikawa, R. Itoh, Y. Iwasaki, T. Julius, J. H. Kang, P. Kapusta, E. Kato, T. Kawasaki, C. Kiesling, H. J. Kim, H. O. Kim, J. B. Kim, J. H. Kim, K. T. Kim, M. J. Kim, K. Kinoshita, J. Klucar, B. R. Ko, P. Kodys, S. Korpar, 18 R. T. Kouzes, P. Križan, 18 P. Krokovny, B. Kronenbitter, T. Kumita, A. Kuzmin, Y.-J. Kwon, J. S. Lange, S.-H. Lee, Y. Li, C. Liu, Y. Liu, D...</td>\n",
       "    </tr>\n",
       "    <tr>\n",
       "      <td>10526</td>\n",
       "      <td>es</td>\n",
       "      <td>en</td>\n",
       "      <td>Applications of Sensor Networks.- Modeling Sensor and Ad Hoc Networks.- Clustering.- MAC Layer and Coloring.- Topology Control.- Interference and Signal-to-Noise-Ratio.- Lower Bounds.- Facility Location.- Geographic Routing.- Compact Routing.- Pseudo Geometric Routing for Sensor Networks.- Minimal Range Assignments for Broadcasts.- Data Gathering in Sensor Networks.- Location Services.- Positioning.- Security.- Trust Mechanisms and Reputation Systems.- Selfish Agents and Economic Aspects.- Time Synchronization.</td>\n",
       "    </tr>\n",
       "    <tr>\n",
       "      <td>16262</td>\n",
       "      <td>en</td>\n",
       "      <td>de</td>\n",
       "      <td>[Haehnel, Alexander P.; Kockler, Katrin; Bantle, Tobias; Barner-Kowollik, Christopher] Karlsruhe Inst Technol, Preparat Macromol Chem Inst Tech Chem &amp; Polymerch, D-76128 Karlsruhe, Germany. [Haehnel, Alexander P.; Kockler, Katrin; Bantle, Tobias; Barner-Kowollik, Christopher] Karlsruhe Inst Technol, Inst Biol Grenzflachen, D-76344 Eggenstein Leopoldshafen, Germany. [Wenn, Benjamin; Junkers, Thomas] Univ Hasselt, Inst Mat Res IMO IMOMEC, Polymer React Design Grp, B-3500 Hasselt, Belgium. [Misske, Andrea M.; Fleischhaker, Friederike] Registered Off, BASF SE, D-67056 Ludwigshafen, Germany.</td>\n",
       "    </tr>\n",
       "    <tr>\n",
       "      <td>17555</td>\n",
       "      <td>de</td>\n",
       "      <td>lb</td>\n",
       "      <td>A. Haungsa∗, T. Antoni, W.D. Apel, A.F. Badeaa†, K. Bekk, A. Bercuci, H. Blumer, H. Bozdog, I.M. Brancus, C. Buttner, A. Chilingarian, K. Daumiller, P. Doll, R. Engel, J. Engler, F. Fesler, H.J. Gils, R. Glasstetterb‡, D. Heck, J.R. Horandel, K.-H. Kampertba‡, H.O. Klages, G. Maiera§, H.J. Mathes, H.J. Mayer, J. Milke, M. Muller, R. Obenland, J. Oehlschlager, S. Ostapchenkoa¶, M. Petcu, H. Rebel, A. Risse, M. Risse, M. Roth, G. Schatz, H. Schieler, J. Scholz, T. Thouw, H. Ulrich, J. van Buren, A. Vardanyan, A. Weindl, J. Wochele, J. Zabierowski</td>\n",
       "    </tr>\n",
       "    <tr>\n",
       "      <td>19968</td>\n",
       "      <td>de</td>\n",
       "      <td>en</td>\n",
       "      <td>The intrinsic recombination processes are investigated in highly excited II–VI compound semiconductors which involve the following scattering processes: the exciton-exciton scattering (P2 line), the exciton-electron or -hole scattering, and the sattering of an exciton by emission of a longitudinal optical phonon. From the stationary rate equations the laser threshold and the maxima of the spontaneous and stimulated emission for the various processes are determined. Experimental investigations of these emission processes are carried out for CdS platelets, ZnO and ZnTe crystals. Good agreement between experimental results and theoretical predictions for the temperature dependences of the laser thresholds, and of the emission maxima is obtained. In stark angeregten II–VI-Halbleitern werden die intrinsischen Rekombinationsprozesse untersucht, denen folgende Streuprozesse zu Grunde liegen: die Exziton-Exziton-Streuung (P2-Linie), die Exziton-Elektron oder -Loch-Streuung und die Streuung...</td>\n",
       "    </tr>\n",
       "    <tr>\n",
       "      <td>21577</td>\n",
       "      <td>es</td>\n",
       "      <td>en</td>\n",
       "      <td>to Dependability Metrics.- to Dependability Metrics.- I Foundations.- On Metrics and Measurements.- Validation of Predictions with Measurements.- Consistent Metric Usage: From Design to Deployment.- Basic and Dependent Metrics.- Goal, Question, Metric.- Quality of Service Modeling Language.- Markov Models.- II Reliability Metrics.- Hardware Reliability.- Software Reliability.- III Security Metrics.- to Security Metrics.- Cryptographic Attack Metrics.- Security Measurements and Metrics for Networks.- Industrial Approaches and Standards for Security Assessment.- Economic Security Metrics.- Human Factors.- IV Performance Metrics.- to Performance Metrics.- Performance-Related Metrics in the ISO 9126 Standard.- Analytical Performance Metrics.- Performance Metrics in Software Design Models.- Measuring Performance Metrics: Techniques and Tools.- Performance Metrics for Specific Domains.- V Overlapping Metrics.- to Overlapping Attributes.- Performability.- Reliability vs. Security: A Subje...</td>\n",
       "    </tr>\n",
       "    <tr>\n",
       "      <td>23739</td>\n",
       "      <td>pl</td>\n",
       "      <td>en</td>\n",
       "      <td>Praca prezentuje reakcje kompleksow indenylowych cyrkonu z solami litowymi difosfanow o ogolnym wzorze R2P-P(SiMe3)Li, gdzie R = tBu, Et2N, iPr2N. W wyniku tych reakcji otrzymano 3 nowe kompleksy fosfanylofosfidowe.Otrzymane nowe kompleksy zbadano przy pomocy technik rentgenowskiej analizy strukturalnej i NMR.Dichloro-bis(indenyl)zirconium(IV) reacts with lithium derivatives of diphosphanes R2P-P(SiMe3)Li (R = tBu, Et2N, iPr2N) to form complexes with terminal phosphanylphosphido ligands - [Ind2Zr(Cl)-{(PSiMe3)P-PR2-jP1}]. These compounds are extremely sensitive towards moisture and oxygen. The solid state structures of these complexes were established by single crystal X-ray diffraction.</td>\n",
       "    </tr>\n",
       "  </tbody>\n",
       "</table>\n",
       "</div>"
      ],
      "text/plain": [
       "      lang_wtl lang_langid                                                                                                                                                                                                                                                                                                                                                                                                                                                                                                                                                                                                                                                                                                                                                                                                                                                                                                                                                                                                                                 abstract\n",
       "166         en          lb  L. Accardo, M. Aguilar, D. Aisa, B. Alpat, A. Alvino, G. Ambrosi, K. Andeen, L. Arruda, N. Attig, P. Azzarello, A. Bachlechner, F. Barao, A. Barrau, L. Barrin, A. Bartoloni, L. Basara, M. Battarbee, R. Battiston, J. Bazo, U. Becker, M. Behlmann, B. Beischer, J. Berdugo, B. Bertucci, G. Bigongiari, V. Bindi, S. Bizzaglia, M. Bizzarri, G. Boella, W. de Boer, K. Bollweg, V. Bonnivard, B. Borgia, S. Borsini, M. J. Boschini, M. Bourquin, J. Burger, F. Cadoux, X. D. Cai, M. Capell, S. Caroff, G. Carosi, J. Casaus, V. Cascioli, G. Castellini, I. Cernuda, D. Cerreta, F. Cervelli, M. J. Chae, Y. H. Chang, A. I. Chen, H. Chen, G. M. Cheng, H. S. Chen, L. Cheng, A. Chikanian, H. Y. Chou, E. Choumilov, V. Choutko, C. H. Chung, F. Cindolo, C. Clark, R. Clavero, G. Coignet, C. Consolandi, A. Contin, C. Corti, B. Coste, Z. Cui, M. Dai, C. Delgado, S. Della Torre, M. B. Demirkoz, L. Derome, S. Di Falco, L. Di Masso, F. Dimiccoli, C. Diaz, P. von Doetinchem, W. J. Du, M. Duranti, D. D’Urso, A. Elin...\n",
       "187         en          lb  M. Aguilar, D. Aisa, A. Alvino, G. Ambrosi, K. Andeen, L. Arruda, N. Attig, P. Azzarello, A. Bachlechner, F. Barao, A. Barrau, L. Barrin, A. Bartoloni, L. Basara, M. Battarbee, R. Battiston, J. Bazo, U. Becker, M. Behlmann, B. Beischer, J. Berdugo, B. Bertucci, G. Bigongiari, V. Bindi, S. Bizzaglia, M. Bizzarri, G. Boella, W. de Boer, K. Bollweg, V. Bonnivard, B. Borgia, S. Borsini, M. J. Boschini, M. Bourquin, J. Burger, F. Cadoux, X. D. Cai, M. Capell, S. Caroff, J. Casaus, V. Cascioli, G. Castellini, I. Cernuda, F. Cervelli, M. J. Chae, Y. H. Chang, A. I. Chen, H. Chen, G. M. Cheng, H. S. Chen, L. Cheng, A. Chikanian, H. Y. Chou, E. Choumilov, V. Choutko, C. H. Chung, C. Clark, R. Clavero, G. Coignet, C. Consolandi, A. Contin, C. Corti, B. Coste, Z. Cui, M. Dai, C. Delgado, S. Della Torre, M. B. Demirkoz, L. Derome, S. Di Falco, L. Di Masso, F. Dimiccoli, C. Diaz, P. von Doetinchem, W. J. Du, M. Duranti, D. D’Urso, A. Eline, F. J. Eppling, T. Eronen, Y. Y. Fan, L. Farnesini, J. ...\n",
       "296         ca          la  The World Stress Map (WSM) project is a global compilation of information on the contemporary crustal stress field from a wide range of stress indicators. The WSM database release 2008 contains 21,750 stress data records that are quality‐ranked using an updated and refined quality‐ranking scheme. Almost 17,000 of these data records have A‐C quality and are considered to record the orientation of maximum horizontal compressional stress SH to within ±25°. As this is almost a triplication of data records compared with the first WSM database release in 1992, we reinvestigate the spatial wave‐length of the stress patterns with a statistical analysis on a global 0.5° grid. The resulting smoothed global stress map displays both; the mean SH orientation that follows from the maximum smoothing radius for which the standard deviation is b25° and a countour map that displays the wave‐length of the stress pattern. This smoothed global map confirms that long wave‐length stress patterns (N2000 k...\n",
       "5636        en          sw  O. Lutz, S. Neubauer, M. Heck, T. Kuhr, A. Zupanc, I. Adachi, H. Aihara, D. M. Asner, T. Aushev, T. Aziz, A. M. Bakich, K. Belous, V. Bhardwaj, B. Bhuyan, A. Bondar, G. Bonvicini, A. Bozek, M. Bracko, 18 T. E. Browder, P. Chang, V. Chekelian, A. Chen, P. Chen, B. G. Cheon, R. Chistov, K. Cho, V. Chobanova, Y. Choi, D. Cinabro, J. Dalseno, 50 M. Danilov, 30 Z. Doležal, Z. Drasal, D. Dutta, S. Eidelman, D. Epifanov, H. Farhat, J. E. Fast, M. Feindt, V. Gaur, N. Gabyshev, S. Ganguly, R. Gillard, Y. M. Goh, B. Golob, 18 J. Haba, T. Hara, K. Hayasaka, H. Hayashii, Y. Hoshi, W.-S. Hou, Y. B. Hsiung, H. J. Hyun, T. Iijima, 32 A. Ishikawa, R. Itoh, Y. Iwasaki, T. Julius, J. H. Kang, P. Kapusta, E. Kato, T. Kawasaki, C. Kiesling, H. J. Kim, H. O. Kim, J. B. Kim, J. H. Kim, K. T. Kim, M. J. Kim, K. Kinoshita, J. Klucar, B. R. Ko, P. Kodys, S. Korpar, 18 R. T. Kouzes, P. Križan, 18 P. Krokovny, B. Kronenbitter, T. Kumita, A. Kuzmin, Y.-J. Kwon, J. S. Lange, S.-H. Lee, Y. Li, C. Liu, Y. Liu, D...\n",
       "10526       es          en                                                                                                                                                                                                                                                                                                                                                                                                                                                                                                     Applications of Sensor Networks.- Modeling Sensor and Ad Hoc Networks.- Clustering.- MAC Layer and Coloring.- Topology Control.- Interference and Signal-to-Noise-Ratio.- Lower Bounds.- Facility Location.- Geographic Routing.- Compact Routing.- Pseudo Geometric Routing for Sensor Networks.- Minimal Range Assignments for Broadcasts.- Data Gathering in Sensor Networks.- Location Services.- Positioning.- Security.- Trust Mechanisms and Reputation Systems.- Selfish Agents and Economic Aspects.- Time Synchronization.\n",
       "16262       en          de                                                                                                                                                                                                                                                                                                                                                                                                                        [Haehnel, Alexander P.; Kockler, Katrin; Bantle, Tobias; Barner-Kowollik, Christopher] Karlsruhe Inst Technol, Preparat Macromol Chem Inst Tech Chem & Polymerch, D-76128 Karlsruhe, Germany. [Haehnel, Alexander P.; Kockler, Katrin; Bantle, Tobias; Barner-Kowollik, Christopher] Karlsruhe Inst Technol, Inst Biol Grenzflachen, D-76344 Eggenstein Leopoldshafen, Germany. [Wenn, Benjamin; Junkers, Thomas] Univ Hasselt, Inst Mat Res IMO IMOMEC, Polymer React Design Grp, B-3500 Hasselt, Belgium. [Misske, Andrea M.; Fleischhaker, Friederike] Registered Off, BASF SE, D-67056 Ludwigshafen, Germany.\n",
       "17555       de          lb                                                                                                                                                                                                                                                                                                                                                                                                                                                                   A. Haungsa∗, T. Antoni, W.D. Apel, A.F. Badeaa†, K. Bekk, A. Bercuci, H. Blumer, H. Bozdog, I.M. Brancus, C. Buttner, A. Chilingarian, K. Daumiller, P. Doll, R. Engel, J. Engler, F. Fesler, H.J. Gils, R. Glasstetterb‡, D. Heck, J.R. Horandel, K.-H. Kampertba‡, H.O. Klages, G. Maiera§, H.J. Mathes, H.J. Mayer, J. Milke, M. Muller, R. Obenland, J. Oehlschlager, S. Ostapchenkoa¶, M. Petcu, H. Rebel, A. Risse, M. Risse, M. Roth, G. Schatz, H. Schieler, J. Scholz, T. Thouw, H. Ulrich, J. van Buren, A. Vardanyan, A. Weindl, J. Wochele, J. Zabierowski\n",
       "19968       de          en  The intrinsic recombination processes are investigated in highly excited II–VI compound semiconductors which involve the following scattering processes: the exciton-exciton scattering (P2 line), the exciton-electron or -hole scattering, and the sattering of an exciton by emission of a longitudinal optical phonon. From the stationary rate equations the laser threshold and the maxima of the spontaneous and stimulated emission for the various processes are determined. Experimental investigations of these emission processes are carried out for CdS platelets, ZnO and ZnTe crystals. Good agreement between experimental results and theoretical predictions for the temperature dependences of the laser thresholds, and of the emission maxima is obtained. In stark angeregten II–VI-Halbleitern werden die intrinsischen Rekombinationsprozesse untersucht, denen folgende Streuprozesse zu Grunde liegen: die Exziton-Exziton-Streuung (P2-Linie), die Exziton-Elektron oder -Loch-Streuung und die Streuung...\n",
       "21577       es          en  to Dependability Metrics.- to Dependability Metrics.- I Foundations.- On Metrics and Measurements.- Validation of Predictions with Measurements.- Consistent Metric Usage: From Design to Deployment.- Basic and Dependent Metrics.- Goal, Question, Metric.- Quality of Service Modeling Language.- Markov Models.- II Reliability Metrics.- Hardware Reliability.- Software Reliability.- III Security Metrics.- to Security Metrics.- Cryptographic Attack Metrics.- Security Measurements and Metrics for Networks.- Industrial Approaches and Standards for Security Assessment.- Economic Security Metrics.- Human Factors.- IV Performance Metrics.- to Performance Metrics.- Performance-Related Metrics in the ISO 9126 Standard.- Analytical Performance Metrics.- Performance Metrics in Software Design Models.- Measuring Performance Metrics: Techniques and Tools.- Performance Metrics for Specific Domains.- V Overlapping Metrics.- to Overlapping Attributes.- Performability.- Reliability vs. Security: A Subje...\n",
       "23739       pl          en                                                                                                                                                                                                                                                                                                                 Praca prezentuje reakcje kompleksow indenylowych cyrkonu z solami litowymi difosfanow o ogolnym wzorze R2P-P(SiMe3)Li, gdzie R = tBu, Et2N, iPr2N. W wyniku tych reakcji otrzymano 3 nowe kompleksy fosfanylofosfidowe.Otrzymane nowe kompleksy zbadano przy pomocy technik rentgenowskiej analizy strukturalnej i NMR.Dichloro-bis(indenyl)zirconium(IV) reacts with lithium derivatives of diphosphanes R2P-P(SiMe3)Li (R = tBu, Et2N, iPr2N) to form complexes with terminal phosphanylphosphido ligands - [Ind2Zr(Cl)-{(PSiMe3)P-PR2-jP1}]. These compounds are extremely sensitive towards moisture and oxygen. The solid state structures of these complexes were established by single crystal X-ray diffraction."
      ]
     },
     "execution_count": 208,
     "metadata": {},
     "output_type": "execute_result"
    }
   ],
   "source": [
    "paper_df[paper_df[\"lang_wtl\"] != paper_df[\"lang_langid\"]][[\"lang_wtl\", \"lang_langid\", \"abstract\"]].head(10)"
   ]
  },
  {
   "cell_type": "code",
   "execution_count": 209,
   "metadata": {},
   "outputs": [
    {
     "name": "stdout",
     "output_type": "stream",
     "text": [
      "Removed 485 papers that are not written in english\n"
     ]
    }
   ],
   "source": [
    "english_paper = (paper_df[\"lang_wtl\"] == \"en\") & (paper_df[\"lang_langid\"] == \"en\")\n",
    "paper_df = paper_df[english_paper]\n",
    "print(\"Removed {} papers that are not written in english\".format(sum(~english_paper)))"
   ]
  },
  {
   "cell_type": "code",
   "execution_count": 210,
   "metadata": {},
   "outputs": [],
   "source": [
    "paper_df[\"abstract\"] = paper_df[\"normalized_title\"] + \" \" + paper_df[\"abstract\"]"
   ]
  },
  {
   "cell_type": "code",
   "execution_count": 221,
   "metadata": {},
   "outputs": [],
   "source": [
    "KNOWN_CHAR_RE = re.compile(r\"([^a-z0-9_ ])+\") \n",
    "NUMBER_RE = re.compile(r\"\\b(\\d+)\\b\")"
   ]
  },
  {
   "cell_type": "code",
   "execution_count": null,
   "metadata": {},
   "outputs": [],
   "source": [
    "paper_df[\"abstract\"] = paper_df[\"abstract\"].apply(lambda text: text.lower())"
   ]
  },
  {
   "cell_type": "code",
   "execution_count": 292,
   "metadata": {},
   "outputs": [],
   "source": [
    "paper_df[\"abstract\"] = paper_df[\"abstract\"].apply(lambda text: KNOWN_CHAR_RE.sub(\" \", text))"
   ]
  },
  {
   "cell_type": "code",
   "execution_count": 223,
   "metadata": {},
   "outputs": [],
   "source": [
    "paper_df[\"abstract\"] = paper_df[\"abstract\"].apply(lambda text: NUMBER_RE.sub(\" \", text))"
   ]
  },
  {
   "cell_type": "code",
   "execution_count": 295,
   "metadata": {},
   "outputs": [],
   "source": [
    "def sub_iso(text):\n",
    "    return re.sub(\n",
    "        r\"\\biso (\\d+)(-(\\d+))?\\b\",\n",
    "        lambda m: f\"iso_{m.group(1)}{'_'+m.group(3) if m.group(3) else ''}\",\n",
    "        text)\n",
    "paper_df[\"abstract\"] = paper_df[\"abstract\"].apply(sub_iso)"
   ]
  },
  {
   "cell_type": "code",
   "execution_count": null,
   "metadata": {},
   "outputs": [],
   "source": [
    "replacement_list = [\n",
    "    (\"n't \": \" not \"),\n",
    "    (\"'ve \": \" have \"),\n",
    "    (\"'ll \": \" will \"),\n",
    "    (\"'s \": \" \"),\n",
    "    (\"'d \": \" \")\n",
    "]"
   ]
  },
  {
   "cell_type": "code",
   "execution_count": 316,
   "metadata": {},
   "outputs": [
    {
     "data": {
      "text/plain": [
       "['Abstract   With the distribution of speech technology products all over the world, the portability to new target languages becomes a practical concern. As a consequence our research focuses on the question of how to port large vocabulary continuous speech recognition (LVCSR) systems in a fast and efficient way. More specifically we want to estimate acoustic models for a new target language using speech data from varied source languages, but only limited data from the target language. For this purpose, we introduce different methods for multilingual acoustic model combination and a polyphone decision tree specialization procedure. Recognition results using language-dependent, independent and language-adaptive acoustic models are presented and discussed in the framework of our  GlobalPhone  project which investigates LVCSR systems in 15 languages.',\n",
       " \"Building modern speech and language systems currently requires large data resources such as texts, voice recordings, pronunciation lexicons, morphological decomposition information and parsing grammars. Based on a study of the most important differences between language groups, we introduce approaches to efficiently deal with the enormous task of covering even a small percentage of the world's languages. For speech recognition, we have reduced the resource requirements by applying acoustic model combination, bootstrapping and adaption techniques. Similar algorithms have been applied to improve the recognition of foreign accents. Segmenting language into appropriate units reduces the amount of data required to robustly estimate statistical models. The underlying morphological principles are also used to automatically adapt the coverage of our speech recognition dictionaries with the Hypothesis-Driven Lexical Adaptation (HDLA) algorithm. This reduces the out-of-vocabulary problems encountered in agglutinative languages. Speech recognition results are reported for the read GlobalPhone database and some broadcast news data. For speech translation, using a task-oriented Interlingua allows to build a system with N languages with linear, rather than quadratic effort. We have introduced a modular grammar design to maximize reusability and portability. End-to-end translation results are reported on a travel-domain task in the framework of C-STAR.\",\n",
       " 'With the distribution of speech technology products all over the world, the fast and efficient portability to new target languages becomes a practical concern. The authors explore the relative effectiveness of adapting multilingual LVCSR systems to a new target language with limited adaptation data. For this purpose they introduce a polyphone decision tree specialization method. Several recognition results are presented based on mono- and multilingual recognizers. These recognizers are developed in the framework of the project GlobalPhone. In this project we investigate speech recognition in 15 languages: Arabic, Mandarin and Shanghai Chinese, Croatian, English, French, German, Japanese, Korean, Portuguese, Russian, Spanish, Swedish, Tamil, and Turkish.',\n",
       " 'This paper presents our recent efforts in developing a speaker independent LVCSR engine for Mandarin Chinese using our multilingual database GlobalPhone. We describe a two pass approach, in which the recognition first generates Pinyin hypotheses and second transform these into Chinese character hypotheses. We show how this approach can reduce complexity and increase flexibility. We evaluate and compare different systems including different base units for speech recognition as phoneme units versus syllables. Furthermore we analyze the influence of tonal information. Our currently best system shows very promising results achieving 15.0 % character error rate.']"
      ]
     },
     "execution_count": 316,
     "metadata": {},
     "output_type": "execute_result"
    }
   ],
   "source": [
    "[x for x in paper_df[\"abstract\"] if \"GlobalPhone\" in x]"
   ]
  }
 ],
 "metadata": {
  "kernelspec": {
   "display_name": "Python 3",
   "language": "python",
   "name": "python3"
  },
  "language_info": {
   "codemirror_mode": {
    "name": "ipython",
    "version": 3
   },
   "file_extension": ".py",
   "mimetype": "text/x-python",
   "name": "python",
   "nbconvert_exporter": "python",
   "pygments_lexer": "ipython3",
   "version": "3.7.4"
  }
 },
 "nbformat": 4,
 "nbformat_minor": 4
}
