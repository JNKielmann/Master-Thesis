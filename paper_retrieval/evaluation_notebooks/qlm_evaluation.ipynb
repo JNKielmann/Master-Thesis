{
 "cells": [
  {
   "cell_type": "markdown",
   "metadata": {},
   "source": [
    "# Query Language Model Evaluation"
   ]
  },
  {
   "cell_type": "code",
   "execution_count": 2,
   "metadata": {},
   "outputs": [],
   "source": [
    "%load_ext autoreload\n",
    "%autoreload 2\n",
    "import json\n",
    "import sys\n",
    "import os\n",
    "import pickle\n",
    "import logging\n",
    "logging.basicConfig(level=logging.INFO, stream=sys.stdout)\n",
    "\n",
    "import pandas as pd\n",
    "pd.set_option('display.max_columns', None)  \n",
    "pd.set_option('display.expand_frame_repr', False)\n",
    "pd.set_option('max_colwidth', 1000)\n",
    "import numpy as np\n",
    "import matplotlib.pyplot as plt\n",
    "import seaborn as sns\n",
    "sns.set(style=\"whitegrid\")\n",
    "\n",
    "\n",
    "from tqdm.notebook import tqdm\n",
    "import warnings\n",
    "with warnings.catch_warnings():\n",
    "    warnings.simplefilter(\"ignore\")\n",
    "    tqdm.pandas()\n",
    "\n",
    "module_path = os.path.abspath(os.path.join('..'))\n",
    "if module_path not in sys.path:\n",
    "    sys.path.append(module_path)\n",
    "from evaluation import *\n",
    "from preprocessing import Corpus, BasicPreprocessing, BigramPreprocessor, SpacyPreprocessor, StopWordPreprocessor\n",
    "from retrieval_algorithms import QueryLMRetrievalAlgorithm"
   ]
  },
  {
   "cell_type": "code",
   "execution_count": 3,
   "metadata": {},
   "outputs": [],
   "source": [
    "def create_grid(scales):\n",
    "    return [round(j*10**i,5) for i in scales for j in range(1,10)]"
   ]
  },
  {
   "cell_type": "markdown",
   "metadata": {},
   "source": [
    "## Load corpus using different preprocessing pipelines"
   ]
  },
  {
   "cell_type": "code",
   "execution_count": 4,
   "metadata": {},
   "outputs": [
    {
     "name": "stdout",
     "output_type": "stream",
     "text": [
      "INFO:preprocessing.pipeline:Start preprocessing pipeline \"basic_NoStopWords\" for file ../../data/kit_expert_2019_all_papers.csv.\n",
      "INFO:preprocessing.pipeline:Loaded cached preprocessed corpus from ../../data/kit_expert_2019_all_papers_basic_NoStopWords\n",
      "INFO:preprocessing.pipeline:Start preprocessing pipeline \"basic_NoStopWords_spacy_lemmatization_all\" for file ../../data/kit_expert_2019_all_papers.csv.\n",
      "INFO:preprocessing.pipeline:Loaded cached preprocessed corpus from ../../data/kit_expert_2019_all_papers_basic_NoStopWords_spacy_lemmatization_all\n",
      "INFO:preprocessing.pipeline:Start preprocessing pipeline \"basic_NoStopWords_spacy_lemmatization_nouns\" for file ../../data/kit_expert_2019_all_papers.csv.\n",
      "INFO:preprocessing.pipeline:Loaded cached preprocessed corpus from ../../data/kit_expert_2019_all_papers_basic_NoStopWords_spacy_lemmatization_nouns\n"
     ]
    }
   ],
   "source": [
    "base_file =  \"../../data/kit_expert_2019_all_papers.csv\"\n",
    "\n",
    "p = [BasicPreprocessing(), StopWordPreprocessor()]\n",
    "papers_basic = Corpus(base_file, p)\n",
    "\n",
    "p = [BasicPreprocessing(), StopWordPreprocessor(), SpacyPreprocessor(lemmatization=\"all\")]\n",
    "papers_basic_lemmatization_all = Corpus(base_file, p, load_from_cache=True, n_jobs=16)\n",
    "\n",
    "p = [BasicPreprocessing(), StopWordPreprocessor(), SpacyPreprocessor(lemmatization=\"nouns\")]\n",
    "papers_basic_lemmatization_nouns = Corpus(base_file, p, load_from_cache=True, n_jobs=16)"
   ]
  },
  {
   "cell_type": "markdown",
   "metadata": {},
   "source": [
    "## Load keywords to use as test data"
   ]
  },
  {
   "cell_type": "code",
   "execution_count": 5,
   "metadata": {},
   "outputs": [],
   "source": [
    "with open(\"../../data/kit_expert_2019_all_keywords.json\", \"r\") as file:\n",
    "    keywords = json.load(file)"
   ]
  },
  {
   "cell_type": "code",
   "execution_count": 6,
   "metadata": {},
   "outputs": [],
   "source": [
    "general_keywords = [k for k in keywords if k[\"level\"]<=1]\n",
    "specific_keywords = [k for k in keywords if k[\"level\"]>=2 and len(k[\"paper_ids\"])>=10]\n",
    "\n",
    "general_keywords_val = (\"general keywords validation\", general_keywords[0:int(len(general_keywords)*0.8)])\n",
    "specific_keywords_val = (\"specific keywords validation\", specific_keywords[0:int(len(specific_keywords)*0.8)])\n",
    "general_keywords_test = (\"general keywords test\", general_keywords[int(len(general_keywords)*0.8):])\n",
    "specific_keywords_test = (\"specific keywords test\", specific_keywords[int(len(specific_keywords)*0.8):])"
   ]
  },
  {
   "cell_type": "markdown",
   "metadata": {},
   "source": [
    "## Test jm smoothing"
   ]
  },
  {
   "cell_type": "code",
   "execution_count": 7,
   "metadata": {},
   "outputs": [],
   "source": [
    "jm_smoothing_weight_grid = np.arange(0,1.01,0.01)\n",
    "search_jm_smoothing = [(f\"qlm jm w={w:.3f}\", QueryLMRetrievalAlgorithm(\"jm\", w), papers_basic) for w in jm_smoothing_weight_grid]"
   ]
  },
  {
   "cell_type": "code",
   "execution_count": null,
   "metadata": {},
   "outputs": [],
   "source": [
    "search_jm_smoothing_results = train_evaluate_models(search_jm_smoothing, [general_keywords_val, specific_keywords_val], \n",
    "                                                    n_jobs=20)#len(smoothing_weight_grid))"
   ]
  },
  {
   "cell_type": "code",
   "execution_count": null,
   "metadata": {},
   "outputs": [],
   "source": [
    "search_jm_smoothing_results.to_csv(\"../../data/results/search_jm_smoothing_results.csv\")"
   ]
  },
  {
   "cell_type": "code",
   "execution_count": 8,
   "metadata": {},
   "outputs": [],
   "source": [
    "search_jm_smoothing_results = pd.read_csv(\"../../data/results/search_jm_smoothing_results.csv\", index_col=0, header=[0,1,2])"
   ]
  },
  {
   "cell_type": "code",
   "execution_count": 8,
   "metadata": {},
   "outputs": [
    {
     "data": {
      "text/html": [
       "<div>\n",
       "<style scoped>\n",
       "    .dataframe tbody tr th:only-of-type {\n",
       "        vertical-align: middle;\n",
       "    }\n",
       "\n",
       "    .dataframe tbody tr th {\n",
       "        vertical-align: top;\n",
       "    }\n",
       "\n",
       "    .dataframe thead tr th {\n",
       "        text-align: left;\n",
       "    }\n",
       "</style>\n",
       "<table border=\"1\" class=\"dataframe\">\n",
       "  <thead>\n",
       "    <tr>\n",
       "      <th></th>\n",
       "      <th colspan=\"12\" halign=\"left\">general keywords validation</th>\n",
       "      <th colspan=\"12\" halign=\"left\">specific keywords validation</th>\n",
       "    </tr>\n",
       "    <tr>\n",
       "      <th></th>\n",
       "      <th colspan=\"2\" halign=\"left\">p@5</th>\n",
       "      <th colspan=\"2\" halign=\"left\">p@10</th>\n",
       "      <th colspan=\"2\" halign=\"left\">p@20</th>\n",
       "      <th colspan=\"2\" halign=\"left\">R-prec</th>\n",
       "      <th colspan=\"2\" halign=\"left\">mAP</th>\n",
       "      <th colspan=\"2\" halign=\"left\">bpref</th>\n",
       "      <th colspan=\"2\" halign=\"left\">p@5</th>\n",
       "      <th colspan=\"2\" halign=\"left\">p@10</th>\n",
       "      <th colspan=\"2\" halign=\"left\">p@20</th>\n",
       "      <th colspan=\"2\" halign=\"left\">R-prec</th>\n",
       "      <th colspan=\"2\" halign=\"left\">mAP</th>\n",
       "      <th colspan=\"2\" halign=\"left\">bpref</th>\n",
       "    </tr>\n",
       "    <tr>\n",
       "      <th></th>\n",
       "      <th>avg</th>\n",
       "      <th>err</th>\n",
       "      <th>avg</th>\n",
       "      <th>err</th>\n",
       "      <th>avg</th>\n",
       "      <th>err</th>\n",
       "      <th>avg</th>\n",
       "      <th>err</th>\n",
       "      <th>avg</th>\n",
       "      <th>err</th>\n",
       "      <th>avg</th>\n",
       "      <th>err</th>\n",
       "      <th>avg</th>\n",
       "      <th>err</th>\n",
       "      <th>avg</th>\n",
       "      <th>err</th>\n",
       "      <th>avg</th>\n",
       "      <th>err</th>\n",
       "      <th>avg</th>\n",
       "      <th>err</th>\n",
       "      <th>avg</th>\n",
       "      <th>err</th>\n",
       "      <th>avg</th>\n",
       "      <th>err</th>\n",
       "    </tr>\n",
       "  </thead>\n",
       "  <tbody>\n",
       "    <tr>\n",
       "      <th>qlm jm w=0.000</th>\n",
       "      <td>0.012</td>\n",
       "      <td>0.008</td>\n",
       "      <td>0.011</td>\n",
       "      <td>0.008</td>\n",
       "      <td>0.010</td>\n",
       "      <td>0.008</td>\n",
       "      <td>0.010</td>\n",
       "      <td>0.004</td>\n",
       "      <td>0.010</td>\n",
       "      <td>0.003</td>\n",
       "      <td>0.005</td>\n",
       "      <td>0.002</td>\n",
       "      <td>0.001</td>\n",
       "      <td>0.000</td>\n",
       "      <td>0.001</td>\n",
       "      <td>0.000</td>\n",
       "      <td>0.001</td>\n",
       "      <td>0.000</td>\n",
       "      <td>0.001</td>\n",
       "      <td>0.000</td>\n",
       "      <td>0.001</td>\n",
       "      <td>0.000</td>\n",
       "      <td>0.001</td>\n",
       "      <td>0.000</td>\n",
       "    </tr>\n",
       "    <tr>\n",
       "      <th>qlm jm w=0.010</th>\n",
       "      <td>0.259</td>\n",
       "      <td>0.039</td>\n",
       "      <td>0.230</td>\n",
       "      <td>0.035</td>\n",
       "      <td>0.186</td>\n",
       "      <td>0.029</td>\n",
       "      <td>0.076</td>\n",
       "      <td>0.012</td>\n",
       "      <td>0.049</td>\n",
       "      <td>0.008</td>\n",
       "      <td>0.057</td>\n",
       "      <td>0.009</td>\n",
       "      <td>0.568</td>\n",
       "      <td>0.009</td>\n",
       "      <td>0.513</td>\n",
       "      <td>0.008</td>\n",
       "      <td>0.430</td>\n",
       "      <td>0.007</td>\n",
       "      <td>0.402</td>\n",
       "      <td>0.007</td>\n",
       "      <td>0.401</td>\n",
       "      <td>0.007</td>\n",
       "      <td>0.383</td>\n",
       "      <td>0.007</td>\n",
       "    </tr>\n",
       "    <tr>\n",
       "      <th>qlm jm w=0.020</th>\n",
       "      <td>0.264</td>\n",
       "      <td>0.040</td>\n",
       "      <td>0.239</td>\n",
       "      <td>0.035</td>\n",
       "      <td>0.195</td>\n",
       "      <td>0.030</td>\n",
       "      <td>0.077</td>\n",
       "      <td>0.012</td>\n",
       "      <td>0.050</td>\n",
       "      <td>0.009</td>\n",
       "      <td>0.058</td>\n",
       "      <td>0.010</td>\n",
       "      <td>0.599</td>\n",
       "      <td>0.009</td>\n",
       "      <td>0.540</td>\n",
       "      <td>0.008</td>\n",
       "      <td>0.450</td>\n",
       "      <td>0.007</td>\n",
       "      <td>0.421</td>\n",
       "      <td>0.007</td>\n",
       "      <td>0.420</td>\n",
       "      <td>0.007</td>\n",
       "      <td>0.403</td>\n",
       "      <td>0.007</td>\n",
       "    </tr>\n",
       "    <tr>\n",
       "      <th>qlm jm w=0.030</th>\n",
       "      <td>0.274</td>\n",
       "      <td>0.041</td>\n",
       "      <td>0.243</td>\n",
       "      <td>0.035</td>\n",
       "      <td>0.198</td>\n",
       "      <td>0.030</td>\n",
       "      <td>0.077</td>\n",
       "      <td>0.012</td>\n",
       "      <td>0.050</td>\n",
       "      <td>0.009</td>\n",
       "      <td>0.058</td>\n",
       "      <td>0.010</td>\n",
       "      <td>0.616</td>\n",
       "      <td>0.009</td>\n",
       "      <td>0.556</td>\n",
       "      <td>0.008</td>\n",
       "      <td>0.462</td>\n",
       "      <td>0.007</td>\n",
       "      <td>0.432</td>\n",
       "      <td>0.007</td>\n",
       "      <td>0.431</td>\n",
       "      <td>0.007</td>\n",
       "      <td>0.415</td>\n",
       "      <td>0.007</td>\n",
       "    </tr>\n",
       "    <tr>\n",
       "      <th>qlm jm w=0.040</th>\n",
       "      <td>0.277</td>\n",
       "      <td>0.041</td>\n",
       "      <td>0.247</td>\n",
       "      <td>0.035</td>\n",
       "      <td>0.202</td>\n",
       "      <td>0.030</td>\n",
       "      <td>0.078</td>\n",
       "      <td>0.012</td>\n",
       "      <td>0.050</td>\n",
       "      <td>0.009</td>\n",
       "      <td>0.059</td>\n",
       "      <td>0.010</td>\n",
       "      <td>0.626</td>\n",
       "      <td>0.009</td>\n",
       "      <td>0.566</td>\n",
       "      <td>0.008</td>\n",
       "      <td>0.470</td>\n",
       "      <td>0.007</td>\n",
       "      <td>0.441</td>\n",
       "      <td>0.006</td>\n",
       "      <td>0.439</td>\n",
       "      <td>0.007</td>\n",
       "      <td>0.423</td>\n",
       "      <td>0.007</td>\n",
       "    </tr>\n",
       "  </tbody>\n",
       "</table>\n",
       "</div>"
      ],
      "text/plain": [
       "               general keywords validation                                                                              specific keywords validation                                                                             \n",
       "                                       p@5          p@10          p@20        R-prec           mAP         bpref                                 p@5          p@10          p@20        R-prec           mAP         bpref       \n",
       "                                       avg    err    avg    err    avg    err    avg    err    avg    err    avg    err                          avg    err    avg    err    avg    err    avg    err    avg    err    avg    err\n",
       "qlm jm w=0.000                       0.012  0.008  0.011  0.008  0.010  0.008  0.010  0.004  0.010  0.003  0.005  0.002                        0.001  0.000  0.001  0.000  0.001  0.000  0.001  0.000  0.001  0.000  0.001  0.000\n",
       "qlm jm w=0.010                       0.259  0.039  0.230  0.035  0.186  0.029  0.076  0.012  0.049  0.008  0.057  0.009                        0.568  0.009  0.513  0.008  0.430  0.007  0.402  0.007  0.401  0.007  0.383  0.007\n",
       "qlm jm w=0.020                       0.264  0.040  0.239  0.035  0.195  0.030  0.077  0.012  0.050  0.009  0.058  0.010                        0.599  0.009  0.540  0.008  0.450  0.007  0.421  0.007  0.420  0.007  0.403  0.007\n",
       "qlm jm w=0.030                       0.274  0.041  0.243  0.035  0.198  0.030  0.077  0.012  0.050  0.009  0.058  0.010                        0.616  0.009  0.556  0.008  0.462  0.007  0.432  0.007  0.431  0.007  0.415  0.007\n",
       "qlm jm w=0.040                       0.277  0.041  0.247  0.035  0.202  0.030  0.078  0.012  0.050  0.009  0.059  0.010                        0.626  0.009  0.566  0.008  0.470  0.007  0.441  0.006  0.439  0.007  0.423  0.007"
      ]
     },
     "execution_count": 8,
     "metadata": {},
     "output_type": "execute_result"
    }
   ],
   "source": [
    "search_jm_smoothing_results.head(5)"
   ]
  },
  {
   "cell_type": "code",
   "execution_count": 11,
   "metadata": {},
   "outputs": [
    {
     "data": {
      "image/png": "[encoded data removed]",
      "text/plain": [
       "<Figure size 1008x504 with 1 Axes>"
      ]
     },
     "metadata": {},
     "output_type": "display_data"
    }
   ],
   "source": [
    "plot_data = search_jm_smoothing_results[\"specific keywords validation\"][\"mAP\"][\"avg\"]\n",
    "err_data = search_jm_smoothing_results[\"specific keywords validation\"][\"mAP\"][\"err\"]\n",
    "plot_data.index = np.round(jm_smoothing_weight_grid,2)\n",
    "err_data.index = np.round(jm_smoothing_weight_grid,2)\n",
    "indices1 = list(np.round(np.arange(0.01,0.11,0.01),2))\n",
    "indices2 = list(np.round(np.arange(0.11,1.0,0.02),2)) + [1.0]\n",
    "plot_data = plot_data[indices1 + indices2] \n",
    "err_data = err_data[indices1 + indices2]\n",
    "ax = plot_data.plot(label=\"specific keywords\", figsize=(14,7), style=\"-o\", legend=False, xticks=list(np.arange(0,1.1,0.1)), yticks=list(np.arange(0.4,0.5,0.01)), xlim=(0,1.05), ylim=(0.39,0.485))\n",
    "ax.set_ylabel(\"mAP\");\n",
    "ax.set_xlabel(\"Smoothing parameter λ\")\n",
    "ax.legend(loc=\"upper right\")\n",
    "# ax.axhline(0.474, color=\"grey\", linestyle=\"--\")\n",
    "# plt.fill_between(plot_data.index, plot_data.values-err_data.values, plot_data.values+err_data.values,\n",
    "#     alpha=0.2, edgecolor='blue', facecolor='lightblue',\n",
    "#     linewidth=1)\n",
    "plt.savefig(\"images/qlm_jm_lambda_search.pdf\", transparent=True, bbox_inches=\"tight\")"
   ]
  },
  {
   "cell_type": "markdown",
   "metadata": {},
   "source": [
    "## Test dp smoothing"
   ]
  },
  {
   "cell_type": "code",
   "execution_count": 15,
   "metadata": {},
   "outputs": [],
   "source": [
    "dp_smoothing_weight_grid = [0] + create_grid([0,1,2,3])\n",
    "search_dp_smoothing = [(f\"qlm dp w={w:.2f}\", QueryLMRetrievalAlgorithm(\"dp\", w), papers_basic) for w in dp_smoothing_weight_grid]"
   ]
  },
  {
   "cell_type": "code",
   "execution_count": null,
   "metadata": {},
   "outputs": [],
   "source": [
    "search_dp_smoothing_results = train_evaluate_models(search_dp_smoothing, [general_keywords_val, specific_keywords_val], \n",
    "                                                    n_jobs=min(20,len(dp_smoothing_weight_grid)))"
   ]
  },
  {
   "cell_type": "code",
   "execution_count": 18,
   "metadata": {},
   "outputs": [],
   "source": [
    "search_dp_smoothing_results.to_csv(\"../../data/results/search_dp_smoothing_results.csv\")"
   ]
  },
  {
   "cell_type": "code",
   "execution_count": 13,
   "metadata": {},
   "outputs": [],
   "source": [
    "search_dp_smoothing_results = pd.read_csv(\"../../data/results/search_dp_smoothing_results.csv\", index_col=0, header=[0,1,2])"
   ]
  },
  {
   "cell_type": "code",
   "execution_count": 16,
   "metadata": {},
   "outputs": [
    {
     "data": {
      "image/png": "[encoded data removed]",
      "text/plain": [
       "<Figure size 1008x504 with 1 Axes>"
      ]
     },
     "metadata": {},
     "output_type": "display_data"
    }
   ],
   "source": [
    "plot_data = search_dp_smoothing_results[\"specific keywords validation\"][\"mAP\"][\"avg\"]\n",
    "err_data = search_dp_smoothing_results[\"specific keywords validation\"][\"mAP\"][\"err\"]\n",
    "plot_data.index = np.round(dp_smoothing_weight_grid,2)\n",
    "err_data.index = np.round(dp_smoothing_weight_grid,2)\n",
    "plot_data = pd.concat([plot_data[0:10:10], plot_data[10:20:1], plot_data[20:]])\n",
    "# indices1 = list(np.round(np.arange(0.01,0.11,0.01),2))\n",
    "# indices2 = list(np.round(np.arange(0.11,1.0,0.02),2)) + [1.0]\n",
    "# plot_data = plot_data.loc[:4000] \n",
    "# err_data = plot_data.loc[:4000] \n",
    "ax = plot_data.plot(label=\"specific keywords\", figsize=(14,7), style=\"-o\", legend=False, yticks=list(np.arange(0.4,0.5,0.01)), xticks=list(np.arange(0,1600,100))+[30,100], xlim=(-2,1100), ylim=(0.39,0.485))\n",
    "ax.set_ylabel(\"mAP\");\n",
    "ax.set_xlabel(\"Smoothing parameter μ\")\n",
    "ax.legend(loc=\"upper right\")\n",
    "# ax.axhline(0.474, color=\"grey\", linestyle=\"--\")\n",
    "# plt.fill_between(plot_data.index, plot_data.values-err_data.values, plot_data.values+err_data.values,\n",
    "#     alpha=0.2, edgecolor='blue', facecolor='lightblue',\n",
    "#     linewidth=1)\n",
    "plt.savefig(\"images/qlm_dp_mu_search.pdf\", transparent=True, bbox_inches=\"tight\")"
   ]
  },
  {
   "cell_type": "markdown",
   "metadata": {},
   "source": [
    "## Test n-grams"
   ]
  },
  {
   "cell_type": "code",
   "execution_count": 19,
   "metadata": {},
   "outputs": [],
   "source": [
    "ngram_qlm_models = [\n",
    "    (\"qlm no smoothing 1-gram\", QueryLMRetrievalAlgorithm(\"jm\",1, max_ngram=1), papers_basic_lemmatization_nouns),\n",
    "    (\"qlm jm w= 1-gram\", QueryLMRetrievalAlgorithm(\"jm\",0.65, max_ngram=1), papers_basic_lemmatization_nouns),\n",
    "    (\"qlm dp w= 1-gram\", QueryLMRetrievalAlgorithm(\"dp\",65, max_ngram=1), papers_basic_lemmatization_nouns),\n",
    "    (\"qlm no smoothing 2-gram\", QueryLMRetrievalAlgorithm(\"jm\",1, max_ngram=2), papers_basic_lemmatization_nouns),\n",
    "    (\"qlm jm w= 2-gram\", QueryLMRetrievalAlgorithm(\"jm\",0.65, max_ngram=2), papers_basic_lemmatization_nouns),\n",
    "    (\"qlm dp w= 2-gram\", QueryLMRetrievalAlgorithm(\"dp\",65, max_ngram=2), papers_basic_lemmatization_nouns),\n",
    "]"
   ]
  },
  {
   "cell_type": "code",
   "execution_count": null,
   "metadata": {},
   "outputs": [],
   "source": [
    "ngram_qlm_results = train_evaluate_models(ngram_qlm_models, [general_keywords_val, specific_keywords_val],  n_jobs=len(ngram_qlm_models))"
   ]
  },
  {
   "cell_type": "code",
   "execution_count": 21,
   "metadata": {},
   "outputs": [],
   "source": [
    "ngram_qlm_results.to_csv(\"../../data/results/ngram_qlm_results.csv\")"
   ]
  },
  {
   "cell_type": "code",
   "execution_count": 9,
   "metadata": {},
   "outputs": [
    {
     "data": {
      "text/html": [
       "<div>\n",
       "<style scoped>\n",
       "    .dataframe tbody tr th:only-of-type {\n",
       "        vertical-align: middle;\n",
       "    }\n",
       "\n",
       "    .dataframe tbody tr th {\n",
       "        vertical-align: top;\n",
       "    }\n",
       "\n",
       "    .dataframe thead tr th {\n",
       "        text-align: left;\n",
       "    }\n",
       "</style>\n",
       "<table border=\"1\" class=\"dataframe\">\n",
       "  <thead>\n",
       "    <tr>\n",
       "      <th></th>\n",
       "      <th colspan=\"6\" halign=\"left\">general keywords validation</th>\n",
       "      <th colspan=\"6\" halign=\"left\">specific keywords validation</th>\n",
       "    </tr>\n",
       "    <tr>\n",
       "      <th></th>\n",
       "      <th>p@5</th>\n",
       "      <th>p@10</th>\n",
       "      <th>p@20</th>\n",
       "      <th>R-prec</th>\n",
       "      <th>mAP</th>\n",
       "      <th>bpref</th>\n",
       "      <th>p@5</th>\n",
       "      <th>p@10</th>\n",
       "      <th>p@20</th>\n",
       "      <th>R-prec</th>\n",
       "      <th>mAP</th>\n",
       "      <th>bpref</th>\n",
       "    </tr>\n",
       "    <tr>\n",
       "      <th>qlm no smoothing 1-gram</th>\n",
       "      <th>0.283</th>\n",
       "      <th>0.239</th>\n",
       "      <th>0.202</th>\n",
       "      <th>0.058</th>\n",
       "      <th>0.038</th>\n",
       "      <th>0.046</th>\n",
       "      <th>0.621</th>\n",
       "      <th>0.558</th>\n",
       "      <th>0.463</th>\n",
       "      <th>0.432</th>\n",
       "      <th>0.422</th>\n",
       "      <th>0.419</th>\n",
       "    </tr>\n",
       "  </thead>\n",
       "  <tbody>\n",
       "    <tr>\n",
       "      <th>qlm jm w= 1-gram</th>\n",
       "      <td>0.285</td>\n",
       "      <td>0.244</td>\n",
       "      <td>0.209</td>\n",
       "      <td>0.082</td>\n",
       "      <td>0.051</td>\n",
       "      <td>0.061</td>\n",
       "      <td>0.642</td>\n",
       "      <td>0.586</td>\n",
       "      <td>0.498</td>\n",
       "      <td>0.475</td>\n",
       "      <td>0.480</td>\n",
       "      <td>0.460</td>\n",
       "    </tr>\n",
       "    <tr>\n",
       "      <th>qlm dp w= 1-gram</th>\n",
       "      <td>0.289</td>\n",
       "      <td>0.250</td>\n",
       "      <td>0.211</td>\n",
       "      <td>0.082</td>\n",
       "      <td>0.053</td>\n",
       "      <td>0.061</td>\n",
       "      <td>0.645</td>\n",
       "      <td>0.589</td>\n",
       "      <td>0.499</td>\n",
       "      <td>0.475</td>\n",
       "      <td>0.480</td>\n",
       "      <td>0.460</td>\n",
       "    </tr>\n",
       "    <tr>\n",
       "      <th>qlm no smoothing 2-gram</th>\n",
       "      <td>0.290</td>\n",
       "      <td>0.237</td>\n",
       "      <td>0.191</td>\n",
       "      <td>0.052</td>\n",
       "      <td>0.038</td>\n",
       "      <td>0.042</td>\n",
       "      <td>0.695</td>\n",
       "      <td>0.623</td>\n",
       "      <td>0.508</td>\n",
       "      <td>0.481</td>\n",
       "      <td>0.475</td>\n",
       "      <td>0.478</td>\n",
       "    </tr>\n",
       "    <tr>\n",
       "      <th>qlm jm w= 2-gram</th>\n",
       "      <td>0.301</td>\n",
       "      <td>0.252</td>\n",
       "      <td>0.210</td>\n",
       "      <td>0.083</td>\n",
       "      <td>0.053</td>\n",
       "      <td>0.062</td>\n",
       "      <td>0.731</td>\n",
       "      <td>0.672</td>\n",
       "      <td>0.565</td>\n",
       "      <td>0.550</td>\n",
       "      <td>0.559</td>\n",
       "      <td>0.546</td>\n",
       "    </tr>\n",
       "    <tr>\n",
       "      <th>qlm dp w= 2-gram</th>\n",
       "      <td>0.306</td>\n",
       "      <td>0.259</td>\n",
       "      <td>0.213</td>\n",
       "      <td>0.083</td>\n",
       "      <td>0.054</td>\n",
       "      <td>0.062</td>\n",
       "      <td>0.730</td>\n",
       "      <td>0.672</td>\n",
       "      <td>0.565</td>\n",
       "      <td>0.548</td>\n",
       "      <td>0.557</td>\n",
       "      <td>0.543</td>\n",
       "    </tr>\n",
       "  </tbody>\n",
       "</table>\n",
       "</div>"
      ],
      "text/plain": [
       "                        general keywords validation                                    specific keywords validation                                   \n",
       "                                                p@5   p@10   p@20 R-prec    mAP  bpref                          p@5   p@10   p@20 R-prec    mAP  bpref\n",
       "qlm no smoothing 1-gram                       0.283  0.239  0.202  0.058  0.038  0.046                        0.621  0.558  0.463  0.432  0.422  0.419\n",
       "qlm jm w= 1-gram                              0.285  0.244  0.209  0.082  0.051  0.061                        0.642  0.586  0.498  0.475  0.480  0.460\n",
       "qlm dp w= 1-gram                              0.289  0.250  0.211  0.082  0.053  0.061                        0.645  0.589  0.499  0.475  0.480  0.460\n",
       "qlm no smoothing 2-gram                       0.290  0.237  0.191  0.052  0.038  0.042                        0.695  0.623  0.508  0.481  0.475  0.478\n",
       "qlm jm w= 2-gram                              0.301  0.252  0.210  0.083  0.053  0.062                        0.731  0.672  0.565  0.550  0.559  0.546\n",
       "qlm dp w= 2-gram                              0.306  0.259  0.213  0.083  0.054  0.062                        0.730  0.672  0.565  0.548  0.557  0.543"
      ]
     },
     "execution_count": 9,
     "metadata": {},
     "output_type": "execute_result"
    }
   ],
   "source": [
    "ngram_qlm_results = pd.read_csv(\"../../data/results/ngram_qlm_results.csv\", index_col=0, header=[0,1,2])\n",
    "ngram_qlm_results"
   ]
  },
  {
   "cell_type": "markdown",
   "metadata": {},
   "source": [
    "## Save best model"
   ]
  },
  {
   "cell_type": "code",
   "execution_count": null,
   "metadata": {},
   "outputs": [],
   "source": [
    "best_tfidf_model = TfIdfRetrievalAlgorithm(max_ngram=2, use_idf=True, sublinear_tf=True, min_df=2)\n",
    "best_tfidf_model.prepare(papers_basic_lemmatization_nouns)"
   ]
  },
  {
   "cell_type": "code",
   "execution_count": null,
   "metadata": {},
   "outputs": [],
   "source": [
    "file_path = \"../data/models/tfidf/tfidf_lemmatized_bigram.model\"\n",
    "with open(file_path, \"wb\") as file:\n",
    "    pickle.dump(best_tfidf_model, file)"
   ]
  },
  {
   "cell_type": "code",
   "execution_count": null,
   "metadata": {},
   "outputs": [],
   "source": []
  }
 ],
 "metadata": {
  "kernelspec": {
   "display_name": "paper_retrieval-dhADrxe5",
   "language": "python",
   "name": "paper_retrieval-dhadrxe5"
  },
  "language_info": {
   "codemirror_mode": {
    "name": "ipython",
    "version": 3
   },
   "file_extension": ".py",
   "mimetype": "text/x-python",
   "name": "python",
   "nbconvert_exporter": "python",
   "pygments_lexer": "ipython3",
   "version": "3.7.5"
  },
  "toc": {
   "base_numbering": 1,
   "nav_menu": {},
   "number_sections": true,
   "sideBar": true,
   "skip_h1_title": false,
   "title_cell": "Table of Contents",
   "title_sidebar": "Contents",
   "toc_cell": false,
   "toc_position": {},
   "toc_section_display": true,
   "toc_window_display": false
  },
  "varInspector": {
   "cols": {
    "lenName": 16,
    "lenType": 16,
    "lenVar": 40
   },
   "kernels_config": {
    "python": {
     "delete_cmd_postfix": "",
     "delete_cmd_prefix": "del ",
     "library": "var_list.py",
     "varRefreshCmd": "print(var_dic_list())"
    },
    "r": {
     "delete_cmd_postfix": ") ",
     "delete_cmd_prefix": "rm(",
     "library": "var_list.r",
     "varRefreshCmd": "cat(var_dic_list()) "
    }
   },
   "types_to_exclude": [
    "module",
    "function",
    "builtin_function_or_method",
    "instance",
    "_Feature"
   ],
   "window_display": false
  }
 },
 "nbformat": 4,
 "nbformat_minor": 4
}
