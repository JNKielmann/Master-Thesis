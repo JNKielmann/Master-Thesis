{
 "cells": [
  {
   "cell_type": "markdown",
   "metadata": {},
   "source": [
    "# Query Language Model Evaluation"
   ]
  },
  {
   "cell_type": "code",
   "execution_count": 4,
   "metadata": {},
   "outputs": [],
   "source": [
    "%load_ext autoreload\n",
    "%autoreload 2\n",
    "import json\n",
    "import sys\n",
    "import os\n",
    "import pickle\n",
    "import logging\n",
    "logging.basicConfig(level=logging.INFO, stream=sys.stdout)\n",
    "\n",
    "import pandas as pd\n",
    "pd.set_option('display.max_columns', None)  \n",
    "pd.set_option('display.expand_frame_repr', False)\n",
    "pd.set_option('max_colwidth', 1000)\n",
    "import numpy as np\n",
    "import matplotlib.pyplot as plt\n",
    "import seaborn as sns\n",
    "sns.set()\n",
    "\n",
    "\n",
    "from tqdm.notebook import tqdm\n",
    "import warnings\n",
    "with warnings.catch_warnings():\n",
    "    warnings.simplefilter(\"ignore\")\n",
    "    tqdm.pandas()\n",
    "\n",
    "module_path = os.path.abspath(os.path.join('..'))\n",
    "if module_path not in sys.path:\n",
    "    sys.path.append(module_path)\n",
    "from evaluation import *\n",
    "from preprocessing import Corpus, BasicPreprocessing, BigramPreprocessor, SpacyPreprocessor, StopWordPreprocessor\n",
    "from retrieval_algorithms import QueryLMRetrievalAlgorithm"
   ]
  },
  {
   "cell_type": "code",
   "execution_count": 5,
   "metadata": {},
   "outputs": [],
   "source": [
    "def create_grid(scales):\n",
    "    return [round(j*10**i,5) for i in scales for j in range(1,10)]"
   ]
  },
  {
   "cell_type": "markdown",
   "metadata": {},
   "source": [
    "#### Load corpus using different preprocessing pipelines"
   ]
  },
  {
   "cell_type": "code",
   "execution_count": 6,
   "metadata": {},
   "outputs": [
    {
     "name": "stdout",
     "output_type": "stream",
     "text": [
      "INFO:preprocessing.pipeline:Start preprocessing pipeline \"basic_NoStopWords\" for file ../../data/kit_expert_2019_all_papers.csv.\n",
      "INFO:preprocessing.pipeline:Loaded cached preprocessed corpus from ../../data/kit_expert_2019_all_papers_basic_NoStopWords\n",
      "INFO:preprocessing.pipeline:Start preprocessing pipeline \"basic_NoStopWords_spacy_lemmatization_all\" for file ../../data/kit_expert_2019_all_papers.csv.\n",
      "INFO:preprocessing.pipeline:Loaded cached preprocessed corpus from ../../data/kit_expert_2019_all_papers_basic_NoStopWords_spacy_lemmatization_all\n",
      "INFO:preprocessing.pipeline:Start preprocessing pipeline \"basic_NoStopWords_spacy_lemmatization_nouns\" for file ../../data/kit_expert_2019_all_papers.csv.\n",
      "INFO:preprocessing.pipeline:Loaded cached preprocessed corpus from ../../data/kit_expert_2019_all_papers_basic_NoStopWords_spacy_lemmatization_nouns\n"
     ]
    }
   ],
   "source": [
    "base_file =  \"../../data/kit_expert_2019_all_papers.csv\"\n",
    "\n",
    "p = [BasicPreprocessing(), StopWordPreprocessor()]\n",
    "papers_basic = Corpus(base_file, p)\n",
    "\n",
    "p = [BasicPreprocessing(), StopWordPreprocessor(), SpacyPreprocessor(lemmatization=\"all\")]\n",
    "papers_basic_lemmatization_all = Corpus(base_file, p, load_from_cache=True, n_jobs=16)\n",
    "\n",
    "p = [BasicPreprocessing(), StopWordPreprocessor(), SpacyPreprocessor(lemmatization=\"nouns\")]\n",
    "papers_basic_lemmatization_nouns = Corpus(base_file, p, load_from_cache=True, n_jobs=16)"
   ]
  },
  {
   "cell_type": "markdown",
   "metadata": {},
   "source": [
    "#### Load keywords to use as test data"
   ]
  },
  {
   "cell_type": "code",
   "execution_count": 7,
   "metadata": {},
   "outputs": [],
   "source": [
    "with open(\"../../data/kit_expert_2019_all_keywords.json\", \"r\") as file:\n",
    "    keywords = json.load(file)"
   ]
  },
  {
   "cell_type": "code",
   "execution_count": 8,
   "metadata": {},
   "outputs": [],
   "source": [
    "general_keywords = (\"general keywords\", [k for k in keywords if k[\"level\"]<=1])\n",
    "specific_keywords = (\"specific_keywords\", [k for k in keywords if k[\"level\"]>=2 and len(k[\"paper_ids\"])>=10][:5000])"
   ]
  },
  {
   "cell_type": "markdown",
   "metadata": {},
   "source": [
    "#### Test simple tf-idf models on unigrams"
   ]
  },
  {
   "cell_type": "code",
   "execution_count": 6,
   "metadata": {},
   "outputs": [],
   "source": [
    "smoothing_weight_grid = create_grid([-3,-2,-1])\n",
    "search_jm_smoothing = [(f\"qlm jm w={w:.3f}\", QueryLMRetrievalAlgorithm(\"jm\", w), papers_basic) for w in smoothing_weight_grid]"
   ]
  },
  {
   "cell_type": "code",
   "execution_count": null,
   "metadata": {},
   "outputs": [],
   "source": [
    "search_jm_smoothing_results = train_evaluate_models(search_jm_smoothing, [general_keywords, specific_keywords], \n",
    "                                                    n_jobs=10)#len(smoothing_weight_grid))"
   ]
  },
  {
   "cell_type": "code",
   "execution_count": 12,
   "metadata": {},
   "outputs": [
    {
     "data": {
      "text/html": [
       "<div>\n",
       "<style scoped>\n",
       "    .dataframe tbody tr th:only-of-type {\n",
       "        vertical-align: middle;\n",
       "    }\n",
       "\n",
       "    .dataframe tbody tr th {\n",
       "        vertical-align: top;\n",
       "    }\n",
       "\n",
       "    .dataframe thead tr th {\n",
       "        text-align: left;\n",
       "    }\n",
       "</style>\n",
       "<table border=\"1\" class=\"dataframe\">\n",
       "  <thead>\n",
       "    <tr>\n",
       "      <th></th>\n",
       "      <th colspan=\"6\" halign=\"left\">general keywords</th>\n",
       "      <th colspan=\"6\" halign=\"left\">specific_keywords</th>\n",
       "    </tr>\n",
       "    <tr>\n",
       "      <th></th>\n",
       "      <th>p@5</th>\n",
       "      <th>p@10</th>\n",
       "      <th>p@20</th>\n",
       "      <th>R-prec</th>\n",
       "      <th>mAP</th>\n",
       "      <th>bpref</th>\n",
       "      <th>p@5</th>\n",
       "      <th>p@10</th>\n",
       "      <th>p@20</th>\n",
       "      <th>R-prec</th>\n",
       "      <th>mAP</th>\n",
       "      <th>bpref</th>\n",
       "    </tr>\n",
       "  </thead>\n",
       "  <tbody>\n",
       "    <tr>\n",
       "      <th>qlm jm w=0.001</th>\n",
       "      <td>0.248</td>\n",
       "      <td>0.220</td>\n",
       "      <td>0.182</td>\n",
       "      <td>0.079</td>\n",
       "      <td>0.051</td>\n",
       "      <td>0.060</td>\n",
       "      <td>0.501</td>\n",
       "      <td>0.460</td>\n",
       "      <td>0.394</td>\n",
       "      <td>0.368</td>\n",
       "      <td>0.366</td>\n",
       "      <td>0.348</td>\n",
       "    </tr>\n",
       "    <tr>\n",
       "      <th>qlm jm w=0.002</th>\n",
       "      <td>0.249</td>\n",
       "      <td>0.221</td>\n",
       "      <td>0.184</td>\n",
       "      <td>0.079</td>\n",
       "      <td>0.052</td>\n",
       "      <td>0.060</td>\n",
       "      <td>0.514</td>\n",
       "      <td>0.470</td>\n",
       "      <td>0.401</td>\n",
       "      <td>0.374</td>\n",
       "      <td>0.372</td>\n",
       "      <td>0.354</td>\n",
       "    </tr>\n",
       "    <tr>\n",
       "      <th>qlm jm w=0.003</th>\n",
       "      <td>0.253</td>\n",
       "      <td>0.225</td>\n",
       "      <td>0.185</td>\n",
       "      <td>0.079</td>\n",
       "      <td>0.052</td>\n",
       "      <td>0.060</td>\n",
       "      <td>0.525</td>\n",
       "      <td>0.478</td>\n",
       "      <td>0.407</td>\n",
       "      <td>0.380</td>\n",
       "      <td>0.377</td>\n",
       "      <td>0.359</td>\n",
       "    </tr>\n",
       "    <tr>\n",
       "      <th>qlm jm w=0.004</th>\n",
       "      <td>0.254</td>\n",
       "      <td>0.228</td>\n",
       "      <td>0.186</td>\n",
       "      <td>0.080</td>\n",
       "      <td>0.052</td>\n",
       "      <td>0.061</td>\n",
       "      <td>0.536</td>\n",
       "      <td>0.485</td>\n",
       "      <td>0.411</td>\n",
       "      <td>0.384</td>\n",
       "      <td>0.382</td>\n",
       "      <td>0.364</td>\n",
       "    </tr>\n",
       "    <tr>\n",
       "      <th>qlm jm w=0.005</th>\n",
       "      <td>0.259</td>\n",
       "      <td>0.230</td>\n",
       "      <td>0.189</td>\n",
       "      <td>0.080</td>\n",
       "      <td>0.052</td>\n",
       "      <td>0.061</td>\n",
       "      <td>0.544</td>\n",
       "      <td>0.492</td>\n",
       "      <td>0.416</td>\n",
       "      <td>0.388</td>\n",
       "      <td>0.386</td>\n",
       "      <td>0.368</td>\n",
       "    </tr>\n",
       "    <tr>\n",
       "      <th>qlm jm w=0.006</th>\n",
       "      <td>0.261</td>\n",
       "      <td>0.231</td>\n",
       "      <td>0.189</td>\n",
       "      <td>0.080</td>\n",
       "      <td>0.052</td>\n",
       "      <td>0.061</td>\n",
       "      <td>0.550</td>\n",
       "      <td>0.498</td>\n",
       "      <td>0.420</td>\n",
       "      <td>0.391</td>\n",
       "      <td>0.390</td>\n",
       "      <td>0.372</td>\n",
       "    </tr>\n",
       "    <tr>\n",
       "      <th>qlm jm w=0.007</th>\n",
       "      <td>0.261</td>\n",
       "      <td>0.232</td>\n",
       "      <td>0.190</td>\n",
       "      <td>0.080</td>\n",
       "      <td>0.053</td>\n",
       "      <td>0.061</td>\n",
       "      <td>0.557</td>\n",
       "      <td>0.503</td>\n",
       "      <td>0.423</td>\n",
       "      <td>0.394</td>\n",
       "      <td>0.393</td>\n",
       "      <td>0.375</td>\n",
       "    </tr>\n",
       "    <tr>\n",
       "      <th>qlm jm w=0.008</th>\n",
       "      <td>0.264</td>\n",
       "      <td>0.234</td>\n",
       "      <td>0.190</td>\n",
       "      <td>0.080</td>\n",
       "      <td>0.053</td>\n",
       "      <td>0.061</td>\n",
       "      <td>0.562</td>\n",
       "      <td>0.508</td>\n",
       "      <td>0.427</td>\n",
       "      <td>0.397</td>\n",
       "      <td>0.396</td>\n",
       "      <td>0.378</td>\n",
       "    </tr>\n",
       "    <tr>\n",
       "      <th>qlm jm w=0.009</th>\n",
       "      <td>0.267</td>\n",
       "      <td>0.235</td>\n",
       "      <td>0.191</td>\n",
       "      <td>0.081</td>\n",
       "      <td>0.053</td>\n",
       "      <td>0.061</td>\n",
       "      <td>0.567</td>\n",
       "      <td>0.512</td>\n",
       "      <td>0.429</td>\n",
       "      <td>0.400</td>\n",
       "      <td>0.399</td>\n",
       "      <td>0.381</td>\n",
       "    </tr>\n",
       "    <tr>\n",
       "      <th>qlm jm w=0.010</th>\n",
       "      <td>0.269</td>\n",
       "      <td>0.236</td>\n",
       "      <td>0.192</td>\n",
       "      <td>0.081</td>\n",
       "      <td>0.053</td>\n",
       "      <td>0.062</td>\n",
       "      <td>0.571</td>\n",
       "      <td>0.515</td>\n",
       "      <td>0.432</td>\n",
       "      <td>0.403</td>\n",
       "      <td>0.401</td>\n",
       "      <td>0.384</td>\n",
       "    </tr>\n",
       "    <tr>\n",
       "      <th>qlm jm w=0.010</th>\n",
       "      <td>0.269</td>\n",
       "      <td>0.236</td>\n",
       "      <td>0.192</td>\n",
       "      <td>0.081</td>\n",
       "      <td>0.053</td>\n",
       "      <td>0.062</td>\n",
       "      <td>0.571</td>\n",
       "      <td>0.515</td>\n",
       "      <td>0.432</td>\n",
       "      <td>0.403</td>\n",
       "      <td>0.401</td>\n",
       "      <td>0.384</td>\n",
       "    </tr>\n",
       "    <tr>\n",
       "      <th>qlm jm w=0.020</th>\n",
       "      <td>0.272</td>\n",
       "      <td>0.242</td>\n",
       "      <td>0.199</td>\n",
       "      <td>0.082</td>\n",
       "      <td>0.054</td>\n",
       "      <td>0.063</td>\n",
       "      <td>0.601</td>\n",
       "      <td>0.542</td>\n",
       "      <td>0.452</td>\n",
       "      <td>0.421</td>\n",
       "      <td>0.420</td>\n",
       "      <td>0.403</td>\n",
       "    </tr>\n",
       "    <tr>\n",
       "      <th>qlm jm w=0.030</th>\n",
       "      <td>0.280</td>\n",
       "      <td>0.244</td>\n",
       "      <td>0.204</td>\n",
       "      <td>0.082</td>\n",
       "      <td>0.054</td>\n",
       "      <td>0.063</td>\n",
       "      <td>0.618</td>\n",
       "      <td>0.557</td>\n",
       "      <td>0.464</td>\n",
       "      <td>0.432</td>\n",
       "      <td>0.431</td>\n",
       "      <td>0.414</td>\n",
       "    </tr>\n",
       "    <tr>\n",
       "      <th>qlm jm w=0.040</th>\n",
       "      <td>0.282</td>\n",
       "      <td>0.248</td>\n",
       "      <td>0.207</td>\n",
       "      <td>0.083</td>\n",
       "      <td>0.054</td>\n",
       "      <td>0.064</td>\n",
       "      <td>0.628</td>\n",
       "      <td>0.567</td>\n",
       "      <td>0.472</td>\n",
       "      <td>0.441</td>\n",
       "      <td>0.438</td>\n",
       "      <td>0.423</td>\n",
       "    </tr>\n",
       "    <tr>\n",
       "      <th>qlm jm w=0.050</th>\n",
       "      <td>0.285</td>\n",
       "      <td>0.249</td>\n",
       "      <td>0.208</td>\n",
       "      <td>0.083</td>\n",
       "      <td>0.055</td>\n",
       "      <td>0.064</td>\n",
       "      <td>0.634</td>\n",
       "      <td>0.574</td>\n",
       "      <td>0.478</td>\n",
       "      <td>0.447</td>\n",
       "      <td>0.444</td>\n",
       "      <td>0.429</td>\n",
       "    </tr>\n",
       "    <tr>\n",
       "      <th>qlm jm w=0.060</th>\n",
       "      <td>0.287</td>\n",
       "      <td>0.250</td>\n",
       "      <td>0.210</td>\n",
       "      <td>0.083</td>\n",
       "      <td>0.055</td>\n",
       "      <td>0.064</td>\n",
       "      <td>0.639</td>\n",
       "      <td>0.578</td>\n",
       "      <td>0.482</td>\n",
       "      <td>0.452</td>\n",
       "      <td>0.449</td>\n",
       "      <td>0.434</td>\n",
       "    </tr>\n",
       "    <tr>\n",
       "      <th>qlm jm w=0.070</th>\n",
       "      <td>0.287</td>\n",
       "      <td>0.252</td>\n",
       "      <td>0.211</td>\n",
       "      <td>0.083</td>\n",
       "      <td>0.055</td>\n",
       "      <td>0.064</td>\n",
       "      <td>0.642</td>\n",
       "      <td>0.582</td>\n",
       "      <td>0.485</td>\n",
       "      <td>0.455</td>\n",
       "      <td>0.452</td>\n",
       "      <td>0.437</td>\n",
       "    </tr>\n",
       "    <tr>\n",
       "      <th>qlm jm w=0.080</th>\n",
       "      <td>0.286</td>\n",
       "      <td>0.253</td>\n",
       "      <td>0.211</td>\n",
       "      <td>0.084</td>\n",
       "      <td>0.055</td>\n",
       "      <td>0.064</td>\n",
       "      <td>0.644</td>\n",
       "      <td>0.584</td>\n",
       "      <td>0.488</td>\n",
       "      <td>0.458</td>\n",
       "      <td>0.455</td>\n",
       "      <td>0.440</td>\n",
       "    </tr>\n",
       "    <tr>\n",
       "      <th>qlm jm w=0.090</th>\n",
       "      <td>0.287</td>\n",
       "      <td>0.253</td>\n",
       "      <td>0.211</td>\n",
       "      <td>0.084</td>\n",
       "      <td>0.055</td>\n",
       "      <td>0.064</td>\n",
       "      <td>0.646</td>\n",
       "      <td>0.585</td>\n",
       "      <td>0.490</td>\n",
       "      <td>0.460</td>\n",
       "      <td>0.458</td>\n",
       "      <td>0.443</td>\n",
       "    </tr>\n",
       "    <tr>\n",
       "      <th>qlm jm w=0.100</th>\n",
       "      <td>0.289</td>\n",
       "      <td>0.253</td>\n",
       "      <td>0.211</td>\n",
       "      <td>0.084</td>\n",
       "      <td>0.055</td>\n",
       "      <td>0.064</td>\n",
       "      <td>0.648</td>\n",
       "      <td>0.587</td>\n",
       "      <td>0.492</td>\n",
       "      <td>0.462</td>\n",
       "      <td>0.459</td>\n",
       "      <td>0.445</td>\n",
       "    </tr>\n",
       "    <tr>\n",
       "      <th>qlm jm w=0.100</th>\n",
       "      <td>0.289</td>\n",
       "      <td>0.253</td>\n",
       "      <td>0.211</td>\n",
       "      <td>0.084</td>\n",
       "      <td>0.055</td>\n",
       "      <td>0.064</td>\n",
       "      <td>0.648</td>\n",
       "      <td>0.587</td>\n",
       "      <td>0.492</td>\n",
       "      <td>0.462</td>\n",
       "      <td>0.459</td>\n",
       "      <td>0.445</td>\n",
       "    </tr>\n",
       "    <tr>\n",
       "      <th>qlm jm w=0.200</th>\n",
       "      <td>0.293</td>\n",
       "      <td>0.254</td>\n",
       "      <td>0.211</td>\n",
       "      <td>0.084</td>\n",
       "      <td>0.055</td>\n",
       "      <td>0.065</td>\n",
       "      <td>0.650</td>\n",
       "      <td>0.593</td>\n",
       "      <td>0.498</td>\n",
       "      <td>0.472</td>\n",
       "      <td>0.469</td>\n",
       "      <td>0.454</td>\n",
       "    </tr>\n",
       "    <tr>\n",
       "      <th>qlm jm w=0.300</th>\n",
       "      <td>0.293</td>\n",
       "      <td>0.254</td>\n",
       "      <td>0.211</td>\n",
       "      <td>0.084</td>\n",
       "      <td>0.055</td>\n",
       "      <td>0.065</td>\n",
       "      <td>0.650</td>\n",
       "      <td>0.593</td>\n",
       "      <td>0.500</td>\n",
       "      <td>0.474</td>\n",
       "      <td>0.472</td>\n",
       "      <td>0.457</td>\n",
       "    </tr>\n",
       "    <tr>\n",
       "      <th>qlm jm w=0.400</th>\n",
       "      <td>0.291</td>\n",
       "      <td>0.255</td>\n",
       "      <td>0.212</td>\n",
       "      <td>0.084</td>\n",
       "      <td>0.055</td>\n",
       "      <td>0.064</td>\n",
       "      <td>0.650</td>\n",
       "      <td>0.593</td>\n",
       "      <td>0.500</td>\n",
       "      <td>0.474</td>\n",
       "      <td>0.473</td>\n",
       "      <td>0.458</td>\n",
       "    </tr>\n",
       "    <tr>\n",
       "      <th>qlm jm w=0.500</th>\n",
       "      <td>0.291</td>\n",
       "      <td>0.255</td>\n",
       "      <td>0.212</td>\n",
       "      <td>0.084</td>\n",
       "      <td>0.055</td>\n",
       "      <td>0.064</td>\n",
       "      <td>0.650</td>\n",
       "      <td>0.593</td>\n",
       "      <td>0.500</td>\n",
       "      <td>0.474</td>\n",
       "      <td>0.473</td>\n",
       "      <td>0.458</td>\n",
       "    </tr>\n",
       "    <tr>\n",
       "      <th>qlm jm w=0.600</th>\n",
       "      <td>0.291</td>\n",
       "      <td>0.254</td>\n",
       "      <td>0.212</td>\n",
       "      <td>0.083</td>\n",
       "      <td>0.055</td>\n",
       "      <td>0.064</td>\n",
       "      <td>0.650</td>\n",
       "      <td>0.592</td>\n",
       "      <td>0.500</td>\n",
       "      <td>0.474</td>\n",
       "      <td>0.473</td>\n",
       "      <td>0.458</td>\n",
       "    </tr>\n",
       "    <tr>\n",
       "      <th>qlm jm w=0.700</th>\n",
       "      <td>0.291</td>\n",
       "      <td>0.254</td>\n",
       "      <td>0.212</td>\n",
       "      <td>0.083</td>\n",
       "      <td>0.055</td>\n",
       "      <td>0.064</td>\n",
       "      <td>0.649</td>\n",
       "      <td>0.592</td>\n",
       "      <td>0.499</td>\n",
       "      <td>0.474</td>\n",
       "      <td>0.473</td>\n",
       "      <td>0.458</td>\n",
       "    </tr>\n",
       "    <tr>\n",
       "      <th>qlm jm w=0.800</th>\n",
       "      <td>0.291</td>\n",
       "      <td>0.254</td>\n",
       "      <td>0.212</td>\n",
       "      <td>0.083</td>\n",
       "      <td>0.055</td>\n",
       "      <td>0.064</td>\n",
       "      <td>0.649</td>\n",
       "      <td>0.591</td>\n",
       "      <td>0.499</td>\n",
       "      <td>0.474</td>\n",
       "      <td>0.472</td>\n",
       "      <td>0.457</td>\n",
       "    </tr>\n",
       "    <tr>\n",
       "      <th>qlm jm w=0.900</th>\n",
       "      <td>0.291</td>\n",
       "      <td>0.254</td>\n",
       "      <td>0.211</td>\n",
       "      <td>0.083</td>\n",
       "      <td>0.055</td>\n",
       "      <td>0.064</td>\n",
       "      <td>0.649</td>\n",
       "      <td>0.591</td>\n",
       "      <td>0.499</td>\n",
       "      <td>0.473</td>\n",
       "      <td>0.472</td>\n",
       "      <td>0.457</td>\n",
       "    </tr>\n",
       "    <tr>\n",
       "      <th>qlm jm w=1.000</th>\n",
       "      <td>0.289</td>\n",
       "      <td>0.248</td>\n",
       "      <td>0.203</td>\n",
       "      <td>0.057</td>\n",
       "      <td>0.040</td>\n",
       "      <td>0.047</td>\n",
       "      <td>0.622</td>\n",
       "      <td>0.556</td>\n",
       "      <td>0.457</td>\n",
       "      <td>0.422</td>\n",
       "      <td>0.405</td>\n",
       "      <td>0.408</td>\n",
       "    </tr>\n",
       "  </tbody>\n",
       "</table>\n",
       "</div>"
      ],
      "text/plain": [
       "               general keywords                                    specific_keywords                                   \n",
       "                            p@5   p@10   p@20 R-prec    mAP  bpref               p@5   p@10   p@20 R-prec    mAP  bpref\n",
       "qlm jm w=0.001            0.248  0.220  0.182  0.079  0.051  0.060             0.501  0.460  0.394  0.368  0.366  0.348\n",
       "qlm jm w=0.002            0.249  0.221  0.184  0.079  0.052  0.060             0.514  0.470  0.401  0.374  0.372  0.354\n",
       "qlm jm w=0.003            0.253  0.225  0.185  0.079  0.052  0.060             0.525  0.478  0.407  0.380  0.377  0.359\n",
       "qlm jm w=0.004            0.254  0.228  0.186  0.080  0.052  0.061             0.536  0.485  0.411  0.384  0.382  0.364\n",
       "qlm jm w=0.005            0.259  0.230  0.189  0.080  0.052  0.061             0.544  0.492  0.416  0.388  0.386  0.368\n",
       "qlm jm w=0.006            0.261  0.231  0.189  0.080  0.052  0.061             0.550  0.498  0.420  0.391  0.390  0.372\n",
       "qlm jm w=0.007            0.261  0.232  0.190  0.080  0.053  0.061             0.557  0.503  0.423  0.394  0.393  0.375\n",
       "qlm jm w=0.008            0.264  0.234  0.190  0.080  0.053  0.061             0.562  0.508  0.427  0.397  0.396  0.378\n",
       "qlm jm w=0.009            0.267  0.235  0.191  0.081  0.053  0.061             0.567  0.512  0.429  0.400  0.399  0.381\n",
       "qlm jm w=0.010            0.269  0.236  0.192  0.081  0.053  0.062             0.571  0.515  0.432  0.403  0.401  0.384\n",
       "qlm jm w=0.010            0.269  0.236  0.192  0.081  0.053  0.062             0.571  0.515  0.432  0.403  0.401  0.384\n",
       "qlm jm w=0.020            0.272  0.242  0.199  0.082  0.054  0.063             0.601  0.542  0.452  0.421  0.420  0.403\n",
       "qlm jm w=0.030            0.280  0.244  0.204  0.082  0.054  0.063             0.618  0.557  0.464  0.432  0.431  0.414\n",
       "qlm jm w=0.040            0.282  0.248  0.207  0.083  0.054  0.064             0.628  0.567  0.472  0.441  0.438  0.423\n",
       "qlm jm w=0.050            0.285  0.249  0.208  0.083  0.055  0.064             0.634  0.574  0.478  0.447  0.444  0.429\n",
       "qlm jm w=0.060            0.287  0.250  0.210  0.083  0.055  0.064             0.639  0.578  0.482  0.452  0.449  0.434\n",
       "qlm jm w=0.070            0.287  0.252  0.211  0.083  0.055  0.064             0.642  0.582  0.485  0.455  0.452  0.437\n",
       "qlm jm w=0.080            0.286  0.253  0.211  0.084  0.055  0.064             0.644  0.584  0.488  0.458  0.455  0.440\n",
       "qlm jm w=0.090            0.287  0.253  0.211  0.084  0.055  0.064             0.646  0.585  0.490  0.460  0.458  0.443\n",
       "qlm jm w=0.100            0.289  0.253  0.211  0.084  0.055  0.064             0.648  0.587  0.492  0.462  0.459  0.445\n",
       "qlm jm w=0.100            0.289  0.253  0.211  0.084  0.055  0.064             0.648  0.587  0.492  0.462  0.459  0.445\n",
       "qlm jm w=0.200            0.293  0.254  0.211  0.084  0.055  0.065             0.650  0.593  0.498  0.472  0.469  0.454\n",
       "qlm jm w=0.300            0.293  0.254  0.211  0.084  0.055  0.065             0.650  0.593  0.500  0.474  0.472  0.457\n",
       "qlm jm w=0.400            0.291  0.255  0.212  0.084  0.055  0.064             0.650  0.593  0.500  0.474  0.473  0.458\n",
       "qlm jm w=0.500            0.291  0.255  0.212  0.084  0.055  0.064             0.650  0.593  0.500  0.474  0.473  0.458\n",
       "qlm jm w=0.600            0.291  0.254  0.212  0.083  0.055  0.064             0.650  0.592  0.500  0.474  0.473  0.458\n",
       "qlm jm w=0.700            0.291  0.254  0.212  0.083  0.055  0.064             0.649  0.592  0.499  0.474  0.473  0.458\n",
       "qlm jm w=0.800            0.291  0.254  0.212  0.083  0.055  0.064             0.649  0.591  0.499  0.474  0.472  0.457\n",
       "qlm jm w=0.900            0.291  0.254  0.211  0.083  0.055  0.064             0.649  0.591  0.499  0.473  0.472  0.457\n",
       "qlm jm w=1.000            0.289  0.248  0.203  0.057  0.040  0.047             0.622  0.556  0.457  0.422  0.405  0.408"
      ]
     },
     "execution_count": 12,
     "metadata": {},
     "output_type": "execute_result"
    }
   ],
   "source": [
    "search_jm_smoothing_results"
   ]
  },
  {
   "cell_type": "code",
   "execution_count": 13,
   "metadata": {},
   "outputs": [
    {
     "data": {
      "image/png": "[encoded data removed]",
      "text/plain": [
       "<Figure size 864x360 with 1 Axes>"
      ]
     },
     "metadata": {
      "needs_background": "light"
     },
     "output_type": "display_data"
    }
   ],
   "source": [
    "ax = search_jm_smoothing_results[(\"specific_keywords\",\"mAP\")].plot(figsize=(12,5), style=\"-bo\", rot=45, legend=False)\n",
    "ax.set_ylabel(\"mAP\");"
   ]
  },
  {
   "cell_type": "markdown",
   "metadata": {},
   "source": [
    "#### Test tf-idf models on n-grams"
   ]
  },
  {
   "cell_type": "code",
   "execution_count": 7,
   "metadata": {},
   "outputs": [],
   "source": [
    "smoothing_weight_grid = create_grid([0,1,2])\n",
    "search_dp_smoothing = [(f\"qlm dp w={w:.2f}\", QueryLMRetrievalAlgorithm(\"dp\", w), papers_basic) for w in smoothing_weight_grid]"
   ]
  },
  {
   "cell_type": "code",
   "execution_count": 8,
   "metadata": {},
   "outputs": [
    {
     "name": "stdout",
     "output_type": "stream",
     "text": [
      "INFO:root:Start training model qlm dp w=1.00\n",
      "INFO:root:Start training model qlm dp w=2.00\n",
      "INFO:root:Start training model qlm dp w=3.00\n",
      "INFO:root:Start training model qlm dp w=4.00\n",
      "INFO:root:Start training model qlm dp w=5.00\n",
      "INFO:root:Start evaluating model qlm dp w=1.00\n"
     ]
    },
    {
     "data": {
      "application/vnd.jupyter.widget-view+json": {
       "model_id": "725d58b3b811478488516b4ea91a340b",
       "version_major": 2,
       "version_minor": 0
      },
      "text/plain": [
       "HBox(children=(IntProgress(value=0, layout=Layout(flex='2'), max=5300), HTML(value='')), layout=Layout(display…"
      ]
     },
     "metadata": {},
     "output_type": "display_data"
    },
    {
     "name": "stdout",
     "output_type": "stream",
     "text": [
      "INFO:root:Start training model qlm dp w=6.00\n",
      "INFO:root:Start evaluating model qlm dp w=2.00\n"
     ]
    },
    {
     "data": {
      "application/vnd.jupyter.widget-view+json": {
       "model_id": "6305520d8dfb43b581dedfe06aaf9028",
       "version_major": 2,
       "version_minor": 0
      },
      "text/plain": [
       "HBox(children=(IntProgress(value=0, layout=Layout(flex='2'), max=5300), HTML(value='')), layout=Layout(display…"
      ]
     },
     "metadata": {},
     "output_type": "display_data"
    },
    {
     "name": "stdout",
     "output_type": "stream",
     "text": [
      "INFO:root:Start training model qlm dp w=7.00\n",
      "INFO:root:Start evaluating model qlm dp w=3.00\n"
     ]
    },
    {
     "data": {
      "application/vnd.jupyter.widget-view+json": {
       "model_id": "d2f6f08bac8c4312a87efdab144584c8",
       "version_major": 2,
       "version_minor": 0
      },
      "text/plain": [
       "HBox(children=(IntProgress(value=0, layout=Layout(flex='2'), max=5300), HTML(value='')), layout=Layout(display…"
      ]
     },
     "metadata": {},
     "output_type": "display_data"
    },
    {
     "name": "stdout",
     "output_type": "stream",
     "text": [
      "INFO:root:Start training model qlm dp w=8.00\n",
      "INFO:root:Start evaluating model qlm dp w=4.00\n"
     ]
    },
    {
     "data": {
      "application/vnd.jupyter.widget-view+json": {
       "model_id": "028d395e627c4850ab8c46f345f95349",
       "version_major": 2,
       "version_minor": 0
      },
      "text/plain": [
       "HBox(children=(IntProgress(value=0, layout=Layout(flex='2'), max=5300), HTML(value='')), layout=Layout(display…"
      ]
     },
     "metadata": {},
     "output_type": "display_data"
    },
    {
     "name": "stdout",
     "output_type": "stream",
     "text": [
      "INFO:root:Start training model qlm dp w=9.00\n",
      "INFO:root:Start evaluating model qlm dp w=5.00\n"
     ]
    },
    {
     "data": {
      "application/vnd.jupyter.widget-view+json": {
       "model_id": "6f6d7faac25247d29b479a421fd84709",
       "version_major": 2,
       "version_minor": 0
      },
      "text/plain": [
       "HBox(children=(IntProgress(value=0, layout=Layout(flex='2'), max=5300), HTML(value='')), layout=Layout(display…"
      ]
     },
     "metadata": {},
     "output_type": "display_data"
    },
    {
     "name": "stdout",
     "output_type": "stream",
     "text": [
      "INFO:root:Start training model qlm dp w=10.00\n",
      "INFO:root:Start training model qlm dp w=20.00\n",
      "INFO:root:Start evaluating model qlm dp w=6.00\n"
     ]
    },
    {
     "data": {
      "application/vnd.jupyter.widget-view+json": {
       "model_id": "55eb8a61bb3e41e481a6d0d3ece65eb6",
       "version_major": 2,
       "version_minor": 0
      },
      "text/plain": [
       "HBox(children=(IntProgress(value=0, layout=Layout(flex='2'), max=5300), HTML(value='')), layout=Layout(display…"
      ]
     },
     "metadata": {},
     "output_type": "display_data"
    },
    {
     "name": "stdout",
     "output_type": "stream",
     "text": [
      "INFO:root:Start evaluating model qlm dp w=7.00\n"
     ]
    },
    {
     "data": {
      "application/vnd.jupyter.widget-view+json": {
       "model_id": "aa412d2b9f274da0b226a4d6b2011ab6",
       "version_major": 2,
       "version_minor": 0
      },
      "text/plain": [
       "HBox(children=(IntProgress(value=0, layout=Layout(flex='2'), max=5300), HTML(value='')), layout=Layout(display…"
      ]
     },
     "metadata": {},
     "output_type": "display_data"
    },
    {
     "name": "stdout",
     "output_type": "stream",
     "text": [
      "INFO:root:Start training model qlm dp w=30.00\n",
      "INFO:root:Start training model qlm dp w=40.00\n",
      "INFO:root:Start evaluating model qlm dp w=8.00\n"
     ]
    },
    {
     "data": {
      "application/vnd.jupyter.widget-view+json": {
       "model_id": "d7210a9dca374f1c9ceab406c65601bf",
       "version_major": 2,
       "version_minor": 0
      },
      "text/plain": [
       "HBox(children=(IntProgress(value=0, layout=Layout(flex='2'), max=5300), HTML(value='')), layout=Layout(display…"
      ]
     },
     "metadata": {},
     "output_type": "display_data"
    },
    {
     "name": "stdout",
     "output_type": "stream",
     "text": [
      "INFO:root:Start evaluating model qlm dp w=9.00\n"
     ]
    },
    {
     "data": {
      "application/vnd.jupyter.widget-view+json": {
       "model_id": "f930a82d849842d2b30fa66d7bba2c22",
       "version_major": 2,
       "version_minor": 0
      },
      "text/plain": [
       "HBox(children=(IntProgress(value=0, layout=Layout(flex='2'), max=5300), HTML(value='')), layout=Layout(display…"
      ]
     },
     "metadata": {},
     "output_type": "display_data"
    },
    {
     "name": "stdout",
     "output_type": "stream",
     "text": [
      "INFO:root:Start training model qlm dp w=50.00\n",
      "INFO:root:Start training model qlm dp w=60.00\n",
      "INFO:root:Start evaluating model qlm dp w=10.00\n"
     ]
    },
    {
     "data": {
      "application/vnd.jupyter.widget-view+json": {
       "model_id": "99cec530c5344cc0b7e3270826091f5a",
       "version_major": 2,
       "version_minor": 0
      },
      "text/plain": [
       "HBox(children=(IntProgress(value=0, layout=Layout(flex='2'), max=5300), HTML(value='')), layout=Layout(display…"
      ]
     },
     "metadata": {},
     "output_type": "display_data"
    },
    {
     "name": "stdout",
     "output_type": "stream",
     "text": [
      "INFO:root:Start evaluating model qlm dp w=20.00\n"
     ]
    },
    {
     "data": {
      "application/vnd.jupyter.widget-view+json": {
       "model_id": "d8a6534765964a25832360ca6fb31687",
       "version_major": 2,
       "version_minor": 0
      },
      "text/plain": [
       "HBox(children=(IntProgress(value=0, layout=Layout(flex='2'), max=5300), HTML(value='')), layout=Layout(display…"
      ]
     },
     "metadata": {},
     "output_type": "display_data"
    },
    {
     "name": "stdout",
     "output_type": "stream",
     "text": [
      "INFO:root:Start evaluating model qlm dp w=30.00\n"
     ]
    },
    {
     "data": {
      "application/vnd.jupyter.widget-view+json": {
       "model_id": "e8b1051d4a6549e9ab21750df749677f",
       "version_major": 2,
       "version_minor": 0
      },
      "text/plain": [
       "HBox(children=(IntProgress(value=0, layout=Layout(flex='2'), max=5300), HTML(value='')), layout=Layout(display…"
      ]
     },
     "metadata": {},
     "output_type": "display_data"
    },
    {
     "name": "stdout",
     "output_type": "stream",
     "text": [
      "INFO:root:Start evaluating model qlm dp w=40.00\n"
     ]
    },
    {
     "data": {
      "application/vnd.jupyter.widget-view+json": {
       "model_id": "6368efa26bed4b928f3d219e791a074c",
       "version_major": 2,
       "version_minor": 0
      },
      "text/plain": [
       "HBox(children=(IntProgress(value=0, layout=Layout(flex='2'), max=5300), HTML(value='')), layout=Layout(display…"
      ]
     },
     "metadata": {},
     "output_type": "display_data"
    },
    {
     "name": "stdout",
     "output_type": "stream",
     "text": [
      "INFO:root:Start evaluating model qlm dp w=50.00\n"
     ]
    },
    {
     "data": {
      "application/vnd.jupyter.widget-view+json": {
       "model_id": "a12cbfad01664f589df60998ba2e797a",
       "version_major": 2,
       "version_minor": 0
      },
      "text/plain": [
       "HBox(children=(IntProgress(value=0, layout=Layout(flex='2'), max=5300), HTML(value='')), layout=Layout(display…"
      ]
     },
     "metadata": {},
     "output_type": "display_data"
    },
    {
     "name": "stdout",
     "output_type": "stream",
     "text": [
      "INFO:root:Start evaluating model qlm dp w=60.00\n"
     ]
    },
    {
     "data": {
      "application/vnd.jupyter.widget-view+json": {
       "model_id": "f103a912cd1840709ef21769b0a9f8b8",
       "version_major": 2,
       "version_minor": 0
      },
      "text/plain": [
       "HBox(children=(IntProgress(value=0, layout=Layout(flex='2'), max=5300), HTML(value='')), layout=Layout(display…"
      ]
     },
     "metadata": {},
     "output_type": "display_data"
    },
    {
     "name": "stdout",
     "output_type": "stream",
     "text": [
      "\n",
      "INFO:root:Finished processing model qlm dp w=1.00\n",
      "INFO:root:Start training model qlm dp w=70.00\n",
      "\n",
      "INFO:root:Finished processing model qlm dp w=2.00\n",
      "INFO:root:Start training model qlm dp w=80.00\n",
      "\n",
      "INFO:root:Finished processing model qlm dp w=3.00\n",
      "INFO:root:Start training model qlm dp w=90.00\n",
      "\n",
      "INFO:root:Finished processing model qlm dp w=4.00\n",
      "\n",
      "INFO:root:Finished processing model qlm dp w=7.00\n",
      "INFO:root:Start training model qlm dp w=100.00\n",
      "\n",
      "INFO:root:Finished processing model qlm dp w=5.00\n",
      "INFO:root:Start evaluating model qlm dp w=70.00\n"
     ]
    },
    {
     "data": {
      "application/vnd.jupyter.widget-view+json": {
       "model_id": "30c79b35e60546cba7ccbd7e02d4cab4",
       "version_major": 2,
       "version_minor": 0
      },
      "text/plain": [
       "HBox(children=(IntProgress(value=0, layout=Layout(flex='2'), max=5300), HTML(value='')), layout=Layout(display…"
      ]
     },
     "metadata": {},
     "output_type": "display_data"
    },
    {
     "name": "stdout",
     "output_type": "stream",
     "text": [
      "INFO:root:Start training model qlm dp w=200.00\n",
      "\n",
      "INFO:root:Finished processing model qlm dp w=6.00\n",
      "INFO:root:Start training model qlm dp w=300.00\n",
      "INFO:root:Start evaluating model qlm dp w=80.00\n"
     ]
    },
    {
     "data": {
      "application/vnd.jupyter.widget-view+json": {
       "model_id": "f7e586ea425a4df9b825cf2c23ccf2cd",
       "version_major": 2,
       "version_minor": 0
      },
      "text/plain": [
       "HBox(children=(IntProgress(value=0, layout=Layout(flex='2'), max=5300), HTML(value='')), layout=Layout(display…"
      ]
     },
     "metadata": {},
     "output_type": "display_data"
    },
    {
     "name": "stdout",
     "output_type": "stream",
     "text": [
      "INFO:root:Start training model qlm dp w=400.00\n",
      "INFO:root:Start evaluating model qlm dp w=90.00\n"
     ]
    },
    {
     "data": {
      "application/vnd.jupyter.widget-view+json": {
       "model_id": "03a2c61018c4400080a9c25b5b2351ed",
       "version_major": 2,
       "version_minor": 0
      },
      "text/plain": [
       "HBox(children=(IntProgress(value=0, layout=Layout(flex='2'), max=5300), HTML(value='')), layout=Layout(display…"
      ]
     },
     "metadata": {},
     "output_type": "display_data"
    },
    {
     "name": "stdout",
     "output_type": "stream",
     "text": [
      "\n",
      "INFO:root:Finished processing model qlm dp w=9.00\n",
      "\n",
      "INFO:root:Finished processing model qlm dp w=8.00\n",
      "\n",
      "INFO:root:Finished processing model qlm dp w=10.00\n",
      "INFO:root:Start training model qlm dp w=500.00\n",
      "INFO:root:Start evaluating model qlm dp w=100.00\n"
     ]
    },
    {
     "data": {
      "application/vnd.jupyter.widget-view+json": {
       "model_id": "20ec4cfc16e143a99164b79d029f9c8c",
       "version_major": 2,
       "version_minor": 0
      },
      "text/plain": [
       "HBox(children=(IntProgress(value=0, layout=Layout(flex='2'), max=5300), HTML(value='')), layout=Layout(display…"
      ]
     },
     "metadata": {},
     "output_type": "display_data"
    },
    {
     "name": "stdout",
     "output_type": "stream",
     "text": [
      "INFO:root:Start evaluating model qlm dp w=200.00\n"
     ]
    },
    {
     "data": {
      "application/vnd.jupyter.widget-view+json": {
       "model_id": "5ac221bfb7fd4d22bd1de892ba675b84",
       "version_major": 2,
       "version_minor": 0
      },
      "text/plain": [
       "HBox(children=(IntProgress(value=0, layout=Layout(flex='2'), max=5300), HTML(value='')), layout=Layout(display…"
      ]
     },
     "metadata": {},
     "output_type": "display_data"
    },
    {
     "name": "stdout",
     "output_type": "stream",
     "text": [
      "\n",
      "INFO:root:Finished processing model qlm dp w=20.00\n",
      "INFO:root:Start training model qlm dp w=600.00\n",
      "INFO:root:Start evaluating model qlm dp w=300.00\n"
     ]
    },
    {
     "data": {
      "application/vnd.jupyter.widget-view+json": {
       "model_id": "8700e21dcbc44702a02d4b660e90da7b",
       "version_major": 2,
       "version_minor": 0
      },
      "text/plain": [
       "HBox(children=(IntProgress(value=0, layout=Layout(flex='2'), max=5300), HTML(value='')), layout=Layout(display…"
      ]
     },
     "metadata": {},
     "output_type": "display_data"
    },
    {
     "name": "stdout",
     "output_type": "stream",
     "text": [
      "\n",
      "INFO:root:Finished processing model qlm dp w=30.00\n",
      "INFO:root:Start training model qlm dp w=700.00\n",
      "INFO:root:Start evaluating model qlm dp w=400.00\n"
     ]
    },
    {
     "data": {
      "application/vnd.jupyter.widget-view+json": {
       "model_id": "864f23205d314037af9a36748aaae56b",
       "version_major": 2,
       "version_minor": 0
      },
      "text/plain": [
       "HBox(children=(IntProgress(value=0, layout=Layout(flex='2'), max=5300), HTML(value='')), layout=Layout(display…"
      ]
     },
     "metadata": {},
     "output_type": "display_data"
    },
    {
     "name": "stdout",
     "output_type": "stream",
     "text": [
      "\n",
      "INFO:root:Finished processing model qlm dp w=50.00\n",
      "INFO:root:Start training model qlm dp w=800.00\n",
      "INFO:root:Start training model qlm dp w=900.00\n",
      "\n",
      "INFO:root:Finished processing model qlm dp w=40.00\n",
      "INFO:root:Start evaluating model qlm dp w=500.00\n"
     ]
    },
    {
     "data": {
      "application/vnd.jupyter.widget-view+json": {
       "model_id": "b9bc38f817524bef8913bb937baa6b27",
       "version_major": 2,
       "version_minor": 0
      },
      "text/plain": [
       "HBox(children=(IntProgress(value=0, layout=Layout(flex='2'), max=5300), HTML(value='')), layout=Layout(display…"
      ]
     },
     "metadata": {},
     "output_type": "display_data"
    },
    {
     "name": "stdout",
     "output_type": "stream",
     "text": [
      "\n",
      "INFO:root:Finished processing model qlm dp w=60.00\n",
      "INFO:root:Start evaluating model qlm dp w=600.00\n"
     ]
    },
    {
     "data": {
      "application/vnd.jupyter.widget-view+json": {
       "model_id": "08f1e895e0fb439d8371a72c65b313ad",
       "version_major": 2,
       "version_minor": 0
      },
      "text/plain": [
       "HBox(children=(IntProgress(value=0, layout=Layout(flex='2'), max=5300), HTML(value='')), layout=Layout(display…"
      ]
     },
     "metadata": {},
     "output_type": "display_data"
    },
    {
     "name": "stdout",
     "output_type": "stream",
     "text": [
      "INFO:root:Start evaluating model qlm dp w=700.00\n"
     ]
    },
    {
     "data": {
      "application/vnd.jupyter.widget-view+json": {
       "model_id": "764b4bf5cb364a7cbbf207d4e1491960",
       "version_major": 2,
       "version_minor": 0
      },
      "text/plain": [
       "HBox(children=(IntProgress(value=0, layout=Layout(flex='2'), max=5300), HTML(value='')), layout=Layout(display…"
      ]
     },
     "metadata": {},
     "output_type": "display_data"
    },
    {
     "name": "stdout",
     "output_type": "stream",
     "text": [
      "INFO:root:Start evaluating model qlm dp w=800.00\n"
     ]
    },
    {
     "data": {
      "application/vnd.jupyter.widget-view+json": {
       "model_id": "3324763fd31943aab4e3cdae33c8769c",
       "version_major": 2,
       "version_minor": 0
      },
      "text/plain": [
       "HBox(children=(IntProgress(value=0, layout=Layout(flex='2'), max=5300), HTML(value='')), layout=Layout(display…"
      ]
     },
     "metadata": {},
     "output_type": "display_data"
    },
    {
     "name": "stdout",
     "output_type": "stream",
     "text": [
      "INFO:root:Start evaluating model qlm dp w=900.00\n"
     ]
    },
    {
     "data": {
      "application/vnd.jupyter.widget-view+json": {
       "model_id": "dd47b09419f8414ebe484dbe11efd8d0",
       "version_major": 2,
       "version_minor": 0
      },
      "text/plain": [
       "HBox(children=(IntProgress(value=0, layout=Layout(flex='2'), max=5300), HTML(value='')), layout=Layout(display…"
      ]
     },
     "metadata": {},
     "output_type": "display_data"
    },
    {
     "name": "stdout",
     "output_type": "stream",
     "text": [
      "\n",
      "INFO:root:Finished processing model qlm dp w=70.00\n",
      "\n",
      "INFO:root:Finished processing model qlm dp w=80.00\n",
      "\n",
      "INFO:root:Finished processing model qlm dp w=200.00\n",
      "\n",
      "INFO:root:Finished processing model qlm dp w=90.00\n",
      "\n",
      "INFO:root:Finished processing model qlm dp w=100.00\n",
      "\n",
      "INFO:root:Finished processing model qlm dp w=300.00\n",
      "\n",
      "INFO:root:Finished processing model qlm dp w=400.00\n",
      "\n",
      "INFO:root:Finished processing model qlm dp w=500.00\n",
      "\n",
      "INFO:root:Finished processing model qlm dp w=600.00\n",
      "\n",
      "INFO:root:Finished processing model qlm dp w=800.00\n",
      "\n",
      "INFO:root:Finished processing model qlm dp w=700.00\n",
      "\n",
      "INFO:root:Finished processing model qlm dp w=900.00\n"
     ]
    }
   ],
   "source": [
    "search_dp_smoothing_results = train_evaluate_models(search_dp_smoothing, [general_keywords, specific_keywords], \n",
    "                                                    n_jobs=min(15,len(smoothing_weight_grid)))"
   ]
  },
  {
   "cell_type": "code",
   "execution_count": 9,
   "metadata": {},
   "outputs": [
    {
     "data": {
      "text/html": [
       "<div>\n",
       "<style scoped>\n",
       "    .dataframe tbody tr th:only-of-type {\n",
       "        vertical-align: middle;\n",
       "    }\n",
       "\n",
       "    .dataframe tbody tr th {\n",
       "        vertical-align: top;\n",
       "    }\n",
       "\n",
       "    .dataframe thead tr th {\n",
       "        text-align: left;\n",
       "    }\n",
       "</style>\n",
       "<table border=\"1\" class=\"dataframe\">\n",
       "  <thead>\n",
       "    <tr>\n",
       "      <th></th>\n",
       "      <th colspan=\"6\" halign=\"left\">general keywords</th>\n",
       "      <th colspan=\"6\" halign=\"left\">specific_keywords</th>\n",
       "    </tr>\n",
       "    <tr>\n",
       "      <th></th>\n",
       "      <th>p@5</th>\n",
       "      <th>p@10</th>\n",
       "      <th>p@20</th>\n",
       "      <th>R-prec</th>\n",
       "      <th>mAP</th>\n",
       "      <th>bpref</th>\n",
       "      <th>p@5</th>\n",
       "      <th>p@10</th>\n",
       "      <th>p@20</th>\n",
       "      <th>R-prec</th>\n",
       "      <th>mAP</th>\n",
       "      <th>bpref</th>\n",
       "    </tr>\n",
       "  </thead>\n",
       "  <tbody>\n",
       "    <tr>\n",
       "      <th>qlm dp w=1.00</th>\n",
       "      <td>0.292</td>\n",
       "      <td>0.253</td>\n",
       "      <td>0.211</td>\n",
       "      <td>0.081</td>\n",
       "      <td>0.054</td>\n",
       "      <td>0.062</td>\n",
       "      <td>0.648</td>\n",
       "      <td>0.589</td>\n",
       "      <td>0.497</td>\n",
       "      <td>0.470</td>\n",
       "      <td>0.468</td>\n",
       "      <td>0.453</td>\n",
       "    </tr>\n",
       "    <tr>\n",
       "      <th>qlm dp w=2.00</th>\n",
       "      <td>0.293</td>\n",
       "      <td>0.253</td>\n",
       "      <td>0.211</td>\n",
       "      <td>0.081</td>\n",
       "      <td>0.054</td>\n",
       "      <td>0.062</td>\n",
       "      <td>0.648</td>\n",
       "      <td>0.590</td>\n",
       "      <td>0.497</td>\n",
       "      <td>0.471</td>\n",
       "      <td>0.468</td>\n",
       "      <td>0.454</td>\n",
       "    </tr>\n",
       "    <tr>\n",
       "      <th>qlm dp w=3.00</th>\n",
       "      <td>0.293</td>\n",
       "      <td>0.253</td>\n",
       "      <td>0.212</td>\n",
       "      <td>0.081</td>\n",
       "      <td>0.054</td>\n",
       "      <td>0.063</td>\n",
       "      <td>0.648</td>\n",
       "      <td>0.590</td>\n",
       "      <td>0.497</td>\n",
       "      <td>0.471</td>\n",
       "      <td>0.468</td>\n",
       "      <td>0.454</td>\n",
       "    </tr>\n",
       "    <tr>\n",
       "      <th>qlm dp w=4.00</th>\n",
       "      <td>0.293</td>\n",
       "      <td>0.254</td>\n",
       "      <td>0.212</td>\n",
       "      <td>0.081</td>\n",
       "      <td>0.054</td>\n",
       "      <td>0.063</td>\n",
       "      <td>0.648</td>\n",
       "      <td>0.590</td>\n",
       "      <td>0.497</td>\n",
       "      <td>0.471</td>\n",
       "      <td>0.469</td>\n",
       "      <td>0.454</td>\n",
       "    </tr>\n",
       "    <tr>\n",
       "      <th>qlm dp w=5.00</th>\n",
       "      <td>0.292</td>\n",
       "      <td>0.255</td>\n",
       "      <td>0.212</td>\n",
       "      <td>0.081</td>\n",
       "      <td>0.054</td>\n",
       "      <td>0.063</td>\n",
       "      <td>0.648</td>\n",
       "      <td>0.591</td>\n",
       "      <td>0.497</td>\n",
       "      <td>0.471</td>\n",
       "      <td>0.469</td>\n",
       "      <td>0.454</td>\n",
       "    </tr>\n",
       "    <tr>\n",
       "      <th>qlm dp w=6.00</th>\n",
       "      <td>0.291</td>\n",
       "      <td>0.255</td>\n",
       "      <td>0.213</td>\n",
       "      <td>0.082</td>\n",
       "      <td>0.054</td>\n",
       "      <td>0.063</td>\n",
       "      <td>0.648</td>\n",
       "      <td>0.591</td>\n",
       "      <td>0.498</td>\n",
       "      <td>0.471</td>\n",
       "      <td>0.469</td>\n",
       "      <td>0.454</td>\n",
       "    </tr>\n",
       "    <tr>\n",
       "      <th>qlm dp w=7.00</th>\n",
       "      <td>0.291</td>\n",
       "      <td>0.255</td>\n",
       "      <td>0.213</td>\n",
       "      <td>0.082</td>\n",
       "      <td>0.054</td>\n",
       "      <td>0.063</td>\n",
       "      <td>0.649</td>\n",
       "      <td>0.591</td>\n",
       "      <td>0.498</td>\n",
       "      <td>0.471</td>\n",
       "      <td>0.469</td>\n",
       "      <td>0.454</td>\n",
       "    </tr>\n",
       "    <tr>\n",
       "      <th>qlm dp w=8.00</th>\n",
       "      <td>0.291</td>\n",
       "      <td>0.253</td>\n",
       "      <td>0.213</td>\n",
       "      <td>0.082</td>\n",
       "      <td>0.054</td>\n",
       "      <td>0.063</td>\n",
       "      <td>0.649</td>\n",
       "      <td>0.591</td>\n",
       "      <td>0.498</td>\n",
       "      <td>0.471</td>\n",
       "      <td>0.470</td>\n",
       "      <td>0.455</td>\n",
       "    </tr>\n",
       "    <tr>\n",
       "      <th>qlm dp w=9.00</th>\n",
       "      <td>0.291</td>\n",
       "      <td>0.254</td>\n",
       "      <td>0.214</td>\n",
       "      <td>0.082</td>\n",
       "      <td>0.054</td>\n",
       "      <td>0.063</td>\n",
       "      <td>0.649</td>\n",
       "      <td>0.591</td>\n",
       "      <td>0.498</td>\n",
       "      <td>0.471</td>\n",
       "      <td>0.470</td>\n",
       "      <td>0.455</td>\n",
       "    </tr>\n",
       "    <tr>\n",
       "      <th>qlm dp w=10.00</th>\n",
       "      <td>0.291</td>\n",
       "      <td>0.253</td>\n",
       "      <td>0.214</td>\n",
       "      <td>0.082</td>\n",
       "      <td>0.054</td>\n",
       "      <td>0.063</td>\n",
       "      <td>0.649</td>\n",
       "      <td>0.591</td>\n",
       "      <td>0.499</td>\n",
       "      <td>0.471</td>\n",
       "      <td>0.470</td>\n",
       "      <td>0.455</td>\n",
       "    </tr>\n",
       "    <tr>\n",
       "      <th>qlm dp w=20.00</th>\n",
       "      <td>0.295</td>\n",
       "      <td>0.254</td>\n",
       "      <td>0.215</td>\n",
       "      <td>0.082</td>\n",
       "      <td>0.054</td>\n",
       "      <td>0.063</td>\n",
       "      <td>0.650</td>\n",
       "      <td>0.592</td>\n",
       "      <td>0.500</td>\n",
       "      <td>0.472</td>\n",
       "      <td>0.471</td>\n",
       "      <td>0.456</td>\n",
       "    </tr>\n",
       "    <tr>\n",
       "      <th>qlm dp w=30.00</th>\n",
       "      <td>0.293</td>\n",
       "      <td>0.253</td>\n",
       "      <td>0.216</td>\n",
       "      <td>0.082</td>\n",
       "      <td>0.055</td>\n",
       "      <td>0.063</td>\n",
       "      <td>0.651</td>\n",
       "      <td>0.592</td>\n",
       "      <td>0.500</td>\n",
       "      <td>0.472</td>\n",
       "      <td>0.472</td>\n",
       "      <td>0.456</td>\n",
       "    </tr>\n",
       "    <tr>\n",
       "      <th>qlm dp w=40.00</th>\n",
       "      <td>0.299</td>\n",
       "      <td>0.252</td>\n",
       "      <td>0.216</td>\n",
       "      <td>0.082</td>\n",
       "      <td>0.055</td>\n",
       "      <td>0.063</td>\n",
       "      <td>0.651</td>\n",
       "      <td>0.593</td>\n",
       "      <td>0.500</td>\n",
       "      <td>0.473</td>\n",
       "      <td>0.473</td>\n",
       "      <td>0.457</td>\n",
       "    </tr>\n",
       "    <tr>\n",
       "      <th>qlm dp w=50.00</th>\n",
       "      <td>0.301</td>\n",
       "      <td>0.253</td>\n",
       "      <td>0.216</td>\n",
       "      <td>0.083</td>\n",
       "      <td>0.055</td>\n",
       "      <td>0.064</td>\n",
       "      <td>0.652</td>\n",
       "      <td>0.593</td>\n",
       "      <td>0.501</td>\n",
       "      <td>0.473</td>\n",
       "      <td>0.473</td>\n",
       "      <td>0.457</td>\n",
       "    </tr>\n",
       "    <tr>\n",
       "      <th>qlm dp w=60.00</th>\n",
       "      <td>0.302</td>\n",
       "      <td>0.252</td>\n",
       "      <td>0.216</td>\n",
       "      <td>0.083</td>\n",
       "      <td>0.055</td>\n",
       "      <td>0.064</td>\n",
       "      <td>0.651</td>\n",
       "      <td>0.593</td>\n",
       "      <td>0.501</td>\n",
       "      <td>0.473</td>\n",
       "      <td>0.473</td>\n",
       "      <td>0.457</td>\n",
       "    </tr>\n",
       "    <tr>\n",
       "      <th>qlm dp w=70.00</th>\n",
       "      <td>0.298</td>\n",
       "      <td>0.252</td>\n",
       "      <td>0.216</td>\n",
       "      <td>0.085</td>\n",
       "      <td>0.055</td>\n",
       "      <td>0.065</td>\n",
       "      <td>0.651</td>\n",
       "      <td>0.593</td>\n",
       "      <td>0.501</td>\n",
       "      <td>0.473</td>\n",
       "      <td>0.473</td>\n",
       "      <td>0.457</td>\n",
       "    </tr>\n",
       "    <tr>\n",
       "      <th>qlm dp w=80.00</th>\n",
       "      <td>0.295</td>\n",
       "      <td>0.253</td>\n",
       "      <td>0.217</td>\n",
       "      <td>0.085</td>\n",
       "      <td>0.056</td>\n",
       "      <td>0.065</td>\n",
       "      <td>0.651</td>\n",
       "      <td>0.593</td>\n",
       "      <td>0.500</td>\n",
       "      <td>0.474</td>\n",
       "      <td>0.473</td>\n",
       "      <td>0.457</td>\n",
       "    </tr>\n",
       "    <tr>\n",
       "      <th>qlm dp w=90.00</th>\n",
       "      <td>0.297</td>\n",
       "      <td>0.252</td>\n",
       "      <td>0.216</td>\n",
       "      <td>0.085</td>\n",
       "      <td>0.056</td>\n",
       "      <td>0.065</td>\n",
       "      <td>0.649</td>\n",
       "      <td>0.593</td>\n",
       "      <td>0.500</td>\n",
       "      <td>0.473</td>\n",
       "      <td>0.473</td>\n",
       "      <td>0.457</td>\n",
       "    </tr>\n",
       "    <tr>\n",
       "      <th>qlm dp w=100.00</th>\n",
       "      <td>0.297</td>\n",
       "      <td>0.251</td>\n",
       "      <td>0.216</td>\n",
       "      <td>0.085</td>\n",
       "      <td>0.056</td>\n",
       "      <td>0.065</td>\n",
       "      <td>0.650</td>\n",
       "      <td>0.593</td>\n",
       "      <td>0.500</td>\n",
       "      <td>0.473</td>\n",
       "      <td>0.472</td>\n",
       "      <td>0.457</td>\n",
       "    </tr>\n",
       "    <tr>\n",
       "      <th>qlm dp w=200.00</th>\n",
       "      <td>0.295</td>\n",
       "      <td>0.250</td>\n",
       "      <td>0.215</td>\n",
       "      <td>0.085</td>\n",
       "      <td>0.056</td>\n",
       "      <td>0.065</td>\n",
       "      <td>0.645</td>\n",
       "      <td>0.589</td>\n",
       "      <td>0.498</td>\n",
       "      <td>0.472</td>\n",
       "      <td>0.470</td>\n",
       "      <td>0.455</td>\n",
       "    </tr>\n",
       "    <tr>\n",
       "      <th>qlm dp w=300.00</th>\n",
       "      <td>0.294</td>\n",
       "      <td>0.252</td>\n",
       "      <td>0.214</td>\n",
       "      <td>0.084</td>\n",
       "      <td>0.056</td>\n",
       "      <td>0.065</td>\n",
       "      <td>0.642</td>\n",
       "      <td>0.586</td>\n",
       "      <td>0.496</td>\n",
       "      <td>0.470</td>\n",
       "      <td>0.467</td>\n",
       "      <td>0.452</td>\n",
       "    </tr>\n",
       "    <tr>\n",
       "      <th>qlm dp w=400.00</th>\n",
       "      <td>0.294</td>\n",
       "      <td>0.251</td>\n",
       "      <td>0.213</td>\n",
       "      <td>0.084</td>\n",
       "      <td>0.056</td>\n",
       "      <td>0.065</td>\n",
       "      <td>0.640</td>\n",
       "      <td>0.584</td>\n",
       "      <td>0.495</td>\n",
       "      <td>0.468</td>\n",
       "      <td>0.465</td>\n",
       "      <td>0.450</td>\n",
       "    </tr>\n",
       "    <tr>\n",
       "      <th>qlm dp w=500.00</th>\n",
       "      <td>0.293</td>\n",
       "      <td>0.249</td>\n",
       "      <td>0.213</td>\n",
       "      <td>0.084</td>\n",
       "      <td>0.056</td>\n",
       "      <td>0.065</td>\n",
       "      <td>0.639</td>\n",
       "      <td>0.582</td>\n",
       "      <td>0.493</td>\n",
       "      <td>0.465</td>\n",
       "      <td>0.463</td>\n",
       "      <td>0.448</td>\n",
       "    </tr>\n",
       "    <tr>\n",
       "      <th>qlm dp w=600.00</th>\n",
       "      <td>0.291</td>\n",
       "      <td>0.249</td>\n",
       "      <td>0.213</td>\n",
       "      <td>0.084</td>\n",
       "      <td>0.056</td>\n",
       "      <td>0.065</td>\n",
       "      <td>0.637</td>\n",
       "      <td>0.580</td>\n",
       "      <td>0.492</td>\n",
       "      <td>0.463</td>\n",
       "      <td>0.460</td>\n",
       "      <td>0.445</td>\n",
       "    </tr>\n",
       "    <tr>\n",
       "      <th>qlm dp w=700.00</th>\n",
       "      <td>0.288</td>\n",
       "      <td>0.248</td>\n",
       "      <td>0.212</td>\n",
       "      <td>0.084</td>\n",
       "      <td>0.055</td>\n",
       "      <td>0.065</td>\n",
       "      <td>0.635</td>\n",
       "      <td>0.578</td>\n",
       "      <td>0.490</td>\n",
       "      <td>0.461</td>\n",
       "      <td>0.458</td>\n",
       "      <td>0.443</td>\n",
       "    </tr>\n",
       "    <tr>\n",
       "      <th>qlm dp w=800.00</th>\n",
       "      <td>0.288</td>\n",
       "      <td>0.249</td>\n",
       "      <td>0.212</td>\n",
       "      <td>0.084</td>\n",
       "      <td>0.055</td>\n",
       "      <td>0.065</td>\n",
       "      <td>0.634</td>\n",
       "      <td>0.577</td>\n",
       "      <td>0.488</td>\n",
       "      <td>0.459</td>\n",
       "      <td>0.456</td>\n",
       "      <td>0.441</td>\n",
       "    </tr>\n",
       "    <tr>\n",
       "      <th>qlm dp w=900.00</th>\n",
       "      <td>0.287</td>\n",
       "      <td>0.249</td>\n",
       "      <td>0.211</td>\n",
       "      <td>0.084</td>\n",
       "      <td>0.055</td>\n",
       "      <td>0.065</td>\n",
       "      <td>0.633</td>\n",
       "      <td>0.576</td>\n",
       "      <td>0.487</td>\n",
       "      <td>0.457</td>\n",
       "      <td>0.454</td>\n",
       "      <td>0.439</td>\n",
       "    </tr>\n",
       "  </tbody>\n",
       "</table>\n",
       "</div>"
      ],
      "text/plain": [
       "                general keywords                                    specific_keywords                                   \n",
       "                             p@5   p@10   p@20 R-prec    mAP  bpref               p@5   p@10   p@20 R-prec    mAP  bpref\n",
       "qlm dp w=1.00              0.292  0.253  0.211  0.081  0.054  0.062             0.648  0.589  0.497  0.470  0.468  0.453\n",
       "qlm dp w=2.00              0.293  0.253  0.211  0.081  0.054  0.062             0.648  0.590  0.497  0.471  0.468  0.454\n",
       "qlm dp w=3.00              0.293  0.253  0.212  0.081  0.054  0.063             0.648  0.590  0.497  0.471  0.468  0.454\n",
       "qlm dp w=4.00              0.293  0.254  0.212  0.081  0.054  0.063             0.648  0.590  0.497  0.471  0.469  0.454\n",
       "qlm dp w=5.00              0.292  0.255  0.212  0.081  0.054  0.063             0.648  0.591  0.497  0.471  0.469  0.454\n",
       "qlm dp w=6.00              0.291  0.255  0.213  0.082  0.054  0.063             0.648  0.591  0.498  0.471  0.469  0.454\n",
       "qlm dp w=7.00              0.291  0.255  0.213  0.082  0.054  0.063             0.649  0.591  0.498  0.471  0.469  0.454\n",
       "qlm dp w=8.00              0.291  0.253  0.213  0.082  0.054  0.063             0.649  0.591  0.498  0.471  0.470  0.455\n",
       "qlm dp w=9.00              0.291  0.254  0.214  0.082  0.054  0.063             0.649  0.591  0.498  0.471  0.470  0.455\n",
       "qlm dp w=10.00             0.291  0.253  0.214  0.082  0.054  0.063             0.649  0.591  0.499  0.471  0.470  0.455\n",
       "qlm dp w=20.00             0.295  0.254  0.215  0.082  0.054  0.063             0.650  0.592  0.500  0.472  0.471  0.456\n",
       "qlm dp w=30.00             0.293  0.253  0.216  0.082  0.055  0.063             0.651  0.592  0.500  0.472  0.472  0.456\n",
       "qlm dp w=40.00             0.299  0.252  0.216  0.082  0.055  0.063             0.651  0.593  0.500  0.473  0.473  0.457\n",
       "qlm dp w=50.00             0.301  0.253  0.216  0.083  0.055  0.064             0.652  0.593  0.501  0.473  0.473  0.457\n",
       "qlm dp w=60.00             0.302  0.252  0.216  0.083  0.055  0.064             0.651  0.593  0.501  0.473  0.473  0.457\n",
       "qlm dp w=70.00             0.298  0.252  0.216  0.085  0.055  0.065             0.651  0.593  0.501  0.473  0.473  0.457\n",
       "qlm dp w=80.00             0.295  0.253  0.217  0.085  0.056  0.065             0.651  0.593  0.500  0.474  0.473  0.457\n",
       "qlm dp w=90.00             0.297  0.252  0.216  0.085  0.056  0.065             0.649  0.593  0.500  0.473  0.473  0.457\n",
       "qlm dp w=100.00            0.297  0.251  0.216  0.085  0.056  0.065             0.650  0.593  0.500  0.473  0.472  0.457\n",
       "qlm dp w=200.00            0.295  0.250  0.215  0.085  0.056  0.065             0.645  0.589  0.498  0.472  0.470  0.455\n",
       "qlm dp w=300.00            0.294  0.252  0.214  0.084  0.056  0.065             0.642  0.586  0.496  0.470  0.467  0.452\n",
       "qlm dp w=400.00            0.294  0.251  0.213  0.084  0.056  0.065             0.640  0.584  0.495  0.468  0.465  0.450\n",
       "qlm dp w=500.00            0.293  0.249  0.213  0.084  0.056  0.065             0.639  0.582  0.493  0.465  0.463  0.448\n",
       "qlm dp w=600.00            0.291  0.249  0.213  0.084  0.056  0.065             0.637  0.580  0.492  0.463  0.460  0.445\n",
       "qlm dp w=700.00            0.288  0.248  0.212  0.084  0.055  0.065             0.635  0.578  0.490  0.461  0.458  0.443\n",
       "qlm dp w=800.00            0.288  0.249  0.212  0.084  0.055  0.065             0.634  0.577  0.488  0.459  0.456  0.441\n",
       "qlm dp w=900.00            0.287  0.249  0.211  0.084  0.055  0.065             0.633  0.576  0.487  0.457  0.454  0.439"
      ]
     },
     "execution_count": 9,
     "metadata": {},
     "output_type": "execute_result"
    }
   ],
   "source": [
    "search_dp_smoothing_results"
   ]
  },
  {
   "cell_type": "code",
   "execution_count": 10,
   "metadata": {},
   "outputs": [
    {
     "data": {
      "image/png": "[encoded data removed]",
      "text/plain": [
       "<Figure size 864x360 with 1 Axes>"
      ]
     },
     "metadata": {
      "needs_background": "light"
     },
     "output_type": "display_data"
    }
   ],
   "source": [
    "ax = search_dp_smoothing_results[(\"specific_keywords\",\"mAP\")].plot(figsize=(12,5), style=\"-bo\", rot=45, legend=False)\n",
    "ax.set_ylabel(\"mAP\");"
   ]
  },
  {
   "cell_type": "markdown",
   "metadata": {},
   "source": [
    "Results:\n",
    "- No significant change for general keywords\n",
    "- Bigrams provide great improvement for specific keywords\n",
    "- 3 and 4-grams do not lead to significant further improvements"
   ]
  },
  {
   "cell_type": "code",
   "execution_count": 11,
   "metadata": {},
   "outputs": [],
   "source": [
    "smoothing_weight_grid = np.arange(0.1,1.1,0.0)\n",
    "search_jm_bigram = [(f\"qlm jm w={w:.2f}\", QueryLMRetrievalAlgorithm(\"jm\", w, max_ngram=2), papers_basic_lemmatization_nouns) for w in smoothing_weight_grid]"
   ]
  },
  {
   "cell_type": "code",
   "execution_count": null,
   "metadata": {},
   "outputs": [],
   "source": [
    "search_jm_bigram_results = train_evaluate_models(search_jm_bigram, [general_keywords, specific_keywords], n_jobs=len(smoothing_weight_grid))"
   ]
  },
  {
   "cell_type": "code",
   "execution_count": 31,
   "metadata": {},
   "outputs": [
    {
     "ename": "NameError",
     "evalue": "name 'search_jm_bigram_results' is not defined",
     "output_type": "error",
     "traceback": [
      "\u001b[0;31m---------------------------------------------------------------------------\u001b[0m",
      "\u001b[0;31mNameError\u001b[0m                                 Traceback (most recent call last)",
      "\u001b[0;32m<ipython-input-31-196b0a06506e>\u001b[0m in \u001b[0;36m<module>\u001b[0;34m\u001b[0m\n\u001b[0;32m----> 1\u001b[0;31m \u001b[0msearch_jm_bigram_results\u001b[0m\u001b[0;34m\u001b[0m\u001b[0;34m\u001b[0m\u001b[0m\n\u001b[0m",
      "\u001b[0;31mNameError\u001b[0m: name 'search_jm_bigram_results' is not defined"
     ]
    }
   ],
   "source": [
    "search_jm_bigram_results"
   ]
  },
  {
   "cell_type": "code",
   "execution_count": 14,
   "metadata": {},
   "outputs": [
    {
     "data": {
      "image/png": "[encoded data removed]",
      "text/plain": [
       "<Figure size 864x360 with 1 Axes>"
      ]
     },
     "metadata": {
      "needs_background": "light"
     },
     "output_type": "display_data"
    }
   ],
   "source": [
    "ax = search_jm_bigram_results[(\"specific_keywords\",\"mAP\")].plot(figsize=(12,5), style=\"-bo\", rot=45, legend=False)\n",
    "ax.set_ylabel(\"mAP\");"
   ]
  },
  {
   "cell_type": "code",
   "execution_count": null,
   "metadata": {},
   "outputs": [],
   "source": []
  },
  {
   "cell_type": "code",
   "execution_count": 15,
   "metadata": {},
   "outputs": [],
   "source": [
    "smoothing_weight_grid = create_grid([0,1,2])\n",
    "search_dp_bigram = [(f\"qlm jm w={w:.2f}\", QueryLMRetrievalAlgorithm(\"dp\", w, max_ngram=2), papers_basic_lemmatization_nouns) for w in smoothing_weight_grid]"
   ]
  },
  {
   "cell_type": "code",
   "execution_count": null,
   "metadata": {},
   "outputs": [],
   "source": [
    "search_dp_bigram_results = train_evaluate_models(search_dp_bigram, [general_keywords, specific_keywords], \n",
    "                                                 n_jobs=min(15,len(smoothing_weight_grid)))"
   ]
  },
  {
   "cell_type": "code",
   "execution_count": 18,
   "metadata": {},
   "outputs": [
    {
     "data": {
      "text/html": [
       "<div>\n",
       "<style scoped>\n",
       "    .dataframe tbody tr th:only-of-type {\n",
       "        vertical-align: middle;\n",
       "    }\n",
       "\n",
       "    .dataframe tbody tr th {\n",
       "        vertical-align: top;\n",
       "    }\n",
       "\n",
       "    .dataframe thead tr th {\n",
       "        text-align: left;\n",
       "    }\n",
       "</style>\n",
       "<table border=\"1\" class=\"dataframe\">\n",
       "  <thead>\n",
       "    <tr>\n",
       "      <th></th>\n",
       "      <th colspan=\"6\" halign=\"left\">general keywords</th>\n",
       "      <th colspan=\"6\" halign=\"left\">specific_keywords</th>\n",
       "    </tr>\n",
       "    <tr>\n",
       "      <th></th>\n",
       "      <th>p@5</th>\n",
       "      <th>p@10</th>\n",
       "      <th>p@20</th>\n",
       "      <th>R-prec</th>\n",
       "      <th>mAP</th>\n",
       "      <th>bpref</th>\n",
       "      <th>p@5</th>\n",
       "      <th>p@10</th>\n",
       "      <th>p@20</th>\n",
       "      <th>R-prec</th>\n",
       "      <th>mAP</th>\n",
       "      <th>bpref</th>\n",
       "    </tr>\n",
       "  </thead>\n",
       "  <tbody>\n",
       "    <tr>\n",
       "      <th>qlm jm w=1.00</th>\n",
       "      <td>0.306</td>\n",
       "      <td>0.258</td>\n",
       "      <td>0.213</td>\n",
       "      <td>0.084</td>\n",
       "      <td>0.056</td>\n",
       "      <td>0.065</td>\n",
       "      <td>0.727</td>\n",
       "      <td>0.668</td>\n",
       "      <td>0.561</td>\n",
       "      <td>0.543</td>\n",
       "      <td>0.549</td>\n",
       "      <td>0.537</td>\n",
       "    </tr>\n",
       "    <tr>\n",
       "      <th>qlm jm w=2.00</th>\n",
       "      <td>0.306</td>\n",
       "      <td>0.258</td>\n",
       "      <td>0.214</td>\n",
       "      <td>0.084</td>\n",
       "      <td>0.056</td>\n",
       "      <td>0.065</td>\n",
       "      <td>0.727</td>\n",
       "      <td>0.669</td>\n",
       "      <td>0.562</td>\n",
       "      <td>0.543</td>\n",
       "      <td>0.550</td>\n",
       "      <td>0.537</td>\n",
       "    </tr>\n",
       "    <tr>\n",
       "      <th>qlm jm w=3.00</th>\n",
       "      <td>0.306</td>\n",
       "      <td>0.259</td>\n",
       "      <td>0.213</td>\n",
       "      <td>0.084</td>\n",
       "      <td>0.056</td>\n",
       "      <td>0.065</td>\n",
       "      <td>0.728</td>\n",
       "      <td>0.669</td>\n",
       "      <td>0.562</td>\n",
       "      <td>0.543</td>\n",
       "      <td>0.550</td>\n",
       "      <td>0.537</td>\n",
       "    </tr>\n",
       "    <tr>\n",
       "      <th>qlm jm w=4.00</th>\n",
       "      <td>0.306</td>\n",
       "      <td>0.259</td>\n",
       "      <td>0.213</td>\n",
       "      <td>0.084</td>\n",
       "      <td>0.056</td>\n",
       "      <td>0.065</td>\n",
       "      <td>0.728</td>\n",
       "      <td>0.669</td>\n",
       "      <td>0.562</td>\n",
       "      <td>0.544</td>\n",
       "      <td>0.550</td>\n",
       "      <td>0.538</td>\n",
       "    </tr>\n",
       "    <tr>\n",
       "      <th>qlm jm w=5.00</th>\n",
       "      <td>0.306</td>\n",
       "      <td>0.260</td>\n",
       "      <td>0.213</td>\n",
       "      <td>0.084</td>\n",
       "      <td>0.056</td>\n",
       "      <td>0.065</td>\n",
       "      <td>0.728</td>\n",
       "      <td>0.669</td>\n",
       "      <td>0.562</td>\n",
       "      <td>0.544</td>\n",
       "      <td>0.550</td>\n",
       "      <td>0.538</td>\n",
       "    </tr>\n",
       "    <tr>\n",
       "      <th>qlm jm w=6.00</th>\n",
       "      <td>0.307</td>\n",
       "      <td>0.259</td>\n",
       "      <td>0.213</td>\n",
       "      <td>0.084</td>\n",
       "      <td>0.056</td>\n",
       "      <td>0.065</td>\n",
       "      <td>0.728</td>\n",
       "      <td>0.669</td>\n",
       "      <td>0.562</td>\n",
       "      <td>0.544</td>\n",
       "      <td>0.550</td>\n",
       "      <td>0.538</td>\n",
       "    </tr>\n",
       "    <tr>\n",
       "      <th>qlm jm w=7.00</th>\n",
       "      <td>0.306</td>\n",
       "      <td>0.259</td>\n",
       "      <td>0.213</td>\n",
       "      <td>0.084</td>\n",
       "      <td>0.056</td>\n",
       "      <td>0.065</td>\n",
       "      <td>0.728</td>\n",
       "      <td>0.669</td>\n",
       "      <td>0.562</td>\n",
       "      <td>0.544</td>\n",
       "      <td>0.550</td>\n",
       "      <td>0.538</td>\n",
       "    </tr>\n",
       "    <tr>\n",
       "      <th>qlm jm w=8.00</th>\n",
       "      <td>0.305</td>\n",
       "      <td>0.258</td>\n",
       "      <td>0.213</td>\n",
       "      <td>0.084</td>\n",
       "      <td>0.057</td>\n",
       "      <td>0.065</td>\n",
       "      <td>0.729</td>\n",
       "      <td>0.669</td>\n",
       "      <td>0.562</td>\n",
       "      <td>0.544</td>\n",
       "      <td>0.551</td>\n",
       "      <td>0.538</td>\n",
       "    </tr>\n",
       "    <tr>\n",
       "      <th>qlm jm w=9.00</th>\n",
       "      <td>0.305</td>\n",
       "      <td>0.259</td>\n",
       "      <td>0.213</td>\n",
       "      <td>0.084</td>\n",
       "      <td>0.057</td>\n",
       "      <td>0.065</td>\n",
       "      <td>0.729</td>\n",
       "      <td>0.669</td>\n",
       "      <td>0.562</td>\n",
       "      <td>0.544</td>\n",
       "      <td>0.551</td>\n",
       "      <td>0.538</td>\n",
       "    </tr>\n",
       "    <tr>\n",
       "      <th>qlm jm w=10.00</th>\n",
       "      <td>0.305</td>\n",
       "      <td>0.259</td>\n",
       "      <td>0.214</td>\n",
       "      <td>0.084</td>\n",
       "      <td>0.057</td>\n",
       "      <td>0.065</td>\n",
       "      <td>0.729</td>\n",
       "      <td>0.670</td>\n",
       "      <td>0.562</td>\n",
       "      <td>0.544</td>\n",
       "      <td>0.551</td>\n",
       "      <td>0.538</td>\n",
       "    </tr>\n",
       "    <tr>\n",
       "      <th>qlm jm w=20.00</th>\n",
       "      <td>0.305</td>\n",
       "      <td>0.258</td>\n",
       "      <td>0.214</td>\n",
       "      <td>0.085</td>\n",
       "      <td>0.057</td>\n",
       "      <td>0.065</td>\n",
       "      <td>0.730</td>\n",
       "      <td>0.670</td>\n",
       "      <td>0.563</td>\n",
       "      <td>0.545</td>\n",
       "      <td>0.552</td>\n",
       "      <td>0.539</td>\n",
       "    </tr>\n",
       "    <tr>\n",
       "      <th>qlm jm w=30.00</th>\n",
       "      <td>0.305</td>\n",
       "      <td>0.259</td>\n",
       "      <td>0.216</td>\n",
       "      <td>0.085</td>\n",
       "      <td>0.057</td>\n",
       "      <td>0.066</td>\n",
       "      <td>0.730</td>\n",
       "      <td>0.670</td>\n",
       "      <td>0.563</td>\n",
       "      <td>0.545</td>\n",
       "      <td>0.553</td>\n",
       "      <td>0.540</td>\n",
       "    </tr>\n",
       "    <tr>\n",
       "      <th>qlm jm w=40.00</th>\n",
       "      <td>0.307</td>\n",
       "      <td>0.260</td>\n",
       "      <td>0.216</td>\n",
       "      <td>0.086</td>\n",
       "      <td>0.057</td>\n",
       "      <td>0.066</td>\n",
       "      <td>0.730</td>\n",
       "      <td>0.670</td>\n",
       "      <td>0.564</td>\n",
       "      <td>0.546</td>\n",
       "      <td>0.553</td>\n",
       "      <td>0.540</td>\n",
       "    </tr>\n",
       "    <tr>\n",
       "      <th>qlm jm w=50.00</th>\n",
       "      <td>0.308</td>\n",
       "      <td>0.262</td>\n",
       "      <td>0.217</td>\n",
       "      <td>0.086</td>\n",
       "      <td>0.057</td>\n",
       "      <td>0.066</td>\n",
       "      <td>0.729</td>\n",
       "      <td>0.671</td>\n",
       "      <td>0.564</td>\n",
       "      <td>0.546</td>\n",
       "      <td>0.554</td>\n",
       "      <td>0.540</td>\n",
       "    </tr>\n",
       "    <tr>\n",
       "      <th>qlm jm w=60.00</th>\n",
       "      <td>0.308</td>\n",
       "      <td>0.263</td>\n",
       "      <td>0.219</td>\n",
       "      <td>0.086</td>\n",
       "      <td>0.057</td>\n",
       "      <td>0.066</td>\n",
       "      <td>0.729</td>\n",
       "      <td>0.670</td>\n",
       "      <td>0.564</td>\n",
       "      <td>0.546</td>\n",
       "      <td>0.554</td>\n",
       "      <td>0.541</td>\n",
       "    </tr>\n",
       "    <tr>\n",
       "      <th>qlm jm w=70.00</th>\n",
       "      <td>0.311</td>\n",
       "      <td>0.263</td>\n",
       "      <td>0.219</td>\n",
       "      <td>0.087</td>\n",
       "      <td>0.058</td>\n",
       "      <td>0.066</td>\n",
       "      <td>0.728</td>\n",
       "      <td>0.670</td>\n",
       "      <td>0.564</td>\n",
       "      <td>0.546</td>\n",
       "      <td>0.555</td>\n",
       "      <td>0.541</td>\n",
       "    </tr>\n",
       "    <tr>\n",
       "      <th>qlm jm w=80.00</th>\n",
       "      <td>0.313</td>\n",
       "      <td>0.263</td>\n",
       "      <td>0.218</td>\n",
       "      <td>0.087</td>\n",
       "      <td>0.058</td>\n",
       "      <td>0.067</td>\n",
       "      <td>0.729</td>\n",
       "      <td>0.670</td>\n",
       "      <td>0.564</td>\n",
       "      <td>0.546</td>\n",
       "      <td>0.555</td>\n",
       "      <td>0.541</td>\n",
       "    </tr>\n",
       "    <tr>\n",
       "      <th>qlm jm w=90.00</th>\n",
       "      <td>0.311</td>\n",
       "      <td>0.264</td>\n",
       "      <td>0.218</td>\n",
       "      <td>0.087</td>\n",
       "      <td>0.058</td>\n",
       "      <td>0.067</td>\n",
       "      <td>0.730</td>\n",
       "      <td>0.670</td>\n",
       "      <td>0.564</td>\n",
       "      <td>0.546</td>\n",
       "      <td>0.555</td>\n",
       "      <td>0.541</td>\n",
       "    </tr>\n",
       "    <tr>\n",
       "      <th>qlm jm w=100.00</th>\n",
       "      <td>0.312</td>\n",
       "      <td>0.264</td>\n",
       "      <td>0.218</td>\n",
       "      <td>0.087</td>\n",
       "      <td>0.058</td>\n",
       "      <td>0.067</td>\n",
       "      <td>0.729</td>\n",
       "      <td>0.670</td>\n",
       "      <td>0.564</td>\n",
       "      <td>0.546</td>\n",
       "      <td>0.555</td>\n",
       "      <td>0.541</td>\n",
       "    </tr>\n",
       "    <tr>\n",
       "      <th>qlm jm w=200.00</th>\n",
       "      <td>0.316</td>\n",
       "      <td>0.262</td>\n",
       "      <td>0.219</td>\n",
       "      <td>0.088</td>\n",
       "      <td>0.059</td>\n",
       "      <td>0.068</td>\n",
       "      <td>0.728</td>\n",
       "      <td>0.669</td>\n",
       "      <td>0.563</td>\n",
       "      <td>0.546</td>\n",
       "      <td>0.556</td>\n",
       "      <td>0.541</td>\n",
       "    </tr>\n",
       "    <tr>\n",
       "      <th>qlm jm w=300.00</th>\n",
       "      <td>0.311</td>\n",
       "      <td>0.263</td>\n",
       "      <td>0.218</td>\n",
       "      <td>0.088</td>\n",
       "      <td>0.059</td>\n",
       "      <td>0.068</td>\n",
       "      <td>0.726</td>\n",
       "      <td>0.668</td>\n",
       "      <td>0.563</td>\n",
       "      <td>0.546</td>\n",
       "      <td>0.555</td>\n",
       "      <td>0.541</td>\n",
       "    </tr>\n",
       "    <tr>\n",
       "      <th>qlm jm w=400.00</th>\n",
       "      <td>0.310</td>\n",
       "      <td>0.263</td>\n",
       "      <td>0.218</td>\n",
       "      <td>0.088</td>\n",
       "      <td>0.059</td>\n",
       "      <td>0.068</td>\n",
       "      <td>0.726</td>\n",
       "      <td>0.667</td>\n",
       "      <td>0.562</td>\n",
       "      <td>0.546</td>\n",
       "      <td>0.555</td>\n",
       "      <td>0.540</td>\n",
       "    </tr>\n",
       "    <tr>\n",
       "      <th>qlm jm w=500.00</th>\n",
       "      <td>0.307</td>\n",
       "      <td>0.262</td>\n",
       "      <td>0.217</td>\n",
       "      <td>0.090</td>\n",
       "      <td>0.059</td>\n",
       "      <td>0.069</td>\n",
       "      <td>0.724</td>\n",
       "      <td>0.666</td>\n",
       "      <td>0.562</td>\n",
       "      <td>0.545</td>\n",
       "      <td>0.555</td>\n",
       "      <td>0.540</td>\n",
       "    </tr>\n",
       "    <tr>\n",
       "      <th>qlm jm w=600.00</th>\n",
       "      <td>0.306</td>\n",
       "      <td>0.262</td>\n",
       "      <td>0.216</td>\n",
       "      <td>0.090</td>\n",
       "      <td>0.059</td>\n",
       "      <td>0.069</td>\n",
       "      <td>0.723</td>\n",
       "      <td>0.665</td>\n",
       "      <td>0.562</td>\n",
       "      <td>0.545</td>\n",
       "      <td>0.554</td>\n",
       "      <td>0.540</td>\n",
       "    </tr>\n",
       "    <tr>\n",
       "      <th>qlm jm w=700.00</th>\n",
       "      <td>0.303</td>\n",
       "      <td>0.262</td>\n",
       "      <td>0.217</td>\n",
       "      <td>0.091</td>\n",
       "      <td>0.059</td>\n",
       "      <td>0.069</td>\n",
       "      <td>0.723</td>\n",
       "      <td>0.665</td>\n",
       "      <td>0.562</td>\n",
       "      <td>0.545</td>\n",
       "      <td>0.554</td>\n",
       "      <td>0.539</td>\n",
       "    </tr>\n",
       "    <tr>\n",
       "      <th>qlm jm w=800.00</th>\n",
       "      <td>0.302</td>\n",
       "      <td>0.263</td>\n",
       "      <td>0.217</td>\n",
       "      <td>0.091</td>\n",
       "      <td>0.059</td>\n",
       "      <td>0.069</td>\n",
       "      <td>0.722</td>\n",
       "      <td>0.664</td>\n",
       "      <td>0.562</td>\n",
       "      <td>0.545</td>\n",
       "      <td>0.554</td>\n",
       "      <td>0.539</td>\n",
       "    </tr>\n",
       "    <tr>\n",
       "      <th>qlm jm w=900.00</th>\n",
       "      <td>0.301</td>\n",
       "      <td>0.263</td>\n",
       "      <td>0.217</td>\n",
       "      <td>0.091</td>\n",
       "      <td>0.059</td>\n",
       "      <td>0.069</td>\n",
       "      <td>0.722</td>\n",
       "      <td>0.664</td>\n",
       "      <td>0.562</td>\n",
       "      <td>0.545</td>\n",
       "      <td>0.554</td>\n",
       "      <td>0.539</td>\n",
       "    </tr>\n",
       "  </tbody>\n",
       "</table>\n",
       "</div>"
      ],
      "text/plain": [
       "                general keywords                                    specific_keywords                                   \n",
       "                             p@5   p@10   p@20 R-prec    mAP  bpref               p@5   p@10   p@20 R-prec    mAP  bpref\n",
       "qlm jm w=1.00              0.306  0.258  0.213  0.084  0.056  0.065             0.727  0.668  0.561  0.543  0.549  0.537\n",
       "qlm jm w=2.00              0.306  0.258  0.214  0.084  0.056  0.065             0.727  0.669  0.562  0.543  0.550  0.537\n",
       "qlm jm w=3.00              0.306  0.259  0.213  0.084  0.056  0.065             0.728  0.669  0.562  0.543  0.550  0.537\n",
       "qlm jm w=4.00              0.306  0.259  0.213  0.084  0.056  0.065             0.728  0.669  0.562  0.544  0.550  0.538\n",
       "qlm jm w=5.00              0.306  0.260  0.213  0.084  0.056  0.065             0.728  0.669  0.562  0.544  0.550  0.538\n",
       "qlm jm w=6.00              0.307  0.259  0.213  0.084  0.056  0.065             0.728  0.669  0.562  0.544  0.550  0.538\n",
       "qlm jm w=7.00              0.306  0.259  0.213  0.084  0.056  0.065             0.728  0.669  0.562  0.544  0.550  0.538\n",
       "qlm jm w=8.00              0.305  0.258  0.213  0.084  0.057  0.065             0.729  0.669  0.562  0.544  0.551  0.538\n",
       "qlm jm w=9.00              0.305  0.259  0.213  0.084  0.057  0.065             0.729  0.669  0.562  0.544  0.551  0.538\n",
       "qlm jm w=10.00             0.305  0.259  0.214  0.084  0.057  0.065             0.729  0.670  0.562  0.544  0.551  0.538\n",
       "qlm jm w=20.00             0.305  0.258  0.214  0.085  0.057  0.065             0.730  0.670  0.563  0.545  0.552  0.539\n",
       "qlm jm w=30.00             0.305  0.259  0.216  0.085  0.057  0.066             0.730  0.670  0.563  0.545  0.553  0.540\n",
       "qlm jm w=40.00             0.307  0.260  0.216  0.086  0.057  0.066             0.730  0.670  0.564  0.546  0.553  0.540\n",
       "qlm jm w=50.00             0.308  0.262  0.217  0.086  0.057  0.066             0.729  0.671  0.564  0.546  0.554  0.540\n",
       "qlm jm w=60.00             0.308  0.263  0.219  0.086  0.057  0.066             0.729  0.670  0.564  0.546  0.554  0.541\n",
       "qlm jm w=70.00             0.311  0.263  0.219  0.087  0.058  0.066             0.728  0.670  0.564  0.546  0.555  0.541\n",
       "qlm jm w=80.00             0.313  0.263  0.218  0.087  0.058  0.067             0.729  0.670  0.564  0.546  0.555  0.541\n",
       "qlm jm w=90.00             0.311  0.264  0.218  0.087  0.058  0.067             0.730  0.670  0.564  0.546  0.555  0.541\n",
       "qlm jm w=100.00            0.312  0.264  0.218  0.087  0.058  0.067             0.729  0.670  0.564  0.546  0.555  0.541\n",
       "qlm jm w=200.00            0.316  0.262  0.219  0.088  0.059  0.068             0.728  0.669  0.563  0.546  0.556  0.541\n",
       "qlm jm w=300.00            0.311  0.263  0.218  0.088  0.059  0.068             0.726  0.668  0.563  0.546  0.555  0.541\n",
       "qlm jm w=400.00            0.310  0.263  0.218  0.088  0.059  0.068             0.726  0.667  0.562  0.546  0.555  0.540\n",
       "qlm jm w=500.00            0.307  0.262  0.217  0.090  0.059  0.069             0.724  0.666  0.562  0.545  0.555  0.540\n",
       "qlm jm w=600.00            0.306  0.262  0.216  0.090  0.059  0.069             0.723  0.665  0.562  0.545  0.554  0.540\n",
       "qlm jm w=700.00            0.303  0.262  0.217  0.091  0.059  0.069             0.723  0.665  0.562  0.545  0.554  0.539\n",
       "qlm jm w=800.00            0.302  0.263  0.217  0.091  0.059  0.069             0.722  0.664  0.562  0.545  0.554  0.539\n",
       "qlm jm w=900.00            0.301  0.263  0.217  0.091  0.059  0.069             0.722  0.664  0.562  0.545  0.554  0.539"
      ]
     },
     "execution_count": 18,
     "metadata": {},
     "output_type": "execute_result"
    }
   ],
   "source": [
    "search_dp_bigram_results"
   ]
  },
  {
   "cell_type": "markdown",
   "metadata": {},
   "source": [
    "#### Export best model"
   ]
  },
  {
   "cell_type": "code",
   "execution_count": null,
   "metadata": {},
   "outputs": [],
   "source": [
    "best_tfidf_model = TfIdfRetrievalAlgorithm(max_ngram=2, use_idf=True, sublinear_tf=True, min_df=2)\n",
    "best_tfidf_model.prepare(papers_basic_lemmatization_nouns)"
   ]
  },
  {
   "cell_type": "code",
   "execution_count": null,
   "metadata": {},
   "outputs": [],
   "source": [
    "file_path = \"../data/models/tfidf/tfidf_lemmatized_bigram.model\"\n",
    "with open(file_path, \"wb\") as file:\n",
    "    pickle.dump(best_tfidf_model, file)"
   ]
  },
  {
   "cell_type": "code",
   "execution_count": null,
   "metadata": {},
   "outputs": [],
   "source": []
  }
 ],
 "metadata": {
  "kernelspec": {
   "display_name": "paper_retrieval-dhADrxe5",
   "language": "python",
   "name": "paper_retrieval-dhadrxe5"
  },
  "language_info": {
   "codemirror_mode": {
    "name": "ipython",
    "version": 3
   },
   "file_extension": ".py",
   "mimetype": "text/x-python",
   "name": "python",
   "nbconvert_exporter": "python",
   "pygments_lexer": "ipython3",
   "version": "3.7.5"
  }
 },
 "nbformat": 4,
 "nbformat_minor": 4
}
