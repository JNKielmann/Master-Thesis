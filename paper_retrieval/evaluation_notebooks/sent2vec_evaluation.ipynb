{
 "cells": [
  {
   "cell_type": "markdown",
   "metadata": {},
   "source": [
    "# Sent2Vec Evaluation"
   ]
  },
  {
   "cell_type": "markdown",
   "metadata": {},
   "source": [
    "This notebook contains the evaluation of the Sent2Vec document embeddings for paper retrieval.\n",
    "Multiple models were trained but in the end the one pretrained on the wikipedia data resulted in the best performance and was chosen for the final system. Additionally pseudo relevance feedback and ontology query expansion are tested out of which the ontology query expansion lead to improvements."
   ]
  },
  {
   "cell_type": "code",
   "execution_count": 1,
   "metadata": {},
   "outputs": [],
   "source": [
    "%load_ext autoreload\n",
    "%autoreload 2\n",
    "import json\n",
    "import sys\n",
    "import os\n",
    "import pickle\n",
    "import logging\n",
    "logging.basicConfig(level=logging.INFO, handlers=[logging.FileHandler(\"sent2vec.log\"), logging.StreamHandler(sys.stdout)])\n",
    "\n",
    "import pandas as pd\n",
    "pd.set_option('display.max_columns', None)  \n",
    "pd.set_option('display.expand_frame_repr', False)\n",
    "pd.set_option('max_colwidth', 1000)\n",
    "import numpy as np\n",
    "import matplotlib.pyplot as plt\n",
    "import seaborn as sns\n",
    "sns.set(style=\"whitegrid\")\n",
    "\n",
    "\n",
    "\n",
    "\n",
    "from tqdm.notebook import tqdm\n",
    "import warnings\n",
    "with warnings.catch_warnings():\n",
    "    warnings.simplefilter(\"ignore\")\n",
    "    tqdm.pandas()\n",
    "\n",
    "module_path = os.path.abspath(os.path.join('..'))\n",
    "if module_path not in sys.path:\n",
    "    sys.path.append(module_path)\n",
    "from evaluation import *\n",
    "from preprocessing import Corpus, BasicPreprocessing, BigramPreprocessor, SpacyPreprocessor, StopWordPreprocessor\n",
    "from retrieval_algorithms.sent2vec_retrieval_algorithm import Sent2VecRetrievalAlgorithm\n",
    "from retrieval_algorithms.prf_wrapper import PRFWrapper\n",
    "from retrieval_algorithms.ontology_expansion_wrapper import OntologyExpansionWrapper"
   ]
  },
  {
   "cell_type": "code",
   "execution_count": null,
   "metadata": {},
   "outputs": [],
   "source": [
    "!pipenv install Cython\n",
    "!git clone https://github.com/epfml/sent2vec.git\n",
    "!cd sent2vec && make\n",
    "!cd sent2vec && pipenv run pip install ."
   ]
  },
  {
   "cell_type": "markdown",
   "metadata": {},
   "source": [
    "## Load corpus using different preprocessing pipelines"
   ]
  },
  {
   "cell_type": "code",
   "execution_count": 4,
   "metadata": {},
   "outputs": [
    {
     "name": "stdout",
     "output_type": "stream",
     "text": [
      "INFO:preprocessing.pipeline:Start preprocessing pipeline \"basic_NoStopWords\" for file ../../data/kit_expert_2019_all_papers.csv.\n",
      "INFO:preprocessing.pipeline:Loaded cached preprocessed corpus from ../../data/kit_expert_2019_all_papers_basic_NoStopWords\n"
     ]
    }
   ],
   "source": [
    "base_file =  \"../../data/kit_expert_2019_all_papers.csv\"\n",
    "\n",
    "p = [BasicPreprocessing(), StopWordPreprocessor()]\n",
    "papers_basic = Corpus(base_file, p)"
   ]
  },
  {
   "cell_type": "markdown",
   "metadata": {},
   "source": [
    "## Load keywords to use as test data"
   ]
  },
  {
   "cell_type": "code",
   "execution_count": 5,
   "metadata": {},
   "outputs": [],
   "source": [
    "with open(\"../../data/kit_expert_2019_all_keywords.json\", \"r\") as file:\n",
    "    keywords = json.load(file)"
   ]
  },
  {
   "cell_type": "code",
   "execution_count": 6,
   "metadata": {},
   "outputs": [],
   "source": [
    "general_keywords = [k for k in keywords if k[\"level\"]<=1]\n",
    "specific_keywords = [k for k in keywords if k[\"level\"]>=2 and len(k[\"paper_ids\"])>=10]\n",
    "\n",
    "general_keywords_val = (\"general keywords validation\", general_keywords[0:int(len(general_keywords)*0.8)])\n",
    "specific_keywords_val = (\"specific keywords validation\", specific_keywords[0:int(len(specific_keywords)*0.8)])\n",
    "general_keywords_test = (\"general keywords test\", general_keywords[int(len(general_keywords)*0.8):])\n",
    "specific_keywords_test = (\"specific keywords test\", specific_keywords[int(len(specific_keywords)*0.8):])"
   ]
  },
  {
   "cell_type": "code",
   "execution_count": 94,
   "metadata": {},
   "outputs": [],
   "source": [
    "papers_basic.data.str.join(\" \").to_csv(\"sentences.txt\", index=False, header=False)"
   ]
  },
  {
   "cell_type": "markdown",
   "metadata": {},
   "source": [
    "## Train sent2vec models"
   ]
  },
  {
   "cell_type": "code",
   "execution_count": 9,
   "metadata": {},
   "outputs": [
    {
     "name": "stdout",
     "output_type": "stream",
     "text": [
      "mkdir: cannot create directory ‘../../data/models/sent2vec/sent2vec_300_60epoch’: File exists\n",
      "Read 6M words\n",
      "Number of words:  74081\n",
      "Number of labels: 0\n",
      "tcmalloc: large alloc 2488901632 bytes == 0xaf30000 @  0x7ff2b67091e1 0x41b57c 0x437d55 0x4357ea 0x43985d 0x403a6b 0x7ff2b59e5830 0x403d39 (nil)\n",
      "Progress: 10.0%  words/sec/thread: 12916  lr: 0.359999  loss: 2.142092  eta: 0h23m \n",
      "Saving Model ----- Checkpoint 1\n",
      "Progress: 20.0%  words/sec/thread: 13606  lr: 0.319997  loss: 1.742001  eta: 0h19m \n",
      "Saving Model ----- Checkpoint 2\n",
      "Progress: 30.0%  words/sec/thread: 13824  lr: 0.279998  loss: 1.440134  eta: 0h17m \n",
      "Saving Model ----- Checkpoint 3\n",
      "Progress: 40.0%  words/sec/thread: 13884  lr: 0.239999  loss: 1.197094  eta: 0h14m 32.2%  words/sec/thread: 13865  lr: 0.271322  loss: 1.386647  eta: 0h16m \n",
      "Saving Model ----- Checkpoint 4\n",
      "Progress: 50.0%  words/sec/thread: 13947  lr: 0.200000  loss: 1.048952  eta: 0h12m \n",
      "Saving Model ----- Checkpoint 5\n",
      "Progress: 60.0%  words/sec/thread: 14044  lr: 0.159998  loss: 0.922336  eta: 0h9m  54.4%  words/sec/thread: 13986  lr: 0.182532  loss: 0.988050  eta: 0h11m \n",
      "Saving Model ----- Checkpoint 6\n",
      "Progress: 70.0%  words/sec/thread: 14093  lr: 0.120000  loss: 0.821568  eta: 0h7m 61.9%  words/sec/thread: 14041  lr: 0.152383  loss: 0.901345  eta: 0h9m \n",
      "Saving Model ----- Checkpoint 7\n",
      "Progress: 80.0%  words/sec/thread: 14151  lr: 0.079990  loss: 0.729373  eta: 0h4m   lr: 0.092315  loss: 0.756066  eta: 0h5m \n",
      "Saving Model ----- Checkpoint 8\n",
      "Progress: 90.0%  words/sec/thread: 14207  lr: 0.039998  loss: 0.658693  eta: 0h2m   lr: 0.049277  loss: 0.673887  eta: 0h2m \n",
      "Saving Model ----- Checkpoint 9\n",
      "Progress: 100.0%  words/sec/thread: 14240  lr: 0.000000  loss: 0.601579  eta: 0h0m \n"
     ]
    }
   ],
   "source": [
    "!mkdir ../../data/models/sent2vec/sent2vec_1000_60epoch\n",
    "!./sent2vec/fasttext sent2vec -input sentences.txt -output ../../data/models/sent2vec/sent2vec_1000_60epoch/model -minCount 2 -dim 1000 -epoch 60 -lr 0.4 -wordNgrams 2 -loss ns -neg 20 -thread 20 -numCheckPoints 10"
   ]
  },
  {
   "cell_type": "code",
   "execution_count": 46,
   "metadata": {},
   "outputs": [
    {
     "name": "stdout",
     "output_type": "stream",
     "text": [
      "INFO:root:Started loading sent2vec model from ../../data/models/sent2vec/sent2vec_700_120epoch_neg5/model_Chk10.ckpt.bin\n",
      "INFO:root:Finished loading sent2vec model from ../../data/models/sent2vec/sent2vec_700_120epoch_neg5/model_Chk10.ckpt.bin\n"
     ]
    },
    {
     "data": {
      "application/vnd.jupyter.widget-view+json": {
       "model_id": "dd168ae2d7194d64ae8fdd7d53cba215",
       "version_major": 2,
       "version_minor": 0
      },
      "text/plain": [
       "HBox(children=(FloatProgress(value=0.0, max=65544.0), HTML(value='')))"
      ]
     },
     "metadata": {},
     "output_type": "display_data"
    },
    {
     "name": "stdout",
     "output_type": "stream",
     "text": [
      "\n",
      "(65544, 1000)\n"
     ]
    }
   ],
   "source": [
    "r=Sent2VecRetrievalAlgorithm(f\"../../data/models/sent2vec/sent2vec_700_120epoch_neg5/model_Chk10.ckpt.bin\",False)\n",
    "r.prepare(papers_basic)"
   ]
  },
  {
   "cell_type": "code",
   "execution_count": 6,
   "metadata": {},
   "outputs": [],
   "source": [
    "sent2vec_pretrained_models = [\n",
    "    (\"sent2vec torontobooks unigram\", Sent2VecRetrievalAlgorithm(f\"../../data/models/sent2vec/torontobooks_unigrams.bin\",False), papers_basic),\n",
    "    (\"sent2vec torontobooks bigram\", Sent2VecRetrievalAlgorithm(f\"../../data/models/sent2vec/torontobooks_bigrams.bin\",False), papers_basic),\n",
    "    (\"sent2vec wikipedia unigram\", Sent2VecRetrievalAlgorithm(f\"../../data/models/sent2vec/wiki_unigrams.bin\",False), papers_basic),\n",
    "    (\"sent2vec wikipedia bigram\", Sent2VecRetrievalAlgorithm(f\"../../data/models/sent2vec/wiki_bigrams.bin\",False), papers_basic),\n",
    "]"
   ]
  },
  {
   "cell_type": "code",
   "execution_count": null,
   "metadata": {},
   "outputs": [],
   "source": [
    "sent2vec_pretrained_results = train_evaluate_models(sent2vec_pretrained_models, [general_keywords_val, specific_keywords_val], n_jobs=4)"
   ]
  },
  {
   "cell_type": "code",
   "execution_count": 8,
   "metadata": {},
   "outputs": [],
   "source": [
    "sent2vec_pretrained_results.to_csv(\"../../data/results/sent2vec_pretrained_results.csv\")"
   ]
  },
  {
   "cell_type": "code",
   "execution_count": 5,
   "metadata": {},
   "outputs": [
    {
     "data": {
      "text/html": [
       "<div>\n",
       "<style scoped>\n",
       "    .dataframe tbody tr th:only-of-type {\n",
       "        vertical-align: middle;\n",
       "    }\n",
       "\n",
       "    .dataframe tbody tr th {\n",
       "        vertical-align: top;\n",
       "    }\n",
       "\n",
       "    .dataframe thead tr th {\n",
       "        text-align: left;\n",
       "    }\n",
       "</style>\n",
       "<table border=\"1\" class=\"dataframe\">\n",
       "  <thead>\n",
       "    <tr>\n",
       "      <th></th>\n",
       "      <th colspan=\"12\" halign=\"left\">general keywords validation</th>\n",
       "      <th colspan=\"12\" halign=\"left\">specific keywords validation</th>\n",
       "    </tr>\n",
       "    <tr>\n",
       "      <th></th>\n",
       "      <th colspan=\"2\" halign=\"left\">p@5</th>\n",
       "      <th colspan=\"2\" halign=\"left\">p@10</th>\n",
       "      <th colspan=\"2\" halign=\"left\">p@20</th>\n",
       "      <th colspan=\"2\" halign=\"left\">R-prec</th>\n",
       "      <th colspan=\"2\" halign=\"left\">mAP</th>\n",
       "      <th colspan=\"2\" halign=\"left\">bpref</th>\n",
       "      <th colspan=\"2\" halign=\"left\">p@5</th>\n",
       "      <th colspan=\"2\" halign=\"left\">p@10</th>\n",
       "      <th colspan=\"2\" halign=\"left\">p@20</th>\n",
       "      <th colspan=\"2\" halign=\"left\">R-prec</th>\n",
       "      <th colspan=\"2\" halign=\"left\">mAP</th>\n",
       "      <th colspan=\"2\" halign=\"left\">bpref</th>\n",
       "    </tr>\n",
       "    <tr>\n",
       "      <th></th>\n",
       "      <th>avg</th>\n",
       "      <th>err</th>\n",
       "      <th>avg</th>\n",
       "      <th>err</th>\n",
       "      <th>avg</th>\n",
       "      <th>err</th>\n",
       "      <th>avg</th>\n",
       "      <th>err</th>\n",
       "      <th>avg</th>\n",
       "      <th>err</th>\n",
       "      <th>avg</th>\n",
       "      <th>err</th>\n",
       "      <th>avg</th>\n",
       "      <th>err</th>\n",
       "      <th>avg</th>\n",
       "      <th>err</th>\n",
       "      <th>avg</th>\n",
       "      <th>err</th>\n",
       "      <th>avg</th>\n",
       "      <th>err</th>\n",
       "      <th>avg</th>\n",
       "      <th>err</th>\n",
       "      <th>avg</th>\n",
       "      <th>err</th>\n",
       "    </tr>\n",
       "  </thead>\n",
       "  <tbody>\n",
       "    <tr>\n",
       "      <th>sent2vec torontobooks unigram</th>\n",
       "      <td>0.190</td>\n",
       "      <td>0.035</td>\n",
       "      <td>0.174</td>\n",
       "      <td>0.032</td>\n",
       "      <td>0.162</td>\n",
       "      <td>0.028</td>\n",
       "      <td>0.089</td>\n",
       "      <td>0.013</td>\n",
       "      <td>0.063</td>\n",
       "      <td>0.010</td>\n",
       "      <td>0.064</td>\n",
       "      <td>0.010</td>\n",
       "      <td>0.223</td>\n",
       "      <td>0.008</td>\n",
       "      <td>0.189</td>\n",
       "      <td>0.006</td>\n",
       "      <td>0.154</td>\n",
       "      <td>0.005</td>\n",
       "      <td>0.125</td>\n",
       "      <td>0.004</td>\n",
       "      <td>0.105</td>\n",
       "      <td>0.004</td>\n",
       "      <td>0.100</td>\n",
       "      <td>0.004</td>\n",
       "    </tr>\n",
       "    <tr>\n",
       "      <th>sent2vec torontobooks bigram</th>\n",
       "      <td>0.191</td>\n",
       "      <td>0.035</td>\n",
       "      <td>0.175</td>\n",
       "      <td>0.031</td>\n",
       "      <td>0.161</td>\n",
       "      <td>0.028</td>\n",
       "      <td>0.090</td>\n",
       "      <td>0.013</td>\n",
       "      <td>0.063</td>\n",
       "      <td>0.010</td>\n",
       "      <td>0.064</td>\n",
       "      <td>0.010</td>\n",
       "      <td>0.234</td>\n",
       "      <td>0.008</td>\n",
       "      <td>0.197</td>\n",
       "      <td>0.006</td>\n",
       "      <td>0.159</td>\n",
       "      <td>0.005</td>\n",
       "      <td>0.129</td>\n",
       "      <td>0.004</td>\n",
       "      <td>0.109</td>\n",
       "      <td>0.004</td>\n",
       "      <td>0.105</td>\n",
       "      <td>0.004</td>\n",
       "    </tr>\n",
       "    <tr>\n",
       "      <th>sent2vec wikipedia unigram</th>\n",
       "      <td>0.351</td>\n",
       "      <td>0.043</td>\n",
       "      <td>0.322</td>\n",
       "      <td>0.038</td>\n",
       "      <td>0.290</td>\n",
       "      <td>0.034</td>\n",
       "      <td>0.195</td>\n",
       "      <td>0.020</td>\n",
       "      <td>0.159</td>\n",
       "      <td>0.019</td>\n",
       "      <td>0.153</td>\n",
       "      <td>0.019</td>\n",
       "      <td>0.397</td>\n",
       "      <td>0.008</td>\n",
       "      <td>0.341</td>\n",
       "      <td>0.007</td>\n",
       "      <td>0.277</td>\n",
       "      <td>0.006</td>\n",
       "      <td>0.230</td>\n",
       "      <td>0.004</td>\n",
       "      <td>0.206</td>\n",
       "      <td>0.005</td>\n",
       "      <td>0.193</td>\n",
       "      <td>0.004</td>\n",
       "    </tr>\n",
       "    <tr>\n",
       "      <th>sent2vec wikipedia bigram</th>\n",
       "      <td>0.371</td>\n",
       "      <td>0.042</td>\n",
       "      <td>0.352</td>\n",
       "      <td>0.039</td>\n",
       "      <td>0.318</td>\n",
       "      <td>0.036</td>\n",
       "      <td>0.215</td>\n",
       "      <td>0.021</td>\n",
       "      <td>0.180</td>\n",
       "      <td>0.021</td>\n",
       "      <td>0.171</td>\n",
       "      <td>0.020</td>\n",
       "      <td>0.366</td>\n",
       "      <td>0.008</td>\n",
       "      <td>0.315</td>\n",
       "      <td>0.007</td>\n",
       "      <td>0.257</td>\n",
       "      <td>0.006</td>\n",
       "      <td>0.214</td>\n",
       "      <td>0.004</td>\n",
       "      <td>0.190</td>\n",
       "      <td>0.005</td>\n",
       "      <td>0.178</td>\n",
       "      <td>0.004</td>\n",
       "    </tr>\n",
       "  </tbody>\n",
       "</table>\n",
       "</div>"
      ],
      "text/plain": [
       "                              general keywords validation                                                                              specific keywords validation                                                                             \n",
       "                                                      p@5          p@10          p@20        R-prec           mAP         bpref                                 p@5          p@10          p@20        R-prec           mAP         bpref       \n",
       "                                                      avg    err    avg    err    avg    err    avg    err    avg    err    avg    err                          avg    err    avg    err    avg    err    avg    err    avg    err    avg    err\n",
       "sent2vec torontobooks unigram                       0.190  0.035  0.174  0.032  0.162  0.028  0.089  0.013  0.063  0.010  0.064  0.010                        0.223  0.008  0.189  0.006  0.154  0.005  0.125  0.004  0.105  0.004  0.100  0.004\n",
       "sent2vec torontobooks bigram                        0.191  0.035  0.175  0.031  0.161  0.028  0.090  0.013  0.063  0.010  0.064  0.010                        0.234  0.008  0.197  0.006  0.159  0.005  0.129  0.004  0.109  0.004  0.105  0.004\n",
       "sent2vec wikipedia unigram                          0.351  0.043  0.322  0.038  0.290  0.034  0.195  0.020  0.159  0.019  0.153  0.019                        0.397  0.008  0.341  0.007  0.277  0.006  0.230  0.004  0.206  0.005  0.193  0.004\n",
       "sent2vec wikipedia bigram                           0.371  0.042  0.352  0.039  0.318  0.036  0.215  0.021  0.180  0.021  0.171  0.020                        0.366  0.008  0.315  0.007  0.257  0.006  0.214  0.004  0.190  0.005  0.178  0.004"
      ]
     },
     "execution_count": 5,
     "metadata": {},
     "output_type": "execute_result"
    }
   ],
   "source": [
    "sent2vec_pretrained_results = pd.read_csv(\"../../data/results/sent2vec_pretrained_results.csv\", index_col=0, header=[0,1,2])\n",
    "sent2vec_pretrained_results"
   ]
  },
  {
   "cell_type": "code",
   "execution_count": 5,
   "metadata": {},
   "outputs": [],
   "source": [
    "sent2vec_epoch_models = [(f\"sent2vec epoch={i*1}\", Sent2VecRetrievalAlgorithm(f\"../../data/models/sent2vec/sent2vec_1000_40epoch_neg20/model_Chk{i}.ckpt.bin\",False), papers_basic) for i in range(1,40)]"
   ]
  },
  {
   "cell_type": "code",
   "execution_count": null,
   "metadata": {},
   "outputs": [],
   "source": [
    "sent2vec_epoch_results = train_evaluate_models(sent2vec_epoch_models, [general_keywords_val, specific_keywords_val], n_jobs=5)"
   ]
  },
  {
   "cell_type": "code",
   "execution_count": 29,
   "metadata": {},
   "outputs": [],
   "source": [
    "sent2vec_epoch_results.to_csv(\"../../data/results/sent2vec_1000_40epoch_neg20.csv\")"
   ]
  },
  {
   "cell_type": "code",
   "execution_count": 2,
   "metadata": {},
   "outputs": [],
   "source": [
    "sent2vec_epoch_results = pd.read_csv(\"../../data/results/sent2vec_1000_40epoch_neg20.csv\", index_col=0, header=[0,1,2])"
   ]
  },
  {
   "cell_type": "code",
   "execution_count": 5,
   "metadata": {},
   "outputs": [
    {
     "data": {
      "image/png": "[encoded data removed]",
      "text/plain": [
       "<Figure size 864x432 with 1 Axes>"
      ]
     },
     "metadata": {},
     "output_type": "display_data"
    }
   ],
   "source": [
    "plot_data = sent2vec_epoch_results.xs('mAP', level=1, axis=1).xs('avg', level=1, axis=1)\n",
    "err_data = sent2vec_epoch_results.xs('mAP', level=1, axis=1).xs('err', level=1, axis=1)\n",
    "plot_data.index = range(1,41)\n",
    "ax = plot_data.iloc[:,1].plot(label=\"specific queries\", figsize=(12,6), style=\"-o\", legend=True, xlim=(1,40), ylim=(0.0,0.29), yticks=np.arange(0,0.30,0.025))\n",
    "ax = plot_data.iloc[:,0].plot(label=\"general queries\", figsize=(12,6), style=\"-o\", legend=True, xlim=(1,40), ylim=(0.0,0.29))\n",
    "ax.set_ylabel(\"mAP\");\n",
    "ax.set_xlabel(\"training epoch\")\n",
    "ax.legend(loc=\"center right\")\n",
    "# plt.fill_between(plot_data.index, plot_data.iloc[:,1].values-err_data.iloc[:,1].values, plot_data.iloc[:,1].values+err_data.iloc[:,1].values,\n",
    "#     alpha=0.4, edgecolor=sns.color_palette(\"Blues\")[3], facecolor=sns.color_palette(\"Blues\")[1], linewidth=1)\n",
    "# plt.fill_between(plot_data.index, plot_data.iloc[:,0].values-err_data.iloc[:,0].values, plot_data.iloc[:,0].values+err_data.iloc[:,0].values,\n",
    "#     alpha=0.4, edgecolor=sns.color_palette(\"Oranges\")[3], facecolor=sns.color_palette(\"Oranges\")[1], linewidth=1)\n",
    "plt.savefig(\"images/sent2vec_epoch_search.pdf\", transparent=True, bbox_inches=\"tight\")"
   ]
  },
  {
   "cell_type": "markdown",
   "metadata": {},
   "source": [
    "## Pseudo relevance feedback"
   ]
  },
  {
   "cell_type": "code",
   "execution_count": 5,
   "metadata": {},
   "outputs": [],
   "source": [
    "prf_grid = [(150,200,np.round(i,3)) for i in np.linspace(0,1,21)]\n",
    "search_prf_models = [(f\"prf nrd={nrd:.2f} net={net:.2f} ew={ew:.2f}\", \n",
    "                      PRFWrapper(Sent2VecRetrievalAlgorithm(f\"../../data/models/sent2vec/wiki_bigrams.bin\", False), nrd, net, ew),\n",
    "                      papers_basic) for nrd, net, ew in prf_grid]"
   ]
  },
  {
   "cell_type": "code",
   "execution_count": null,
   "metadata": {},
   "outputs": [],
   "source": [
    "search_prf_results = train_evaluate_models(search_prf_models, [general_keywords_val, specific_keywords_val], n_jobs=6)"
   ]
  },
  {
   "cell_type": "code",
   "execution_count": null,
   "metadata": {},
   "outputs": [],
   "source": [
    "search_prf_results.to_csv(\"../../data/results/sent2vec_wiki_search_prf_results.csv\")"
   ]
  },
  {
   "cell_type": "code",
   "execution_count": 9,
   "metadata": {},
   "outputs": [],
   "source": [
    "search_prf_results = pd.read_csv(\"../../data/results/sent2vec_wiki_search_prf_results.csv\", index_col=0, header=[0,1,2])"
   ]
  },
  {
   "cell_type": "code",
   "execution_count": 10,
   "metadata": {},
   "outputs": [
    {
     "data": {
      "image/png": "[encoded data removed]",
      "text/plain": [
       "<Figure size 864x360 with 1 Axes>"
      ]
     },
     "metadata": {},
     "output_type": "display_data"
    }
   ],
   "source": [
    "plot_data = search_prf_results.xs('mAP', level=1, axis=1).xs('avg', level=1, axis=1)\n",
    "err_data = search_prf_results.xs('mAP', level=1, axis=1).xs('err', level=1, axis=1)\n",
    "plot_data.index = np.linspace(0,1,21)\n",
    "ax = plot_data.iloc[:,1].plot(label=\"specific queries\", figsize=(12,5), style=\"-o\", legend=True, xticks=[0]+np.linspace(0,1,11), xlim=(0,1),  ylim=(0.0,0.3))\n",
    "ax = plot_data.iloc[:,0].plot(label=\"general queries\", figsize=(12,5), style=\"-o\", legend=True, xticks=[0]+np.linspace(0,1,11), xlim=(0,1),ylim=(0.0,0.3))\n",
    "ax.set_ylabel(\"mAP\");\n",
    "ax.set_xlabel(\"weight λ\")\n",
    "# plt.fill_between(plot_data.index, plot_data.iloc[:,1].values-err_data.iloc[:,1].values, plot_data.iloc[:,1].values+err_data.iloc[:,1].values,\n",
    "#     alpha=0.4, edgecolor=sns.color_palette(\"Blues\")[3], facecolor=sns.color_palette(\"Blues\")[1], linewidth=1)\n",
    "# plt.fill_between(plot_data.index, plot_data.iloc[:,0].values-err_data.iloc[:,0].values, plot_data.iloc[:,0].values+err_data.iloc[:,0].values,\n",
    "#     alpha=0.4, edgecolor=sns.color_palette(\"Oranges\")[3], facecolor=sns.color_palette(\"Oranges\")[1], linewidth=1)\n",
    "plt.savefig(\"images/sent2vec_prf.pdf\", transparent=True, bbox_inches=\"tight\")"
   ]
  },
  {
   "cell_type": "markdown",
   "metadata": {},
   "source": [
    "## Ontology query expansion"
   ]
  },
  {
   "cell_type": "code",
   "execution_count": 31,
   "metadata": {},
   "outputs": [],
   "source": [
    "with open(\"../../data/keyword_hierarchy.json\", 'r') as file:\n",
    "    keyword_hierarchy = json.load(file)"
   ]
  },
  {
   "cell_type": "code",
   "execution_count": 8,
   "metadata": {},
   "outputs": [],
   "source": [
    "oqe_grid = [np.round(i,3) for i in np.linspace(0,1,21)]\n",
    "search_oqe_models = [(f\"ontology expansion wrapper w={ew}\", OntologyExpansionWrapper(Sent2VecRetrievalAlgorithm(f\"../../data/models/sent2vec/wiki_bigrams.bin\", False), keyword_hierarchy, True, ew), papers_basic) for ew in oqe_grid]"
   ]
  },
  {
   "cell_type": "code",
   "execution_count": null,
   "metadata": {},
   "outputs": [],
   "source": [
    "search_oqe_results = train_evaluate_models(search_oqe_models, [general_keywords_val, specific_keywords_val], n_jobs=2)"
   ]
  },
  {
   "cell_type": "code",
   "execution_count": null,
   "metadata": {},
   "outputs": [],
   "source": [
    "search_oqe_results.to_csv(\"../../data/results/sent2vec_wiki_search_oqe_results.csv\")"
   ]
  },
  {
   "cell_type": "code",
   "execution_count": 7,
   "metadata": {},
   "outputs": [],
   "source": [
    "search_oqe_results = pd.read_csv(\"../../data/results/sent2vec_wiki_search_oqe_results.csv\", index_col=0, header=[0,1,2])"
   ]
  },
  {
   "cell_type": "code",
   "execution_count": 8,
   "metadata": {},
   "outputs": [
    {
     "data": {
      "image/png": "[encoded data removed]",
      "text/plain": [
       "<Figure size 864x360 with 1 Axes>"
      ]
     },
     "metadata": {},
     "output_type": "display_data"
    }
   ],
   "source": [
    "plot_data = search_oqe_results.xs('mAP', level=1, axis=1).xs('avg', level=1, axis=1)\n",
    "err_data = search_oqe_results.xs('mAP', level=1, axis=1).xs('err', level=1, axis=1)\n",
    "plot_data.index = np.linspace(0,1,21)\n",
    "ax = plot_data.iloc[:,1].plot(label=\"specific queries\", figsize=(12,5), style=\"-o\", legend=True, xticks=[0]+np.linspace(0,1,11), xlim=(0,1), ylim=(0.0,0.3))\n",
    "ax = plot_data.iloc[:,0].plot(label=\"general queries\", figsize=(12,5), style=\"-o\", legend=True, xticks=[0]+np.linspace(0,1,11), xlim=(0,1), ylim=(0.0,0.3))\n",
    "ax.set_ylabel(\"mAP\");\n",
    "ax.set_xlabel(\"weight λ\")\n",
    "ax.legend(loc=\"upper right\")\n",
    "# plt.fill_between(plot_data.index, plot_data.iloc[:,1].values-err_data.iloc[:,1].values, plot_data.iloc[:,1].values+err_data.iloc[:,1].values,\n",
    "#     alpha=0.4, edgecolor=sns.color_palette(\"Blues\")[3], facecolor=sns.color_palette(\"Blues\")[1], linewidth=1)\n",
    "# plt.fill_between(plot_data.index, plot_data.iloc[:,0].values-err_data.iloc[:,0].values, plot_data.iloc[:,0].values+err_data.iloc[:,0].values,\n",
    "#     alpha=0.4, edgecolor=sns.color_palette(\"Oranges\")[3], facecolor=sns.color_palette(\"Oranges\")[1], linewidth=1)\n",
    "plt.savefig(\"images/sent2vec_oqe.pdf\", transparent=True, bbox_inches=\"tight\")"
   ]
  },
  {
   "cell_type": "markdown",
   "metadata": {},
   "source": [
    "## Save best model"
   ]
  },
  {
   "cell_type": "code",
   "execution_count": 33,
   "metadata": {},
   "outputs": [],
   "source": [
    "sent2vec_oqe_model = OntologyExpansionWrapper(Sent2VecRetrievalAlgorithm(f\"../../data/models/sent2vec/wiki_bigrams.bin\", False), keyword_hierarchy, True, 0.5)\n",
    "sent2vec_oqe_model.prepare(papers_basic)\n",
    "file_path = \"../../data/models/sent2vec/sent2vec_oqe.model\"\n",
    "with open(file_path, \"wb\") as file:\n",
    "    pickle.dump(sent2vec_oqe_model, file)"
   ]
  },
  {
   "cell_type": "code",
   "execution_count": null,
   "metadata": {},
   "outputs": [],
   "source": []
  }
 ],
 "metadata": {
  "kernelspec": {
   "display_name": "paper_retrieval-dhADrxe5",
   "language": "python",
   "name": "paper_retrieval-dhadrxe5"
  },
  "language_info": {
   "codemirror_mode": {
    "name": "ipython",
    "version": 3
   },
   "file_extension": ".py",
   "mimetype": "text/x-python",
   "name": "python",
   "nbconvert_exporter": "python",
   "pygments_lexer": "ipython3",
   "version": "3.7.5"
  },
  "toc": {
   "base_numbering": 1,
   "nav_menu": {},
   "number_sections": true,
   "sideBar": true,
   "skip_h1_title": false,
   "title_cell": "Table of Contents",
   "title_sidebar": "Contents",
   "toc_cell": false,
   "toc_position": {},
   "toc_section_display": true,
   "toc_window_display": false
  },
  "varInspector": {
   "cols": {
    "lenName": 16,
    "lenType": 16,
    "lenVar": 40
   },
   "kernels_config": {
    "python": {
     "delete_cmd_postfix": "",
     "delete_cmd_prefix": "del ",
     "library": "var_list.py",
     "varRefreshCmd": "print(var_dic_list())"
    },
    "r": {
     "delete_cmd_postfix": ") ",
     "delete_cmd_prefix": "rm(",
     "library": "var_list.r",
     "varRefreshCmd": "cat(var_dic_list()) "
    }
   },
   "types_to_exclude": [
    "module",
    "function",
    "builtin_function_or_method",
    "instance",
    "_Feature"
   ],
   "window_display": false
  }
 },
 "nbformat": 4,
 "nbformat_minor": 4
}
