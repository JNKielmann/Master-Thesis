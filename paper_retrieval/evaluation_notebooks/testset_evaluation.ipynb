{
 "cells": [
  {
   "cell_type": "markdown",
   "metadata": {},
   "source": [
    "# Evaluation of best model on test datasets"
   ]
  },
  {
   "cell_type": "markdown",
   "metadata": {},
   "source": [
    "This notebook evaluates the final ensemble model on the test dataset to check if the model genearlizes to unseen data or has overfitted on the data used for tuning the parameters."
   ]
  },
  {
   "cell_type": "code",
   "execution_count": 1,
   "metadata": {},
   "outputs": [],
   "source": [
    "%load_ext autoreload\n",
    "%autoreload 2\n",
    "import os\n",
    "import sys\n",
    "import pickle\n",
    "import json\n",
    "import logging\n",
    "logging.basicConfig(level=logging.INFO, handlers=[logging.FileHandler(\"ensemble.log\"), logging.StreamHandler(sys.stdout)])\n",
    "\n",
    "import pandas as pd\n",
    "pd.set_option('display.max_columns', None)  \n",
    "pd.set_option('display.expand_frame_repr', False)\n",
    "pd.set_option('max_colwidth', 1000)\n",
    "import matplotlib.pyplot as plt\n",
    "import seaborn as sns\n",
    "sns.set(style=\"whitegrid\")\n",
    "\n",
    "module_path = os.path.abspath(os.path.join('..'))\n",
    "if module_path not in sys.path:\n",
    "    sys.path.append(module_path)\n",
    "from evaluation import *\n",
    "from preprocessing import Corpus, BasicPreprocessing, BigramPreprocessor, SpacyPreprocessor, StopWordPreprocessor\n",
    "from retrieval_algorithms.ensemble_retrieval_algorithm import EnsembleRetrievalAlgorithm"
   ]
  },
  {
   "cell_type": "code",
   "execution_count": 2,
   "metadata": {},
   "outputs": [],
   "source": [
    "with open(\"../../data/kit_expert_2019_all_keywords.json\", \"r\") as file:\n",
    "    keywords = json.load(file)"
   ]
  },
  {
   "cell_type": "code",
   "execution_count": 3,
   "metadata": {},
   "outputs": [],
   "source": [
    "general_keywords = [k for k in keywords if k[\"level\"]<=1]\n",
    "specific_keywords = [k for k in keywords if k[\"level\"]>=2 and len(k[\"paper_ids\"])>=10]\n",
    "\n",
    "general_keywords_val = (\"general keywords validation\", general_keywords[0:int(len(general_keywords)*0.8)])\n",
    "specific_keywords_val = (\"specific keywords validation\", specific_keywords[0:int(len(specific_keywords)*0.8)])\n",
    "general_keywords_test = (\"general keywords test\", general_keywords[int(len(general_keywords)*0.8):])\n",
    "specific_keywords_test = (\"specific keywords test\", specific_keywords[int(len(specific_keywords)*0.8):])"
   ]
  },
  {
   "cell_type": "code",
   "execution_count": 4,
   "metadata": {},
   "outputs": [],
   "source": [
    "bm25_file_path = \"../../data/models/tfidf/bm25_oqe.model\"\n",
    "sent2vec_file_path = \"../../data/models/sent2vec/sent2vec_oqe.model\"\n",
    "ensemble_file_path = \"../../data/models/ensemble_model.model\""
   ]
  },
  {
   "cell_type": "code",
   "execution_count": 20,
   "metadata": {},
   "outputs": [],
   "source": [
    "with open(bm25_file_path, \"rb\") as file:\n",
    "    best_bm25_model = pickle.load(file)\n",
    "with open(sent2vec_file_path, \"rb\") as file:\n",
    "    best_sent2vec_model = pickle.load(file)  \n",
    "with open(ensemble_file_path, \"rb\") as file:\n",
    "    best_ensemble_model = pickle.load(file)\n",
    "best_ensemble_model.weight = 0.04\n",
    "best_ensemble_model.model1 = best_bm25_model\n",
    "best_ensemble_model.model2 = best_sent2vec_model"
   ]
  },
  {
   "cell_type": "code",
   "execution_count": null,
   "metadata": {},
   "outputs": [],
   "source": [
    "best_models = [\n",
    "    (\"Best ensemble model\", best_ensemble_model, None),\n",
    "]\n",
    "best_models_val_results = evaluate_models(best_models, [general_keywords_val, specific_keywords_val], n_jobs=1)\n",
    "best_models_test_results = evaluate_models(best_models, [general_keywords_test, specific_keywords_test], n_jobs=1)"
   ]
  },
  {
   "cell_type": "code",
   "execution_count": 24,
   "metadata": {},
   "outputs": [
    {
     "data": {
      "text/html": [
       "<div>\n",
       "<style scoped>\n",
       "    .dataframe tbody tr th:only-of-type {\n",
       "        vertical-align: middle;\n",
       "    }\n",
       "\n",
       "    .dataframe tbody tr th {\n",
       "        vertical-align: top;\n",
       "    }\n",
       "\n",
       "    .dataframe thead tr th {\n",
       "        text-align: left;\n",
       "    }\n",
       "</style>\n",
       "<table border=\"1\" class=\"dataframe\">\n",
       "  <thead>\n",
       "    <tr>\n",
       "      <th></th>\n",
       "      <th colspan=\"12\" halign=\"left\">general keywords validation</th>\n",
       "      <th colspan=\"12\" halign=\"left\">specific keywords validation</th>\n",
       "    </tr>\n",
       "    <tr>\n",
       "      <th></th>\n",
       "      <th colspan=\"2\" halign=\"left\">p@5</th>\n",
       "      <th colspan=\"2\" halign=\"left\">p@10</th>\n",
       "      <th colspan=\"2\" halign=\"left\">p@20</th>\n",
       "      <th colspan=\"2\" halign=\"left\">R-prec</th>\n",
       "      <th colspan=\"2\" halign=\"left\">mAP</th>\n",
       "      <th colspan=\"2\" halign=\"left\">bpref</th>\n",
       "      <th colspan=\"2\" halign=\"left\">p@5</th>\n",
       "      <th colspan=\"2\" halign=\"left\">p@10</th>\n",
       "      <th colspan=\"2\" halign=\"left\">p@20</th>\n",
       "      <th colspan=\"2\" halign=\"left\">R-prec</th>\n",
       "      <th colspan=\"2\" halign=\"left\">mAP</th>\n",
       "      <th colspan=\"2\" halign=\"left\">bpref</th>\n",
       "    </tr>\n",
       "    <tr>\n",
       "      <th></th>\n",
       "      <th>avg</th>\n",
       "      <th>err</th>\n",
       "      <th>avg</th>\n",
       "      <th>err</th>\n",
       "      <th>avg</th>\n",
       "      <th>err</th>\n",
       "      <th>avg</th>\n",
       "      <th>err</th>\n",
       "      <th>avg</th>\n",
       "      <th>err</th>\n",
       "      <th>avg</th>\n",
       "      <th>err</th>\n",
       "      <th>avg</th>\n",
       "      <th>err</th>\n",
       "      <th>avg</th>\n",
       "      <th>err</th>\n",
       "      <th>avg</th>\n",
       "      <th>err</th>\n",
       "      <th>avg</th>\n",
       "      <th>err</th>\n",
       "      <th>avg</th>\n",
       "      <th>err</th>\n",
       "      <th>avg</th>\n",
       "      <th>err</th>\n",
       "    </tr>\n",
       "  </thead>\n",
       "  <tbody>\n",
       "    <tr>\n",
       "      <th>Best ensemble model</th>\n",
       "      <td>0.383</td>\n",
       "      <td>0.04</td>\n",
       "      <td>0.364</td>\n",
       "      <td>0.036</td>\n",
       "      <td>0.333</td>\n",
       "      <td>0.033</td>\n",
       "      <td>0.226</td>\n",
       "      <td>0.02</td>\n",
       "      <td>0.183</td>\n",
       "      <td>0.019</td>\n",
       "      <td>0.177</td>\n",
       "      <td>0.018</td>\n",
       "      <td>0.737</td>\n",
       "      <td>0.007</td>\n",
       "      <td>0.682</td>\n",
       "      <td>0.007</td>\n",
       "      <td>0.578</td>\n",
       "      <td>0.006</td>\n",
       "      <td>0.569</td>\n",
       "      <td>0.006</td>\n",
       "      <td>0.583</td>\n",
       "      <td>0.006</td>\n",
       "      <td>0.564</td>\n",
       "      <td>0.007</td>\n",
       "    </tr>\n",
       "  </tbody>\n",
       "</table>\n",
       "</div>"
      ],
      "text/plain": [
       "                    general keywords validation                                                                            specific keywords validation                                                                             \n",
       "                                            p@5         p@10          p@20        R-prec          mAP         bpref                                 p@5          p@10          p@20        R-prec           mAP         bpref       \n",
       "                                            avg   err    avg    err    avg    err    avg   err    avg    err    avg    err                          avg    err    avg    err    avg    err    avg    err    avg    err    avg    err\n",
       "Best ensemble model                       0.383  0.04  0.364  0.036  0.333  0.033  0.226  0.02  0.183  0.019  0.177  0.018                        0.737  0.007  0.682  0.007  0.578  0.006  0.569  0.006  0.583  0.006  0.564  0.007"
      ]
     },
     "execution_count": 24,
     "metadata": {},
     "output_type": "execute_result"
    }
   ],
   "source": [
    "best_models_val_results"
   ]
  },
  {
   "cell_type": "code",
   "execution_count": 37,
   "metadata": {},
   "outputs": [
    {
     "data": {
      "text/html": [
       "<div>\n",
       "<style scoped>\n",
       "    .dataframe tbody tr th:only-of-type {\n",
       "        vertical-align: middle;\n",
       "    }\n",
       "\n",
       "    .dataframe tbody tr th {\n",
       "        vertical-align: top;\n",
       "    }\n",
       "\n",
       "    .dataframe thead tr th {\n",
       "        text-align: left;\n",
       "    }\n",
       "</style>\n",
       "<table border=\"1\" class=\"dataframe\">\n",
       "  <thead>\n",
       "    <tr>\n",
       "      <th></th>\n",
       "      <th colspan=\"12\" halign=\"left\">general keywords test</th>\n",
       "      <th colspan=\"12\" halign=\"left\">specific keywords test</th>\n",
       "    </tr>\n",
       "    <tr>\n",
       "      <th></th>\n",
       "      <th colspan=\"2\" halign=\"left\">p@5</th>\n",
       "      <th colspan=\"2\" halign=\"left\">p@10</th>\n",
       "      <th colspan=\"2\" halign=\"left\">p@20</th>\n",
       "      <th colspan=\"2\" halign=\"left\">R-prec</th>\n",
       "      <th colspan=\"2\" halign=\"left\">mAP</th>\n",
       "      <th colspan=\"2\" halign=\"left\">bpref</th>\n",
       "      <th colspan=\"2\" halign=\"left\">p@5</th>\n",
       "      <th colspan=\"2\" halign=\"left\">p@10</th>\n",
       "      <th colspan=\"2\" halign=\"left\">p@20</th>\n",
       "      <th colspan=\"2\" halign=\"left\">R-prec</th>\n",
       "      <th colspan=\"2\" halign=\"left\">mAP</th>\n",
       "      <th colspan=\"2\" halign=\"left\">bpref</th>\n",
       "    </tr>\n",
       "    <tr>\n",
       "      <th></th>\n",
       "      <th>avg</th>\n",
       "      <th>err</th>\n",
       "      <th>avg</th>\n",
       "      <th>err</th>\n",
       "      <th>avg</th>\n",
       "      <th>err</th>\n",
       "      <th>avg</th>\n",
       "      <th>err</th>\n",
       "      <th>avg</th>\n",
       "      <th>err</th>\n",
       "      <th>avg</th>\n",
       "      <th>err</th>\n",
       "      <th>avg</th>\n",
       "      <th>err</th>\n",
       "      <th>avg</th>\n",
       "      <th>err</th>\n",
       "      <th>avg</th>\n",
       "      <th>err</th>\n",
       "      <th>avg</th>\n",
       "      <th>err</th>\n",
       "      <th>avg</th>\n",
       "      <th>err</th>\n",
       "      <th>avg</th>\n",
       "      <th>err</th>\n",
       "    </tr>\n",
       "  </thead>\n",
       "  <tbody>\n",
       "    <tr>\n",
       "      <th>Best ensemble model</th>\n",
       "      <td>0.407</td>\n",
       "      <td>0.084</td>\n",
       "      <td>0.39</td>\n",
       "      <td>0.073</td>\n",
       "      <td>0.366</td>\n",
       "      <td>0.07</td>\n",
       "      <td>0.26</td>\n",
       "      <td>0.045</td>\n",
       "      <td>0.23</td>\n",
       "      <td>0.048</td>\n",
       "      <td>0.218</td>\n",
       "      <td>0.046</td>\n",
       "      <td>0.737</td>\n",
       "      <td>0.014</td>\n",
       "      <td>0.687</td>\n",
       "      <td>0.013</td>\n",
       "      <td>0.587</td>\n",
       "      <td>0.013</td>\n",
       "      <td>0.575</td>\n",
       "      <td>0.011</td>\n",
       "      <td>0.587</td>\n",
       "      <td>0.012</td>\n",
       "      <td>0.568</td>\n",
       "      <td>0.013</td>\n",
       "    </tr>\n",
       "  </tbody>\n",
       "</table>\n",
       "</div>"
      ],
      "text/plain": [
       "                    general keywords test                                                                           specific keywords test                                                                             \n",
       "                                      p@5         p@10          p@20       R-prec          mAP         bpref                           p@5          p@10          p@20        R-prec           mAP         bpref       \n",
       "                                      avg    err   avg    err    avg   err    avg    err   avg    err    avg    err                    avg    err    avg    err    avg    err    avg    err    avg    err    avg    err\n",
       "Best ensemble model                 0.407  0.084  0.39  0.073  0.366  0.07   0.26  0.045  0.23  0.048  0.218  0.046                  0.737  0.014  0.687  0.013  0.587  0.013  0.575  0.011  0.587  0.012  0.568  0.013"
      ]
     },
     "execution_count": 37,
     "metadata": {},
     "output_type": "execute_result"
    }
   ],
   "source": [
    "best_models_test_results\n"
   ]
  },
  {
   "cell_type": "code",
   "execution_count": 26,
   "metadata": {},
   "outputs": [],
   "source": [
    "best_models_val_results.to_csv(\"../../data/results/best_models_val_results.csv\")\n",
    "best_models_test_results.to_csv(\"../../data/results/best_models_test_results.csv\")\n"
   ]
  }
 ],
 "metadata": {
  "kernelspec": {
   "display_name": "paper_retrieval-dhADrxe5",
   "language": "python",
   "name": "paper_retrieval-dhadrxe5"
  },
  "language_info": {
   "codemirror_mode": {
    "name": "ipython",
    "version": 3
   },
   "file_extension": ".py",
   "mimetype": "text/x-python",
   "name": "python",
   "nbconvert_exporter": "python",
   "pygments_lexer": "ipython3",
   "version": "3.7.5"
  },
  "toc": {
   "base_numbering": 1,
   "nav_menu": {},
   "number_sections": true,
   "sideBar": true,
   "skip_h1_title": false,
   "title_cell": "Table of Contents",
   "title_sidebar": "Contents",
   "toc_cell": false,
   "toc_position": {},
   "toc_section_display": true,
   "toc_window_display": false
  },
  "varInspector": {
   "cols": {
    "lenName": 16,
    "lenType": 16,
    "lenVar": 40
   },
   "kernels_config": {
    "python": {
     "delete_cmd_postfix": "",
     "delete_cmd_prefix": "del ",
     "library": "var_list.py",
     "varRefreshCmd": "print(var_dic_list())"
    },
    "r": {
     "delete_cmd_postfix": ") ",
     "delete_cmd_prefix": "rm(",
     "library": "var_list.r",
     "varRefreshCmd": "cat(var_dic_list()) "
    }
   },
   "types_to_exclude": [
    "module",
    "function",
    "builtin_function_or_method",
    "instance",
    "_Feature"
   ],
   "window_display": false
  }
 },
 "nbformat": 4,
 "nbformat_minor": 4
}
