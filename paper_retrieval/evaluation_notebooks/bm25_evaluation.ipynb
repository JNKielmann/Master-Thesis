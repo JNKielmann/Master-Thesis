{
 "cells": [
  {
   "cell_type": "markdown",
   "metadata": {},
   "source": [
    "# BM25 Evaluation"
   ]
  },
  {
   "cell_type": "code",
   "execution_count": 1,
   "metadata": {},
   "outputs": [],
   "source": [
    "%load_ext autoreload\n",
    "%autoreload 2\n",
    "import json\n",
    "import sys\n",
    "import os\n",
    "import logging\n",
    "logging.basicConfig(level=logging.INFO, stream=sys.stdout)\n",
    "\n",
    "import pandas as pd\n",
    "pd.set_option('display.max_columns', None)  \n",
    "pd.set_option('display.expand_frame_repr', False)\n",
    "pd.set_option('max_colwidth', 1000)\n",
    "import numpy as np\n",
    "import matplotlib.pyplot as plt\n",
    "import seaborn as sns\n",
    "sns.set()\n",
    "\n",
    "\n",
    "from tqdm.notebook import tqdm\n",
    "import warnings\n",
    "with warnings.catch_warnings():\n",
    "    warnings.simplefilter(\"ignore\")\n",
    "    tqdm.pandas()\n",
    "\n",
    "module_path = os.path.abspath(os.path.join('..'))\n",
    "if module_path not in sys.path:\n",
    "    sys.path.append(module_path)\n",
    "from evaluation import *\n",
    "from preprocessing import Corpus, BasicPreprocessing, BigramPreprocessor, SpacyPreprocessor, StopWordPreprocessor\n",
    "from retrieval_algorithms import BM25RetrievalAlgorithm"
   ]
  },
  {
   "cell_type": "markdown",
   "metadata": {},
   "source": [
    "#### Load corpus using different preprocessing pipelines"
   ]
  },
  {
   "cell_type": "code",
   "execution_count": 32,
   "metadata": {},
   "outputs": [
    {
     "data": {
      "text/plain": [
       "(65641, 4)"
      ]
     },
     "execution_count": 32,
     "metadata": {},
     "output_type": "execute_result"
    }
   ],
   "source": [
    "pd.read_csv(\"../../data/kit_expert_2019_all_papers.csv\").shape"
   ]
  },
  {
   "cell_type": "code",
   "execution_count": 31,
   "metadata": {},
   "outputs": [
    {
     "data": {
      "text/plain": [
       "(65641, 4)"
      ]
     },
     "execution_count": 31,
     "metadata": {},
     "output_type": "execute_result"
    }
   ],
   "source": [
    "pd.read_csv(\"../../data/kit_expert_2019_all_papers_journal_citations.csv\").shape"
   ]
  },
  {
   "cell_type": "code",
   "execution_count": 33,
   "metadata": {},
   "outputs": [
    {
     "name": "stdout",
     "output_type": "stream",
     "text": [
      "INFO:preprocessing.pipeline:Start preprocessing pipeline \"basic_NoStopWords\" for file ../../data/kit_expert_2019_all_papers_journal_citations.csv.\n",
      "INFO:preprocessing.pipeline:Start stage \"basic\"\n",
      "\n",
      "\n",
      "\n",
      "\n",
      "\n",
      "\n",
      "\n",
      "\n",
      "INFO:preprocessing.pipeline:Finished stage \"basic\" in 4.04 seconds\n",
      "INFO:preprocessing.pipeline:Start stage \"NoStopWords\"\n"
     ]
    },
    {
     "data": {
      "application/vnd.jupyter.widget-view+json": {
       "model_id": "62973cc3642c419c83c74ed15b3d9553",
       "version_major": 2,
       "version_minor": 0
      },
      "text/plain": [
       "HBox(children=(IntProgress(value=0, max=8206), HTML(value='')))"
      ]
     },
     "metadata": {},
     "output_type": "display_data"
    },
    {
     "data": {
      "application/vnd.jupyter.widget-view+json": {
       "model_id": "27a7f194ed2f40508570ed432eb0ba0c",
       "version_major": 2,
       "version_minor": 0
      },
      "text/plain": [
       "HBox(children=(IntProgress(value=0, max=8205), HTML(value='')))"
      ]
     },
     "metadata": {},
     "output_type": "display_data"
    },
    {
     "data": {
      "application/vnd.jupyter.widget-view+json": {
       "model_id": "b783889882eb4b8389bd178153e6fe86",
       "version_major": 2,
       "version_minor": 0
      },
      "text/plain": [
       "HBox(children=(IntProgress(value=0, max=8205), HTML(value='')))"
      ]
     },
     "metadata": {},
     "output_type": "display_data"
    },
    {
     "data": {
      "application/vnd.jupyter.widget-view+json": {
       "model_id": "aaad094b35bc4288b1595e126f4b43c3",
       "version_major": 2,
       "version_minor": 0
      },
      "text/plain": [
       "HBox(children=(IntProgress(value=0, max=8205), HTML(value='')))"
      ]
     },
     "metadata": {},
     "output_type": "display_data"
    },
    {
     "data": {
      "application/vnd.jupyter.widget-view+json": {
       "model_id": "e2a7a747f89e47f8b0468465f41a01d9",
       "version_major": 2,
       "version_minor": 0
      },
      "text/plain": [
       "HBox(children=(IntProgress(value=0, max=8205), HTML(value='')))"
      ]
     },
     "metadata": {},
     "output_type": "display_data"
    },
    {
     "name": "stdout",
     "output_type": "stream",
     "text": [
      "\n"
     ]
    },
    {
     "data": {
      "application/vnd.jupyter.widget-view+json": {
       "model_id": "896276965cc146b9b0ee452b239028b9",
       "version_major": 2,
       "version_minor": 0
      },
      "text/plain": [
       "HBox(children=(IntProgress(value=0, max=8205), HTML(value='')))"
      ]
     },
     "metadata": {},
     "output_type": "display_data"
    },
    {
     "name": "stdout",
     "output_type": "stream",
     "text": [
      "\n"
     ]
    },
    {
     "data": {
      "application/vnd.jupyter.widget-view+json": {
       "model_id": "5a9585d343964300b719f53cc5b95150",
       "version_major": 2,
       "version_minor": 0
      },
      "text/plain": [
       "HBox(children=(IntProgress(value=0, max=8205), HTML(value='')))"
      ]
     },
     "metadata": {},
     "output_type": "display_data"
    },
    {
     "name": "stdout",
     "output_type": "stream",
     "text": [
      "\n"
     ]
    },
    {
     "data": {
      "application/vnd.jupyter.widget-view+json": {
       "model_id": "7637fe8533204ac1b60d83339341be5b",
       "version_major": 2,
       "version_minor": 0
      },
      "text/plain": [
       "HBox(children=(IntProgress(value=0, max=8205), HTML(value='')))"
      ]
     },
     "metadata": {},
     "output_type": "display_data"
    },
    {
     "name": "stdout",
     "output_type": "stream",
     "text": [
      "\n",
      "\n",
      "\n",
      "\n",
      "\n",
      "INFO:preprocessing.pipeline:Finished stage \"NoStopWords\" in 1.59 seconds\n",
      "INFO:preprocessing.pipeline:Finished preprocessing pipeline. Saved preprocessed corpus to cache file ../../data/kit_expert_2019_all_papers_journal_citations_basic_NoStopWords\n"
     ]
    }
   ],
   "source": [
    "base_file =  \"../../data/kit_expert_2019_all_papers_journal_citations.csv\"\n",
    "\n",
    "p = [BasicPreprocessing(), StopWordPreprocessor()]\n",
    "papers_basic = Corpus(base_file, p)\n",
    "\n",
    "# p = [BasicPreprocessing(), StopWordPreprocessor(), SpacyPreprocessor(lemmatization=\"all\")]\n",
    "# papers_basic_lemmatization_all = Corpus(base_file, p, load_from_cache=True, n_jobs=16)\n",
    "\n",
    "# p = [BasicPreprocessing(), StopWordPreprocessor(), SpacyPreprocessor(lemmatization=\"nouns\")]\n",
    "# papers_basic_lemmatization_nouns = Corpus(base_file, p, load_from_cache=True, n_jobs=16)"
   ]
  },
  {
   "cell_type": "markdown",
   "metadata": {},
   "source": [
    "#### Load keywords to use as test data"
   ]
  },
  {
   "cell_type": "code",
   "execution_count": 34,
   "metadata": {},
   "outputs": [],
   "source": [
    "with open(\"../../data/kit_expert_2019_all_keywords.json\", \"r\") as file:\n",
    "    keywords = json.load(file)"
   ]
  },
  {
   "cell_type": "code",
   "execution_count": 35,
   "metadata": {},
   "outputs": [],
   "source": [
    "general_keywords = (\"general keywords\", [k for k in keywords if k[\"level\"]<=1])\n",
    "specific_keywords = (\"specific_keywords\", [k for k in keywords if k[\"level\"]>=2 and len(k[\"paper_ids\"])>=10][:5000])"
   ]
  },
  {
   "cell_type": "markdown",
   "metadata": {},
   "source": [
    "#### Test simple tf-idf models on unigrams"
   ]
  },
  {
   "cell_type": "markdown",
   "metadata": {},
   "source": [
    "#### Grid search for BM25 k1 parameter"
   ]
  },
  {
   "cell_type": "code",
   "execution_count": 36,
   "metadata": {},
   "outputs": [],
   "source": [
    "k1_grid = np.arange(0.1,2.1,0.1)\n",
    "search_k1_bm25_models = [(f\"BM25 k1={k1:.2f}\", BM25RetrievalAlgorithm(k1=k1, b=0.5), papers_basic) for k1 in k1_grid]"
   ]
  },
  {
   "cell_type": "code",
   "execution_count": 37,
   "metadata": {},
   "outputs": [
    {
     "name": "stdout",
     "output_type": "stream",
     "text": [
      "INFO:root:Start training model BM25 k1=0.50\n",
      "INFO:root:Start evaluating model BM25 k1=0.50\n"
     ]
    },
    {
     "data": {
      "application/vnd.jupyter.widget-view+json": {
       "model_id": "b75f85421f9b4e1fba739efb61207be6",
       "version_major": 2,
       "version_minor": 0
      },
      "text/plain": [
       "HBox(children=(IntProgress(value=0, layout=Layout(flex='2'), max=5300), HTML(value='')), layout=Layout(display…"
      ]
     },
     "metadata": {},
     "output_type": "display_data"
    },
    {
     "name": "stdout",
     "output_type": "stream",
     "text": [
      "\n",
      "INFO:root:Finished processing model BM25 k1=0.50\n",
      "CPU times: user 2min 53s, sys: 24.1 s, total: 3min 17s\n",
      "Wall time: 3min 16s\n"
     ]
    }
   ],
   "source": [
    "%%time\n",
    "search_k1_bm25_results = train_evaluate_models(search_k1_bm25_models, [general_keywords, specific_keywords], n_jobs=len(search_k1_bm25_models))"
   ]
  },
  {
   "cell_type": "code",
   "execution_count": 7,
   "metadata": {},
   "outputs": [
    {
     "name": "stdout",
     "output_type": "stream",
     "text": [
      "mAP scores for bm25 k1 search models:\n"
     ]
    },
    {
     "data": {
      "text/html": [
       "<div>\n",
       "<style scoped>\n",
       "    .dataframe tbody tr th:only-of-type {\n",
       "        vertical-align: middle;\n",
       "    }\n",
       "\n",
       "    .dataframe tbody tr th {\n",
       "        vertical-align: top;\n",
       "    }\n",
       "\n",
       "    .dataframe thead tr th {\n",
       "        text-align: left;\n",
       "    }\n",
       "</style>\n",
       "<table border=\"1\" class=\"dataframe\">\n",
       "  <thead>\n",
       "    <tr>\n",
       "      <th></th>\n",
       "      <th colspan=\"6\" halign=\"left\">general keywords</th>\n",
       "      <th colspan=\"6\" halign=\"left\">specific_keywords</th>\n",
       "    </tr>\n",
       "    <tr>\n",
       "      <th></th>\n",
       "      <th>p@5</th>\n",
       "      <th>p@10</th>\n",
       "      <th>p@20</th>\n",
       "      <th>R-prec</th>\n",
       "      <th>mAP</th>\n",
       "      <th>bpref</th>\n",
       "      <th>p@5</th>\n",
       "      <th>p@10</th>\n",
       "      <th>p@20</th>\n",
       "      <th>R-prec</th>\n",
       "      <th>mAP</th>\n",
       "      <th>bpref</th>\n",
       "    </tr>\n",
       "  </thead>\n",
       "  <tbody>\n",
       "    <tr>\n",
       "      <th>BM25 k1=0.10</th>\n",
       "      <td>0.295</td>\n",
       "      <td>0.251</td>\n",
       "      <td>0.216</td>\n",
       "      <td>0.077</td>\n",
       "      <td>0.045</td>\n",
       "      <td>0.061</td>\n",
       "      <td>0.648</td>\n",
       "      <td>0.593</td>\n",
       "      <td>0.499</td>\n",
       "      <td>0.471</td>\n",
       "      <td>0.472</td>\n",
       "      <td>0.457</td>\n",
       "    </tr>\n",
       "    <tr>\n",
       "      <th>BM25 k1=0.20</th>\n",
       "      <td>0.296</td>\n",
       "      <td>0.251</td>\n",
       "      <td>0.216</td>\n",
       "      <td>0.078</td>\n",
       "      <td>0.045</td>\n",
       "      <td>0.061</td>\n",
       "      <td>0.650</td>\n",
       "      <td>0.594</td>\n",
       "      <td>0.500</td>\n",
       "      <td>0.472</td>\n",
       "      <td>0.473</td>\n",
       "      <td>0.457</td>\n",
       "    </tr>\n",
       "    <tr>\n",
       "      <th>BM25 k1=0.30</th>\n",
       "      <td>0.297</td>\n",
       "      <td>0.250</td>\n",
       "      <td>0.215</td>\n",
       "      <td>0.079</td>\n",
       "      <td>0.046</td>\n",
       "      <td>0.062</td>\n",
       "      <td>0.651</td>\n",
       "      <td>0.594</td>\n",
       "      <td>0.501</td>\n",
       "      <td>0.473</td>\n",
       "      <td>0.473</td>\n",
       "      <td>0.458</td>\n",
       "    </tr>\n",
       "    <tr>\n",
       "      <th>BM25 k1=0.40</th>\n",
       "      <td>0.296</td>\n",
       "      <td>0.249</td>\n",
       "      <td>0.216</td>\n",
       "      <td>0.079</td>\n",
       "      <td>0.046</td>\n",
       "      <td>0.062</td>\n",
       "      <td>0.651</td>\n",
       "      <td>0.594</td>\n",
       "      <td>0.501</td>\n",
       "      <td>0.473</td>\n",
       "      <td>0.473</td>\n",
       "      <td>0.458</td>\n",
       "    </tr>\n",
       "    <tr>\n",
       "      <th>BM25 k1=0.50</th>\n",
       "      <td>0.295</td>\n",
       "      <td>0.252</td>\n",
       "      <td>0.216</td>\n",
       "      <td>0.082</td>\n",
       "      <td>0.046</td>\n",
       "      <td>0.063</td>\n",
       "      <td>0.652</td>\n",
       "      <td>0.594</td>\n",
       "      <td>0.501</td>\n",
       "      <td>0.473</td>\n",
       "      <td>0.473</td>\n",
       "      <td>0.457</td>\n",
       "    </tr>\n",
       "    <tr>\n",
       "      <th>BM25 k1=0.60</th>\n",
       "      <td>0.297</td>\n",
       "      <td>0.252</td>\n",
       "      <td>0.216</td>\n",
       "      <td>0.082</td>\n",
       "      <td>0.047</td>\n",
       "      <td>0.063</td>\n",
       "      <td>0.652</td>\n",
       "      <td>0.595</td>\n",
       "      <td>0.502</td>\n",
       "      <td>0.473</td>\n",
       "      <td>0.472</td>\n",
       "      <td>0.457</td>\n",
       "    </tr>\n",
       "    <tr>\n",
       "      <th>BM25 k1=0.70</th>\n",
       "      <td>0.298</td>\n",
       "      <td>0.252</td>\n",
       "      <td>0.216</td>\n",
       "      <td>0.082</td>\n",
       "      <td>0.047</td>\n",
       "      <td>0.064</td>\n",
       "      <td>0.652</td>\n",
       "      <td>0.595</td>\n",
       "      <td>0.501</td>\n",
       "      <td>0.472</td>\n",
       "      <td>0.472</td>\n",
       "      <td>0.456</td>\n",
       "    </tr>\n",
       "    <tr>\n",
       "      <th>BM25 k1=0.80</th>\n",
       "      <td>0.299</td>\n",
       "      <td>0.252</td>\n",
       "      <td>0.217</td>\n",
       "      <td>0.082</td>\n",
       "      <td>0.047</td>\n",
       "      <td>0.064</td>\n",
       "      <td>0.652</td>\n",
       "      <td>0.595</td>\n",
       "      <td>0.501</td>\n",
       "      <td>0.471</td>\n",
       "      <td>0.471</td>\n",
       "      <td>0.455</td>\n",
       "    </tr>\n",
       "    <tr>\n",
       "      <th>BM25 k1=0.90</th>\n",
       "      <td>0.297</td>\n",
       "      <td>0.252</td>\n",
       "      <td>0.217</td>\n",
       "      <td>0.083</td>\n",
       "      <td>0.047</td>\n",
       "      <td>0.064</td>\n",
       "      <td>0.652</td>\n",
       "      <td>0.594</td>\n",
       "      <td>0.501</td>\n",
       "      <td>0.470</td>\n",
       "      <td>0.469</td>\n",
       "      <td>0.453</td>\n",
       "    </tr>\n",
       "    <tr>\n",
       "      <th>BM25 k1=1.00</th>\n",
       "      <td>0.297</td>\n",
       "      <td>0.252</td>\n",
       "      <td>0.217</td>\n",
       "      <td>0.083</td>\n",
       "      <td>0.047</td>\n",
       "      <td>0.064</td>\n",
       "      <td>0.652</td>\n",
       "      <td>0.594</td>\n",
       "      <td>0.500</td>\n",
       "      <td>0.469</td>\n",
       "      <td>0.468</td>\n",
       "      <td>0.451</td>\n",
       "    </tr>\n",
       "    <tr>\n",
       "      <th>BM25 k1=1.10</th>\n",
       "      <td>0.297</td>\n",
       "      <td>0.250</td>\n",
       "      <td>0.216</td>\n",
       "      <td>0.083</td>\n",
       "      <td>0.047</td>\n",
       "      <td>0.064</td>\n",
       "      <td>0.652</td>\n",
       "      <td>0.594</td>\n",
       "      <td>0.499</td>\n",
       "      <td>0.467</td>\n",
       "      <td>0.466</td>\n",
       "      <td>0.450</td>\n",
       "    </tr>\n",
       "    <tr>\n",
       "      <th>BM25 k1=1.20</th>\n",
       "      <td>0.297</td>\n",
       "      <td>0.251</td>\n",
       "      <td>0.216</td>\n",
       "      <td>0.083</td>\n",
       "      <td>0.047</td>\n",
       "      <td>0.064</td>\n",
       "      <td>0.651</td>\n",
       "      <td>0.594</td>\n",
       "      <td>0.498</td>\n",
       "      <td>0.466</td>\n",
       "      <td>0.464</td>\n",
       "      <td>0.448</td>\n",
       "    </tr>\n",
       "    <tr>\n",
       "      <th>BM25 k1=1.30</th>\n",
       "      <td>0.297</td>\n",
       "      <td>0.251</td>\n",
       "      <td>0.216</td>\n",
       "      <td>0.084</td>\n",
       "      <td>0.047</td>\n",
       "      <td>0.065</td>\n",
       "      <td>0.651</td>\n",
       "      <td>0.593</td>\n",
       "      <td>0.497</td>\n",
       "      <td>0.464</td>\n",
       "      <td>0.462</td>\n",
       "      <td>0.445</td>\n",
       "    </tr>\n",
       "    <tr>\n",
       "      <th>BM25 k1=1.40</th>\n",
       "      <td>0.297</td>\n",
       "      <td>0.252</td>\n",
       "      <td>0.217</td>\n",
       "      <td>0.084</td>\n",
       "      <td>0.047</td>\n",
       "      <td>0.065</td>\n",
       "      <td>0.650</td>\n",
       "      <td>0.591</td>\n",
       "      <td>0.496</td>\n",
       "      <td>0.462</td>\n",
       "      <td>0.460</td>\n",
       "      <td>0.443</td>\n",
       "    </tr>\n",
       "    <tr>\n",
       "      <th>BM25 k1=1.50</th>\n",
       "      <td>0.297</td>\n",
       "      <td>0.252</td>\n",
       "      <td>0.217</td>\n",
       "      <td>0.084</td>\n",
       "      <td>0.047</td>\n",
       "      <td>0.065</td>\n",
       "      <td>0.649</td>\n",
       "      <td>0.590</td>\n",
       "      <td>0.495</td>\n",
       "      <td>0.460</td>\n",
       "      <td>0.458</td>\n",
       "      <td>0.441</td>\n",
       "    </tr>\n",
       "    <tr>\n",
       "      <th>BM25 k1=1.60</th>\n",
       "      <td>0.297</td>\n",
       "      <td>0.252</td>\n",
       "      <td>0.217</td>\n",
       "      <td>0.084</td>\n",
       "      <td>0.047</td>\n",
       "      <td>0.065</td>\n",
       "      <td>0.649</td>\n",
       "      <td>0.589</td>\n",
       "      <td>0.493</td>\n",
       "      <td>0.458</td>\n",
       "      <td>0.456</td>\n",
       "      <td>0.438</td>\n",
       "    </tr>\n",
       "    <tr>\n",
       "      <th>BM25 k1=1.70</th>\n",
       "      <td>0.299</td>\n",
       "      <td>0.252</td>\n",
       "      <td>0.217</td>\n",
       "      <td>0.085</td>\n",
       "      <td>0.047</td>\n",
       "      <td>0.065</td>\n",
       "      <td>0.648</td>\n",
       "      <td>0.588</td>\n",
       "      <td>0.491</td>\n",
       "      <td>0.456</td>\n",
       "      <td>0.453</td>\n",
       "      <td>0.436</td>\n",
       "    </tr>\n",
       "    <tr>\n",
       "      <th>BM25 k1=1.80</th>\n",
       "      <td>0.299</td>\n",
       "      <td>0.252</td>\n",
       "      <td>0.216</td>\n",
       "      <td>0.085</td>\n",
       "      <td>0.047</td>\n",
       "      <td>0.065</td>\n",
       "      <td>0.647</td>\n",
       "      <td>0.586</td>\n",
       "      <td>0.490</td>\n",
       "      <td>0.454</td>\n",
       "      <td>0.451</td>\n",
       "      <td>0.434</td>\n",
       "    </tr>\n",
       "    <tr>\n",
       "      <th>BM25 k1=1.90</th>\n",
       "      <td>0.297</td>\n",
       "      <td>0.254</td>\n",
       "      <td>0.216</td>\n",
       "      <td>0.085</td>\n",
       "      <td>0.047</td>\n",
       "      <td>0.065</td>\n",
       "      <td>0.646</td>\n",
       "      <td>0.585</td>\n",
       "      <td>0.489</td>\n",
       "      <td>0.452</td>\n",
       "      <td>0.449</td>\n",
       "      <td>0.432</td>\n",
       "    </tr>\n",
       "    <tr>\n",
       "      <th>BM25 k1=2.00</th>\n",
       "      <td>0.297</td>\n",
       "      <td>0.254</td>\n",
       "      <td>0.215</td>\n",
       "      <td>0.085</td>\n",
       "      <td>0.047</td>\n",
       "      <td>0.065</td>\n",
       "      <td>0.645</td>\n",
       "      <td>0.584</td>\n",
       "      <td>0.487</td>\n",
       "      <td>0.450</td>\n",
       "      <td>0.447</td>\n",
       "      <td>0.429</td>\n",
       "    </tr>\n",
       "  </tbody>\n",
       "</table>\n",
       "</div>"
      ],
      "text/plain": [
       "             general keywords                                    specific_keywords                                   \n",
       "                          p@5   p@10   p@20 R-prec    mAP  bpref               p@5   p@10   p@20 R-prec    mAP  bpref\n",
       "BM25 k1=0.10            0.295  0.251  0.216  0.077  0.045  0.061             0.648  0.593  0.499  0.471  0.472  0.457\n",
       "BM25 k1=0.20            0.296  0.251  0.216  0.078  0.045  0.061             0.650  0.594  0.500  0.472  0.473  0.457\n",
       "BM25 k1=0.30            0.297  0.250  0.215  0.079  0.046  0.062             0.651  0.594  0.501  0.473  0.473  0.458\n",
       "BM25 k1=0.40            0.296  0.249  0.216  0.079  0.046  0.062             0.651  0.594  0.501  0.473  0.473  0.458\n",
       "BM25 k1=0.50            0.295  0.252  0.216  0.082  0.046  0.063             0.652  0.594  0.501  0.473  0.473  0.457\n",
       "BM25 k1=0.60            0.297  0.252  0.216  0.082  0.047  0.063             0.652  0.595  0.502  0.473  0.472  0.457\n",
       "BM25 k1=0.70            0.298  0.252  0.216  0.082  0.047  0.064             0.652  0.595  0.501  0.472  0.472  0.456\n",
       "BM25 k1=0.80            0.299  0.252  0.217  0.082  0.047  0.064             0.652  0.595  0.501  0.471  0.471  0.455\n",
       "BM25 k1=0.90            0.297  0.252  0.217  0.083  0.047  0.064             0.652  0.594  0.501  0.470  0.469  0.453\n",
       "BM25 k1=1.00            0.297  0.252  0.217  0.083  0.047  0.064             0.652  0.594  0.500  0.469  0.468  0.451\n",
       "BM25 k1=1.10            0.297  0.250  0.216  0.083  0.047  0.064             0.652  0.594  0.499  0.467  0.466  0.450\n",
       "BM25 k1=1.20            0.297  0.251  0.216  0.083  0.047  0.064             0.651  0.594  0.498  0.466  0.464  0.448\n",
       "BM25 k1=1.30            0.297  0.251  0.216  0.084  0.047  0.065             0.651  0.593  0.497  0.464  0.462  0.445\n",
       "BM25 k1=1.40            0.297  0.252  0.217  0.084  0.047  0.065             0.650  0.591  0.496  0.462  0.460  0.443\n",
       "BM25 k1=1.50            0.297  0.252  0.217  0.084  0.047  0.065             0.649  0.590  0.495  0.460  0.458  0.441\n",
       "BM25 k1=1.60            0.297  0.252  0.217  0.084  0.047  0.065             0.649  0.589  0.493  0.458  0.456  0.438\n",
       "BM25 k1=1.70            0.299  0.252  0.217  0.085  0.047  0.065             0.648  0.588  0.491  0.456  0.453  0.436\n",
       "BM25 k1=1.80            0.299  0.252  0.216  0.085  0.047  0.065             0.647  0.586  0.490  0.454  0.451  0.434\n",
       "BM25 k1=1.90            0.297  0.254  0.216  0.085  0.047  0.065             0.646  0.585  0.489  0.452  0.449  0.432\n",
       "BM25 k1=2.00            0.297  0.254  0.215  0.085  0.047  0.065             0.645  0.584  0.487  0.450  0.447  0.429"
      ]
     },
     "execution_count": 7,
     "metadata": {},
     "output_type": "execute_result"
    }
   ],
   "source": [
    "print(\"mAP scores for bm25 k1 search models:\")\n",
    "search_k1_bm25_results"
   ]
  },
  {
   "cell_type": "code",
   "execution_count": 8,
   "metadata": {},
   "outputs": [
    {
     "data": {
      "image/png": "[encoded data removed]",
      "text/plain": [
       "<Figure size 864x360 with 1 Axes>"
      ]
     },
     "metadata": {
      "needs_background": "light"
     },
     "output_type": "display_data"
    }
   ],
   "source": [
    "ax = search_k1_bm25_results[(\"specific_keywords\",\"mAP\")].plot(figsize=(12,5), style=\"-bo\", rot=45, legend=False)\n",
    "ax.set_ylabel(\"mAP\");"
   ]
  },
  {
   "cell_type": "markdown",
   "metadata": {},
   "source": [
    "Results:\n",
    "- k1 of 0.2 has the best performance"
   ]
  },
  {
   "cell_type": "markdown",
   "metadata": {},
   "source": [
    "#### Grid search for BM25 b parameter"
   ]
  },
  {
   "cell_type": "code",
   "execution_count": 9,
   "metadata": {},
   "outputs": [],
   "source": [
    "b_grid = np.arange(0.1,1.1,0.1)\n",
    "search_b_bm25_models = [(f\"BM25 b={b:.2f}\", BM25RetrievalAlgorithm(b=b, k1=0.6), papers_basic) for b in b_grid]"
   ]
  },
  {
   "cell_type": "code",
   "execution_count": null,
   "metadata": {},
   "outputs": [],
   "source": [
    "%%time\n",
    "search_b_bm25_results = train_evaluate_models(search_b_bm25_models, [general_keywords, specific_keywords], n_jobs=len(search_b_bm25_models))"
   ]
  },
  {
   "cell_type": "code",
   "execution_count": 11,
   "metadata": {},
   "outputs": [
    {
     "name": "stdout",
     "output_type": "stream",
     "text": [
      "mAP scores for bm25 b search models:\n"
     ]
    },
    {
     "data": {
      "text/html": [
       "<div>\n",
       "<style scoped>\n",
       "    .dataframe tbody tr th:only-of-type {\n",
       "        vertical-align: middle;\n",
       "    }\n",
       "\n",
       "    .dataframe tbody tr th {\n",
       "        vertical-align: top;\n",
       "    }\n",
       "\n",
       "    .dataframe thead tr th {\n",
       "        text-align: left;\n",
       "    }\n",
       "</style>\n",
       "<table border=\"1\" class=\"dataframe\">\n",
       "  <thead>\n",
       "    <tr>\n",
       "      <th></th>\n",
       "      <th colspan=\"6\" halign=\"left\">general keywords</th>\n",
       "      <th colspan=\"6\" halign=\"left\">specific_keywords</th>\n",
       "    </tr>\n",
       "    <tr>\n",
       "      <th></th>\n",
       "      <th>p@5</th>\n",
       "      <th>p@10</th>\n",
       "      <th>p@20</th>\n",
       "      <th>R-prec</th>\n",
       "      <th>mAP</th>\n",
       "      <th>bpref</th>\n",
       "      <th>p@5</th>\n",
       "      <th>p@10</th>\n",
       "      <th>p@20</th>\n",
       "      <th>R-prec</th>\n",
       "      <th>mAP</th>\n",
       "      <th>bpref</th>\n",
       "    </tr>\n",
       "  </thead>\n",
       "  <tbody>\n",
       "    <tr>\n",
       "      <th>BM25 b=0.10</th>\n",
       "      <td>0.291</td>\n",
       "      <td>0.250</td>\n",
       "      <td>0.214</td>\n",
       "      <td>0.080</td>\n",
       "      <td>0.046</td>\n",
       "      <td>0.062</td>\n",
       "      <td>0.637</td>\n",
       "      <td>0.583</td>\n",
       "      <td>0.494</td>\n",
       "      <td>0.467</td>\n",
       "      <td>0.465</td>\n",
       "      <td>0.450</td>\n",
       "    </tr>\n",
       "    <tr>\n",
       "      <th>BM25 b=0.20</th>\n",
       "      <td>0.291</td>\n",
       "      <td>0.251</td>\n",
       "      <td>0.214</td>\n",
       "      <td>0.080</td>\n",
       "      <td>0.046</td>\n",
       "      <td>0.062</td>\n",
       "      <td>0.641</td>\n",
       "      <td>0.587</td>\n",
       "      <td>0.496</td>\n",
       "      <td>0.469</td>\n",
       "      <td>0.467</td>\n",
       "      <td>0.452</td>\n",
       "    </tr>\n",
       "    <tr>\n",
       "      <th>BM25 b=0.30</th>\n",
       "      <td>0.292</td>\n",
       "      <td>0.252</td>\n",
       "      <td>0.215</td>\n",
       "      <td>0.080</td>\n",
       "      <td>0.046</td>\n",
       "      <td>0.062</td>\n",
       "      <td>0.644</td>\n",
       "      <td>0.590</td>\n",
       "      <td>0.498</td>\n",
       "      <td>0.470</td>\n",
       "      <td>0.469</td>\n",
       "      <td>0.454</td>\n",
       "    </tr>\n",
       "    <tr>\n",
       "      <th>BM25 b=0.40</th>\n",
       "      <td>0.293</td>\n",
       "      <td>0.252</td>\n",
       "      <td>0.216</td>\n",
       "      <td>0.080</td>\n",
       "      <td>0.046</td>\n",
       "      <td>0.062</td>\n",
       "      <td>0.648</td>\n",
       "      <td>0.593</td>\n",
       "      <td>0.499</td>\n",
       "      <td>0.472</td>\n",
       "      <td>0.471</td>\n",
       "      <td>0.455</td>\n",
       "    </tr>\n",
       "    <tr>\n",
       "      <th>BM25 b=0.50</th>\n",
       "      <td>0.297</td>\n",
       "      <td>0.252</td>\n",
       "      <td>0.216</td>\n",
       "      <td>0.082</td>\n",
       "      <td>0.047</td>\n",
       "      <td>0.063</td>\n",
       "      <td>0.652</td>\n",
       "      <td>0.595</td>\n",
       "      <td>0.502</td>\n",
       "      <td>0.473</td>\n",
       "      <td>0.472</td>\n",
       "      <td>0.457</td>\n",
       "    </tr>\n",
       "    <tr>\n",
       "      <th>BM25 b=0.60</th>\n",
       "      <td>0.299</td>\n",
       "      <td>0.253</td>\n",
       "      <td>0.218</td>\n",
       "      <td>0.080</td>\n",
       "      <td>0.046</td>\n",
       "      <td>0.063</td>\n",
       "      <td>0.654</td>\n",
       "      <td>0.596</td>\n",
       "      <td>0.502</td>\n",
       "      <td>0.473</td>\n",
       "      <td>0.474</td>\n",
       "      <td>0.458</td>\n",
       "    </tr>\n",
       "    <tr>\n",
       "      <th>BM25 b=0.70</th>\n",
       "      <td>0.301</td>\n",
       "      <td>0.255</td>\n",
       "      <td>0.217</td>\n",
       "      <td>0.080</td>\n",
       "      <td>0.046</td>\n",
       "      <td>0.063</td>\n",
       "      <td>0.654</td>\n",
       "      <td>0.597</td>\n",
       "      <td>0.503</td>\n",
       "      <td>0.474</td>\n",
       "      <td>0.474</td>\n",
       "      <td>0.458</td>\n",
       "    </tr>\n",
       "    <tr>\n",
       "      <th>BM25 b=0.80</th>\n",
       "      <td>0.294</td>\n",
       "      <td>0.257</td>\n",
       "      <td>0.215</td>\n",
       "      <td>0.081</td>\n",
       "      <td>0.046</td>\n",
       "      <td>0.063</td>\n",
       "      <td>0.653</td>\n",
       "      <td>0.597</td>\n",
       "      <td>0.502</td>\n",
       "      <td>0.474</td>\n",
       "      <td>0.474</td>\n",
       "      <td>0.458</td>\n",
       "    </tr>\n",
       "    <tr>\n",
       "      <th>BM25 b=0.90</th>\n",
       "      <td>0.291</td>\n",
       "      <td>0.254</td>\n",
       "      <td>0.213</td>\n",
       "      <td>0.081</td>\n",
       "      <td>0.046</td>\n",
       "      <td>0.063</td>\n",
       "      <td>0.653</td>\n",
       "      <td>0.596</td>\n",
       "      <td>0.502</td>\n",
       "      <td>0.474</td>\n",
       "      <td>0.474</td>\n",
       "      <td>0.458</td>\n",
       "    </tr>\n",
       "    <tr>\n",
       "      <th>BM25 b=1.00</th>\n",
       "      <td>0.291</td>\n",
       "      <td>0.254</td>\n",
       "      <td>0.210</td>\n",
       "      <td>0.080</td>\n",
       "      <td>0.046</td>\n",
       "      <td>0.063</td>\n",
       "      <td>0.652</td>\n",
       "      <td>0.594</td>\n",
       "      <td>0.501</td>\n",
       "      <td>0.474</td>\n",
       "      <td>0.472</td>\n",
       "      <td>0.457</td>\n",
       "    </tr>\n",
       "  </tbody>\n",
       "</table>\n",
       "</div>"
      ],
      "text/plain": [
       "            general keywords                                    specific_keywords                                   \n",
       "                         p@5   p@10   p@20 R-prec    mAP  bpref               p@5   p@10   p@20 R-prec    mAP  bpref\n",
       "BM25 b=0.10            0.291  0.250  0.214  0.080  0.046  0.062             0.637  0.583  0.494  0.467  0.465  0.450\n",
       "BM25 b=0.20            0.291  0.251  0.214  0.080  0.046  0.062             0.641  0.587  0.496  0.469  0.467  0.452\n",
       "BM25 b=0.30            0.292  0.252  0.215  0.080  0.046  0.062             0.644  0.590  0.498  0.470  0.469  0.454\n",
       "BM25 b=0.40            0.293  0.252  0.216  0.080  0.046  0.062             0.648  0.593  0.499  0.472  0.471  0.455\n",
       "BM25 b=0.50            0.297  0.252  0.216  0.082  0.047  0.063             0.652  0.595  0.502  0.473  0.472  0.457\n",
       "BM25 b=0.60            0.299  0.253  0.218  0.080  0.046  0.063             0.654  0.596  0.502  0.473  0.474  0.458\n",
       "BM25 b=0.70            0.301  0.255  0.217  0.080  0.046  0.063             0.654  0.597  0.503  0.474  0.474  0.458\n",
       "BM25 b=0.80            0.294  0.257  0.215  0.081  0.046  0.063             0.653  0.597  0.502  0.474  0.474  0.458\n",
       "BM25 b=0.90            0.291  0.254  0.213  0.081  0.046  0.063             0.653  0.596  0.502  0.474  0.474  0.458\n",
       "BM25 b=1.00            0.291  0.254  0.210  0.080  0.046  0.063             0.652  0.594  0.501  0.474  0.472  0.457"
      ]
     },
     "execution_count": 11,
     "metadata": {},
     "output_type": "execute_result"
    }
   ],
   "source": [
    "print(\"mAP scores for bm25 b search models:\")\n",
    "search_b_bm25_results"
   ]
  },
  {
   "cell_type": "code",
   "execution_count": 12,
   "metadata": {},
   "outputs": [
    {
     "data": {
      "image/png": "[encoded data removed]",
      "text/plain": [
       "<Figure size 864x360 with 1 Axes>"
      ]
     },
     "metadata": {
      "needs_background": "light"
     },
     "output_type": "display_data"
    }
   ],
   "source": [
    "ax = search_b_bm25_results[(\"specific_keywords\",\"mAP\")].plot(figsize=(12,5), style=\"-bo\", rot=45, legend=False)\n",
    "ax.set_ylabel(\"mAP\");"
   ]
  },
  {
   "cell_type": "markdown",
   "metadata": {},
   "source": [
    "Results:\n",
    "- b parameter does not have a great effect on model performance\n",
    "- best value at 0.7"
   ]
  },
  {
   "cell_type": "markdown",
   "metadata": {},
   "source": [
    "#### Test bm25 with best parameters on n-grams"
   ]
  },
  {
   "cell_type": "code",
   "execution_count": 13,
   "metadata": {},
   "outputs": [],
   "source": [
    "ngram_bm25_models = [\n",
    "    (\"bm25 2-gram\", BM25RetrievalAlgorithm(max_ngram=2, k1=0.5, b=0.8), papers_basic_lemmatization_nouns),\n",
    "    (\"bm25 3-gram\", BM25RetrievalAlgorithm(max_ngram=3, k1=0.5, b=0.8), papers_basic_lemmatization_nouns),\n",
    "    (\"bm25 4-gram\", BM25RetrievalAlgorithm(max_ngram=4, k1=0.5, b=0.8), papers_basic_lemmatization_nouns),\n",
    "]"
   ]
  },
  {
   "cell_type": "code",
   "execution_count": 14,
   "metadata": {},
   "outputs": [
    {
     "name": "stdout",
     "output_type": "stream",
     "text": [
      "INFO:root:Start training model bm25 2-gram\n",
      "INFO:root:Start training model bm25 3-gram\n",
      "INFO:root:Start training model bm25 4-gram\n",
      "INFO:root:Start evaluating model bm25 2-gram\n"
     ]
    },
    {
     "data": {
      "application/vnd.jupyter.widget-view+json": {
       "model_id": "7f8d7ee1d7eb4b778b6180360a2c4797",
       "version_major": 2,
       "version_minor": 0
      },
      "text/plain": [
       "HBox(children=(IntProgress(value=0, layout=Layout(flex='2'), max=5300), HTML(value='')), layout=Layout(display…"
      ]
     },
     "metadata": {},
     "output_type": "display_data"
    },
    {
     "name": "stdout",
     "output_type": "stream",
     "text": [
      "INFO:root:Start evaluating model bm25 3-gram\n"
     ]
    },
    {
     "data": {
      "application/vnd.jupyter.widget-view+json": {
       "model_id": "72ac069a6bc7440983b2203b94a84af5",
       "version_major": 2,
       "version_minor": 0
      },
      "text/plain": [
       "HBox(children=(IntProgress(value=0, layout=Layout(flex='2'), max=5300), HTML(value='')), layout=Layout(display…"
      ]
     },
     "metadata": {},
     "output_type": "display_data"
    },
    {
     "name": "stdout",
     "output_type": "stream",
     "text": [
      "INFO:root:Start evaluating model bm25 4-gram\n"
     ]
    },
    {
     "data": {
      "application/vnd.jupyter.widget-view+json": {
       "model_id": "45c0eae84054499c9f4cf812731677af",
       "version_major": 2,
       "version_minor": 0
      },
      "text/plain": [
       "HBox(children=(IntProgress(value=0, layout=Layout(flex='2'), max=5300), HTML(value='')), layout=Layout(display…"
      ]
     },
     "metadata": {},
     "output_type": "display_data"
    },
    {
     "name": "stdout",
     "output_type": "stream",
     "text": [
      "\n",
      "INFO:root:Finished processing model bm25 2-gram\n",
      "\n",
      "INFO:root:Finished processing model bm25 3-gram\n",
      "\n",
      "INFO:root:Finished processing model bm25 4-gram\n"
     ]
    }
   ],
   "source": [
    "ngram_bm25_results = train_evaluate_models(ngram_bm25_models, [general_keywords, specific_keywords])"
   ]
  },
  {
   "cell_type": "code",
   "execution_count": 15,
   "metadata": {},
   "outputs": [
    {
     "name": "stdout",
     "output_type": "stream",
     "text": [
      "mAP scores for ngram bm25 models:\n"
     ]
    },
    {
     "data": {
      "text/html": [
       "<div>\n",
       "<style scoped>\n",
       "    .dataframe tbody tr th:only-of-type {\n",
       "        vertical-align: middle;\n",
       "    }\n",
       "\n",
       "    .dataframe tbody tr th {\n",
       "        vertical-align: top;\n",
       "    }\n",
       "\n",
       "    .dataframe thead tr th {\n",
       "        text-align: left;\n",
       "    }\n",
       "</style>\n",
       "<table border=\"1\" class=\"dataframe\">\n",
       "  <thead>\n",
       "    <tr>\n",
       "      <th></th>\n",
       "      <th colspan=\"6\" halign=\"left\">general keywords</th>\n",
       "      <th colspan=\"6\" halign=\"left\">specific_keywords</th>\n",
       "    </tr>\n",
       "    <tr>\n",
       "      <th></th>\n",
       "      <th>p@5</th>\n",
       "      <th>p@10</th>\n",
       "      <th>p@20</th>\n",
       "      <th>R-prec</th>\n",
       "      <th>mAP</th>\n",
       "      <th>bpref</th>\n",
       "      <th>p@5</th>\n",
       "      <th>p@10</th>\n",
       "      <th>p@20</th>\n",
       "      <th>R-prec</th>\n",
       "      <th>mAP</th>\n",
       "      <th>bpref</th>\n",
       "    </tr>\n",
       "  </thead>\n",
       "  <tbody>\n",
       "    <tr>\n",
       "      <th>bm25 2-gram</th>\n",
       "      <td>0.308</td>\n",
       "      <td>0.261</td>\n",
       "      <td>0.217</td>\n",
       "      <td>0.085</td>\n",
       "      <td>0.049</td>\n",
       "      <td>0.066</td>\n",
       "      <td>0.732</td>\n",
       "      <td>0.674</td>\n",
       "      <td>0.567</td>\n",
       "      <td>0.549</td>\n",
       "      <td>0.559</td>\n",
       "      <td>0.545</td>\n",
       "    </tr>\n",
       "    <tr>\n",
       "      <th>bm25 3-gram</th>\n",
       "      <td>0.308</td>\n",
       "      <td>0.258</td>\n",
       "      <td>0.216</td>\n",
       "      <td>0.084</td>\n",
       "      <td>0.049</td>\n",
       "      <td>0.066</td>\n",
       "      <td>0.733</td>\n",
       "      <td>0.673</td>\n",
       "      <td>0.566</td>\n",
       "      <td>0.549</td>\n",
       "      <td>0.558</td>\n",
       "      <td>0.545</td>\n",
       "    </tr>\n",
       "    <tr>\n",
       "      <th>bm25 4-gram</th>\n",
       "      <td>0.307</td>\n",
       "      <td>0.258</td>\n",
       "      <td>0.217</td>\n",
       "      <td>0.085</td>\n",
       "      <td>0.049</td>\n",
       "      <td>0.066</td>\n",
       "      <td>0.733</td>\n",
       "      <td>0.672</td>\n",
       "      <td>0.565</td>\n",
       "      <td>0.548</td>\n",
       "      <td>0.557</td>\n",
       "      <td>0.544</td>\n",
       "    </tr>\n",
       "  </tbody>\n",
       "</table>\n",
       "</div>"
      ],
      "text/plain": [
       "            general keywords                                    specific_keywords                                   \n",
       "                         p@5   p@10   p@20 R-prec    mAP  bpref               p@5   p@10   p@20 R-prec    mAP  bpref\n",
       "bm25 2-gram            0.308  0.261  0.217  0.085  0.049  0.066             0.732  0.674  0.567  0.549  0.559  0.545\n",
       "bm25 3-gram            0.308  0.258  0.216  0.084  0.049  0.066             0.733  0.673  0.566  0.549  0.558  0.545\n",
       "bm25 4-gram            0.307  0.258  0.217  0.085  0.049  0.066             0.733  0.672  0.565  0.548  0.557  0.544"
      ]
     },
     "execution_count": 15,
     "metadata": {},
     "output_type": "execute_result"
    }
   ],
   "source": [
    "print(\"mAP scores for ngram bm25 models:\")\n",
    "ngram_bm25_results"
   ]
  },
  {
   "cell_type": "markdown",
   "metadata": {},
   "source": [
    "Results:\n",
    "- bigrams improve result of bm25\n",
    "- bm25 bigram model achieves best score on specific keywords\n",
    "- general keyword score still very low"
   ]
  },
  {
   "cell_type": "code",
   "execution_count": null,
   "metadata": {},
   "outputs": [],
   "source": [
    "from query_expansion_retrieval import QueryExpansionRetrieval"
   ]
  },
  {
   "cell_type": "code",
   "execution_count": null,
   "metadata": {},
   "outputs": [],
   "source": [
    "with open(\"../data/keyword_hierarchy.json\", 'r') as file:\n",
    "    keyword_hierarchy = json.load(file)"
   ]
  },
  {
   "cell_type": "code",
   "execution_count": null,
   "metadata": {},
   "outputs": [],
   "source": [
    "bm25_model_unigram = TfidfRetrieval(corpus=papers_basic, max_ngram=1, use_bm25=True, k1=0.9, b=0.7)\n",
    "bm25_model_bigram = TfidfRetrieval(corpus=papers_basic, max_ngram=2, use_bm25=True, k1=0.9, b=0.7)"
   ]
  },
  {
   "cell_type": "code",
   "execution_count": null,
   "metadata": {},
   "outputs": [],
   "source": [
    "query_expansion_models = [\n",
    "    (\"qe unigram expand all\", \n",
    "     partial(QueryExpansionRetrieval, \n",
    "             wrapped_model=bm25_model_unigram, \n",
    "             expansion_hierarchy=keyword_hierarchy,\n",
    "             only_expand_once=False,\n",
    "             separate_weighting=False)),\n",
    "    (\"qe unigram expand first\",\n",
    "     partial(QueryExpansionRetrieval, \n",
    "             wrapped_model=bm25_model_unigram, \n",
    "             expansion_hierarchy=keyword_hierarchy,\n",
    "             only_expand_once=True,\n",
    "             separate_weighting=False)),\n",
    "    (\"qe bigram expand all\", \n",
    "     partial(QueryExpansionRetrieval, \n",
    "             wrapped_model=bm25_model_bigram,\n",
    "             expansion_hierarchy=keyword_hierarchy,\n",
    "             only_expand_once=False,\n",
    "             separate_weighting=False)),\n",
    "    (\"qe bigram expand first\",\n",
    "     partial(QueryExpansionRetrieval, \n",
    "             wrapped_model=bm25_model_bigram, \n",
    "             expansion_hierarchy=keyword_hierarchy,\n",
    "             only_expand_once=True,\n",
    "             separate_weighting=False)),\n",
    "    (\"qe unigram expand all separate weighting\",\n",
    "     partial(QueryExpansionRetrieval, \n",
    "             wrapped_model=bm25_model_unigram, \n",
    "             expansion_hierarchy=keyword_hierarchy,\n",
    "             only_expand_once=False,\n",
    "             separate_weighting=True)),\n",
    "    (\"qe unigram expand first separate weighting\",\n",
    "     partial(QueryExpansionRetrieval, \n",
    "             wrapped_model=bm25_model_unigram, \n",
    "             expansion_hierarchy=keyword_hierarchy,\n",
    "             only_expand_once=True,\n",
    "             separate_weighting=True))\n",
    "]"
   ]
  },
  {
   "cell_type": "code",
   "execution_count": null,
   "metadata": {},
   "outputs": [],
   "source": [
    "query_expansion_results = train_evaluate_models(query_expansion_models, [general_keywords, specific_keywords])"
   ]
  },
  {
   "cell_type": "code",
   "execution_count": 46,
   "metadata": {},
   "outputs": [
    {
     "name": "stdout",
     "output_type": "stream",
     "text": [
      "mAP scores for query expansion models:\n"
     ]
    },
    {
     "data": {
      "text/html": [
       "<div>\n",
       "<style scoped>\n",
       "    .dataframe tbody tr th:only-of-type {\n",
       "        vertical-align: middle;\n",
       "    }\n",
       "\n",
       "    .dataframe tbody tr th {\n",
       "        vertical-align: top;\n",
       "    }\n",
       "\n",
       "    .dataframe thead th {\n",
       "        text-align: right;\n",
       "    }\n",
       "</style>\n",
       "<table border=\"1\" class=\"dataframe\">\n",
       "  <thead>\n",
       "    <tr style=\"text-align: right;\">\n",
       "      <th></th>\n",
       "      <th>general keywords</th>\n",
       "      <th>specific_keywords</th>\n",
       "    </tr>\n",
       "  </thead>\n",
       "  <tbody>\n",
       "    <tr>\n",
       "      <th>qe unigram expand all</th>\n",
       "      <td>0.130445</td>\n",
       "      <td>0.353119</td>\n",
       "    </tr>\n",
       "    <tr>\n",
       "      <th>qe unigram expand first</th>\n",
       "      <td>0.132192</td>\n",
       "      <td>0.357417</td>\n",
       "    </tr>\n",
       "    <tr>\n",
       "      <th>qe bigram expand all</th>\n",
       "      <td>0.146867</td>\n",
       "      <td>0.484990</td>\n",
       "    </tr>\n",
       "    <tr>\n",
       "      <th>qe bigram expand first</th>\n",
       "      <td>0.135623</td>\n",
       "      <td>0.490216</td>\n",
       "    </tr>\n",
       "    <tr>\n",
       "      <th>qe unigram expand all separate weighting</th>\n",
       "      <td>0.115465</td>\n",
       "      <td>0.394972</td>\n",
       "    </tr>\n",
       "    <tr>\n",
       "      <th>qe unigram expand first separate weighting</th>\n",
       "      <td>0.109443</td>\n",
       "      <td>0.395540</td>\n",
       "    </tr>\n",
       "  </tbody>\n",
       "</table>\n",
       "</div>"
      ],
      "text/plain": [
       "                                            general keywords  specific_keywords\n",
       "qe unigram expand all                               0.130445           0.353119\n",
       "qe unigram expand first                             0.132192           0.357417\n",
       "qe bigram expand all                                0.146867           0.484990\n",
       "qe bigram expand first                              0.135623           0.490216\n",
       "qe unigram expand all separate weighting            0.115465           0.394972\n",
       "qe unigram expand first separate weighting          0.109443           0.395540"
      ]
     },
     "execution_count": 46,
     "metadata": {},
     "output_type": "execute_result"
    }
   ],
   "source": [
    "print(\"mAP scores for query expansion models:\")\n",
    "query_expansion_results"
   ]
  },
  {
   "cell_type": "code",
   "execution_count": null,
   "metadata": {},
   "outputs": [],
   "source": [
    "bm25_model_unigram = TfidfRetrieval(corpus=papers_basic_lemmatization_nouns, max_ngram=1, use_bm25=True, k1=0.9, b=0.8)\n",
    "bm25_model_bigram = TfidfRetrieval(corpus=papers_basic_lemmatization_nouns, max_ngram=2, use_bm25=True, k1=0.9, b=0.8)"
   ]
  },
  {
   "cell_type": "code",
   "execution_count": null,
   "metadata": {},
   "outputs": [],
   "source": [
    "query_expansion_models_lem = [\n",
    "    (\"qe unigram expand first\",\n",
    "     partial(QueryExpansionRetrieval, \n",
    "             wrapped_model=bm25_model_unigram, \n",
    "             expansion_hierarchy=keyword_hierarchy,\n",
    "             only_expand_once=True,\n",
    "             separate_weighting=False)),\n",
    "    (\"qe bigram expand first\",\n",
    "     partial(QueryExpansionRetrieval, \n",
    "             wrapped_model=bm25_model_bigram, \n",
    "             expansion_hierarchy=keyword_hierarchy,\n",
    "             only_expand_once=True,\n",
    "             separate_weighting=False)),\n",
    "    (\"qe unigram expand first separate weighting\",\n",
    "     partial(QueryExpansionRetrieval, \n",
    "             wrapped_model=bm25_model_unigram, \n",
    "             expansion_hierarchy=keyword_hierarchy,\n",
    "             only_expand_once=True,\n",
    "             separate_weighting=True))\n",
    "]"
   ]
  },
  {
   "cell_type": "code",
   "execution_count": null,
   "metadata": {},
   "outputs": [],
   "source": [
    "query_expansion_results_lem = train_evaluate_models(query_expansion_models_lem, [general_keywords, specific_keywords])"
   ]
  },
  {
   "cell_type": "code",
   "execution_count": 47,
   "metadata": {},
   "outputs": [
    {
     "name": "stdout",
     "output_type": "stream",
     "text": [
      "mAP scores for query expansion models with lemmatization:\n"
     ]
    },
    {
     "data": {
      "text/html": [
       "<div>\n",
       "<style scoped>\n",
       "    .dataframe tbody tr th:only-of-type {\n",
       "        vertical-align: middle;\n",
       "    }\n",
       "\n",
       "    .dataframe tbody tr th {\n",
       "        vertical-align: top;\n",
       "    }\n",
       "\n",
       "    .dataframe thead th {\n",
       "        text-align: right;\n",
       "    }\n",
       "</style>\n",
       "<table border=\"1\" class=\"dataframe\">\n",
       "  <thead>\n",
       "    <tr style=\"text-align: right;\">\n",
       "      <th></th>\n",
       "      <th>general keywords</th>\n",
       "      <th>specific_keywords</th>\n",
       "    </tr>\n",
       "  </thead>\n",
       "  <tbody>\n",
       "    <tr>\n",
       "      <th>qe unigram expand first</th>\n",
       "      <td>0.136965</td>\n",
       "      <td>0.362818</td>\n",
       "    </tr>\n",
       "    <tr>\n",
       "      <th>qe bigram expand first</th>\n",
       "      <td>0.138769</td>\n",
       "      <td>0.510962</td>\n",
       "    </tr>\n",
       "    <tr>\n",
       "      <th>qe unigram expand first separate weighting</th>\n",
       "      <td>0.112999</td>\n",
       "      <td>0.379990</td>\n",
       "    </tr>\n",
       "  </tbody>\n",
       "</table>\n",
       "</div>"
      ],
      "text/plain": [
       "                                            general keywords  specific_keywords\n",
       "qe unigram expand first                             0.136965           0.362818\n",
       "qe bigram expand first                              0.138769           0.510962\n",
       "qe unigram expand first separate weighting          0.112999           0.379990"
      ]
     },
     "execution_count": 47,
     "metadata": {},
     "output_type": "execute_result"
    }
   ],
   "source": [
    "print(\"mAP scores for query expansion models with lemmatization:\")\n",
    "query_expansion_results_lem"
   ]
  },
  {
   "cell_type": "code",
   "execution_count": 17,
   "metadata": {},
   "outputs": [],
   "source": [
    "best_bm25_model = BM25RetrievalAlgorithm(max_ngram=2, k1=0.6, b=0.7)\n",
    "best_bm25_model.prepare(papers_basic_lemmatization_nouns)"
   ]
  },
  {
   "cell_type": "code",
   "execution_count": 18,
   "metadata": {},
   "outputs": [],
   "source": [
    "def check_correct(model, keywords, query):\n",
    "    keyword = [k for k in keywords if k[\"keyword\"]==query][0]\n",
    "    print(len(keyword[\"paper_ids\"]))\n",
    "    result = model.get_ranking(query)\n",
    "    result[\"correct\"] = result[\"id\"].isin(keyword[\"paper_ids\"])\n",
    "    return result"
   ]
  },
  {
   "cell_type": "code",
   "execution_count": 89,
   "metadata": {},
   "outputs": [
    {
     "data": {
      "text/plain": [
       "{'keyword': 'bellman equation',\n",
       " 'paper_ids': ['11432240',\n",
       "  '1523005464',\n",
       "  '1973133746',\n",
       "  '1982556518',\n",
       "  '2008839174',\n",
       "  '2012940290',\n",
       "  '2013786427',\n",
       "  '2015692920',\n",
       "  '2020339859',\n",
       "  '2024680294',\n",
       "  '2037007317',\n",
       "  '2071920504',\n",
       "  '2076764011',\n",
       "  '2085875325',\n",
       "  '2146188858',\n",
       "  '2148527622',\n",
       "  '2172280408',\n",
       "  '2257227894',\n",
       "  '2292288584',\n",
       "  '2341059095',\n",
       "  '2508812448',\n",
       "  '2885898206',\n",
       "  '2963011725',\n",
       "  '2963160574',\n",
       "  '2972364126',\n",
       "  '2991199092',\n",
       "  '307202153',\n",
       "  '51454524',\n",
       "  '77657119',\n",
       "  '86068839'],\n",
       " 'level': 2,\n",
       " 'keyword_id': '14646407',\n",
       " 'child_ids': [196978813, 60810621, 79911916]}"
      ]
     },
     "execution_count": 89,
     "metadata": {},
     "output_type": "execute_result"
    }
   ],
   "source": [
    "[k for k in keywords if k[\"keyword\"]==\"bellman equation\"][0]"
   ]
  },
  {
   "cell_type": "code",
   "execution_count": 63,
   "metadata": {},
   "outputs": [],
   "source": [
    "r = calculate_metrics(best_bm25_model,specific_keywords[1][:1000], default_metrics)"
   ]
  },
  {
   "cell_type": "code",
   "execution_count": 65,
   "metadata": {},
   "outputs": [
    {
     "data": {
      "text/html": [
       "<div>\n",
       "<style scoped>\n",
       "    .dataframe tbody tr th:only-of-type {\n",
       "        vertical-align: middle;\n",
       "    }\n",
       "\n",
       "    .dataframe tbody tr th {\n",
       "        vertical-align: top;\n",
       "    }\n",
       "\n",
       "    .dataframe thead th {\n",
       "        text-align: right;\n",
       "    }\n",
       "</style>\n",
       "<table border=\"1\" class=\"dataframe\">\n",
       "  <thead>\n",
       "    <tr style=\"text-align: right;\">\n",
       "      <th></th>\n",
       "      <th>query</th>\n",
       "      <th>p@5</th>\n",
       "      <th>p@10</th>\n",
       "      <th>p@20</th>\n",
       "      <th>R-prec</th>\n",
       "      <th>mAP</th>\n",
       "      <th>bpref</th>\n",
       "    </tr>\n",
       "  </thead>\n",
       "  <tbody>\n",
       "    <tr>\n",
       "      <th>406</th>\n",
       "      <td>INT</td>\n",
       "      <td>0.0</td>\n",
       "      <td>0.0</td>\n",
       "      <td>0.00</td>\n",
       "      <td>0.000000</td>\n",
       "      <td>0.000000</td>\n",
       "      <td>0.000000</td>\n",
       "    </tr>\n",
       "    <tr>\n",
       "      <th>87</th>\n",
       "      <td>Chemometrics</td>\n",
       "      <td>0.0</td>\n",
       "      <td>0.0</td>\n",
       "      <td>0.00</td>\n",
       "      <td>0.000000</td>\n",
       "      <td>0.000000</td>\n",
       "      <td>0.000000</td>\n",
       "    </tr>\n",
       "    <tr>\n",
       "      <th>105</th>\n",
       "      <td>Igneous petrology</td>\n",
       "      <td>0.0</td>\n",
       "      <td>0.0</td>\n",
       "      <td>0.00</td>\n",
       "      <td>0.000000</td>\n",
       "      <td>0.000000</td>\n",
       "      <td>0.000000</td>\n",
       "    </tr>\n",
       "    <tr>\n",
       "      <th>580</th>\n",
       "      <td>Coining (mint)</td>\n",
       "      <td>0.0</td>\n",
       "      <td>0.0</td>\n",
       "      <td>0.00</td>\n",
       "      <td>0.000000</td>\n",
       "      <td>0.000000</td>\n",
       "      <td>0.000000</td>\n",
       "    </tr>\n",
       "    <tr>\n",
       "      <th>230</th>\n",
       "      <td>Cellular biophysics</td>\n",
       "      <td>0.0</td>\n",
       "      <td>0.0</td>\n",
       "      <td>0.00</td>\n",
       "      <td>0.000000</td>\n",
       "      <td>0.000000</td>\n",
       "      <td>0.000000</td>\n",
       "    </tr>\n",
       "    <tr>\n",
       "      <th>83</th>\n",
       "      <td>Cryosphere</td>\n",
       "      <td>0.0</td>\n",
       "      <td>0.0</td>\n",
       "      <td>0.00</td>\n",
       "      <td>0.000000</td>\n",
       "      <td>0.000000</td>\n",
       "      <td>0.000000</td>\n",
       "    </tr>\n",
       "    <tr>\n",
       "      <th>309</th>\n",
       "      <td>Photoelectrochemistry</td>\n",
       "      <td>0.0</td>\n",
       "      <td>0.0</td>\n",
       "      <td>0.00</td>\n",
       "      <td>0.000000</td>\n",
       "      <td>0.000000</td>\n",
       "      <td>0.000000</td>\n",
       "    </tr>\n",
       "    <tr>\n",
       "      <th>553</th>\n",
       "      <td>Salience (neuroscience)</td>\n",
       "      <td>0.0</td>\n",
       "      <td>0.0</td>\n",
       "      <td>0.00</td>\n",
       "      <td>0.000000</td>\n",
       "      <td>0.000000</td>\n",
       "      <td>0.000000</td>\n",
       "    </tr>\n",
       "    <tr>\n",
       "      <th>438</th>\n",
       "      <td>Biomimetics</td>\n",
       "      <td>0.0</td>\n",
       "      <td>0.0</td>\n",
       "      <td>0.00</td>\n",
       "      <td>0.000000</td>\n",
       "      <td>0.000000</td>\n",
       "      <td>0.000000</td>\n",
       "    </tr>\n",
       "    <tr>\n",
       "      <th>210</th>\n",
       "      <td>Pound (mass)</td>\n",
       "      <td>0.0</td>\n",
       "      <td>0.0</td>\n",
       "      <td>0.00</td>\n",
       "      <td>0.000000</td>\n",
       "      <td>0.000000</td>\n",
       "      <td>0.000000</td>\n",
       "    </tr>\n",
       "    <tr>\n",
       "      <th>546</th>\n",
       "      <td>Regional geology</td>\n",
       "      <td>0.0</td>\n",
       "      <td>0.0</td>\n",
       "      <td>0.00</td>\n",
       "      <td>0.000000</td>\n",
       "      <td>0.000044</td>\n",
       "      <td>0.000000</td>\n",
       "    </tr>\n",
       "    <tr>\n",
       "      <th>876</th>\n",
       "      <td>Performance art</td>\n",
       "      <td>0.0</td>\n",
       "      <td>0.0</td>\n",
       "      <td>0.00</td>\n",
       "      <td>0.000000</td>\n",
       "      <td>0.000624</td>\n",
       "      <td>0.000000</td>\n",
       "    </tr>\n",
       "    <tr>\n",
       "      <th>455</th>\n",
       "      <td>Alternative medicine</td>\n",
       "      <td>0.0</td>\n",
       "      <td>0.0</td>\n",
       "      <td>0.05</td>\n",
       "      <td>0.027004</td>\n",
       "      <td>0.001402</td>\n",
       "      <td>0.014137</td>\n",
       "    </tr>\n",
       "    <tr>\n",
       "      <th>379</th>\n",
       "      <td>Communication source</td>\n",
       "      <td>0.0</td>\n",
       "      <td>0.0</td>\n",
       "      <td>0.00</td>\n",
       "      <td>0.000000</td>\n",
       "      <td>0.002913</td>\n",
       "      <td>0.000000</td>\n",
       "    </tr>\n",
       "    <tr>\n",
       "      <th>945</th>\n",
       "      <td>Decentralised system</td>\n",
       "      <td>0.0</td>\n",
       "      <td>0.0</td>\n",
       "      <td>0.00</td>\n",
       "      <td>0.000000</td>\n",
       "      <td>0.003306</td>\n",
       "      <td>0.000000</td>\n",
       "    </tr>\n",
       "    <tr>\n",
       "      <th>288</th>\n",
       "      <td>Solar air conditioning</td>\n",
       "      <td>0.0</td>\n",
       "      <td>0.0</td>\n",
       "      <td>0.00</td>\n",
       "      <td>0.000000</td>\n",
       "      <td>0.003307</td>\n",
       "      <td>0.000000</td>\n",
       "    </tr>\n",
       "    <tr>\n",
       "      <th>719</th>\n",
       "      <td>Visual acuity</td>\n",
       "      <td>0.0</td>\n",
       "      <td>0.0</td>\n",
       "      <td>0.00</td>\n",
       "      <td>0.000000</td>\n",
       "      <td>0.003915</td>\n",
       "      <td>0.000000</td>\n",
       "    </tr>\n",
       "    <tr>\n",
       "      <th>844</th>\n",
       "      <td>3D modeling</td>\n",
       "      <td>0.0</td>\n",
       "      <td>0.0</td>\n",
       "      <td>0.00</td>\n",
       "      <td>0.000000</td>\n",
       "      <td>0.004702</td>\n",
       "      <td>0.000000</td>\n",
       "    </tr>\n",
       "    <tr>\n",
       "      <th>211</th>\n",
       "      <td>Energy transformation</td>\n",
       "      <td>0.0</td>\n",
       "      <td>0.0</td>\n",
       "      <td>0.00</td>\n",
       "      <td>0.014706</td>\n",
       "      <td>0.004765</td>\n",
       "      <td>0.006488</td>\n",
       "    </tr>\n",
       "    <tr>\n",
       "      <th>170</th>\n",
       "      <td>Driver support systems</td>\n",
       "      <td>0.0</td>\n",
       "      <td>0.0</td>\n",
       "      <td>0.00</td>\n",
       "      <td>0.000000</td>\n",
       "      <td>0.005675</td>\n",
       "      <td>0.000000</td>\n",
       "    </tr>\n",
       "  </tbody>\n",
       "</table>\n",
       "</div>"
      ],
      "text/plain": [
       "                       query  p@5  p@10  p@20    R-prec       mAP     bpref\n",
       "406                      INT  0.0   0.0  0.00  0.000000  0.000000  0.000000\n",
       "87              Chemometrics  0.0   0.0  0.00  0.000000  0.000000  0.000000\n",
       "105        Igneous petrology  0.0   0.0  0.00  0.000000  0.000000  0.000000\n",
       "580           Coining (mint)  0.0   0.0  0.00  0.000000  0.000000  0.000000\n",
       "230      Cellular biophysics  0.0   0.0  0.00  0.000000  0.000000  0.000000\n",
       "83                Cryosphere  0.0   0.0  0.00  0.000000  0.000000  0.000000\n",
       "309    Photoelectrochemistry  0.0   0.0  0.00  0.000000  0.000000  0.000000\n",
       "553  Salience (neuroscience)  0.0   0.0  0.00  0.000000  0.000000  0.000000\n",
       "438              Biomimetics  0.0   0.0  0.00  0.000000  0.000000  0.000000\n",
       "210             Pound (mass)  0.0   0.0  0.00  0.000000  0.000000  0.000000\n",
       "546         Regional geology  0.0   0.0  0.00  0.000000  0.000044  0.000000\n",
       "876          Performance art  0.0   0.0  0.00  0.000000  0.000624  0.000000\n",
       "455     Alternative medicine  0.0   0.0  0.05  0.027004  0.001402  0.014137\n",
       "379     Communication source  0.0   0.0  0.00  0.000000  0.002913  0.000000\n",
       "945     Decentralised system  0.0   0.0  0.00  0.000000  0.003306  0.000000\n",
       "288   Solar air conditioning  0.0   0.0  0.00  0.000000  0.003307  0.000000\n",
       "719            Visual acuity  0.0   0.0  0.00  0.000000  0.003915  0.000000\n",
       "844              3D modeling  0.0   0.0  0.00  0.000000  0.004702  0.000000\n",
       "211    Energy transformation  0.0   0.0  0.00  0.014706  0.004765  0.006488\n",
       "170   Driver support systems  0.0   0.0  0.00  0.000000  0.005675  0.000000"
      ]
     },
     "execution_count": 65,
     "metadata": {},
     "output_type": "execute_result"
    }
   ],
   "source": [
    "r.sort_values(by=\"mAP\").head(20)"
   ]
  },
  {
   "cell_type": "code",
   "execution_count": 22,
   "metadata": {},
   "outputs": [
    {
     "name": "stdout",
     "output_type": "stream",
     "text": [
      "9250\n"
     ]
    },
    {
     "data": {
      "text/html": [
       "<div>\n",
       "<style scoped>\n",
       "    .dataframe tbody tr th:only-of-type {\n",
       "        vertical-align: middle;\n",
       "    }\n",
       "\n",
       "    .dataframe tbody tr th {\n",
       "        vertical-align: top;\n",
       "    }\n",
       "\n",
       "    .dataframe thead th {\n",
       "        text-align: right;\n",
       "    }\n",
       "</style>\n",
       "<table border=\"1\" class=\"dataframe\">\n",
       "  <thead>\n",
       "    <tr style=\"text-align: right;\">\n",
       "      <th></th>\n",
       "      <th>id</th>\n",
       "      <th>score</th>\n",
       "      <th>correct</th>\n",
       "    </tr>\n",
       "  </thead>\n",
       "  <tbody>\n",
       "    <tr>\n",
       "      <th>19221</th>\n",
       "      <td>2002763011</td>\n",
       "      <td>20.471458</td>\n",
       "      <td>True</td>\n",
       "    </tr>\n",
       "    <tr>\n",
       "      <th>65005</th>\n",
       "      <td>2292280670</td>\n",
       "      <td>20.354965</td>\n",
       "      <td>True</td>\n",
       "    </tr>\n",
       "    <tr>\n",
       "      <th>44781</th>\n",
       "      <td>2460467776</td>\n",
       "      <td>18.944059</td>\n",
       "      <td>False</td>\n",
       "    </tr>\n",
       "    <tr>\n",
       "      <th>30179</th>\n",
       "      <td>2931200840</td>\n",
       "      <td>18.912713</td>\n",
       "      <td>True</td>\n",
       "    </tr>\n",
       "    <tr>\n",
       "      <th>12836</th>\n",
       "      <td>1531010687</td>\n",
       "      <td>18.733358</td>\n",
       "      <td>True</td>\n",
       "    </tr>\n",
       "    <tr>\n",
       "      <th>19220</th>\n",
       "      <td>2113294746</td>\n",
       "      <td>18.474499</td>\n",
       "      <td>True</td>\n",
       "    </tr>\n",
       "    <tr>\n",
       "      <th>22918</th>\n",
       "      <td>1982531395</td>\n",
       "      <td>18.375133</td>\n",
       "      <td>True</td>\n",
       "    </tr>\n",
       "    <tr>\n",
       "      <th>831</th>\n",
       "      <td>2065480817</td>\n",
       "      <td>18.284965</td>\n",
       "      <td>True</td>\n",
       "    </tr>\n",
       "    <tr>\n",
       "      <th>794</th>\n",
       "      <td>1971571711</td>\n",
       "      <td>17.599239</td>\n",
       "      <td>False</td>\n",
       "    </tr>\n",
       "    <tr>\n",
       "      <th>19305</th>\n",
       "      <td>1971251577</td>\n",
       "      <td>17.438381</td>\n",
       "      <td>True</td>\n",
       "    </tr>\n",
       "    <tr>\n",
       "      <th>35937</th>\n",
       "      <td>2198408217</td>\n",
       "      <td>17.235446</td>\n",
       "      <td>True</td>\n",
       "    </tr>\n",
       "    <tr>\n",
       "      <th>855</th>\n",
       "      <td>2617494523</td>\n",
       "      <td>16.733307</td>\n",
       "      <td>False</td>\n",
       "    </tr>\n",
       "    <tr>\n",
       "      <th>39157</th>\n",
       "      <td>2288460102</td>\n",
       "      <td>16.675994</td>\n",
       "      <td>False</td>\n",
       "    </tr>\n",
       "    <tr>\n",
       "      <th>6347</th>\n",
       "      <td>2187105371</td>\n",
       "      <td>16.642395</td>\n",
       "      <td>True</td>\n",
       "    </tr>\n",
       "    <tr>\n",
       "      <th>27192</th>\n",
       "      <td>2508838091</td>\n",
       "      <td>16.567449</td>\n",
       "      <td>True</td>\n",
       "    </tr>\n",
       "    <tr>\n",
       "      <th>59434</th>\n",
       "      <td>2259452991</td>\n",
       "      <td>16.493052</td>\n",
       "      <td>False</td>\n",
       "    </tr>\n",
       "    <tr>\n",
       "      <th>60732</th>\n",
       "      <td>2921149884</td>\n",
       "      <td>16.434062</td>\n",
       "      <td>False</td>\n",
       "    </tr>\n",
       "    <tr>\n",
       "      <th>9664</th>\n",
       "      <td>1600286171</td>\n",
       "      <td>16.404725</td>\n",
       "      <td>False</td>\n",
       "    </tr>\n",
       "    <tr>\n",
       "      <th>4435</th>\n",
       "      <td>2897873179</td>\n",
       "      <td>16.380467</td>\n",
       "      <td>False</td>\n",
       "    </tr>\n",
       "    <tr>\n",
       "      <th>62105</th>\n",
       "      <td>2766283382</td>\n",
       "      <td>16.230880</td>\n",
       "      <td>False</td>\n",
       "    </tr>\n",
       "  </tbody>\n",
       "</table>\n",
       "</div>"
      ],
      "text/plain": [
       "               id      score  correct\n",
       "19221  2002763011  20.471458     True\n",
       "65005  2292280670  20.354965     True\n",
       "44781  2460467776  18.944059    False\n",
       "30179  2931200840  18.912713     True\n",
       "12836  1531010687  18.733358     True\n",
       "19220  2113294746  18.474499     True\n",
       "22918  1982531395  18.375133     True\n",
       "831    2065480817  18.284965     True\n",
       "794    1971571711  17.599239    False\n",
       "19305  1971251577  17.438381     True\n",
       "35937  2198408217  17.235446     True\n",
       "855    2617494523  16.733307    False\n",
       "39157  2288460102  16.675994    False\n",
       "6347   2187105371  16.642395     True\n",
       "27192  2508838091  16.567449     True\n",
       "59434  2259452991  16.493052    False\n",
       "60732  2921149884  16.434062    False\n",
       "9664   1600286171  16.404725    False\n",
       "4435   2897873179  16.380467    False\n",
       "62105  2766283382  16.230880    False"
      ]
     },
     "execution_count": 22,
     "metadata": {},
     "output_type": "execute_result"
    }
   ],
   "source": [
    "check_correct(best_bm25_model, keywords, \"Computer science\").head(20)"
   ]
  },
  {
   "cell_type": "code",
   "execution_count": null,
   "metadata": {},
   "outputs": [],
   "source": [
    "r[r[\"query\"]==\"\"]"
   ]
  }
 ],
 "metadata": {
  "kernelspec": {
   "display_name": "paper_retrieval-dhADrxe5",
   "language": "python",
   "name": "paper_retrieval-dhadrxe5"
  },
  "language_info": {
   "codemirror_mode": {
    "name": "ipython",
    "version": 3
   },
   "file_extension": ".py",
   "mimetype": "text/x-python",
   "name": "python",
   "nbconvert_exporter": "python",
   "pygments_lexer": "ipython3",
   "version": "3.7.5"
  }
 },
 "nbformat": 4,
 "nbformat_minor": 4
}
