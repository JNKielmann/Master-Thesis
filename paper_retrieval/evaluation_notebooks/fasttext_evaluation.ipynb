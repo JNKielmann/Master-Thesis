{
 "cells": [
  {
   "cell_type": "code",
   "execution_count": 1,
   "metadata": {},
   "outputs": [],
   "source": [
    "%load_ext autoreload\n",
    "%autoreload 2\n",
    "import json\n",
    "import sys\n",
    "import os\n",
    "import pickle\n",
    "import logging\n",
    "logging.basicConfig(level=logging.INFO, filename=\"fasttext.log\")#, stream=sys.stdout)\n",
    "logging.getLogger(\"gensim.models.word2vec\").setLevel(logging.WARNING)\n",
    "\n",
    "import pandas as pd\n",
    "pd.set_option('display.max_columns', None)  \n",
    "pd.set_option('display.expand_frame_repr', False)\n",
    "pd.set_option('max_colwidth', 1000)\n",
    "import numpy as np\n",
    "import matplotlib.pyplot as plt\n",
    "import seaborn as sns\n",
    "sns.set()\n",
    "\n",
    "\n",
    "from tqdm.notebook import tqdm\n",
    "import warnings\n",
    "with warnings.catch_warnings():\n",
    "    warnings.simplefilter(\"ignore\")\n",
    "    tqdm.pandas()\n",
    "\n",
    "module_path = os.path.abspath(os.path.join('..'))\n",
    "if module_path not in sys.path:\n",
    "    sys.path.append(module_path)\n",
    "from evaluation import *\n",
    "from preprocessing import Corpus, BasicPreprocessing, BigramPreprocessor, SpacyPreprocessor, StopWordPreprocessor\n",
    "from retrieval_algorithms.word_vector_retrieval_algorithm import *"
   ]
  },
  {
   "cell_type": "code",
   "execution_count": 2,
   "metadata": {},
   "outputs": [],
   "source": [
    "base_file =  \"../../data/kit_expert_2019_all_papers.csv\"\n",
    "p = [BasicPreprocessing()]\n",
    "papers_basic = Corpus(base_file, p, load_from_cache=True, n_jobs=4)"
   ]
  },
  {
   "cell_type": "code",
   "execution_count": 3,
   "metadata": {},
   "outputs": [],
   "source": [
    "with open(\"../../data/kit_expert_2019_all_keywords.json\", \"r\") as file:\n",
    "    keywords = json.load(file)\n",
    "general_keywords = (\"general keywords\", [k for k in keywords if k[\"level\"]<=1])\n",
    "specific_keywords = (\"specific_keywords\", [k for k in keywords if k[\"level\"]>=2 and len(k[\"paper_ids\"])>=10][:5000])"
   ]
  },
  {
   "cell_type": "code",
   "execution_count": 4,
   "metadata": {},
   "outputs": [],
   "source": [
    "pretrained_models = [\n",
    "    (\"Fasttext from scratch w=5\",\n",
    "     WordVectorRetrievalAlgorithm(\n",
    "        NewlyTrainedEmbedding(window_size=5, embedding_size=300, sg=False, negative=10),\n",
    "        AverageSentenceEmbedding),\n",
    "     papers_basic\n",
    "    ),\n",
    "    (\"Fasttext from scratch w=5\",\n",
    "     WordVectorRetrievalAlgorithm(\n",
    "        NewlyTrainedEmbedding(window_size=5, embedding_size=300, sg=True, negative=10),\n",
    "        AverageSentenceEmbedding),\n",
    "     papers_basic\n",
    "    ),\n",
    "    (\"Fasttext pretrained wiki\",\n",
    "     WordVectorRetrievalAlgorithm(\n",
    "        PreTrainedEmbedding(\"../../data/models/fasttext/wiki.en.bin\"),\n",
    "        AverageSentenceEmbedding),\n",
    "     papers_basic\n",
    "    ),\n",
    "    (\"Fasttext finetuned wiki\",\n",
    "     WordVectorRetrievalAlgorithm(\n",
    "        FineTunedEmbedding(\"../../data/models/fasttext/wiki.en.bin\"),\n",
    "        AverageSentenceEmbedding),\n",
    "     papers_basic\n",
    "    ),\n",
    "]"
   ]
  },
  {
   "cell_type": "code",
   "execution_count": null,
   "metadata": {
    "scrolled": true
   },
   "outputs": [],
   "source": [
    "pretrained_results = train_evaluate_models(pretrained_models, [general_keywords, specific_keywords], n_jobs=len(pretrained_models))"
   ]
  },
  {
   "cell_type": "code",
   "execution_count": null,
   "metadata": {},
   "outputs": [],
   "source": [
    "print(\"mAP scores for pretrained models:\")\n",
    "pretrained_results"
   ]
  },
  {
   "cell_type": "code",
   "execution_count": null,
   "metadata": {},
   "outputs": [],
   "source": [
    "search_window_size_models = [\n",
    "    (f\"Fasttext from scratch w={window_size}\",\n",
    "     WordVectorRetrievalAlgorithm(\n",
    "         NewlyTrainedEmbedding(window_size=window_size, embedding_size=300, sg=True, negative=10),\n",
    "         AverageSentenceEmbedding),\n",
    "     papers_basic)\n",
    "    for window_size in [3,5,7,10,15,20,30,40,50,60,70,80]\n",
    "]"
   ]
  },
  {
   "cell_type": "code",
   "execution_count": null,
   "metadata": {},
   "outputs": [],
   "source": [
    "search_window_size_results = train_evaluate_models(search_window_size_models, [general_keywords, specific_keywords], n_jobs=8)"
   ]
  },
  {
   "cell_type": "code",
   "execution_count": null,
   "metadata": {},
   "outputs": [],
   "source": [
    "print(\"mAP scores for window size search models:\")\n",
    "search_window_size_results"
   ]
  },
  {
   "cell_type": "code",
   "execution_count": null,
   "metadata": {},
   "outputs": [],
   "source": [
    "search_vec_size_models = [\n",
    "    (f\"Fasttext from scratch s={embedding_size}\",\n",
    "     WordVectorRetrievalAlgorithm(\n",
    "         NewlyTrainedEmbedding(window_size=60, embedding_size=embedding_size, sg=True, negative=10),\n",
    "         AverageSentenceEmbedding),\n",
    "     papers_basic)\n",
    "    for embedding_size in [100,200,300,400,500,600,700,800]\n",
    "]"
   ]
  },
  {
   "cell_type": "code",
   "execution_count": null,
   "metadata": {},
   "outputs": [],
   "source": [
    "search_vec_size_results = train_evaluate_models(search_vec_size_models, [general_keywords, specific_keywords], n_jobs=4)"
   ]
  },
  {
   "cell_type": "code",
   "execution_count": null,
   "metadata": {},
   "outputs": [],
   "source": [
    "print(\"mAP scores for embedding vector size search models:\")\n",
    "search_vec_size_results"
   ]
  },
  {
   "cell_type": "code",
   "execution_count": null,
   "metadata": {},
   "outputs": [],
   "source": [
    "sentence_embedding_models = [\n",
    "    (\"Fasttext from scratch average embedding\", partial(\n",
    "        WordEmbeddingRetrieval.from_new_embedding,\n",
    "        corpus = papers_basic_nostopwords,\n",
    "        sentence_embedder = AverageSentenceEmbedding,\n",
    "        window_size=5,\n",
    "        embedding_size=300)\n",
    "    ),\n",
    "    (\"Fasttext from scratch idf embedding\", partial(\n",
    "        WordEmbeddingRetrieval.from_new_embedding,\n",
    "        corpus = papers_basic_nostopwords,\n",
    "        sentence_embedder = TfidfSentenceEmbedding,\n",
    "        window_size=5,\n",
    "        embedding_size=300)\n",
    "    ),\n",
    "    (\"Fasttext from scratch sif embedding\", partial(\n",
    "        WordEmbeddingRetrieval.from_new_embedding,\n",
    "        corpus = papers_basic_nostopwords,\n",
    "        sentence_embedder = SifSentenceEmbedding,\n",
    "        window_size=5,\n",
    "        embedding_size=300)\n",
    "    )\n",
    "]"
   ]
  },
  {
   "cell_type": "code",
   "execution_count": null,
   "metadata": {},
   "outputs": [],
   "source": [
    "sentence_embedding_results = train_evaluate_models(sentence_embedding_models, [general_keywords, specific_keywords], n_jobs=4)"
   ]
  },
  {
   "cell_type": "code",
   "execution_count": null,
   "metadata": {},
   "outputs": [],
   "source": [
    "print(\"mAP scores for sentence embedding models:\")\n",
    "sentence_embedding_results"
   ]
  },
  {
   "cell_type": "code",
   "execution_count": null,
   "metadata": {},
   "outputs": [],
   "source": [
    "best_model = [\n",
    "    (\"Fasttext best for general\", partial(\n",
    "        WordEmbeddingRetrieval.from_new_embedding,\n",
    "        corpus = papers_basic_nostopwords,\n",
    "        sentence_embedder = TfidfSentenceEmbedding,\n",
    "        window_size=29,\n",
    "        embedding_size=400)\n",
    "    ),\n",
    "    (\"Fasttext best for specific\", partial(\n",
    "        WordEmbeddingRetrieval.from_new_embedding,\n",
    "        corpus = papers_basic_nostopwords,\n",
    "        sentence_embedder = TfidfSentenceEmbedding,\n",
    "        window_size=39,\n",
    "        embedding_size=800)\n",
    "    ),\n",
    "]"
   ]
  },
  {
   "cell_type": "code",
   "execution_count": null,
   "metadata": {},
   "outputs": [],
   "source": [
    "best_results = train_evaluate_models(best_model, [general_keywords, specific_keywords], n_jobs=4)"
   ]
  },
  {
   "cell_type": "code",
   "execution_count": 26,
   "metadata": {},
   "outputs": [
    {
     "name": "stdout",
     "output_type": "stream",
     "text": [
      "mAP scores for best model:\n"
     ]
    },
    {
     "data": {
      "text/html": [
       "<div>\n",
       "<style scoped>\n",
       "    .dataframe tbody tr th:only-of-type {\n",
       "        vertical-align: middle;\n",
       "    }\n",
       "\n",
       "    .dataframe tbody tr th {\n",
       "        vertical-align: top;\n",
       "    }\n",
       "\n",
       "    .dataframe thead th {\n",
       "        text-align: right;\n",
       "    }\n",
       "</style>\n",
       "<table border=\"1\" class=\"dataframe\">\n",
       "  <thead>\n",
       "    <tr style=\"text-align: right;\">\n",
       "      <th></th>\n",
       "      <th>general keywords</th>\n",
       "      <th>specific_keywords</th>\n",
       "    </tr>\n",
       "  </thead>\n",
       "  <tbody>\n",
       "    <tr>\n",
       "      <th>Fasttext best for general</th>\n",
       "      <td>0.101718</td>\n",
       "      <td>0.200006</td>\n",
       "    </tr>\n",
       "    <tr>\n",
       "      <th>Fasttext best for specific</th>\n",
       "      <td>0.099551</td>\n",
       "      <td>0.222662</td>\n",
       "    </tr>\n",
       "  </tbody>\n",
       "</table>\n",
       "</div>"
      ],
      "text/plain": [
       "                            general keywords  specific_keywords\n",
       "Fasttext best for general           0.101718           0.200006\n",
       "Fasttext best for specific          0.099551           0.222662"
      ]
     },
     "execution_count": 26,
     "metadata": {},
     "output_type": "execute_result"
    }
   ],
   "source": [
    "print(\"mAP scores for best model:\")\n",
    "best_results"
   ]
  },
  {
   "cell_type": "code",
   "execution_count": 4,
   "metadata": {},
   "outputs": [],
   "source": [
    "from query_expansion_retrieval import QueryExpansionRetrieval"
   ]
  },
  {
   "cell_type": "code",
   "execution_count": 5,
   "metadata": {},
   "outputs": [],
   "source": [
    "with open(\"../data/keyword_hierarchy.json\", 'r') as file:\n",
    "    keyword_hierarchy = json.load(file)"
   ]
  },
  {
   "cell_type": "code",
   "execution_count": null,
   "metadata": {},
   "outputs": [],
   "source": [
    "fasttext_model = WordEmbeddingRetrieval.from_new_embedding(\n",
    "        corpus = papers_basic_nostopwords,\n",
    "        sentence_embedder = TfidfSentenceEmbedding,\n",
    "        window_size=29,\n",
    "        embedding_size=400)"
   ]
  },
  {
   "cell_type": "code",
   "execution_count": null,
   "metadata": {},
   "outputs": [],
   "source": [
    "query_expansion_models = [\n",
    "    (\"qe fasttext expand all\", \n",
    "     partial(QueryExpansionRetrieval, \n",
    "             wrapped_model=fasttext_model, \n",
    "             expansion_hierarchy=keyword_hierarchy,\n",
    "             only_expand_once=False,\n",
    "             separate_weighting=False)),\n",
    "    (\"qe fasttext expand first\",\n",
    "     partial(QueryExpansionRetrieval, \n",
    "             wrapped_model=fasttext_model, \n",
    "             expansion_hierarchy=keyword_hierarchy,\n",
    "             only_expand_once=True,\n",
    "             separate_weighting=False)),\n",
    "    (\"qe fasttext expand all separate weighting\",\n",
    "     partial(QueryExpansionRetrieval, \n",
    "             wrapped_model=fasttext_model, \n",
    "             expansion_hierarchy=keyword_hierarchy,\n",
    "             only_expand_once=False,\n",
    "             separate_weighting=True)),\n",
    "    (\"qe fasttext expand first separate weighting\",\n",
    "     partial(QueryExpansionRetrieval, \n",
    "             wrapped_model=fasttext_model, \n",
    "             expansion_hierarchy=keyword_hierarchy,\n",
    "             only_expand_once=True,\n",
    "             separate_weighting=True))\n",
    "]"
   ]
  },
  {
   "cell_type": "code",
   "execution_count": null,
   "metadata": {},
   "outputs": [],
   "source": [
    "query_expansion_results = train_evaluate_models(query_expansion_models, [general_keywords, specific_keywords], n_jobs=1)"
   ]
  },
  {
   "cell_type": "code",
   "execution_count": 27,
   "metadata": {},
   "outputs": [
    {
     "name": "stdout",
     "output_type": "stream",
     "text": [
      "mAP scores for query expansion models:\n"
     ]
    },
    {
     "data": {
      "text/html": [
       "<div>\n",
       "<style scoped>\n",
       "    .dataframe tbody tr th:only-of-type {\n",
       "        vertical-align: middle;\n",
       "    }\n",
       "\n",
       "    .dataframe tbody tr th {\n",
       "        vertical-align: top;\n",
       "    }\n",
       "\n",
       "    .dataframe thead th {\n",
       "        text-align: right;\n",
       "    }\n",
       "</style>\n",
       "<table border=\"1\" class=\"dataframe\">\n",
       "  <thead>\n",
       "    <tr style=\"text-align: right;\">\n",
       "      <th></th>\n",
       "      <th>general keywords</th>\n",
       "      <th>specific_keywords</th>\n",
       "    </tr>\n",
       "  </thead>\n",
       "  <tbody>\n",
       "    <tr>\n",
       "      <th>qe fasttext expand all</th>\n",
       "      <td>0.125196</td>\n",
       "      <td>0.186611</td>\n",
       "    </tr>\n",
       "    <tr>\n",
       "      <th>qe fasttext expand first</th>\n",
       "      <td>0.150841</td>\n",
       "      <td>0.190594</td>\n",
       "    </tr>\n",
       "    <tr>\n",
       "      <th>qe fasttext expand all separate weighting</th>\n",
       "      <td>0.137301</td>\n",
       "      <td>0.199407</td>\n",
       "    </tr>\n",
       "    <tr>\n",
       "      <th>qe fasttext expand first separate weighting</th>\n",
       "      <td>0.145328</td>\n",
       "      <td>0.199800</td>\n",
       "    </tr>\n",
       "  </tbody>\n",
       "</table>\n",
       "</div>"
      ],
      "text/plain": [
       "                                             general keywords  \\\n",
       "qe fasttext expand all                               0.125196   \n",
       "qe fasttext expand first                             0.150841   \n",
       "qe fasttext expand all separate weighting            0.137301   \n",
       "qe fasttext expand first separate weighting          0.145328   \n",
       "\n",
       "                                             specific_keywords  \n",
       "qe fasttext expand all                                0.186611  \n",
       "qe fasttext expand first                              0.190594  \n",
       "qe fasttext expand all separate weighting             0.199407  \n",
       "qe fasttext expand first separate weighting           0.199800  "
      ]
     },
     "execution_count": 27,
     "metadata": {},
     "output_type": "execute_result"
    }
   ],
   "source": [
    "print(\"mAP scores for query expansion models:\")\n",
    "query_expansion_results"
   ]
  },
  {
   "cell_type": "code",
   "execution_count": null,
   "metadata": {},
   "outputs": [
    {
     "name": "stdout",
     "output_type": "stream",
     "text": [
      "from_new_embedding\n"
     ]
    }
   ],
   "source": [
    "best_fasttext_model = WordEmbeddingRetrieval.from_new_embedding(\n",
    "        corpus = papers_basic_nostopwords,\n",
    "        sentence_embedder = TfidfSentenceEmbedding,\n",
    "        window_size=29,\n",
    "        embedding_size=400)\n",
    "best_fasttext_model.save(\"../data/models/fasttext/fasttext_w29_s400_tfidf.model\")"
   ]
  },
  {
   "cell_type": "code",
   "execution_count": null,
   "metadata": {},
   "outputs": [],
   "source": [
    "best_qe_model = QueryExpansionRetrieval(\n",
    "    wrapped_model=best_fasttext_model,\n",
    "    expansion_hierarchy=keyword_hierarchy,\n",
    "    only_expand_once=True,\n",
    "    separate_weighting=False)\n",
    "best_qe_model.save(\"../data/models/fasttext/qe_best_fasttext_exponce.model\")"
   ]
  },
  {
   "cell_type": "code",
   "execution_count": null,
   "metadata": {},
   "outputs": [],
   "source": []
  },
  {
   "cell_type": "code",
   "execution_count": null,
   "metadata": {},
   "outputs": [],
   "source": []
  }
 ],
 "metadata": {
  "kernelspec": {
   "display_name": "paper_retrieval-dhADrxe5",
   "language": "python",
   "name": "paper_retrieval-dhadrxe5"
  },
  "language_info": {
   "codemirror_mode": {
    "name": "ipython",
    "version": 3
   },
   "file_extension": ".py",
   "mimetype": "text/x-python",
   "name": "python",
   "nbconvert_exporter": "python",
   "pygments_lexer": "ipython3",
   "version": "3.7.5"
  }
 },
 "nbformat": 4,
 "nbformat_minor": 4
}
