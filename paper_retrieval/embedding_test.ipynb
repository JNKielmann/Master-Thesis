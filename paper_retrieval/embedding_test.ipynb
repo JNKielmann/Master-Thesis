{
 "cells": [
  {
   "cell_type": "code",
   "execution_count": 9,
   "metadata": {},
   "outputs": [
    {
     "name": "stdout",
     "output_type": "stream",
     "text": [
      "The autoreload extension is already loaded. To reload it, use:\n",
      "  %reload_ext autoreload\n"
     ]
    }
   ],
   "source": [
    "%load_ext autoreload\n",
    "%autoreload 2\n",
    "import numpy as np\n",
    "from gensim.models.wrappers import FastText\n",
    "from gensim.models import KeyedVectors\n",
    "\n",
    "from tqdm.notebook import tqdm\n",
    "tqdm.pandas()\n",
    "\n",
    "from evaluation import *\n",
    "from preprocessing import BasicPreprocessing, StopWordPreprocessor, Corpus\n",
    "from word_embedding_retrieval import WordEmbeddingRetrieval"
   ]
  },
  {
   "cell_type": "code",
   "execution_count": 10,
   "metadata": {},
   "outputs": [],
   "source": [
    "base_file =  \"../data/kit_expert_2017_papers.csv\"\n",
    "p = [BasicPreprocessing(), StopWordPreprocessor()]\n",
    "papers_basic_nostopwords = Corpus(base_file, p, load_from_cache=True, n_jobs=1)"
   ]
  },
  {
   "cell_type": "code",
   "execution_count": 11,
   "metadata": {},
   "outputs": [],
   "source": [
    "import json\n",
    "with open(\"../data/kit_expert_2017_keywords.json\", \"r\") as file:\n",
    "    keywords = json.load(file)\n",
    "general_keywords = (\"general keywords\", [k for k in keywords if k[\"level\"]<=1 ])\n",
    "specific_keywords = (\"specific_keywords\", [k for k in keywords if k[\"level\"]>=2 ][:5000])"
   ]
  },
  {
   "cell_type": "code",
   "execution_count": 12,
   "metadata": {},
   "outputs": [],
   "source": [
    "models = [\n",
    "    (\"Fasttext pretrained wiki\", partial(\n",
    "        WordEmbeddingRetrieval.from_pretrained_embedding,\n",
    "        corpus = papers_basic_nostopwords,\n",
    "        pretrained_model_path=\"../data/models/fasttext/wiki.en.bin\")\n",
    "    ),\n",
    "    (\"Fasttext finetuned wiki\", partial(\n",
    "        WordEmbeddingRetrieval.from_finetuned_embedding,\n",
    "        corpus = papers_basic_nostopwords,\n",
    "        pretrained_model_path=\"../data/models/fasttext/wiki.en.bin\")\n",
    "    ),\n",
    "    (\"Fasttext from scratch w=3\", partial(\n",
    "        WordEmbeddingRetrieval.from_new_embedding,\n",
    "        corpus = papers_basic_nostopwords,\n",
    "        window_size=3)\n",
    "    ),\n",
    "    (\"Fasttext from scratch w=5\", partial(\n",
    "        WordEmbeddingRetrieval.from_new_embedding,\n",
    "        corpus = papers_basic_nostopwords,\n",
    "        window_size=5)\n",
    "    ),\n",
    "    (\"Fasttext from scratch w=7\", partial(\n",
    "        WordEmbeddingRetrieval.from_new_embedding,\n",
    "        corpus = papers_basic_nostopwords,\n",
    "        window_size=7)\n",
    "    ),\n",
    "    (\"Fasttext from scratch w=9\", partial(\n",
    "        WordEmbeddingRetrieval.from_new_embedding,\n",
    "        corpus = papers_basic_nostopwords,\n",
    "        window_size=9)\n",
    "    ),\n",
    "]"
   ]
  },
  {
   "cell_type": "code",
   "execution_count": null,
   "metadata": {},
   "outputs": [],
   "source": [
    "results = train_evaluate_models(models, [general_keywords, specific_keywords])"
   ]
  },
  {
   "cell_type": "code",
   "execution_count": null,
   "metadata": {},
   "outputs": [],
   "source": [
    "print(\"mAP scores for models:\")\n",
    "results"
   ]
  },
  {
   "cell_type": "code",
   "execution_count": 8,
   "metadata": {},
   "outputs": [
    {
     "data": {
      "text/html": [
       "<div>\n",
       "<style scoped>\n",
       "    .dataframe tbody tr th:only-of-type {\n",
       "        vertical-align: middle;\n",
       "    }\n",
       "\n",
       "    .dataframe tbody tr th {\n",
       "        vertical-align: top;\n",
       "    }\n",
       "\n",
       "    .dataframe thead th {\n",
       "        text-align: right;\n",
       "    }\n",
       "</style>\n",
       "<table border=\"1\" class=\"dataframe\">\n",
       "  <thead>\n",
       "    <tr style=\"text-align: right;\">\n",
       "      <th></th>\n",
       "      <th>id</th>\n",
       "      <th>score</th>\n",
       "      <th>correct</th>\n",
       "    </tr>\n",
       "  </thead>\n",
       "  <tbody>\n",
       "    <tr>\n",
       "      <th>0</th>\n",
       "      <td>2620607813</td>\n",
       "      <td>0.789564</td>\n",
       "      <td>True</td>\n",
       "    </tr>\n",
       "    <tr>\n",
       "      <th>1</th>\n",
       "      <td>2766738555</td>\n",
       "      <td>0.786661</td>\n",
       "      <td>True</td>\n",
       "    </tr>\n",
       "    <tr>\n",
       "      <th>2</th>\n",
       "      <td>2097775371</td>\n",
       "      <td>0.781397</td>\n",
       "      <td>False</td>\n",
       "    </tr>\n",
       "    <tr>\n",
       "      <th>3</th>\n",
       "      <td>2397534874</td>\n",
       "      <td>0.780992</td>\n",
       "      <td>True</td>\n",
       "    </tr>\n",
       "    <tr>\n",
       "      <th>4</th>\n",
       "      <td>2081802021</td>\n",
       "      <td>0.776456</td>\n",
       "      <td>True</td>\n",
       "    </tr>\n",
       "    <tr>\n",
       "      <th>5</th>\n",
       "      <td>2233968761</td>\n",
       "      <td>0.773032</td>\n",
       "      <td>True</td>\n",
       "    </tr>\n",
       "    <tr>\n",
       "      <th>6</th>\n",
       "      <td>1022989747</td>\n",
       "      <td>0.772094</td>\n",
       "      <td>True</td>\n",
       "    </tr>\n",
       "    <tr>\n",
       "      <th>7</th>\n",
       "      <td>2966648307</td>\n",
       "      <td>0.770548</td>\n",
       "      <td>True</td>\n",
       "    </tr>\n",
       "    <tr>\n",
       "      <th>8</th>\n",
       "      <td>2891889422</td>\n",
       "      <td>0.770430</td>\n",
       "      <td>True</td>\n",
       "    </tr>\n",
       "    <tr>\n",
       "      <th>9</th>\n",
       "      <td>1561147972</td>\n",
       "      <td>0.762731</td>\n",
       "      <td>False</td>\n",
       "    </tr>\n",
       "  </tbody>\n",
       "</table>\n",
       "</div>"
      ],
      "text/plain": [
       "           id     score  correct\n",
       "0  2620607813  0.789564     True\n",
       "1  2766738555  0.786661     True\n",
       "2  2097775371  0.781397    False\n",
       "3  2397534874  0.780992     True\n",
       "4  2081802021  0.776456     True\n",
       "5  2233968761  0.773032     True\n",
       "6  1022989747  0.772094     True\n",
       "7  2966648307  0.770548     True\n",
       "8  2891889422  0.770430     True\n",
       "9  1561147972  0.762731    False"
      ]
     },
     "execution_count": 8,
     "metadata": {},
     "output_type": "execute_result"
    }
   ],
   "source": [
    "nn_papers = [k for k in keywords if k[\"keyword\"] == \"artificial neural network\"][0][\"paper_ids\"]\n",
    "ranking = embedding_model.get_ranked_documents(\"artificial neural network\")\n",
    "ranking[\"correct\"] = ranking[\"id\"].isin(nn_papers)\n",
    "ranking[:10]"
   ]
  },
  {
   "cell_type": "code",
   "execution_count": 9,
   "metadata": {},
   "outputs": [
    {
     "data": {
      "text/plain": [
       "0.44634393717335463"
      ]
     },
     "execution_count": 9,
     "metadata": {},
     "output_type": "execute_result"
    }
   ],
   "source": [
    "from scipy.spatial.distance import cosine\n",
    "cosine(embedding_model.document_lookup.get_vector(2738221500), embedding_model.model[[\"artificial\"]].mean(axis=0))"
   ]
  },
  {
   "cell_type": "code",
   "execution_count": 10,
   "metadata": {},
   "outputs": [
    {
     "data": {
      "text/plain": [
       "0.4576468073089517"
      ]
     },
     "execution_count": 10,
     "metadata": {},
     "output_type": "execute_result"
    }
   ],
   "source": [
    "cosine(embedding_model.document_lookup.get_vector(2938948885), embedding_model.model[[\"artificial\"]].mean(axis=0))"
   ]
  },
  {
   "cell_type": "code",
   "execution_count": null,
   "metadata": {},
   "outputs": [],
   "source": [
    "embedding_model.model.similarity(embedding_model.model[2938948885])"
   ]
  },
  {
   "cell_type": "code",
   "execution_count": 11,
   "metadata": {},
   "outputs": [
    {
     "data": {
      "application/vnd.jupyter.widget-view+json": {
       "model_id": "d862de3410aa417ba625a070cb48a65e",
       "version_major": 2,
       "version_minor": 0
      },
      "text/plain": [
       "HBox(children=(IntProgress(value=0, layout=Layout(flex='2'), max=1), HTML(value='')), layout=Layout(display='i…"
      ]
     },
     "metadata": {},
     "output_type": "display_data"
    },
    {
     "name": "stdout",
     "output_type": "stream",
     "text": [
      "\n"
     ]
    },
    {
     "data": {
      "text/plain": [
       "{'test': 0.2962911761327195}"
      ]
     },
     "execution_count": 11,
     "metadata": {},
     "output_type": "execute_result"
    }
   ],
   "source": [
    "evaluate_model(embedding_model, [(\"test\", [k for k in keywords if k[\"keyword\"] == \"artificial neural network\"])])"
   ]
  },
  {
   "cell_type": "code",
   "execution_count": 12,
   "metadata": {},
   "outputs": [
    {
     "data": {
      "application/vnd.jupyter.widget-view+json": {
       "model_id": "ff9bfd9d38f1460ea9d1609dec775539",
       "version_major": 2,
       "version_minor": 0
      },
      "text/plain": [
       "HBox(children=(IntProgress(value=0, layout=Layout(flex='2'), max=3293), HTML(value='')), layout=Layout(display…"
      ]
     },
     "metadata": {},
     "output_type": "display_data"
    },
    {
     "name": "stdout",
     "output_type": "stream",
     "text": [
      "\n"
     ]
    },
    {
     "data": {
      "text/plain": [
       "{'general keywords': 0.09990206430413857,\n",
       " 'specific_keywords': 0.21546136783117614}"
      ]
     },
     "execution_count": 12,
     "metadata": {},
     "output_type": "execute_result"
    }
   ],
   "source": [
    "evaluate_model(embedding_model, [general_keywords, specific_keywords])"
   ]
  },
  {
   "cell_type": "code",
   "execution_count": 80,
   "metadata": {},
   "outputs": [
    {
     "data": {
      "application/vnd.jupyter.widget-view+json": {
       "model_id": "fa9c31454c584bf18284f25b42dfc076",
       "version_major": 2,
       "version_minor": 0
      },
      "text/plain": [
       "HBox(children=(IntProgress(value=0, layout=Layout(flex='2'), max=3293), HTML(value='')), layout=Layout(display…"
      ]
     },
     "metadata": {},
     "output_type": "display_data"
    },
    {
     "name": "stdout",
     "output_type": "stream",
     "text": [
      "\n"
     ]
    },
    {
     "data": {
      "text/plain": [
       "{'general keywords': 0.07690513903082963,\n",
       " 'specific_keywords': 0.20399510064914594}"
      ]
     },
     "execution_count": 80,
     "metadata": {},
     "output_type": "execute_result"
    }
   ],
   "source": [
    "evaluate_model(embedding_model, [general_keywords, specific_keywords])"
   ]
  },
  {
   "cell_type": "code",
   "execution_count": null,
   "metadata": {},
   "outputs": [],
   "source": []
  }
 ],
 "metadata": {
  "kernelspec": {
   "display_name": "Python 3",
   "language": "python",
   "name": "python3"
  },
  "language_info": {
   "codemirror_mode": {
    "name": "ipython",
    "version": 3
   },
   "file_extension": ".py",
   "mimetype": "text/x-python",
   "name": "python",
   "nbconvert_exporter": "python",
   "pygments_lexer": "ipython3",
   "version": "3.7.4"
  }
 },
 "nbformat": 4,
 "nbformat_minor": 4
}
