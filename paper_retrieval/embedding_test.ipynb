{
 "cells": [
  {
   "cell_type": "code",
   "execution_count": 1,
   "metadata": {},
   "outputs": [
    {
     "name": "stderr",
     "output_type": "stream",
     "text": [
      "/root/.local/share/virtualenvs/paper_retrieval-dhADrxe5/lib/python3.7/site-packages/tqdm/std.py:651: FutureWarning: The Panel class is removed from pandas. Accessing it from the top-level namespace will also be removed in the next version\n",
      "  from pandas import Panel\n"
     ]
    }
   ],
   "source": [
    "%load_ext autoreload\n",
    "%autoreload 2\n",
    "import numpy as np\n",
    "from gensim.models.wrappers import FastText\n",
    "from gensim.models import KeyedVectors\n",
    "\n",
    "from tqdm.notebook import tqdm\n",
    "tqdm.pandas()\n",
    "\n",
    "from evaluation import *\n",
    "from preprocessing import BasicPreprocessing, StopWordPreprocessor, Corpus\n",
    "from word_embedding_retrieval import WordEmbeddingRetrieval"
   ]
  },
  {
   "cell_type": "code",
   "execution_count": 2,
   "metadata": {},
   "outputs": [],
   "source": [
    "base_file =  \"../data/kit_expert_2017_papers.csv\"\n",
    "p = [BasicPreprocessing(), StopWordPreprocessor()]\n",
    "papers_basic_nostopwords = Corpus(base_file, p, load_from_cache=True, n_jobs=1)"
   ]
  },
  {
   "cell_type": "code",
   "execution_count": 3,
   "metadata": {},
   "outputs": [],
   "source": [
    "import json\n",
    "with open(\"../data/kit_expert_2017_keywords.json\", \"r\") as file:\n",
    "    keywords = json.load(file)\n",
    "general_keywords = (\"general keywords\", [k for k in keywords if k[\"level\"]<=1 ])\n",
    "specific_keywords = (\"specific_keywords\", [k for k in keywords if k[\"level\"]>=2 ][:5000])"
   ]
  },
  {
   "cell_type": "code",
   "execution_count": null,
   "metadata": {},
   "outputs": [],
   "source": [
    "models = [\n",
    "#     (\"Fasttext from scratch w=51\", partial(\n",
    "#         WordEmbeddingRetrieval.from_new_embedding,\n",
    "#         corpus = papers_basic_nostopwords,\n",
    "#         window_size=51)\n",
    "#     ),\n",
    "#     (\"Fasttext from scratch w=71\", partial(\n",
    "#         WordEmbeddingRetrieval.from_new_embedding,\n",
    "#         corpus = papers_basic_nostopwords,\n",
    "#         window_size=71)\n",
    "#     ),\n",
    "    (\"Fasttext from scratch w=91\", partial(\n",
    "        WordEmbeddingRetrieval.from_new_embedding,\n",
    "        corpus = papers_basic_nostopwords,\n",
    "        window_size=91)\n",
    "    ),\n",
    "]"
   ]
  },
  {
   "cell_type": "code",
   "execution_count": null,
   "metadata": {},
   "outputs": [],
   "source": [
    "results4 = train_evaluate_models(models, [general_keywords, specific_keywords], n_jobs=1)"
   ]
  },
  {
   "cell_type": "code",
   "execution_count": null,
   "metadata": {},
   "outputs": [],
   "source": [
    "results4"
   ]
  },
  {
   "cell_type": "code",
   "execution_count": 19,
   "metadata": {},
   "outputs": [
    {
     "data": {
      "text/html": [
       "<div>\n",
       "<style scoped>\n",
       "    .dataframe tbody tr th:only-of-type {\n",
       "        vertical-align: middle;\n",
       "    }\n",
       "\n",
       "    .dataframe tbody tr th {\n",
       "        vertical-align: top;\n",
       "    }\n",
       "\n",
       "    .dataframe thead th {\n",
       "        text-align: right;\n",
       "    }\n",
       "</style>\n",
       "<table border=\"1\" class=\"dataframe\">\n",
       "  <thead>\n",
       "    <tr style=\"text-align: right;\">\n",
       "      <th></th>\n",
       "      <th>general keywords</th>\n",
       "      <th>specific_keywords</th>\n",
       "    </tr>\n",
       "  </thead>\n",
       "  <tbody>\n",
       "    <tr>\n",
       "      <th>Fasttext from scratch w=51</th>\n",
       "      <td>0.122398</td>\n",
       "      <td>0.275300</td>\n",
       "    </tr>\n",
       "    <tr>\n",
       "      <th>Fasttext from scratch w=71</th>\n",
       "      <td>0.120828</td>\n",
       "      <td>0.275880</td>\n",
       "    </tr>\n",
       "    <tr>\n",
       "      <th>Fasttext from scratch w=91</th>\n",
       "      <td>0.121188</td>\n",
       "      <td>0.276131</td>\n",
       "    </tr>\n",
       "  </tbody>\n",
       "</table>\n",
       "</div>"
      ],
      "text/plain": [
       "                            general keywords  specific_keywords\n",
       "Fasttext from scratch w=51          0.122398           0.275300\n",
       "Fasttext from scratch w=71          0.120828           0.275880\n",
       "Fasttext from scratch w=91          0.121188           0.276131"
      ]
     },
     "execution_count": 19,
     "metadata": {},
     "output_type": "execute_result"
    }
   ],
   "source": [
    "results3"
   ]
  },
  {
   "cell_type": "code",
   "execution_count": 8,
   "metadata": {},
   "outputs": [
    {
     "data": {
      "text/html": [
       "<div>\n",
       "<style scoped>\n",
       "    .dataframe tbody tr th:only-of-type {\n",
       "        vertical-align: middle;\n",
       "    }\n",
       "\n",
       "    .dataframe tbody tr th {\n",
       "        vertical-align: top;\n",
       "    }\n",
       "\n",
       "    .dataframe thead th {\n",
       "        text-align: right;\n",
       "    }\n",
       "</style>\n",
       "<table border=\"1\" class=\"dataframe\">\n",
       "  <thead>\n",
       "    <tr style=\"text-align: right;\">\n",
       "      <th></th>\n",
       "      <th>general keywords</th>\n",
       "      <th>specific_keywords</th>\n",
       "    </tr>\n",
       "  </thead>\n",
       "  <tbody>\n",
       "    <tr>\n",
       "      <th>Fasttext from scratch w=11</th>\n",
       "      <td>0.119090</td>\n",
       "      <td>0.240279</td>\n",
       "    </tr>\n",
       "    <tr>\n",
       "      <th>Fasttext from scratch w=13</th>\n",
       "      <td>0.118145</td>\n",
       "      <td>0.246839</td>\n",
       "    </tr>\n",
       "    <tr>\n",
       "      <th>Fasttext from scratch w=15</th>\n",
       "      <td>0.118815</td>\n",
       "      <td>0.251334</td>\n",
       "    </tr>\n",
       "    <tr>\n",
       "      <th>Fasttext from scratch w=17</th>\n",
       "      <td>0.120746</td>\n",
       "      <td>0.256503</td>\n",
       "    </tr>\n",
       "    <tr>\n",
       "      <th>Fasttext from scratch w=31</th>\n",
       "      <td>0.122346</td>\n",
       "      <td>0.270546</td>\n",
       "    </tr>\n",
       "  </tbody>\n",
       "</table>\n",
       "</div>"
      ],
      "text/plain": [
       "                            general keywords  specific_keywords\n",
       "Fasttext from scratch w=11          0.119090           0.240279\n",
       "Fasttext from scratch w=13          0.118145           0.246839\n",
       "Fasttext from scratch w=15          0.118815           0.251334\n",
       "Fasttext from scratch w=17          0.120746           0.256503\n",
       "Fasttext from scratch w=31          0.122346           0.270546"
      ]
     },
     "execution_count": 8,
     "metadata": {},
     "output_type": "execute_result"
    }
   ],
   "source": [
    "results2"
   ]
  },
  {
   "cell_type": "code",
   "execution_count": 13,
   "metadata": {},
   "outputs": [
    {
     "name": "stdout",
     "output_type": "stream",
     "text": [
      "mAP scores for models:\n"
     ]
    },
    {
     "data": {
      "text/html": [
       "<div>\n",
       "<style scoped>\n",
       "    .dataframe tbody tr th:only-of-type {\n",
       "        vertical-align: middle;\n",
       "    }\n",
       "\n",
       "    .dataframe tbody tr th {\n",
       "        vertical-align: top;\n",
       "    }\n",
       "\n",
       "    .dataframe thead th {\n",
       "        text-align: right;\n",
       "    }\n",
       "</style>\n",
       "<table border=\"1\" class=\"dataframe\">\n",
       "  <thead>\n",
       "    <tr style=\"text-align: right;\">\n",
       "      <th></th>\n",
       "      <th>general keywords</th>\n",
       "      <th>specific_keywords</th>\n",
       "    </tr>\n",
       "  </thead>\n",
       "  <tbody>\n",
       "    <tr>\n",
       "      <th>Fasttext pretrained wiki</th>\n",
       "      <td>0.077357</td>\n",
       "      <td>0.131678</td>\n",
       "    </tr>\n",
       "    <tr>\n",
       "      <th>Fasttext finetuned wiki</th>\n",
       "      <td>0.096754</td>\n",
       "      <td>0.202513</td>\n",
       "    </tr>\n",
       "    <tr>\n",
       "      <th>Fasttext from scratch w=3</th>\n",
       "      <td>0.076174</td>\n",
       "      <td>0.182242</td>\n",
       "    </tr>\n",
       "    <tr>\n",
       "      <th>Fasttext from scratch w=5</th>\n",
       "      <td>0.082593</td>\n",
       "      <td>0.205955</td>\n",
       "    </tr>\n",
       "    <tr>\n",
       "      <th>Fasttext from scratch w=7</th>\n",
       "      <td>0.087787</td>\n",
       "      <td>0.219060</td>\n",
       "    </tr>\n",
       "    <tr>\n",
       "      <th>Fasttext from scratch w=9</th>\n",
       "      <td>0.090182</td>\n",
       "      <td>0.229861</td>\n",
       "    </tr>\n",
       "  </tbody>\n",
       "</table>\n",
       "</div>"
      ],
      "text/plain": [
       "                           general keywords  specific_keywords\n",
       "Fasttext pretrained wiki           0.077357           0.131678\n",
       "Fasttext finetuned wiki            0.096754           0.202513\n",
       "Fasttext from scratch w=3          0.076174           0.182242\n",
       "Fasttext from scratch w=5          0.082593           0.205955\n",
       "Fasttext from scratch w=7          0.087787           0.219060\n",
       "Fasttext from scratch w=9          0.090182           0.229861"
      ]
     },
     "execution_count": 13,
     "metadata": {},
     "output_type": "execute_result"
    }
   ],
   "source": [
    "print(\"mAP scores for models:\")\n",
    "results"
   ]
  }
 ],
 "metadata": {
  "kernelspec": {
   "display_name": "paper_retrieval_env",
   "language": "python",
   "name": "paper_retrieval_env"
  },
  "language_info": {
   "codemirror_mode": {
    "name": "ipython",
    "version": 3
   },
   "file_extension": ".py",
   "mimetype": "text/x-python",
   "name": "python",
   "nbconvert_exporter": "python",
   "pygments_lexer": "ipython3",
   "version": "3.7.5"
  }
 },
 "nbformat": 4,
 "nbformat_minor": 4
}
