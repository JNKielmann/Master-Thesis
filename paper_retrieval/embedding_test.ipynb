{
 "cells": [
  {
   "cell_type": "code",
   "execution_count": 1,
   "metadata": {},
   "outputs": [
    {
     "name": "stderr",
     "output_type": "stream",
     "text": [
      "/Users/d062356/.local/share/virtualenvs/paper_retrieval-GnXOsjmk/lib/python3.7/site-packages/tqdm/std.py:651: FutureWarning: The Panel class is removed from pandas. Accessing it from the top-level namespace will also be removed in the next version\n",
      "  from pandas import Panel\n"
     ]
    }
   ],
   "source": [
    "%load_ext autoreload\n",
    "%autoreload 2\n",
    "import numpy as np\n",
    "from gensim.models.wrappers import FastText\n",
    "from gensim.models import KeyedVectors\n",
    "\n",
    "from tqdm.notebook import tqdm\n",
    "tqdm.pandas()\n",
    "\n",
    "from evaluation import *\n",
    "from preprocessing import BasicPreprocessing, StopWordPreprocessor, Corpus\n",
    "from word_embedding_retrieval import *"
   ]
  },
  {
   "cell_type": "code",
   "execution_count": 2,
   "metadata": {},
   "outputs": [],
   "source": [
    "base_file =  \"../data/kit_expert_2017_papers.csv\"\n",
    "p = [BasicPreprocessing(), StopWordPreprocessor()]\n",
    "papers_basic_nostopwords = Corpus(base_file, p, load_from_cache=True, n_jobs=1)"
   ]
  },
  {
   "cell_type": "code",
   "execution_count": 3,
   "metadata": {},
   "outputs": [],
   "source": [
    "import json\n",
    "with open(\"../data/kit_expert_2017_keywords.json\", \"r\") as file:\n",
    "    keywords = json.load(file)\n",
    "general_keywords = (\"general keywords\", [k for k in keywords if k[\"level\"]<=1 ])\n",
    "specific_keywords = (\"specific_keywords\", [k for k in keywords if k[\"level\"]>=2 ][:5000])"
   ]
  },
  {
   "cell_type": "code",
   "execution_count": 5,
   "metadata": {},
   "outputs": [],
   "source": [
    "pretrained_models = [\n",
    "    (\"Fasttext from scratch w=5\", partial(\n",
    "        WordEmbeddingRetrieval.from_new_embedding,\n",
    "        corpus = papers_basic_nostopwords,\n",
    "        sentence_embedder = AverageSentenceEmbedding,\n",
    "        window_size=5)\n",
    "    ),\n",
    "    (\"Fasttext pretrained wiki\", partial(\n",
    "        WordEmbeddingRetrieval.from_pretrained_embedding,\n",
    "        corpus = papers_basic_nostopwords,\n",
    "        sentence_embedder = AverageSentenceEmbedding,\n",
    "        pretrained_model_path = \"\")\n",
    "    ),\n",
    "    (\"Fasttext finetuned wiki\", partial(\n",
    "        WordEmbeddingRetrieval.from_finetuned_embedding,\n",
    "        corpus = papers_basic_nostopwords,\n",
    "        sentence_embedder = AverageSentenceEmbedding,\n",
    "        pretrained_model_path = \"\")\n",
    "    ),\n",
    "]"
   ]
  },
  {
   "cell_type": "code",
   "execution_count": null,
   "metadata": {},
   "outputs": [],
   "source": [
    "pretrained_results = train_evaluate_models(pretrained_models, [general_keywords, specific_keywords], n_jobs=3)"
   ]
  },
  {
   "cell_type": "code",
   "execution_count": null,
   "metadata": {},
   "outputs": [],
   "source": [
    "print(\"mAP scores for pretrained models:\")\n",
    "pretrained_results"
   ]
  },
  {
   "cell_type": "code",
   "execution_count": null,
   "metadata": {},
   "outputs": [],
   "source": [
    "search_window_size_models = [\n",
    "    (f\"Fasttext from scratch w={window_size}\", partial(\n",
    "        WordEmbeddingRetrieval.from_new_embedding,\n",
    "        corpus = papers_basic_nostopwords,\n",
    "        sentence_embedder = AverageSentenceEmbedding,\n",
    "        window_size=window_size)\n",
    "    )\n",
    "    for window_size in [3,5,7,9,19,29,39,49,59,69]\n",
    "]"
   ]
  },
  {
   "cell_type": "code",
   "execution_count": null,
   "metadata": {},
   "outputs": [],
   "source": [
    "search_window_size_results = train_evaluate_models(search_window_size_models, [general_keywords, specific_keywords], n_jobs=5)"
   ]
  },
  {
   "cell_type": "code",
   "execution_count": null,
   "metadata": {},
   "outputs": [],
   "source": [
    "print(\"mAP scores for window size search models:\")\n",
    "search_window_size_results"
   ]
  },
  {
   "cell_type": "code",
   "execution_count": null,
   "metadata": {},
   "outputs": [],
   "source": [
    "search_vec_size_models = [\n",
    "    (f\"Fasttext from scratch s={embedding_size}\", partial(\n",
    "        WordEmbeddingRetrieval.from_new_embedding,\n",
    "        corpus = papers_basic_nostopwords,\n",
    "        sentence_embedder = AverageSentenceEmbedding,\n",
    "        window_size=5,\n",
    "        embedding_size=embedding_size)\n",
    "    )\n",
    "    for embedding_size in [100,200,300,400,500,600,700,800]\n",
    "]"
   ]
  },
  {
   "cell_type": "code",
   "execution_count": null,
   "metadata": {},
   "outputs": [],
   "source": [
    "search_vec_size_results = train_evaluate_models(search_vec_size_models, [general_keywords, specific_keywords], n_jobs=4)"
   ]
  },
  {
   "cell_type": "code",
   "execution_count": null,
   "metadata": {},
   "outputs": [],
   "source": [
    "print(\"mAP scores for embedding vector size search models:\")\n",
    "search_vec_size_results"
   ]
  },
  {
   "cell_type": "code",
   "execution_count": 6,
   "metadata": {},
   "outputs": [],
   "source": [
    "sentence_embedding_models = [\n",
    "    (\"Fasttext from scratch average embedding\", partial(\n",
    "        WordEmbeddingRetrieval.from_new_embedding,\n",
    "        corpus = papers_basic_nostopwords,\n",
    "        sentence_embedder = AverageSentenceEmbedding,\n",
    "        window_size=5,\n",
    "        embedding_size=300)\n",
    "    ),\n",
    "    (\"Fasttext from scratch idf embedding\", partial(\n",
    "        WordEmbeddingRetrieval.from_new_embedding,\n",
    "        corpus = papers_basic_nostopwords,\n",
    "        sentence_embedder = TfidfSentenceEmbedding,\n",
    "        window_size=5,\n",
    "        embedding_size=300)\n",
    "    ),\n",
    "    (\"Fasttext from scratch sif embedding\", partial(\n",
    "        WordEmbeddingRetrieval.from_new_embedding,\n",
    "        corpus = papers_basic_nostopwords,\n",
    "        sentence_embedder = SifSentenceEmbedding,\n",
    "        window_size=5,\n",
    "        embedding_size=300)\n",
    "    )\n",
    "]"
   ]
  },
  {
   "cell_type": "code",
   "execution_count": null,
   "metadata": {},
   "outputs": [],
   "source": [
    "sentence_embedding_results = train_evaluate_models(sentence_embedding_models, [general_keywords, specific_keywords], n_jobs=4)"
   ]
  },
  {
   "cell_type": "code",
   "execution_count": null,
   "metadata": {},
   "outputs": [],
   "source": [
    "print(\"mAP scores for sentence embedding models:\")\n",
    "sentence_embedding_results"
   ]
  },
  {
   "cell_type": "code",
   "execution_count": 19,
   "metadata": {},
   "outputs": [
    {
     "data": {
      "text/html": [
       "<div>\n",
       "<style scoped>\n",
       "    .dataframe tbody tr th:only-of-type {\n",
       "        vertical-align: middle;\n",
       "    }\n",
       "\n",
       "    .dataframe tbody tr th {\n",
       "        vertical-align: top;\n",
       "    }\n",
       "\n",
       "    .dataframe thead th {\n",
       "        text-align: right;\n",
       "    }\n",
       "</style>\n",
       "<table border=\"1\" class=\"dataframe\">\n",
       "  <thead>\n",
       "    <tr style=\"text-align: right;\">\n",
       "      <th></th>\n",
       "      <th>general keywords</th>\n",
       "      <th>specific_keywords</th>\n",
       "    </tr>\n",
       "  </thead>\n",
       "  <tbody>\n",
       "    <tr>\n",
       "      <th>Fasttext from scratch w=51</th>\n",
       "      <td>0.122398</td>\n",
       "      <td>0.275300</td>\n",
       "    </tr>\n",
       "    <tr>\n",
       "      <th>Fasttext from scratch w=71</th>\n",
       "      <td>0.120828</td>\n",
       "      <td>0.275880</td>\n",
       "    </tr>\n",
       "    <tr>\n",
       "      <th>Fasttext from scratch w=91</th>\n",
       "      <td>0.121188</td>\n",
       "      <td>0.276131</td>\n",
       "    </tr>\n",
       "  </tbody>\n",
       "</table>\n",
       "</div>"
      ],
      "text/plain": [
       "                            general keywords  specific_keywords\n",
       "Fasttext from scratch w=51          0.122398           0.275300\n",
       "Fasttext from scratch w=71          0.120828           0.275880\n",
       "Fasttext from scratch w=91          0.121188           0.276131"
      ]
     },
     "execution_count": 19,
     "metadata": {},
     "output_type": "execute_result"
    }
   ],
   "source": [
    "results3"
   ]
  }
 ],
 "metadata": {
  "kernelspec": {
   "display_name": "Python 3",
   "language": "python",
   "name": "python3"
  },
  "language_info": {
   "codemirror_mode": {
    "name": "ipython",
    "version": 3
   },
   "file_extension": ".py",
   "mimetype": "text/x-python",
   "name": "python",
   "nbconvert_exporter": "python",
   "pygments_lexer": "ipython3",
   "version": "3.7.4"
  }
 },
 "nbformat": 4,
 "nbformat_minor": 4
}
