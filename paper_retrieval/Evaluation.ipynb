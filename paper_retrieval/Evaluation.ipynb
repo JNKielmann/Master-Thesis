{
 "cells": [
  {
   "cell_type": "markdown",
   "metadata": {},
   "source": [
    "# Evaluation Notebook "
   ]
  },
  {
   "cell_type": "code",
   "execution_count": 9,
   "metadata": {},
   "outputs": [
    {
     "name": "stdout",
     "output_type": "stream",
     "text": [
      "The autoreload extension is already loaded. To reload it, use:\n",
      "  %reload_ext autoreload\n"
     ]
    }
   ],
   "source": [
    "%load_ext autoreload\n",
    "%autoreload 2\n",
    "import json\n",
    "import pandas as pd\n",
    "pd.set_option('display.max_columns', None)  \n",
    "pd.set_option('display.expand_frame_repr', False)\n",
    "pd.set_option('max_colwidth', 1000)\n",
    "import numpy as np\n",
    "import seaborn as sns\n",
    "sns.set()\n",
    "\n",
    "import sys\n",
    "import logging\n",
    "logging.basicConfig(level=logging.INFO, stream=sys.stdout)\n",
    "\n",
    "from preprocessing import apply_pipeline, Corpus\n",
    "from evaluation import *\n",
    "from tfidf_retrieval import TfidfRetrieval\n",
    "from word_embedding_retrieval import WordEmbeddingRetrieval"
   ]
  },
  {
   "cell_type": "markdown",
   "metadata": {},
   "source": [
    "#### Load corpus using different preprocessing pipelines"
   ]
  },
  {
   "cell_type": "code",
   "execution_count": 4,
   "metadata": {},
   "outputs": [
    {
     "name": "stdout",
     "output_type": "stream",
     "text": [
      "INFO:preprocessing.pipeline:Start preprocessing pipeline \"\" for file ../data/kit_expert_2017_papers.csv.\n",
      "INFO:preprocessing.pipeline:Finished preprocessing pipeline. Saved preprocessed corpus to cache file ../data/kit_expert_2017_papers_\n"
     ]
    }
   ],
   "source": [
    "base_file =  \"../data/kit_expert_2017_papers.csv\"\n",
    "papers_unprocessed = Corpus(base_file, [])"
   ]
  },
  {
   "cell_type": "markdown",
   "metadata": {},
   "source": [
    "#### Load keywords to use as test data"
   ]
  },
  {
   "cell_type": "code",
   "execution_count": 11,
   "metadata": {},
   "outputs": [],
   "source": [
    "with open(\"../data/kit_expert_2017_keywords.json\", \"r\") as file:\n",
    "    keywords = json.load(file)"
   ]
  },
  {
   "cell_type": "code",
   "execution_count": 12,
   "metadata": {},
   "outputs": [],
   "source": [
    "general_keywords = (\"general keywords\", [k for k in keywords if k[\"level\"]<=1])\n",
    "specific_keywords = (\"specific_keywords\", [k for k in keywords if k[\"level\"]>=2][:5000])"
   ]
  },
  {
   "cell_type": "code",
   "execution_count": null,
   "metadata": {},
   "outputs": [],
   "source": [
    "def compare_models(model1, model2, test_data):\n",
    "    model1_result = average_precision_table(model1[1], test_data)\n",
    "    model1_result.rename({\"average precision\": \"ap \" + model1[0]})\n",
    "    model2_result = average_precision_table(model2[1], test_data)\n",
    "    model2_result.rename({\"average precision\": \"ap \" + model2[0]})\n",
    "    result = model1_result.merge(model2_result, on=\"query\")\n",
    "    result[\"difference\"] = result[\"ap \" + model1[0]] - result[\"ap \" + model2[0]]\n",
    "    print(f\"Queries where {model1[0]} better than {model2[0]}\")\n",
    "    display(result.sort_values(by=\"difference\", ascending=False).head())\n",
    "    print(f\"Queries where {model2[0]} better than {model1[0]}\")\n",
    "    display(result.sort_values(by=\"difference\", ascending=True).head())\n",
    "    return result"
   ]
  },
  {
   "cell_type": "code",
   "execution_count": null,
   "metadata": {},
   "outputs": [],
   "source": [
    "bm25_model = TfidfRetrieval.load(\"../data/models/tfidf/bm25_lemmatized_bigram.model\")\n",
    "bm25_qe_model = TfidfRetrieval.load(\"../data/models/tfidf/bm25_lemmatized_bigram_qe.model\")\n",
    "fasttext_model = WordEmbeddingRetrieval.load(\"../data/models/fasttext/fasttext_w29_s400_tfidf.model\")\n",
    "fasttext_qe_model = WordEmbeddingRetrieval.load(\"../data/models/fasttext/qe_best_fasttext_exponce.model\")"
   ]
  },
  {
   "cell_type": "code",
   "execution_count": null,
   "metadata": {},
   "outputs": [],
   "source": [
    "print(\"---general keywords---\")\n",
    "print(\"bm25 mAP score:\")\n",
    "mean_average_precision(bm25_model, general_keywords)\n",
    "print(\"bm25 qe mAP score:\")\n",
    "mean_average_precision(bm25_qe_model, general_keywords)\n",
    "print(\"fasttext mAP score:\")\n",
    "mean_average_precision(fasttext_model, general_keywords)\n",
    "print(\"fasttext qe mAP score:\")\n",
    "mean_average_precision(fasttext_qe_model, general_keywords)"
   ]
  },
  {
   "cell_type": "code",
   "execution_count": null,
   "metadata": {},
   "outputs": [],
   "source": [
    "compare_models((\"bm25 model\", bm25_model), (\"bm25 qe model\", bm25_qe_model), general_keywords)"
   ]
  },
  {
   "cell_type": "code",
   "execution_count": null,
   "metadata": {},
   "outputs": [],
   "source": [
    "compare_models((\"fasttext model\", fasttext_model), (\"fasttext qe model\", fasttext_qe_model), general_keywords)"
   ]
  },
  {
   "cell_type": "code",
   "execution_count": null,
   "metadata": {},
   "outputs": [],
   "source": [
    "compare_models((\"bm25 qe model\", bm25_qe_model), (\"fasttext qe model\", fasttext_qe_model), general_keywords)"
   ]
  },
  {
   "cell_type": "code",
   "execution_count": null,
   "metadata": {},
   "outputs": [],
   "source": [
    "print(\"---specific keywords---\")\n",
    "print(\"bm25 mAP score:\")\n",
    "mean_average_precision(bm25_model, specific_keywords)\n",
    "print(\"bm25 qe mAP score:\")\n",
    "mean_average_precision(bm25_qe_model, specific_keywords)\n",
    "print(\"fasttext mAP score:\")\n",
    "mean_average_precision(fasttext_model, specific_keywords)\n",
    "print(\"fasttext qe mAP score:\")\n",
    "mean_average_precision(fasttext_qe_model, specific_keywords)"
   ]
  },
  {
   "cell_type": "code",
   "execution_count": null,
   "metadata": {},
   "outputs": [],
   "source": []
  }
 ],
 "metadata": {
  "kernelspec": {
   "display_name": "Python 3",
   "language": "python",
   "name": "python3"
  },
  "language_info": {
   "codemirror_mode": {
    "name": "ipython",
    "version": 3
   },
   "file_extension": ".py",
   "mimetype": "text/x-python",
   "name": "python",
   "nbconvert_exporter": "python",
   "pygments_lexer": "ipython3",
   "version": "3.7.4"
  }
 },
 "nbformat": 4,
 "nbformat_minor": 4
}
