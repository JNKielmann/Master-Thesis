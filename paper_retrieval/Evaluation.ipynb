{
 "cells": [
  {
   "cell_type": "markdown",
   "metadata": {},
   "source": [
    "# Evaluation Notebook "
   ]
  },
  {
   "cell_type": "code",
   "execution_count": 13,
   "metadata": {},
   "outputs": [
    {
     "name": "stdout",
     "output_type": "stream",
     "text": [
      "The autoreload extension is already loaded. To reload it, use:\n",
      "  %reload_ext autoreload\n"
     ]
    }
   ],
   "source": [
    "%load_ext autoreload\n",
    "%autoreload 2\n",
    "import json\n",
    "import pandas as pd\n",
    "pd.set_option('display.max_columns', None)  \n",
    "pd.set_option('display.expand_frame_repr', False)\n",
    "pd.set_option('max_colwidth', 1000)\n",
    "import numpy as np\n",
    "import seaborn as sns\n",
    "sns.set()\n",
    "\n",
    "import sys\n",
    "import logging\n",
    "logging.basicConfig(level=logging.INFO, stream=sys.stdout)\n",
    "\n",
    "from preprocessing import apply_pipeline, Corpus\n",
    "from evaluation import *\n",
    "from tfidf_retrieval import TfidfRetrieval\n",
    "from word_embedding_retrieval import WordEmbeddingRetrieval"
   ]
  },
  {
   "cell_type": "markdown",
   "metadata": {},
   "source": [
    "#### Load corpus using different preprocessing pipelines"
   ]
  },
  {
   "cell_type": "code",
   "execution_count": 7,
   "metadata": {},
   "outputs": [
    {
     "name": "stdout",
     "output_type": "stream",
     "text": [
      "INFO:preprocessing.pipeline:Start preprocessing pipeline \"\" for file ../data/kit_expert_2017_papers.csv.\n",
      "INFO:preprocessing.pipeline:Loaded cached preprocessed corpus from ../data/kit_expert_2017_papers_\n"
     ]
    }
   ],
   "source": [
    "base_file =  \"../data/kit_expert_2017_papers.csv\"\n",
    "papers_unprocessed = Corpus(base_file, [])"
   ]
  },
  {
   "cell_type": "markdown",
   "metadata": {},
   "source": [
    "#### Load keywords to use as test data"
   ]
  },
  {
   "cell_type": "code",
   "execution_count": 8,
   "metadata": {},
   "outputs": [],
   "source": [
    "with open(\"../data/kit_expert_2017_keywords.json\", \"r\") as file:\n",
    "    keywords = json.load(file)"
   ]
  },
  {
   "cell_type": "code",
   "execution_count": 9,
   "metadata": {},
   "outputs": [],
   "source": [
    "general_keywords = (\"general keywords\", [k for k in keywords if k[\"level\"]<=1])\n",
    "specific_keywords = (\"specific_keywords\", [k for k in keywords if k[\"level\"]>=2][:5000])"
   ]
  },
  {
   "cell_type": "code",
   "execution_count": 10,
   "metadata": {},
   "outputs": [],
   "source": [
    "def compare_models(model1, model2, test_data):\n",
    "    model1_result = average_precision_table(model1[1], test_data)\n",
    "#     model1_result = model1_result.rename({\"average precision\": \"ap \" + model1[0]})\n",
    "    model2_result = average_precision_table(model2[1], test_data)\n",
    "#     model2_result = model2_result.rename({\"average precision\": \"ap \" + model2[0]})\n",
    "    result = model1_result.merge(model2_result, on=\"query\")\n",
    "    print(result.columns)\n",
    "    result[\"difference\"] = result[\"average precision_x\"] - result[\"average precision_y\"]\n",
    "    print(f\"Queries where {model1[0]} better than {model2[0]}\")\n",
    "    display(result[result[\"difference\"]>0].sort_values(by=\"difference\", ascending=False).head())\n",
    "    print(f\"Queries where {model2[0]} better than {model1[0]}\")\n",
    "    display(result[result[\"difference\"]<0].sort_values(by=\"difference\", ascending=True).head())\n",
    "    return result"
   ]
  },
  {
   "cell_type": "code",
   "execution_count": 11,
   "metadata": {},
   "outputs": [],
   "source": [
    "bm25_model = TfidfRetrieval.load(\"../data/models/tfidf/bm25_lemmatized_bigram.model\")\n",
    "bm25_qe_model = TfidfRetrieval.load(\"../data/models/tfidf/bm25_lemmatized_bigram_qe.model\")\n",
    "fasttext_model = WordEmbeddingRetrieval.load(\"../data/models/fasttext/fasttext_w29_s400_tfidf.model\")\n",
    "fasttext_qe_model = WordEmbeddingRetrieval.load(\"../data/models/fasttext/qe_best_fasttext_exponce.model\")"
   ]
  },
  {
   "cell_type": "code",
   "execution_count": 41,
   "metadata": {},
   "outputs": [
    {
     "name": "stdout",
     "output_type": "stream",
     "text": [
      "---general keywords---\n",
      "bm25 mAP score:\n",
      "0.05674491285486938\n",
      "bm25 qe mAP score:\n",
      "0.1472279000440685\n"
     ]
    }
   ],
   "source": [
    "print(\"---general keywords---\")\n",
    "print(\"bm25 mAP score:\")\n",
    "print(mean_average_precision(bm25_model, general_keywords[1]))\n",
    "print(\"bm25 qe mAP score:\")\n",
    "print(mean_average_precision(bm25_qe_model, general_keywords[1]))"
   ]
  },
  {
   "cell_type": "code",
   "execution_count": 49,
   "metadata": {},
   "outputs": [
    {
     "name": "stdout",
     "output_type": "stream",
     "text": [
      "fasttext mAP score:\n",
      "INFO:gensim.models.keyedvectors:precomputing L2-norms of word weight vectors\n",
      "0.12721676819176342\n",
      "fasttext qe mAP score:\n",
      "INFO:gensim.models.keyedvectors:precomputing L2-norms of word weight vectors\n",
      "0.16422939214650667\n"
     ]
    }
   ],
   "source": [
    "print(\"fasttext mAP score:\")\n",
    "print(mean_average_precision(fasttext_model, general_keywords[1]))\n",
    "print(\"fasttext qe mAP score:\")\n",
    "print(mean_average_precision(fasttext_qe_model, general_keywords[1]))"
   ]
  },
  {
   "cell_type": "code",
   "execution_count": 35,
   "metadata": {},
   "outputs": [
    {
     "name": "stdout",
     "output_type": "stream",
     "text": [
      "Index(['query', 'average precision_x', 'average precision_y'], dtype='object')\n",
      "Queries where bm25 model better than bm25 qe model\n"
     ]
    },
    {
     "data": {
      "text/html": [
       "<div>\n",
       "<style scoped>\n",
       "    .dataframe tbody tr th:only-of-type {\n",
       "        vertical-align: middle;\n",
       "    }\n",
       "\n",
       "    .dataframe tbody tr th {\n",
       "        vertical-align: top;\n",
       "    }\n",
       "\n",
       "    .dataframe thead th {\n",
       "        text-align: right;\n",
       "    }\n",
       "</style>\n",
       "<table border=\"1\" class=\"dataframe\">\n",
       "  <thead>\n",
       "    <tr style=\"text-align: right;\">\n",
       "      <th></th>\n",
       "      <th>query</th>\n",
       "      <th>average precision_x</th>\n",
       "      <th>average precision_y</th>\n",
       "      <th>difference</th>\n",
       "    </tr>\n",
       "  </thead>\n",
       "  <tbody>\n",
       "    <tr>\n",
       "      <th>96</th>\n",
       "      <td>law</td>\n",
       "      <td>0.560085</td>\n",
       "      <td>0.002284</td>\n",
       "      <td>0.557801</td>\n",
       "    </tr>\n",
       "    <tr>\n",
       "      <th>198</th>\n",
       "      <td>advertising</td>\n",
       "      <td>0.666667</td>\n",
       "      <td>0.126907</td>\n",
       "      <td>0.539760</td>\n",
       "    </tr>\n",
       "    <tr>\n",
       "      <th>286</th>\n",
       "      <td>accounting</td>\n",
       "      <td>0.322548</td>\n",
       "      <td>0.085283</td>\n",
       "      <td>0.237266</td>\n",
       "    </tr>\n",
       "    <tr>\n",
       "      <th>236</th>\n",
       "      <td>traditional medicine</td>\n",
       "      <td>0.500000</td>\n",
       "      <td>0.277778</td>\n",
       "      <td>0.222222</td>\n",
       "    </tr>\n",
       "    <tr>\n",
       "      <th>241</th>\n",
       "      <td>operating system</td>\n",
       "      <td>0.235990</td>\n",
       "      <td>0.014624</td>\n",
       "      <td>0.221366</td>\n",
       "    </tr>\n",
       "  </tbody>\n",
       "</table>\n",
       "</div>"
      ],
      "text/plain": [
       "                    query  average precision_x  average precision_y  difference\n",
       "96                    law             0.560085             0.002284    0.557801\n",
       "198           advertising             0.666667             0.126907    0.539760\n",
       "286            accounting             0.322548             0.085283    0.237266\n",
       "236  traditional medicine             0.500000             0.277778    0.222222\n",
       "241      operating system             0.235990             0.014624    0.221366"
      ]
     },
     "metadata": {},
     "output_type": "display_data"
    },
    {
     "name": "stdout",
     "output_type": "stream",
     "text": [
      "Queries where bm25 qe model better than bm25 model\n"
     ]
    },
    {
     "data": {
      "text/html": [
       "<div>\n",
       "<style scoped>\n",
       "    .dataframe tbody tr th:only-of-type {\n",
       "        vertical-align: middle;\n",
       "    }\n",
       "\n",
       "    .dataframe tbody tr th {\n",
       "        vertical-align: top;\n",
       "    }\n",
       "\n",
       "    .dataframe thead th {\n",
       "        text-align: right;\n",
       "    }\n",
       "</style>\n",
       "<table border=\"1\" class=\"dataframe\">\n",
       "  <thead>\n",
       "    <tr style=\"text-align: right;\">\n",
       "      <th></th>\n",
       "      <th>query</th>\n",
       "      <th>average precision_x</th>\n",
       "      <th>average precision_y</th>\n",
       "      <th>difference</th>\n",
       "    </tr>\n",
       "  </thead>\n",
       "  <tbody>\n",
       "    <tr>\n",
       "      <th>77</th>\n",
       "      <td>particle physics</td>\n",
       "      <td>0.080656</td>\n",
       "      <td>0.684261</td>\n",
       "      <td>-0.603605</td>\n",
       "    </tr>\n",
       "    <tr>\n",
       "      <th>118</th>\n",
       "      <td>seismology</td>\n",
       "      <td>0.026706</td>\n",
       "      <td>0.599036</td>\n",
       "      <td>-0.572330</td>\n",
       "    </tr>\n",
       "    <tr>\n",
       "      <th>61</th>\n",
       "      <td>computer science</td>\n",
       "      <td>0.026823</td>\n",
       "      <td>0.576932</td>\n",
       "      <td>-0.550109</td>\n",
       "    </tr>\n",
       "    <tr>\n",
       "      <th>49</th>\n",
       "      <td>orthodontics</td>\n",
       "      <td>0.000000</td>\n",
       "      <td>0.500604</td>\n",
       "      <td>-0.500604</td>\n",
       "    </tr>\n",
       "    <tr>\n",
       "      <th>18</th>\n",
       "      <td>optometry</td>\n",
       "      <td>0.000000</td>\n",
       "      <td>0.500000</td>\n",
       "      <td>-0.500000</td>\n",
       "    </tr>\n",
       "  </tbody>\n",
       "</table>\n",
       "</div>"
      ],
      "text/plain": [
       "                query  average precision_x  average precision_y  difference\n",
       "77   particle physics             0.080656             0.684261   -0.603605\n",
       "118        seismology             0.026706             0.599036   -0.572330\n",
       "61   computer science             0.026823             0.576932   -0.550109\n",
       "49       orthodontics             0.000000             0.500604   -0.500604\n",
       "18          optometry             0.000000             0.500000   -0.500000"
      ]
     },
     "metadata": {},
     "output_type": "display_data"
    }
   ],
   "source": [
    "compare_models((\"bm25 model\", bm25_model), (\"bm25 qe model\", bm25_qe_model), general_keywords[1]);"
   ]
  },
  {
   "cell_type": "code",
   "execution_count": 51,
   "metadata": {},
   "outputs": [
    {
     "name": "stdout",
     "output_type": "stream",
     "text": [
      "Index(['query', 'average precision_x', 'average precision_y'], dtype='object')\n",
      "Queries where fasttext model better than fasttext qe model\n"
     ]
    },
    {
     "data": {
      "text/html": [
       "<div>\n",
       "<style scoped>\n",
       "    .dataframe tbody tr th:only-of-type {\n",
       "        vertical-align: middle;\n",
       "    }\n",
       "\n",
       "    .dataframe tbody tr th {\n",
       "        vertical-align: top;\n",
       "    }\n",
       "\n",
       "    .dataframe thead th {\n",
       "        text-align: right;\n",
       "    }\n",
       "</style>\n",
       "<table border=\"1\" class=\"dataframe\">\n",
       "  <thead>\n",
       "    <tr style=\"text-align: right;\">\n",
       "      <th></th>\n",
       "      <th>query</th>\n",
       "      <th>average precision_x</th>\n",
       "      <th>average precision_y</th>\n",
       "      <th>difference</th>\n",
       "    </tr>\n",
       "  </thead>\n",
       "  <tbody>\n",
       "    <tr>\n",
       "      <th>104</th>\n",
       "      <td>emergency medicine</td>\n",
       "      <td>1.000000</td>\n",
       "      <td>0.058824</td>\n",
       "      <td>0.941176</td>\n",
       "    </tr>\n",
       "    <tr>\n",
       "      <th>198</th>\n",
       "      <td>advertising</td>\n",
       "      <td>0.958333</td>\n",
       "      <td>0.025799</td>\n",
       "      <td>0.932534</td>\n",
       "    </tr>\n",
       "    <tr>\n",
       "      <th>106</th>\n",
       "      <td>combinatorics</td>\n",
       "      <td>0.589147</td>\n",
       "      <td>0.121906</td>\n",
       "      <td>0.467242</td>\n",
       "    </tr>\n",
       "    <tr>\n",
       "      <th>159</th>\n",
       "      <td>humanities</td>\n",
       "      <td>0.507576</td>\n",
       "      <td>0.091429</td>\n",
       "      <td>0.416147</td>\n",
       "    </tr>\n",
       "    <tr>\n",
       "      <th>174</th>\n",
       "      <td>paleontology</td>\n",
       "      <td>0.507719</td>\n",
       "      <td>0.224305</td>\n",
       "      <td>0.283414</td>\n",
       "    </tr>\n",
       "  </tbody>\n",
       "</table>\n",
       "</div>"
      ],
      "text/plain": [
       "                  query  average precision_x  average precision_y  difference\n",
       "104  emergency medicine             1.000000             0.058824    0.941176\n",
       "198         advertising             0.958333             0.025799    0.932534\n",
       "106       combinatorics             0.589147             0.121906    0.467242\n",
       "159          humanities             0.507576             0.091429    0.416147\n",
       "174        paleontology             0.507719             0.224305    0.283414"
      ]
     },
     "metadata": {},
     "output_type": "display_data"
    },
    {
     "name": "stdout",
     "output_type": "stream",
     "text": [
      "Queries where fasttext qe model better than fasttext model\n"
     ]
    },
    {
     "data": {
      "text/html": [
       "<div>\n",
       "<style scoped>\n",
       "    .dataframe tbody tr th:only-of-type {\n",
       "        vertical-align: middle;\n",
       "    }\n",
       "\n",
       "    .dataframe tbody tr th {\n",
       "        vertical-align: top;\n",
       "    }\n",
       "\n",
       "    .dataframe thead th {\n",
       "        text-align: right;\n",
       "    }\n",
       "</style>\n",
       "<table border=\"1\" class=\"dataframe\">\n",
       "  <thead>\n",
       "    <tr style=\"text-align: right;\">\n",
       "      <th></th>\n",
       "      <th>query</th>\n",
       "      <th>average precision_x</th>\n",
       "      <th>average precision_y</th>\n",
       "      <th>difference</th>\n",
       "    </tr>\n",
       "  </thead>\n",
       "  <tbody>\n",
       "    <tr>\n",
       "      <th>197</th>\n",
       "      <td>ophthalmology</td>\n",
       "      <td>0.000000</td>\n",
       "      <td>0.608187</td>\n",
       "      <td>-0.608187</td>\n",
       "    </tr>\n",
       "    <tr>\n",
       "      <th>57</th>\n",
       "      <td>quantum electrodynamics</td>\n",
       "      <td>0.015693</td>\n",
       "      <td>0.502188</td>\n",
       "      <td>-0.486496</td>\n",
       "    </tr>\n",
       "    <tr>\n",
       "      <th>122</th>\n",
       "      <td>information retrieval</td>\n",
       "      <td>0.112949</td>\n",
       "      <td>0.577220</td>\n",
       "      <td>-0.464271</td>\n",
       "    </tr>\n",
       "    <tr>\n",
       "      <th>75</th>\n",
       "      <td>condensed matter physics</td>\n",
       "      <td>0.013005</td>\n",
       "      <td>0.440950</td>\n",
       "      <td>-0.427945</td>\n",
       "    </tr>\n",
       "    <tr>\n",
       "      <th>157</th>\n",
       "      <td>zoology</td>\n",
       "      <td>0.170317</td>\n",
       "      <td>0.571755</td>\n",
       "      <td>-0.401438</td>\n",
       "    </tr>\n",
       "  </tbody>\n",
       "</table>\n",
       "</div>"
      ],
      "text/plain": [
       "                        query  average precision_x  average precision_y  difference\n",
       "197             ophthalmology             0.000000             0.608187   -0.608187\n",
       "57    quantum electrodynamics             0.015693             0.502188   -0.486496\n",
       "122     information retrieval             0.112949             0.577220   -0.464271\n",
       "75   condensed matter physics             0.013005             0.440950   -0.427945\n",
       "157                   zoology             0.170317             0.571755   -0.401438"
      ]
     },
     "metadata": {},
     "output_type": "display_data"
    },
    {
     "data": {
      "text/html": [
       "<div>\n",
       "<style scoped>\n",
       "    .dataframe tbody tr th:only-of-type {\n",
       "        vertical-align: middle;\n",
       "    }\n",
       "\n",
       "    .dataframe tbody tr th {\n",
       "        vertical-align: top;\n",
       "    }\n",
       "\n",
       "    .dataframe thead th {\n",
       "        text-align: right;\n",
       "    }\n",
       "</style>\n",
       "<table border=\"1\" class=\"dataframe\">\n",
       "  <thead>\n",
       "    <tr style=\"text-align: right;\">\n",
       "      <th></th>\n",
       "      <th>query</th>\n",
       "      <th>average precision_x</th>\n",
       "      <th>average precision_y</th>\n",
       "      <th>difference</th>\n",
       "    </tr>\n",
       "  </thead>\n",
       "  <tbody>\n",
       "    <tr>\n",
       "      <th>0</th>\n",
       "      <td>pedagogy</td>\n",
       "      <td>0.190256</td>\n",
       "      <td>0.204198</td>\n",
       "      <td>-0.013943</td>\n",
       "    </tr>\n",
       "    <tr>\n",
       "      <th>1</th>\n",
       "      <td>discrete mathematics</td>\n",
       "      <td>0.054327</td>\n",
       "      <td>0.085763</td>\n",
       "      <td>-0.031435</td>\n",
       "    </tr>\n",
       "    <tr>\n",
       "      <th>2</th>\n",
       "      <td>computational chemistry</td>\n",
       "      <td>0.040560</td>\n",
       "      <td>0.326750</td>\n",
       "      <td>-0.286190</td>\n",
       "    </tr>\n",
       "    <tr>\n",
       "      <th>3</th>\n",
       "      <td>natural language processing</td>\n",
       "      <td>0.405128</td>\n",
       "      <td>0.552995</td>\n",
       "      <td>-0.147867</td>\n",
       "    </tr>\n",
       "    <tr>\n",
       "      <th>4</th>\n",
       "      <td>acoustics</td>\n",
       "      <td>0.029056</td>\n",
       "      <td>0.106793</td>\n",
       "      <td>-0.077736</td>\n",
       "    </tr>\n",
       "    <tr>\n",
       "      <th>...</th>\n",
       "      <td>...</td>\n",
       "      <td>...</td>\n",
       "      <td>...</td>\n",
       "      <td>...</td>\n",
       "    </tr>\n",
       "    <tr>\n",
       "      <th>288</th>\n",
       "      <td>immunology</td>\n",
       "      <td>0.347287</td>\n",
       "      <td>0.328205</td>\n",
       "      <td>0.019082</td>\n",
       "    </tr>\n",
       "    <tr>\n",
       "      <th>289</th>\n",
       "      <td>internal medicine</td>\n",
       "      <td>0.001493</td>\n",
       "      <td>0.100666</td>\n",
       "      <td>-0.099173</td>\n",
       "    </tr>\n",
       "    <tr>\n",
       "      <th>290</th>\n",
       "      <td>management</td>\n",
       "      <td>0.000363</td>\n",
       "      <td>0.000363</td>\n",
       "      <td>0.000000</td>\n",
       "    </tr>\n",
       "    <tr>\n",
       "      <th>291</th>\n",
       "      <td>architectural engineering</td>\n",
       "      <td>0.000029</td>\n",
       "      <td>0.179734</td>\n",
       "      <td>-0.179706</td>\n",
       "    </tr>\n",
       "    <tr>\n",
       "      <th>292</th>\n",
       "      <td>anesthesia</td>\n",
       "      <td>0.070863</td>\n",
       "      <td>0.052818</td>\n",
       "      <td>0.018044</td>\n",
       "    </tr>\n",
       "  </tbody>\n",
       "</table>\n",
       "<p>293 rows × 4 columns</p>\n",
       "</div>"
      ],
      "text/plain": [
       "                           query  average precision_x  average precision_y  difference\n",
       "0                       pedagogy             0.190256             0.204198   -0.013943\n",
       "1           discrete mathematics             0.054327             0.085763   -0.031435\n",
       "2        computational chemistry             0.040560             0.326750   -0.286190\n",
       "3    natural language processing             0.405128             0.552995   -0.147867\n",
       "4                      acoustics             0.029056             0.106793   -0.077736\n",
       "..                           ...                  ...                  ...         ...\n",
       "288                   immunology             0.347287             0.328205    0.019082\n",
       "289            internal medicine             0.001493             0.100666   -0.099173\n",
       "290                   management             0.000363             0.000363    0.000000\n",
       "291    architectural engineering             0.000029             0.179734   -0.179706\n",
       "292                   anesthesia             0.070863             0.052818    0.018044\n",
       "\n",
       "[293 rows x 4 columns]"
      ]
     },
     "execution_count": 51,
     "metadata": {},
     "output_type": "execute_result"
    }
   ],
   "source": [
    "compare_models((\"fasttext model\", fasttext_model), (\"fasttext qe model\", fasttext_qe_model), general_keywords[1]);"
   ]
  },
  {
   "cell_type": "code",
   "execution_count": 12,
   "metadata": {},
   "outputs": [
    {
     "name": "stdout",
     "output_type": "stream",
     "text": [
      "INFO:gensim.models.keyedvectors:precomputing L2-norms of word weight vectors\n",
      "Index(['query', 'average precision_x', 'average precision_y'], dtype='object')\n",
      "INFO:numexpr.utils:Note: NumExpr detected 32 cores but \"NUMEXPR_MAX_THREADS\" not set, so enforcing safe limit of 8.\n",
      "Queries where bm25 qe model better than fasttext qe model\n"
     ]
    },
    {
     "data": {
      "text/html": [
       "<div>\n",
       "<style scoped>\n",
       "    .dataframe tbody tr th:only-of-type {\n",
       "        vertical-align: middle;\n",
       "    }\n",
       "\n",
       "    .dataframe tbody tr th {\n",
       "        vertical-align: top;\n",
       "    }\n",
       "\n",
       "    .dataframe thead th {\n",
       "        text-align: right;\n",
       "    }\n",
       "</style>\n",
       "<table border=\"1\" class=\"dataframe\">\n",
       "  <thead>\n",
       "    <tr style=\"text-align: right;\">\n",
       "      <th></th>\n",
       "      <th>query</th>\n",
       "      <th>average precision_x</th>\n",
       "      <th>average precision_y</th>\n",
       "      <th>difference</th>\n",
       "    </tr>\n",
       "  </thead>\n",
       "  <tbody>\n",
       "    <tr>\n",
       "      <th>61</th>\n",
       "      <td>computer science</td>\n",
       "      <td>0.571841</td>\n",
       "      <td>0.059548</td>\n",
       "      <td>0.512293</td>\n",
       "    </tr>\n",
       "    <tr>\n",
       "      <th>18</th>\n",
       "      <td>optometry</td>\n",
       "      <td>0.500000</td>\n",
       "      <td>0.041667</td>\n",
       "      <td>0.458333</td>\n",
       "    </tr>\n",
       "    <tr>\n",
       "      <th>164</th>\n",
       "      <td>macroeconomics</td>\n",
       "      <td>0.335598</td>\n",
       "      <td>0.001976</td>\n",
       "      <td>0.333622</td>\n",
       "    </tr>\n",
       "    <tr>\n",
       "      <th>86</th>\n",
       "      <td>international trade</td>\n",
       "      <td>0.365993</td>\n",
       "      <td>0.041963</td>\n",
       "      <td>0.324030</td>\n",
       "    </tr>\n",
       "    <tr>\n",
       "      <th>49</th>\n",
       "      <td>orthodontics</td>\n",
       "      <td>0.500604</td>\n",
       "      <td>0.180751</td>\n",
       "      <td>0.319853</td>\n",
       "    </tr>\n",
       "  </tbody>\n",
       "</table>\n",
       "</div>"
      ],
      "text/plain": [
       "                   query  average precision_x  average precision_y  difference\n",
       "61      computer science             0.571841             0.059548    0.512293\n",
       "18             optometry             0.500000             0.041667    0.458333\n",
       "164       macroeconomics             0.335598             0.001976    0.333622\n",
       "86   international trade             0.365993             0.041963    0.324030\n",
       "49          orthodontics             0.500604             0.180751    0.319853"
      ]
     },
     "metadata": {},
     "output_type": "display_data"
    },
    {
     "name": "stdout",
     "output_type": "stream",
     "text": [
      "Queries where fasttext qe model better than bm25 qe model\n"
     ]
    },
    {
     "data": {
      "text/html": [
       "<div>\n",
       "<style scoped>\n",
       "    .dataframe tbody tr th:only-of-type {\n",
       "        vertical-align: middle;\n",
       "    }\n",
       "\n",
       "    .dataframe tbody tr th {\n",
       "        vertical-align: top;\n",
       "    }\n",
       "\n",
       "    .dataframe thead th {\n",
       "        text-align: right;\n",
       "    }\n",
       "</style>\n",
       "<table border=\"1\" class=\"dataframe\">\n",
       "  <thead>\n",
       "    <tr style=\"text-align: right;\">\n",
       "      <th></th>\n",
       "      <th>query</th>\n",
       "      <th>average precision_x</th>\n",
       "      <th>average precision_y</th>\n",
       "      <th>difference</th>\n",
       "    </tr>\n",
       "  </thead>\n",
       "  <tbody>\n",
       "    <tr>\n",
       "      <th>247</th>\n",
       "      <td>statistics</td>\n",
       "      <td>0.062028</td>\n",
       "      <td>0.535666</td>\n",
       "      <td>-0.473638</td>\n",
       "    </tr>\n",
       "    <tr>\n",
       "      <th>103</th>\n",
       "      <td>water resource management</td>\n",
       "      <td>0.057382</td>\n",
       "      <td>0.439843</td>\n",
       "      <td>-0.382461</td>\n",
       "    </tr>\n",
       "    <tr>\n",
       "      <th>47</th>\n",
       "      <td>mining engineering</td>\n",
       "      <td>0.007003</td>\n",
       "      <td>0.389085</td>\n",
       "      <td>-0.382081</td>\n",
       "    </tr>\n",
       "    <tr>\n",
       "      <th>13</th>\n",
       "      <td>general surgery</td>\n",
       "      <td>0.071667</td>\n",
       "      <td>0.401108</td>\n",
       "      <td>-0.329442</td>\n",
       "    </tr>\n",
       "    <tr>\n",
       "      <th>249</th>\n",
       "      <td>cardiology</td>\n",
       "      <td>0.389133</td>\n",
       "      <td>0.679105</td>\n",
       "      <td>-0.289972</td>\n",
       "    </tr>\n",
       "  </tbody>\n",
       "</table>\n",
       "</div>"
      ],
      "text/plain": [
       "                         query  average precision_x  average precision_y  difference\n",
       "247                 statistics             0.062028             0.535666   -0.473638\n",
       "103  water resource management             0.057382             0.439843   -0.382461\n",
       "47          mining engineering             0.007003             0.389085   -0.382081\n",
       "13             general surgery             0.071667             0.401108   -0.329442\n",
       "249                 cardiology             0.389133             0.679105   -0.289972"
      ]
     },
     "metadata": {},
     "output_type": "display_data"
    }
   ],
   "source": [
    "compare_models((\"bm25 qe model\", bm25_qe_model), (\"fasttext qe model\", fasttext_qe_model), general_keywords[1]);"
   ]
  },
  {
   "cell_type": "code",
   "execution_count": null,
   "metadata": {},
   "outputs": [],
   "source": [
    "print(\"---specific keywords---\")\n",
    "print(\"bm25 mAP score:\")\n",
    "mean_average_precision(bm25_model, specific_keywords)\n",
    "print(\"bm25 qe mAP score:\")\n",
    "mean_average_precision(bm25_qe_model, specific_keywords)\n",
    "print(\"fasttext mAP score:\")\n",
    "mean_average_precision(fasttext_model, specific_keywords)\n",
    "print(\"fasttext qe mAP score:\")\n",
    "mean_average_precision(fasttext_qe_model, specific_keywords)"
   ]
  }
 ],
 "metadata": {
  "kernelspec": {
   "display_name": "paper_retrieval_env",
   "language": "python",
   "name": "paper_retrieval_env"
  },
  "language_info": {
   "codemirror_mode": {
    "name": "ipython",
    "version": 3
   },
   "file_extension": ".py",
   "mimetype": "text/x-python",
   "name": "python",
   "nbconvert_exporter": "python",
   "pygments_lexer": "ipython3",
   "version": "3.7.5"
  }
 },
 "nbformat": 4,
 "nbformat_minor": 4
}
