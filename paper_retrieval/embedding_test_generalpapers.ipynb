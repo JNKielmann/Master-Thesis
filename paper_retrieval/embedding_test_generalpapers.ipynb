{
 "cells": [
  {
   "cell_type": "code",
   "execution_count": 1,
   "metadata": {},
   "outputs": [
    {
     "name": "stderr",
     "output_type": "stream",
     "text": [
      "/root/.local/share/virtualenvs/paper_retrieval-dhADrxe5/lib/python3.7/site-packages/tqdm/std.py:651: FutureWarning: The Panel class is removed from pandas. Accessing it from the top-level namespace will also be removed in the next version\n",
      "  from pandas import Panel\n"
     ]
    }
   ],
   "source": [
    "%load_ext autoreload\n",
    "%autoreload 2\n",
    "import json\n",
    "import numpy as np\n",
    "from gensim.models.wrappers import FastText\n",
    "from gensim.models import KeyedVectors\n",
    "\n",
    "from tqdm.notebook import tqdm\n",
    "tqdm.pandas()\n",
    "\n",
    "import sys\n",
    "import logging\n",
    "logging.basicConfig(level=logging.INFO, filename='embedding_test_all.log')\n",
    "\n",
    "from evaluation import *\n",
    "from preprocessing import BasicPreprocessing, StopWordPreprocessor, Corpus\n",
    "from word_embedding_retrieval import *"
   ]
  },
  {
   "cell_type": "code",
   "execution_count": 2,
   "metadata": {},
   "outputs": [],
   "source": [
    "base_file =  \"../data/kit_expert_2017_papers.csv\"\n",
    "all_papers_file = \"../data/general_papers.csv\"\n",
    "p = [BasicPreprocessing(), StopWordPreprocessor()]\n",
    "papers_basic_nostopwords = Corpus(base_file, p, load_from_cache=True, n_jobs=1)\n",
    "all_papers_basic_nostopwords = Corpus(all_papers_file, p, load_from_cache=True, n_jobs=4)"
   ]
  },
  {
   "cell_type": "code",
   "execution_count": 3,
   "metadata": {},
   "outputs": [],
   "source": [
    "with open(\"../data/kit_expert_2017_keywords.json\", \"r\") as file:\n",
    "    keywords = json.load(file)\n",
    "general_keywords = (\"general keywords\", [k for k in keywords if k[\"level\"]<=1 ])\n",
    "specific_keywords = (\"specific_keywords\", [k for k in keywords if k[\"level\"]>=2 ][:5000])"
   ]
  },
  {
   "cell_type": "code",
   "execution_count": 4,
   "metadata": {},
   "outputs": [],
   "source": [
    "pretrained_models = [\n",
    "    (\"Fasttext from scratch w=5\", partial(\n",
    "        WordEmbeddingRetrieval.from_new_embedding,\n",
    "        corpus = all_papers_basic_nostopwords,\n",
    "        doc_corpus = papers_basic_nostopwords,\n",
    "        sentence_embedder = AverageSentenceEmbedding,\n",
    "        \n",
    "        window_size=5)\n",
    "    ),\n",
    "#     (\"Fasttext pretrained wiki\", partial(\n",
    "#         WordEmbeddingRetrieval.from_pretrained_embedding,\n",
    "#         corpus = papers_basic_nostopwords,\n",
    "#         sentence_embedder = AverageSentenceEmbedding,\n",
    "#         pretrained_model_path = \"../data/models/fasttext/wiki.en.bin\")\n",
    "#     ),\n",
    "    (\"Fasttext finetuned wiki\", partial(\n",
    "        WordEmbeddingRetrieval.from_finetuned_embedding,\n",
    "        corpus = all_papers_basic_nostopwords,\n",
    "        doc_corpus = papers_basic_nostopwords,\n",
    "        sentence_embedder = AverageSentenceEmbedding,\n",
    "        pretrained_model_path = \"../data/models/fasttext/wiki.en.bin\")\n",
    "    ),\n",
    "]"
   ]
  },
  {
   "cell_type": "code",
   "execution_count": null,
   "metadata": {},
   "outputs": [
    {
     "name": "stdout",
     "output_type": "stream",
     "text": [
      "from_new_embedding\n",
      "from_finetuned_embedding\n"
     ]
    }
   ],
   "source": [
    "pretrained_results = train_evaluate_models(pretrained_models, [general_keywords, specific_keywords], n_jobs=3)"
   ]
  },
  {
   "cell_type": "code",
   "execution_count": 10,
   "metadata": {},
   "outputs": [
    {
     "name": "stdout",
     "output_type": "stream",
     "text": [
      "mAP scores for pretrained models:\n"
     ]
    },
    {
     "data": {
      "text/html": [
       "<div>\n",
       "<style scoped>\n",
       "    .dataframe tbody tr th:only-of-type {\n",
       "        vertical-align: middle;\n",
       "    }\n",
       "\n",
       "    .dataframe tbody tr th {\n",
       "        vertical-align: top;\n",
       "    }\n",
       "\n",
       "    .dataframe thead th {\n",
       "        text-align: right;\n",
       "    }\n",
       "</style>\n",
       "<table border=\"1\" class=\"dataframe\">\n",
       "  <thead>\n",
       "    <tr style=\"text-align: right;\">\n",
       "      <th></th>\n",
       "      <th>general keywords</th>\n",
       "      <th>specific_keywords</th>\n",
       "    </tr>\n",
       "  </thead>\n",
       "  <tbody>\n",
       "    <tr>\n",
       "      <th>Fasttext from scratch w=5</th>\n",
       "      <td>0.119104</td>\n",
       "      <td>0.191036</td>\n",
       "    </tr>\n",
       "    <tr>\n",
       "      <th>Fasttext finetuned wiki</th>\n",
       "      <td>0.120579</td>\n",
       "      <td>0.181598</td>\n",
       "    </tr>\n",
       "  </tbody>\n",
       "</table>\n",
       "</div>"
      ],
      "text/plain": [
       "                           general keywords  specific_keywords\n",
       "Fasttext from scratch w=5          0.119104           0.191036\n",
       "Fasttext finetuned wiki            0.120579           0.181598"
      ]
     },
     "execution_count": 10,
     "metadata": {},
     "output_type": "execute_result"
    }
   ],
   "source": [
    "print(\"mAP scores for pretrained models:\")\n",
    "pretrained_results"
   ]
  },
  {
   "cell_type": "code",
   "execution_count": 4,
   "metadata": {},
   "outputs": [],
   "source": [
    "search_window_size_models = [\n",
    "    (f\"Fasttext from scratch w={window_size}\", partial(\n",
    "        WordEmbeddingRetrieval.from_new_embedding,\n",
    "        corpus = all_papers_basic_nostopwords,\n",
    "        doc_corpus = papers_basic_nostopwords,\n",
    "        sentence_embedder = AverageSentenceEmbedding,\n",
    "        window_size=window_size)\n",
    "    )\n",
    "    for window_size in [9,19,29]\n",
    "]"
   ]
  },
  {
   "cell_type": "code",
   "execution_count": null,
   "metadata": {
    "scrolled": true
   },
   "outputs": [
    {
     "name": "stdout",
     "output_type": "stream",
     "text": [
      "from_new_embedding\n",
      "from_new_embedding\n",
      "from_new_embedding\n"
     ]
    }
   ],
   "source": [
    "search_window_size_results = train_evaluate_models(search_window_size_models, [general_keywords, specific_keywords], n_jobs=3)"
   ]
  },
  {
   "cell_type": "code",
   "execution_count": 7,
   "metadata": {},
   "outputs": [
    {
     "data": {
      "text/html": [
       "<div>\n",
       "<style scoped>\n",
       "    .dataframe tbody tr th:only-of-type {\n",
       "        vertical-align: middle;\n",
       "    }\n",
       "\n",
       "    .dataframe tbody tr th {\n",
       "        vertical-align: top;\n",
       "    }\n",
       "\n",
       "    .dataframe thead th {\n",
       "        text-align: right;\n",
       "    }\n",
       "</style>\n",
       "<table border=\"1\" class=\"dataframe\">\n",
       "  <thead>\n",
       "    <tr style=\"text-align: right;\">\n",
       "      <th></th>\n",
       "      <th>general keywords</th>\n",
       "      <th>specific_keywords</th>\n",
       "    </tr>\n",
       "  </thead>\n",
       "  <tbody>\n",
       "    <tr>\n",
       "      <th>Fasttext from scratch w=9</th>\n",
       "      <td>0.118987</td>\n",
       "      <td>0.157548</td>\n",
       "    </tr>\n",
       "    <tr>\n",
       "      <th>Fasttext from scratch w=19</th>\n",
       "      <td>0.125979</td>\n",
       "      <td>0.157121</td>\n",
       "    </tr>\n",
       "    <tr>\n",
       "      <th>Fasttext from scratch w=29</th>\n",
       "      <td>0.128977</td>\n",
       "      <td>0.154507</td>\n",
       "    </tr>\n",
       "  </tbody>\n",
       "</table>\n",
       "</div>"
      ],
      "text/plain": [
       "                            general keywords  specific_keywords\n",
       "Fasttext from scratch w=9           0.118987           0.157548\n",
       "Fasttext from scratch w=19          0.125979           0.157121\n",
       "Fasttext from scratch w=29          0.128977           0.154507"
      ]
     },
     "execution_count": 7,
     "metadata": {},
     "output_type": "execute_result"
    }
   ],
   "source": [
    "search_window_size_results"
   ]
  },
  {
   "cell_type": "code",
   "execution_count": 16,
   "metadata": {},
   "outputs": [
    {
     "name": "stdout",
     "output_type": "stream",
     "text": [
      "mAP scores for window size search models:\n"
     ]
    },
    {
     "data": {
      "text/html": [
       "<div>\n",
       "<style scoped>\n",
       "    .dataframe tbody tr th:only-of-type {\n",
       "        vertical-align: middle;\n",
       "    }\n",
       "\n",
       "    .dataframe tbody tr th {\n",
       "        vertical-align: top;\n",
       "    }\n",
       "\n",
       "    .dataframe thead th {\n",
       "        text-align: right;\n",
       "    }\n",
       "</style>\n",
       "<table border=\"1\" class=\"dataframe\">\n",
       "  <thead>\n",
       "    <tr style=\"text-align: right;\">\n",
       "      <th></th>\n",
       "      <th>general keywords</th>\n",
       "      <th>specific_keywords</th>\n",
       "    </tr>\n",
       "  </thead>\n",
       "  <tbody>\n",
       "    <tr>\n",
       "      <th>Fasttext from scratch w=3</th>\n",
       "      <td>0.100720</td>\n",
       "      <td>0.194378</td>\n",
       "    </tr>\n",
       "    <tr>\n",
       "      <th>Fasttext from scratch w=5</th>\n",
       "      <td>0.109446</td>\n",
       "      <td>0.214477</td>\n",
       "    </tr>\n",
       "    <tr>\n",
       "      <th>Fasttext from scratch w=7</th>\n",
       "      <td>0.111308</td>\n",
       "      <td>0.229064</td>\n",
       "    </tr>\n",
       "    <tr>\n",
       "      <th>Fasttext from scratch w=9</th>\n",
       "      <td>0.115127</td>\n",
       "      <td>0.239992</td>\n",
       "    </tr>\n",
       "    <tr>\n",
       "      <th>Fasttext from scratch w=19</th>\n",
       "      <td>0.118319</td>\n",
       "      <td>0.265147</td>\n",
       "    </tr>\n",
       "    <tr>\n",
       "      <th>Fasttext from scratch w=29</th>\n",
       "      <td>0.122126</td>\n",
       "      <td>0.273782</td>\n",
       "    </tr>\n",
       "    <tr>\n",
       "      <th>Fasttext from scratch w=39</th>\n",
       "      <td>0.120768</td>\n",
       "      <td>0.281630</td>\n",
       "    </tr>\n",
       "    <tr>\n",
       "      <th>Fasttext from scratch w=49</th>\n",
       "      <td>0.120709</td>\n",
       "      <td>0.280478</td>\n",
       "    </tr>\n",
       "    <tr>\n",
       "      <th>Fasttext from scratch w=59</th>\n",
       "      <td>0.119116</td>\n",
       "      <td>0.278808</td>\n",
       "    </tr>\n",
       "    <tr>\n",
       "      <th>Fasttext from scratch w=69</th>\n",
       "      <td>0.119178</td>\n",
       "      <td>0.279651</td>\n",
       "    </tr>\n",
       "  </tbody>\n",
       "</table>\n",
       "</div>"
      ],
      "text/plain": [
       "                            general keywords  specific_keywords\n",
       "Fasttext from scratch w=3           0.100720           0.194378\n",
       "Fasttext from scratch w=5           0.109446           0.214477\n",
       "Fasttext from scratch w=7           0.111308           0.229064\n",
       "Fasttext from scratch w=9           0.115127           0.239992\n",
       "Fasttext from scratch w=19          0.118319           0.265147\n",
       "Fasttext from scratch w=29          0.122126           0.273782\n",
       "Fasttext from scratch w=39          0.120768           0.281630\n",
       "Fasttext from scratch w=49          0.120709           0.280478\n",
       "Fasttext from scratch w=59          0.119116           0.278808\n",
       "Fasttext from scratch w=69          0.119178           0.279651"
      ]
     },
     "execution_count": 16,
     "metadata": {},
     "output_type": "execute_result"
    }
   ],
   "source": [
    "print(\"mAP scores for window size search models:\")\n",
    "search_window_size_results"
   ]
  },
  {
   "cell_type": "code",
   "execution_count": null,
   "metadata": {},
   "outputs": [],
   "source": [
    "search_vec_size_models = [\n",
    "    (f\"Fasttext from scratch s={embedding_size}\", partial(\n",
    "        WordEmbeddingRetrieval.from_new_embedding,\n",
    "        corpus = all_papers_basic_nostopwords,\n",
    "        doc_corpus = papers_basic_nostopwords,\n",
    "        sentence_embedder = AverageSentenceEmbedding,\n",
    "        window_size=5,\n",
    "        embedding_size=embedding_size)\n",
    "    )\n",
    "    for embedding_size in [100,200,300,400,500,600,700,800]\n",
    "]"
   ]
  },
  {
   "cell_type": "code",
   "execution_count": null,
   "metadata": {},
   "outputs": [],
   "source": [
    "search_vec_size_results = train_evaluate_models(search_vec_size_models, [general_keywords, specific_keywords], n_jobs=4)"
   ]
  },
  {
   "cell_type": "code",
   "execution_count": 17,
   "metadata": {},
   "outputs": [
    {
     "name": "stdout",
     "output_type": "stream",
     "text": [
      "mAP scores for embedding vector size search models:\n"
     ]
    },
    {
     "data": {
      "text/html": [
       "<div>\n",
       "<style scoped>\n",
       "    .dataframe tbody tr th:only-of-type {\n",
       "        vertical-align: middle;\n",
       "    }\n",
       "\n",
       "    .dataframe tbody tr th {\n",
       "        vertical-align: top;\n",
       "    }\n",
       "\n",
       "    .dataframe thead th {\n",
       "        text-align: right;\n",
       "    }\n",
       "</style>\n",
       "<table border=\"1\" class=\"dataframe\">\n",
       "  <thead>\n",
       "    <tr style=\"text-align: right;\">\n",
       "      <th></th>\n",
       "      <th>general keywords</th>\n",
       "      <th>specific_keywords</th>\n",
       "    </tr>\n",
       "  </thead>\n",
       "  <tbody>\n",
       "    <tr>\n",
       "      <th>Fasttext from scratch s=100</th>\n",
       "      <td>0.103092</td>\n",
       "      <td>0.157370</td>\n",
       "    </tr>\n",
       "    <tr>\n",
       "      <th>Fasttext from scratch s=200</th>\n",
       "      <td>0.107897</td>\n",
       "      <td>0.198498</td>\n",
       "    </tr>\n",
       "    <tr>\n",
       "      <th>Fasttext from scratch s=300</th>\n",
       "      <td>0.108470</td>\n",
       "      <td>0.216062</td>\n",
       "    </tr>\n",
       "    <tr>\n",
       "      <th>Fasttext from scratch s=400</th>\n",
       "      <td>0.110393</td>\n",
       "      <td>0.224441</td>\n",
       "    </tr>\n",
       "    <tr>\n",
       "      <th>Fasttext from scratch s=500</th>\n",
       "      <td>0.108084</td>\n",
       "      <td>0.229331</td>\n",
       "    </tr>\n",
       "    <tr>\n",
       "      <th>Fasttext from scratch s=600</th>\n",
       "      <td>0.107626</td>\n",
       "      <td>0.233991</td>\n",
       "    </tr>\n",
       "    <tr>\n",
       "      <th>Fasttext from scratch s=700</th>\n",
       "      <td>0.107570</td>\n",
       "      <td>0.234928</td>\n",
       "    </tr>\n",
       "    <tr>\n",
       "      <th>Fasttext from scratch s=800</th>\n",
       "      <td>0.106576</td>\n",
       "      <td>0.235087</td>\n",
       "    </tr>\n",
       "  </tbody>\n",
       "</table>\n",
       "</div>"
      ],
      "text/plain": [
       "                             general keywords  specific_keywords\n",
       "Fasttext from scratch s=100          0.103092           0.157370\n",
       "Fasttext from scratch s=200          0.107897           0.198498\n",
       "Fasttext from scratch s=300          0.108470           0.216062\n",
       "Fasttext from scratch s=400          0.110393           0.224441\n",
       "Fasttext from scratch s=500          0.108084           0.229331\n",
       "Fasttext from scratch s=600          0.107626           0.233991\n",
       "Fasttext from scratch s=700          0.107570           0.234928\n",
       "Fasttext from scratch s=800          0.106576           0.235087"
      ]
     },
     "execution_count": 17,
     "metadata": {},
     "output_type": "execute_result"
    }
   ],
   "source": [
    "print(\"mAP scores for embedding vector size search models:\")\n",
    "search_vec_size_results"
   ]
  },
  {
   "cell_type": "code",
   "execution_count": null,
   "metadata": {},
   "outputs": [],
   "source": [
    "sentence_embedding_models = [\n",
    "    (\"Fasttext from scratch average embedding\", partial(\n",
    "        WordEmbeddingRetrieval.from_new_embedding,\n",
    "        corpus = all_papers_basic_nostopwords,\n",
    "        doc_corpus = papers_basic_nostopwords,\n",
    "        sentence_embedder = AverageSentenceEmbedding,\n",
    "        window_size=5,\n",
    "        embedding_size=300)\n",
    "    ),\n",
    "    (\"Fasttext from scratch idf embedding\", partial(\n",
    "        WordEmbeddingRetrieval.from_new_embedding,\n",
    "        corpus = all_papers_basic_nostopwords,\n",
    "        doc_corpus = papers_basic_nostopwords,\n",
    "        sentence_embedder = TfidfSentenceEmbedding,\n",
    "        window_size=5,\n",
    "        embedding_size=300)\n",
    "    ),\n",
    "    (\"Fasttext from scratch sif embedding\", partial(\n",
    "        WordEmbeddingRetrieval.from_new_embedding,\n",
    "        corpus = all_papers_basic_nostopwords,\n",
    "        doc_corpus = papers_basic_nostopwords,\n",
    "        sentence_embedder = SifSentenceEmbedding,\n",
    "        window_size=5,\n",
    "        embedding_size=300)\n",
    "    )\n",
    "]"
   ]
  },
  {
   "cell_type": "code",
   "execution_count": null,
   "metadata": {},
   "outputs": [],
   "source": [
    "sentence_embedding_results = train_evaluate_models(sentence_embedding_models, [general_keywords, specific_keywords], n_jobs=4)"
   ]
  },
  {
   "cell_type": "code",
   "execution_count": 18,
   "metadata": {},
   "outputs": [
    {
     "name": "stdout",
     "output_type": "stream",
     "text": [
      "mAP scores for sentence embedding models:\n"
     ]
    },
    {
     "data": {
      "text/html": [
       "<div>\n",
       "<style scoped>\n",
       "    .dataframe tbody tr th:only-of-type {\n",
       "        vertical-align: middle;\n",
       "    }\n",
       "\n",
       "    .dataframe tbody tr th {\n",
       "        vertical-align: top;\n",
       "    }\n",
       "\n",
       "    .dataframe thead th {\n",
       "        text-align: right;\n",
       "    }\n",
       "</style>\n",
       "<table border=\"1\" class=\"dataframe\">\n",
       "  <thead>\n",
       "    <tr style=\"text-align: right;\">\n",
       "      <th></th>\n",
       "      <th>general keywords</th>\n",
       "      <th>specific_keywords</th>\n",
       "    </tr>\n",
       "  </thead>\n",
       "  <tbody>\n",
       "    <tr>\n",
       "      <th>Fasttext from scratch average embedding</th>\n",
       "      <td>0.108890</td>\n",
       "      <td>0.214719</td>\n",
       "    </tr>\n",
       "    <tr>\n",
       "      <th>Fasttext from scratch idf embedding</th>\n",
       "      <td>0.115000</td>\n",
       "      <td>0.258512</td>\n",
       "    </tr>\n",
       "    <tr>\n",
       "      <th>Fasttext from scratch sif embedding</th>\n",
       "      <td>0.110788</td>\n",
       "      <td>0.240554</td>\n",
       "    </tr>\n",
       "  </tbody>\n",
       "</table>\n",
       "</div>"
      ],
      "text/plain": [
       "                                         general keywords  specific_keywords\n",
       "Fasttext from scratch average embedding          0.108890           0.214719\n",
       "Fasttext from scratch idf embedding              0.115000           0.258512\n",
       "Fasttext from scratch sif embedding              0.110788           0.240554"
      ]
     },
     "execution_count": 18,
     "metadata": {},
     "output_type": "execute_result"
    }
   ],
   "source": [
    "print(\"mAP scores for sentence embedding models:\")\n",
    "sentence_embedding_results"
   ]
  },
  {
   "cell_type": "code",
   "execution_count": 19,
   "metadata": {},
   "outputs": [],
   "source": [
    "best_model = [\n",
    "    (\"Fasttext best for general\", partial(\n",
    "        WordEmbeddingRetrieval.from_new_embedding,\n",
    "        corpus = all_papers_basic_nostopwords,\n",
    "        doc_corpus = papers_basic_nostopwords,\n",
    "        sentence_embedder = TfidfSentenceEmbedding,\n",
    "        window_size=29,\n",
    "        embedding_size=400)\n",
    "    ),\n",
    "    (\"Fasttext best for specific\", partial(\n",
    "        WordEmbeddingRetrieval.from_new_embedding,\n",
    "        corpus = all_papers_basic_nostopwords,\n",
    "        doc_corpus = papers_basic_nostopwords,\n",
    "        sentence_embedder = TfidfSentenceEmbedding,\n",
    "        window_size=39,\n",
    "        embedding_size=800)\n",
    "    ),\n",
    "]"
   ]
  },
  {
   "cell_type": "code",
   "execution_count": null,
   "metadata": {},
   "outputs": [],
   "source": [
    "best_results = train_evaluate_models(best_model, [general_keywords, specific_keywords], n_jobs=4)"
   ]
  },
  {
   "cell_type": "code",
   "execution_count": 22,
   "metadata": {},
   "outputs": [
    {
     "name": "stdout",
     "output_type": "stream",
     "text": [
      "mAP scores for best model:\n"
     ]
    },
    {
     "data": {
      "text/html": [
       "<div>\n",
       "<style scoped>\n",
       "    .dataframe tbody tr th:only-of-type {\n",
       "        vertical-align: middle;\n",
       "    }\n",
       "\n",
       "    .dataframe tbody tr th {\n",
       "        vertical-align: top;\n",
       "    }\n",
       "\n",
       "    .dataframe thead th {\n",
       "        text-align: right;\n",
       "    }\n",
       "</style>\n",
       "<table border=\"1\" class=\"dataframe\">\n",
       "  <thead>\n",
       "    <tr style=\"text-align: right;\">\n",
       "      <th></th>\n",
       "      <th>general keywords</th>\n",
       "      <th>specific_keywords</th>\n",
       "    </tr>\n",
       "  </thead>\n",
       "  <tbody>\n",
       "    <tr>\n",
       "      <th>Fasttext best for general</th>\n",
       "      <td>0.126743</td>\n",
       "      <td>0.342433</td>\n",
       "    </tr>\n",
       "    <tr>\n",
       "      <th>Fasttext best for specific</th>\n",
       "      <td>0.122381</td>\n",
       "      <td>0.368905</td>\n",
       "    </tr>\n",
       "  </tbody>\n",
       "</table>\n",
       "</div>"
      ],
      "text/plain": [
       "                            general keywords  specific_keywords\n",
       "Fasttext best for general           0.126743           0.342433\n",
       "Fasttext best for specific          0.122381           0.368905"
      ]
     },
     "execution_count": 22,
     "metadata": {},
     "output_type": "execute_result"
    }
   ],
   "source": [
    "print(\"mAP scores for best model:\")\n",
    "best_results"
   ]
  },
  {
   "cell_type": "code",
   "execution_count": 9,
   "metadata": {},
   "outputs": [],
   "source": [
    "from query_expansion_retrieval import QueryExpansionRetrieval"
   ]
  },
  {
   "cell_type": "code",
   "execution_count": 10,
   "metadata": {},
   "outputs": [],
   "source": [
    "with open(\"../data/keyword_hierarchy.json\", 'r') as file:\n",
    "    keyword_hierarchy = json.load(file)"
   ]
  },
  {
   "cell_type": "code",
   "execution_count": null,
   "metadata": {},
   "outputs": [
    {
     "name": "stdout",
     "output_type": "stream",
     "text": [
      "from_new_embedding\n"
     ]
    }
   ],
   "source": [
    "fasttext_model = WordEmbeddingRetrieval.from_new_embedding(\n",
    "        corpus = all_papers_basic_nostopwords,\n",
    "        doc_corpus = papers_basic_nostopwords,\n",
    "        sentence_embedder = TfidfSentenceEmbedding,\n",
    "        window_size=29,\n",
    "        embedding_size=400)"
   ]
  },
  {
   "cell_type": "code",
   "execution_count": 21,
   "metadata": {},
   "outputs": [],
   "source": [
    "query_expansion_models = [\n",
    "    (\"qe fasttext expand all\", \n",
    "     partial(QueryExpansionRetrieval, \n",
    "             wrapped_model=fasttext_model, \n",
    "             expansion_hierarchy=keyword_hierarchy,\n",
    "             only_expand_once=False,\n",
    "             separate_weighting=False)),\n",
    "    (\"qe fasttext expand first\",\n",
    "     partial(QueryExpansionRetrieval, \n",
    "             wrapped_model=fasttext_model, \n",
    "             expansion_hierarchy=keyword_hierarchy,\n",
    "             only_expand_once=True,\n",
    "             separate_weighting=False)),\n",
    "    (\"qe fasttext expand all separate weighting\",\n",
    "     partial(QueryExpansionRetrieval, \n",
    "             wrapped_model=fasttext_model, \n",
    "             expansion_hierarchy=keyword_hierarchy,\n",
    "             only_expand_once=False,\n",
    "             separate_weighting=True)),\n",
    "    (\"qe fasttext expand first separate weighting\",\n",
    "     partial(QueryExpansionRetrieval, \n",
    "             wrapped_model=fasttext_model, \n",
    "             expansion_hierarchy=keyword_hierarchy,\n",
    "             only_expand_once=True,\n",
    "             separate_weighting=True))\n",
    "]"
   ]
  },
  {
   "cell_type": "code",
   "execution_count": 22,
   "metadata": {},
   "outputs": [
    {
     "data": {
      "application/vnd.jupyter.widget-view+json": {
       "model_id": "d74dd4d7dcaf464faa39528476363e08",
       "version_major": 2,
       "version_minor": 0
      },
      "text/plain": [
       "HBox(children=(IntProgress(value=0, layout=Layout(flex='2'), max=5293), HTML(value='')), layout=Layout(display…"
      ]
     },
     "metadata": {},
     "output_type": "display_data"
    },
    {
     "name": "stdout",
     "output_type": "stream",
     "text": [
      "\n"
     ]
    }
   ],
   "source": [
    "query_expansion_results = train_evaluate_models(query_expansion_models, [general_keywords, specific_keywords], n_jobs=1)"
   ]
  },
  {
   "cell_type": "code",
   "execution_count": 20,
   "metadata": {},
   "outputs": [
    {
     "name": "stdout",
     "output_type": "stream",
     "text": [
      "mAP scores for query expansion models:\n"
     ]
    },
    {
     "data": {
      "text/html": [
       "<div>\n",
       "<style scoped>\n",
       "    .dataframe tbody tr th:only-of-type {\n",
       "        vertical-align: middle;\n",
       "    }\n",
       "\n",
       "    .dataframe tbody tr th {\n",
       "        vertical-align: top;\n",
       "    }\n",
       "\n",
       "    .dataframe thead th {\n",
       "        text-align: right;\n",
       "    }\n",
       "</style>\n",
       "<table border=\"1\" class=\"dataframe\">\n",
       "  <thead>\n",
       "    <tr style=\"text-align: right;\">\n",
       "      <th></th>\n",
       "      <th>general keywords</th>\n",
       "      <th>specific_keywords</th>\n",
       "    </tr>\n",
       "  </thead>\n",
       "  <tbody>\n",
       "    <tr>\n",
       "      <th>qe fasttext expand all</th>\n",
       "      <td>0.166336</td>\n",
       "      <td>0.315127</td>\n",
       "    </tr>\n",
       "    <tr>\n",
       "      <th>qe fasttext expand first</th>\n",
       "      <td>0.191740</td>\n",
       "      <td>0.320181</td>\n",
       "    </tr>\n",
       "    <tr>\n",
       "      <th>qe fasttext expand all separate weighting</th>\n",
       "      <td>0.157512</td>\n",
       "      <td>0.344919</td>\n",
       "    </tr>\n",
       "    <tr>\n",
       "      <th>qe fasttext expand first separate weighting</th>\n",
       "      <td>0.156098</td>\n",
       "      <td>0.345124</td>\n",
       "    </tr>\n",
       "  </tbody>\n",
       "</table>\n",
       "</div>"
      ],
      "text/plain": [
       "                                             general keywords  \\\n",
       "qe fasttext expand all                               0.166336   \n",
       "qe fasttext expand first                             0.191740   \n",
       "qe fasttext expand all separate weighting            0.157512   \n",
       "qe fasttext expand first separate weighting          0.156098   \n",
       "\n",
       "                                             specific_keywords  \n",
       "qe fasttext expand all                                0.315127  \n",
       "qe fasttext expand first                              0.320181  \n",
       "qe fasttext expand all separate weighting             0.344919  \n",
       "qe fasttext expand first separate weighting           0.345124  "
      ]
     },
     "execution_count": 20,
     "metadata": {},
     "output_type": "execute_result"
    }
   ],
   "source": [
    "print(\"mAP scores for query expansion models:\")\n",
    "query_expansion_results"
   ]
  },
  {
   "cell_type": "code",
   "execution_count": null,
   "metadata": {},
   "outputs": [
    {
     "name": "stdout",
     "output_type": "stream",
     "text": [
      "from_new_embedding\n"
     ]
    }
   ],
   "source": [
    "best_fasttext_model = WordEmbeddingRetrieval.from_new_embedding(\n",
    "        corpus = papers_basic_nostopwords,\n",
    "        sentence_embedder = TfidfSentenceEmbedding,\n",
    "        window_size=29,\n",
    "        embedding_size=400)\n",
    "best_fasttext_model.save(\"../data/models/fasttext/fasttext_w29_s400_tfidf.model\")"
   ]
  },
  {
   "cell_type": "code",
   "execution_count": 12,
   "metadata": {},
   "outputs": [],
   "source": [
    "best_qe_model = QueryExpansionRetrieval(\n",
    "    wrapped_model=best_fasttext_model,\n",
    "    expansion_hierarchy=keyword_hierarchy,\n",
    "    only_expand_once=True,\n",
    "    separate_weighting=False)\n",
    "best_qe_model.save(\"../data/models/fasttext/qe_best_fasttext_exponce.model\")"
   ]
  },
  {
   "cell_type": "code",
   "execution_count": null,
   "metadata": {},
   "outputs": [],
   "source": []
  }
 ],
 "metadata": {
  "kernelspec": {
   "display_name": "paper_retrieval_env",
   "language": "python",
   "name": "paper_retrieval_env"
  },
  "language_info": {
   "codemirror_mode": {
    "name": "ipython",
    "version": 3
   },
   "file_extension": ".py",
   "mimetype": "text/x-python",
   "name": "python",
   "nbconvert_exporter": "python",
   "pygments_lexer": "ipython3",
   "version": "3.7.5"
  }
 },
 "nbformat": 4,
 "nbformat_minor": 4
}
