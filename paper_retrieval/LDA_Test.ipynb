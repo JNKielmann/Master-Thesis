{
 "cells": [
  {
   "cell_type": "code",
   "execution_count": 72,
   "metadata": {},
   "outputs": [
    {
     "name": "stdout",
     "output_type": "stream",
     "text": [
      "The autoreload extension is already loaded. To reload it, use:\n",
      "  %reload_ext autoreload\n"
     ]
    },
    {
     "name": "stderr",
     "output_type": "stream",
     "text": [
      "/root/.local/share/virtualenvs/paper_retrieval-dhADrxe5/lib/python3.7/site-packages/tqdm/std.py:651: FutureWarning: The Panel class is removed from pandas. Accessing it from the top-level namespace will also be removed in the next version\n",
      "  from pandas import Panel\n"
     ]
    }
   ],
   "source": [
    "%load_ext autoreload\n",
    "%autoreload 2\n",
    "import json\n",
    "import pandas as pd\n",
    "pd.set_option('display.max_columns', None)  \n",
    "pd.set_option('display.expand_frame_repr', False)\n",
    "pd.set_option('max_colwidth', 1000)\n",
    "import numpy as np\n",
    "from functools import partial\n",
    "import spacy\n",
    "import seaborn as sns\n",
    "sns.set()\n",
    "import os\n",
    "import pyLDAvis.gensim\n",
    "pyLDAvis.enable_notebook()\n",
    "\n",
    "\n",
    "from tqdm.notebook import tqdm\n",
    "tqdm.pandas()\n",
    "\n",
    "import sys\n",
    "\n",
    "\n",
    "from lda_retrieval import LDARetrieval\n",
    "from evaluation import average_precision, mean_average_precision, mean_average_precision_parallel\n",
    "from preprocessing import apply_pipeline, Corpus, BasicPreprocessing, BigramPreprocessor, SpacyPreprocessor, StopWordPreprocessor\n",
    "\n",
    "import logging\n",
    "logging.basicConfig(level=logging.WARN, stream=sys.stdout)\n",
    "logging.getLogger(\"preprocessing.pipeline\").setLevel(logging.INFO)\n",
    "logging.getLogger(\"lda_retrieval\").setLevel(logging.INFO)"
   ]
  },
  {
   "cell_type": "code",
   "execution_count": 75,
   "metadata": {},
   "outputs": [
    {
     "name": "stdout",
     "output_type": "stream",
     "text": [
      "INFO:preprocessing.pipeline:Start preprocessing pipeline \"basic\" for file ../data/kit_expert_2017_papers.csv.\n",
      "INFO:preprocessing.pipeline:Loaded cached preprocessed corpus from ../data/kit_expert_2017_papers_basic\n",
      "INFO:preprocessing.pipeline:Start preprocessing pipeline \"basic_NoStopWords\" for file ../data/kit_expert_2017_papers.csv.\n",
      "INFO:preprocessing.pipeline:Loaded cached preprocessed corpus from ../data/kit_expert_2017_papers_basic_NoStopWords\n",
      "INFO:preprocessing.pipeline:Start preprocessing pipeline \"basic\" for file ../data/kit_expert_2017_papers.csv.\n",
      "INFO:preprocessing.pipeline:Loaded cached preprocessed corpus from ../data/kit_expert_2017_papers_basic\n",
      "INFO:preprocessing.pipeline:Start preprocessing pipeline \"basic_spacy_lemmatization\" for file ../data/kit_expert_2017_papers.csv.\n",
      "INFO:preprocessing.pipeline:Loaded cached preprocessed corpus from ../data/kit_expert_2017_papers_basic_spacy_lemmatization\n"
     ]
    }
   ],
   "source": [
    "base_file =  \"../data/kit_expert_2017_papers.csv\"\n",
    "\n",
    "p = [BasicPreprocessing()]\n",
    "papers_basic = Corpus(base_file, p, n_jobs=16)\n",
    "\n",
    "p = [BasicPreprocessing(), StopWordPreprocessor()]\n",
    "papers_basic_nostopwords = Corpus(base_file, p, load_from_cache=True, n_jobs=16)\n",
    "\n",
    "p = [BasicPreprocessing()]\n",
    "papers_basic = Corpus(base_file, p, n_jobs=16)\n",
    "\n",
    "p = [BasicPreprocessing(), SpacyPreprocessor(lemmatization=True)]\n",
    "papers_basic_lemmatization = Corpus(base_file, p, load_from_cache=True, n_jobs=16)"
   ]
  },
  {
   "cell_type": "code",
   "execution_count": 11,
   "metadata": {},
   "outputs": [],
   "source": [
    "with open(\"../data/kit_expert_2017_keywords.json\", \"r\") as file:\n",
    "    keywords = json.load(file)\n",
    "general_keywords = (\"general keywords\", [k for k in keywords if k[\"level\"]<=1])\n",
    "specific_keywords = (\"specific keywords\", [k for k in keywords if k[\"level\"]>=2])"
   ]
  },
  {
   "cell_type": "code",
   "execution_count": 12,
   "metadata": {},
   "outputs": [],
   "source": [
    "def evaluate_model(model, test_sets):\n",
    "    results = {}\n",
    "    total = np.sum([len(test_set[:3000]) for _, test_set in test_sets])\n",
    "    with tqdm(total=total, ncols='50%') as progress:\n",
    "        for test_set_name, test_set in test_sets:\n",
    "            data = [{\n",
    "                \"query\": keyword_info[\"keyword\"],\n",
    "                \"documents\": keyword_info[\"paper_ids\"]\n",
    "            } for keyword_info in test_set[:3000]]\n",
    "            mAP = mean_average_precision(model, data, progress.update)\n",
    "            results[test_set_name + \" mAP\"] = mAP\n",
    "    return results"
   ]
  },
  {
   "cell_type": "code",
   "execution_count": 6,
   "metadata": {},
   "outputs": [
    {
     "data": {
      "application/vnd.jupyter.widget-view+json": {
       "model_id": "ef2a5b3b28854aeba8a97ce9c19cf2d9",
       "version_major": 2,
       "version_minor": 0
      },
      "text/plain": [
       "HBox(children=(IntProgress(value=0, max=6), HTML(value='')))"
      ]
     },
     "metadata": {},
     "output_type": "display_data"
    },
    {
     "data": {
      "application/vnd.jupyter.widget-view+json": {
       "model_id": "bb3083c8a07f47d89cbbef46fa0e28c2",
       "version_major": 2,
       "version_minor": 0
      },
      "text/plain": [
       "HBox(children=(IntProgress(value=0, layout=Layout(flex='2'), max=3293), HTML(value='')), layout=Layout(display…"
      ]
     },
     "metadata": {},
     "output_type": "display_data"
    },
    {
     "name": "stdout",
     "output_type": "stream",
     "text": [
      "\n"
     ]
    },
    {
     "data": {
      "application/vnd.jupyter.widget-view+json": {
       "model_id": "2a86176c1c474a46a3ab653077df7944",
       "version_major": 2,
       "version_minor": 0
      },
      "text/plain": [
       "HBox(children=(IntProgress(value=0, layout=Layout(flex='2'), max=3293), HTML(value='')), layout=Layout(display…"
      ]
     },
     "metadata": {},
     "output_type": "display_data"
    },
    {
     "name": "stdout",
     "output_type": "stream",
     "text": [
      "\n"
     ]
    },
    {
     "data": {
      "application/vnd.jupyter.widget-view+json": {
       "model_id": "823253a70baa4da6b37b7be6e9776abd",
       "version_major": 2,
       "version_minor": 0
      },
      "text/plain": [
       "HBox(children=(IntProgress(value=0, layout=Layout(flex='2'), max=3293), HTML(value='')), layout=Layout(display…"
      ]
     },
     "metadata": {},
     "output_type": "display_data"
    },
    {
     "name": "stdout",
     "output_type": "stream",
     "text": [
      "\n"
     ]
    },
    {
     "data": {
      "application/vnd.jupyter.widget-view+json": {
       "model_id": "ed05930a3aee41769b1468993aa8ad94",
       "version_major": 2,
       "version_minor": 0
      },
      "text/plain": [
       "HBox(children=(IntProgress(value=0, layout=Layout(flex='2'), max=3293), HTML(value='')), layout=Layout(display…"
      ]
     },
     "metadata": {},
     "output_type": "display_data"
    },
    {
     "name": "stdout",
     "output_type": "stream",
     "text": [
      "\n"
     ]
    },
    {
     "data": {
      "application/vnd.jupyter.widget-view+json": {
       "model_id": "407439baa2474eeba6479ff96933d179",
       "version_major": 2,
       "version_minor": 0
      },
      "text/plain": [
       "HBox(children=(IntProgress(value=0, layout=Layout(flex='2'), max=3293), HTML(value='')), layout=Layout(display…"
      ]
     },
     "metadata": {},
     "output_type": "display_data"
    },
    {
     "name": "stdout",
     "output_type": "stream",
     "text": [
      "\n"
     ]
    },
    {
     "data": {
      "application/vnd.jupyter.widget-view+json": {
       "model_id": "43e29521566445d69cea49f4eb27ec74",
       "version_major": 2,
       "version_minor": 0
      },
      "text/plain": [
       "HBox(children=(IntProgress(value=0, layout=Layout(flex='2'), max=3293), HTML(value='')), layout=Layout(display…"
      ]
     },
     "metadata": {},
     "output_type": "display_data"
    },
    {
     "name": "stdout",
     "output_type": "stream",
     "text": [
      "\n",
      "\n"
     ]
    }
   ],
   "source": [
    "topic_gird = [500,1000,1500,2000,2500,3000]\n",
    "evaluation_results = []\n",
    "for num_topics in tqdm(topic_gird):\n",
    "    model_path = f\"../data/models/lda_{num_topics}topics.model\"\n",
    "    if os.path.isfile(model_path):\n",
    "        model = LDARetrieval.load(model_path)\n",
    "    else:\n",
    "        model = LDARetrieval(papers_basic_nostopwords, num_topics)\n",
    "        model.save(f\"../data/models/lda_{num_topics}topics.model\")\n",
    "    evaluation = evaluate_model(model, [general_keywords, specific_keywords])\n",
    "    evaluation[\"coherence\"] = model.get_coherence_score(papers_basic_nostopwords)\n",
    "    evaluation[\"topics\"] = num_topics\n",
    "    evaluation_results.append(evaluation)\n"
   ]
  },
  {
   "cell_type": "code",
   "execution_count": 8,
   "metadata": {},
   "outputs": [
    {
     "data": {
      "text/html": [
       "<div>\n",
       "<style scoped>\n",
       "    .dataframe tbody tr th:only-of-type {\n",
       "        vertical-align: middle;\n",
       "    }\n",
       "\n",
       "    .dataframe tbody tr th {\n",
       "        vertical-align: top;\n",
       "    }\n",
       "\n",
       "    .dataframe thead th {\n",
       "        text-align: right;\n",
       "    }\n",
       "</style>\n",
       "<table border=\"1\" class=\"dataframe\">\n",
       "  <thead>\n",
       "    <tr style=\"text-align: right;\">\n",
       "      <th></th>\n",
       "      <th>general keywords mAP</th>\n",
       "      <th>specific keywords mAP</th>\n",
       "      <th>coherence</th>\n",
       "      <th>topics</th>\n",
       "    </tr>\n",
       "  </thead>\n",
       "  <tbody>\n",
       "    <tr>\n",
       "      <th>0</th>\n",
       "      <td>0.030142</td>\n",
       "      <td>0.045634</td>\n",
       "      <td>-8.077860</td>\n",
       "      <td>500</td>\n",
       "    </tr>\n",
       "    <tr>\n",
       "      <th>1</th>\n",
       "      <td>0.032707</td>\n",
       "      <td>0.058135</td>\n",
       "      <td>-4.688202</td>\n",
       "      <td>1000</td>\n",
       "    </tr>\n",
       "    <tr>\n",
       "      <th>2</th>\n",
       "      <td>0.027411</td>\n",
       "      <td>0.037396</td>\n",
       "      <td>-9.693069</td>\n",
       "      <td>1500</td>\n",
       "    </tr>\n",
       "    <tr>\n",
       "      <th>3</th>\n",
       "      <td>0.018626</td>\n",
       "      <td>0.015314</td>\n",
       "      <td>-15.057930</td>\n",
       "      <td>2000</td>\n",
       "    </tr>\n",
       "    <tr>\n",
       "      <th>4</th>\n",
       "      <td>0.018925</td>\n",
       "      <td>0.004782</td>\n",
       "      <td>-16.459674</td>\n",
       "      <td>2500</td>\n",
       "    </tr>\n",
       "    <tr>\n",
       "      <th>5</th>\n",
       "      <td>0.010040</td>\n",
       "      <td>0.000626</td>\n",
       "      <td>-16.736424</td>\n",
       "      <td>3000</td>\n",
       "    </tr>\n",
       "  </tbody>\n",
       "</table>\n",
       "</div>"
      ],
      "text/plain": [
       "   general keywords mAP  specific keywords mAP  coherence  topics\n",
       "0              0.030142               0.045634  -8.077860     500\n",
       "1              0.032707               0.058135  -4.688202    1000\n",
       "2              0.027411               0.037396  -9.693069    1500\n",
       "3              0.018626               0.015314 -15.057930    2000\n",
       "4              0.018925               0.004782 -16.459674    2500\n",
       "5              0.010040               0.000626 -16.736424    3000"
      ]
     },
     "execution_count": 8,
     "metadata": {},
     "output_type": "execute_result"
    }
   ],
   "source": [
    "pd.DataFrame(evaluation_results)"
   ]
  }
 ],
 "metadata": {
  "kernelspec": {
   "display_name": "paper_retrieval_env",
   "language": "python",
   "name": "paper_retrieval_env"
  },
  "language_info": {
   "codemirror_mode": {
    "name": "ipython",
    "version": 3
   },
   "file_extension": ".py",
   "mimetype": "text/x-python",
   "name": "python",
   "nbconvert_exporter": "python",
   "pygments_lexer": "ipython3",
   "version": "3.7.5"
  },
  "toc": {
   "base_numbering": 1,
   "nav_menu": {},
   "number_sections": true,
   "sideBar": true,
   "skip_h1_title": false,
   "title_cell": "Table of Contents",
   "title_sidebar": "Contents",
   "toc_cell": false,
   "toc_position": {},
   "toc_section_display": true,
   "toc_window_display": false
  },
  "varInspector": {
   "cols": {
    "lenName": 16,
    "lenType": 16,
    "lenVar": 40
   },
   "kernels_config": {
    "python": {
     "delete_cmd_postfix": "",
     "delete_cmd_prefix": "del ",
     "library": "var_list.py",
     "varRefreshCmd": "print(var_dic_list())"
    },
    "r": {
     "delete_cmd_postfix": ") ",
     "delete_cmd_prefix": "rm(",
     "library": "var_list.r",
     "varRefreshCmd": "cat(var_dic_list()) "
    }
   },
   "types_to_exclude": [
    "module",
    "function",
    "builtin_function_or_method",
    "instance",
    "_Feature"
   ],
   "window_display": false
  }
 },
 "nbformat": 4,
 "nbformat_minor": 4
}
