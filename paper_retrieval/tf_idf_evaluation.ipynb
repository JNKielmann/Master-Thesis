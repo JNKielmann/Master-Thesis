{
 "cells": [
  {
   "cell_type": "markdown",
   "metadata": {},
   "source": [
    "# TF-IDF Evaluation"
   ]
  },
  {
   "cell_type": "code",
   "execution_count": 1,
   "metadata": {},
   "outputs": [],
   "source": [
    "%load_ext autoreload\n",
    "%autoreload 2\n",
    "import json\n",
    "from gensim.summarization.bm25 import BM25\n",
    "from gensim.models.phrases import Phrases, Phraser\n",
    "import pandas as pd\n",
    "pd.set_option('display.max_columns', None)  \n",
    "pd.set_option('display.expand_frame_repr', False)\n",
    "pd.set_option('max_colwidth', 1000)\n",
    "import numpy as np\n",
    "from multiprocessing import Pool\n",
    "from functools import partial\n",
    "import matplotlib.pyplot as plt\n",
    "import spacy\n",
    "import seaborn as sns\n",
    "sns.set()\n",
    "\n",
    "\n",
    "from tqdm.notebook import tqdm\n",
    "import warnings\n",
    "with warnings.catch_warnings():\n",
    "    warnings.simplefilter(\"ignore\")\n",
    "    tqdm.pandas()\n",
    "\n",
    "import sys\n",
    "import logging\n",
    "logging.basicConfig(level=logging.INFO, stream=sys.stdout)\n",
    "\n",
    "\n",
    "from tfidf_retrieval import TfidfRetrieval\n",
    "from evaluation import *\n",
    "from preprocessing import apply_pipeline, Corpus, BasicPreprocessing, BigramPreprocessor, SpacyPreprocessor"
   ]
  },
  {
   "cell_type": "markdown",
   "metadata": {},
   "source": [
    "#### Load corpus using different preprocessing pipelines"
   ]
  },
  {
   "cell_type": "code",
   "execution_count": 2,
   "metadata": {},
   "outputs": [
    {
     "name": "stdout",
     "output_type": "stream",
     "text": [
      "INFO:preprocessing.pipeline:Start preprocessing pipeline \"basic\" for file ../data/kit_expert_2017_papers.csv.\n",
      "INFO:preprocessing.pipeline:Loaded cached preprocessed corpus from ../data/kit_expert_2017_papers_basic\n",
      "INFO:preprocessing.pipeline:Start preprocessing pipeline \"basic_spacy_lemmatization_all\" for file ../data/kit_expert_2017_papers.csv.\n",
      "INFO:preprocessing.pipeline:Loaded cached preprocessed corpus from ../data/kit_expert_2017_papers_basic_spacy_lemmatization_all\n",
      "INFO:preprocessing.pipeline:Start preprocessing pipeline \"basic_spacy_lemmatization_nouns\" for file ../data/kit_expert_2017_papers.csv.\n",
      "INFO:preprocessing.pipeline:Loaded cached preprocessed corpus from ../data/kit_expert_2017_papers_basic_spacy_lemmatization_nouns\n"
     ]
    }
   ],
   "source": [
    "base_file =  \"../data/kit_expert_2017_papers.csv\"\n",
    "\n",
    "p = [BasicPreprocessing()]\n",
    "papers_basic = Corpus(base_file, p)\n",
    "\n",
    "p = [BasicPreprocessing(), SpacyPreprocessor(lemmatization=\"all\")]\n",
    "papers_basic_lemmatization_all = Corpus(base_file, p, load_from_cache=True)\n",
    "\n",
    "p = [BasicPreprocessing(), SpacyPreprocessor(lemmatization=\"nouns\")]\n",
    "papers_basic_lemmatization_nouns = Corpus(base_file, p, load_from_cache=True)"
   ]
  },
  {
   "cell_type": "markdown",
   "metadata": {},
   "source": [
    "#### Load keywords to use as test data"
   ]
  },
  {
   "cell_type": "code",
   "execution_count": 3,
   "metadata": {},
   "outputs": [],
   "source": [
    "with open(\"../data/kit_expert_2017_keywords.json\", \"r\") as file:\n",
    "    keywords = json.load(file)"
   ]
  },
  {
   "cell_type": "code",
   "execution_count": 4,
   "metadata": {},
   "outputs": [],
   "source": [
    "general_keywords = (\"general keywords\", [k for k in keywords if k[\"level\"]<=1])\n",
    "specific_keywords = (\"specific_keywords\", [k for k in keywords if k[\"level\"]>=2][:5000])"
   ]
  },
  {
   "cell_type": "markdown",
   "metadata": {},
   "source": [
    "#### Test simple tf-idf models on unigrams"
   ]
  },
  {
   "cell_type": "code",
   "execution_count": 5,
   "metadata": {},
   "outputs": [],
   "source": [
    "unigram_tfidf_models = [\n",
    "    (\"tf linear\", partial(TfidfRetrieval, corpus = papers_basic, max_ngram=1, use_idf=False, sublinear_tf=False)),\n",
    "    (\"tf sublinear\", partial(TfidfRetrieval, corpus = papers_basic, max_ngram=1, use_idf=False, sublinear_tf=True)),\n",
    "    (\"tf-idf linear\", partial(TfidfRetrieval, corpus = papers_basic, max_ngram=1, use_idf=True, sublinear_tf=False)),\n",
    "    (\"tf-idf sublinear\", partial(TfidfRetrieval, corpus = papers_basic, max_ngram=1, use_idf=True, sublinear_tf=True)),\n",
    "]"
   ]
  },
  {
   "cell_type": "code",
   "execution_count": null,
   "metadata": {},
   "outputs": [],
   "source": [
    "unigram_tfidf_results = train_evaluate_models(unigram_tfidf_models, [general_keywords, specific_keywords], n_jobs=4)"
   ]
  },
  {
   "cell_type": "code",
   "execution_count": 7,
   "metadata": {},
   "outputs": [
    {
     "name": "stdout",
     "output_type": "stream",
     "text": [
      "mAP scores for unigram tfidf models:\n"
     ]
    },
    {
     "data": {
      "text/html": [
       "<div>\n",
       "<style scoped>\n",
       "    .dataframe tbody tr th:only-of-type {\n",
       "        vertical-align: middle;\n",
       "    }\n",
       "\n",
       "    .dataframe tbody tr th {\n",
       "        vertical-align: top;\n",
       "    }\n",
       "\n",
       "    .dataframe thead th {\n",
       "        text-align: right;\n",
       "    }\n",
       "</style>\n",
       "<table border=\"1\" class=\"dataframe\">\n",
       "  <thead>\n",
       "    <tr style=\"text-align: right;\">\n",
       "      <th></th>\n",
       "      <th>general keywords</th>\n",
       "      <th>specific_keywords</th>\n",
       "    </tr>\n",
       "  </thead>\n",
       "  <tbody>\n",
       "    <tr>\n",
       "      <th>tf linear</th>\n",
       "      <td>0.048705</td>\n",
       "      <td>0.315517</td>\n",
       "    </tr>\n",
       "    <tr>\n",
       "      <th>tf sublinear</th>\n",
       "      <td>0.054267</td>\n",
       "      <td>0.411899</td>\n",
       "    </tr>\n",
       "    <tr>\n",
       "      <th>tf-idf linear</th>\n",
       "      <td>0.049875</td>\n",
       "      <td>0.384793</td>\n",
       "    </tr>\n",
       "    <tr>\n",
       "      <th>tf-idf sublinear</th>\n",
       "      <td>0.051161</td>\n",
       "      <td>0.457455</td>\n",
       "    </tr>\n",
       "  </tbody>\n",
       "</table>\n",
       "</div>"
      ],
      "text/plain": [
       "                  general keywords  specific_keywords\n",
       "tf linear                 0.048705           0.315517\n",
       "tf sublinear              0.054267           0.411899\n",
       "tf-idf linear             0.049875           0.384793\n",
       "tf-idf sublinear          0.051161           0.457455"
      ]
     },
     "execution_count": 7,
     "metadata": {},
     "output_type": "execute_result"
    }
   ],
   "source": [
    "print(\"mAP scores for unigram tfidf models:\")\n",
    "unigram_tfidf_results"
   ]
  },
  {
   "cell_type": "markdown",
   "metadata": {},
   "source": [
    "Results:\n",
    "- Performs very bad on general keywords\n",
    "- Performs ok on specific keywords\n",
    "- Use of inverse document frequency improves result \n",
    "- Use of sublinear scaling of term frequency improves results "
   ]
  },
  {
   "cell_type": "markdown",
   "metadata": {},
   "source": [
    "#### Test tf-idf models on n-grams"
   ]
  },
  {
   "cell_type": "code",
   "execution_count": 8,
   "metadata": {},
   "outputs": [],
   "source": [
    "ngram_tfidf_models = [\n",
    "    (\"tf-idf sublinear 2-gram\", partial(TfidfRetrieval, corpus=papers_basic, max_ngram=2, use_idf=True, sublinear_tf=True)),\n",
    "    (\"tf-idf sublinear 3-gram\", partial(TfidfRetrieval, corpus=papers_basic, max_ngram=3, use_idf=True, sublinear_tf=True)),\n",
    "    (\"tf-idf sublinear 4-gram\", partial(TfidfRetrieval, corpus=papers_basic, max_ngram=4, use_idf=True, sublinear_tf=True)),\n",
    "]"
   ]
  },
  {
   "cell_type": "code",
   "execution_count": null,
   "metadata": {},
   "outputs": [],
   "source": [
    "ngram_tfidf_results = train_evaluate_models(ngram_tfidf_models, [general_keywords, specific_keywords], n_jobs=5)"
   ]
  },
  {
   "cell_type": "code",
   "execution_count": 29,
   "metadata": {},
   "outputs": [
    {
     "name": "stdout",
     "output_type": "stream",
     "text": [
      "mAP scores for ngram tfidf models:\n"
     ]
    },
    {
     "data": {
      "text/html": [
       "<div>\n",
       "<style scoped>\n",
       "    .dataframe tbody tr th:only-of-type {\n",
       "        vertical-align: middle;\n",
       "    }\n",
       "\n",
       "    .dataframe tbody tr th {\n",
       "        vertical-align: top;\n",
       "    }\n",
       "\n",
       "    .dataframe thead th {\n",
       "        text-align: right;\n",
       "    }\n",
       "</style>\n",
       "<table border=\"1\" class=\"dataframe\">\n",
       "  <thead>\n",
       "    <tr style=\"text-align: right;\">\n",
       "      <th></th>\n",
       "      <th>general keywords</th>\n",
       "      <th>specific_keywords</th>\n",
       "    </tr>\n",
       "  </thead>\n",
       "  <tbody>\n",
       "    <tr>\n",
       "      <th>tf-idf sublinear 2-gram</th>\n",
       "      <td>0.053622</td>\n",
       "      <td>0.607080</td>\n",
       "    </tr>\n",
       "    <tr>\n",
       "      <th>tf-idf sublinear 3-gram</th>\n",
       "      <td>0.054342</td>\n",
       "      <td>0.615207</td>\n",
       "    </tr>\n",
       "    <tr>\n",
       "      <th>tf-idf sublinear 4-gram</th>\n",
       "      <td>0.054552</td>\n",
       "      <td>0.615690</td>\n",
       "    </tr>\n",
       "  </tbody>\n",
       "</table>\n",
       "</div>"
      ],
      "text/plain": [
       "                         general keywords  specific_keywords\n",
       "tf-idf sublinear 2-gram          0.053622           0.607080\n",
       "tf-idf sublinear 3-gram          0.054342           0.615207\n",
       "tf-idf sublinear 4-gram          0.054552           0.615690"
      ]
     },
     "execution_count": 29,
     "metadata": {},
     "output_type": "execute_result"
    }
   ],
   "source": [
    "print(\"mAP scores for ngram tfidf models:\")\n",
    "ngram_tfidf_results"
   ]
  },
  {
   "cell_type": "markdown",
   "metadata": {},
   "source": [
    "Results:\n",
    "- No significant change for general keywords\n",
    "- Bigrams provide great improvement for specific keywords\n",
    "- 3 and 4-grams do not lead to significant further improvements"
   ]
  },
  {
   "cell_type": "code",
   "execution_count": null,
   "metadata": {},
   "outputs": [],
   "source": [
    "lemmatization_tfidf_models = [\n",
    "    (\"tf-idf 1-gram lematization all\", partial(TfidfRetrieval, corpus = papers_basic_lemmatization_all, max_ngram=1, use_idf=True, sublinear_tf=True)),\n",
    "    (\"tf-idf 1-gram lematization nouns\", partial(TfidfRetrieval, corpus = papers_basic_lemmatization_nouns, max_ngram=1, use_idf=True, sublinear_tf=True)),\n",
    "    (\"tf-idf 2-gram lematization all\", partial(TfidfRetrieval, corpus = papers_basic_lemmatization_all, max_ngram=2, use_idf=True, sublinear_tf=True)),\n",
    "    (\"tf-idf 2-gram lematization nouns\", partial(TfidfRetrieval, corpus = papers_basic_lemmatization_nouns, max_ngram=2, use_idf=True, sublinear_tf=True)),\n",
    "]"
   ]
  },
  {
   "cell_type": "code",
   "execution_count": null,
   "metadata": {},
   "outputs": [],
   "source": [
    "lemmatization_tfidf_results = train_evaluate_models(lemmatization_tfidf_models, [general_keywords, specific_keywords], n_jobs=4)"
   ]
  },
  {
   "cell_type": "code",
   "execution_count": 30,
   "metadata": {},
   "outputs": [
    {
     "name": "stdout",
     "output_type": "stream",
     "text": [
      "mAP scores for lemmatization tfidf models:\n"
     ]
    },
    {
     "data": {
      "text/html": [
       "<div>\n",
       "<style scoped>\n",
       "    .dataframe tbody tr th:only-of-type {\n",
       "        vertical-align: middle;\n",
       "    }\n",
       "\n",
       "    .dataframe tbody tr th {\n",
       "        vertical-align: top;\n",
       "    }\n",
       "\n",
       "    .dataframe thead th {\n",
       "        text-align: right;\n",
       "    }\n",
       "</style>\n",
       "<table border=\"1\" class=\"dataframe\">\n",
       "  <thead>\n",
       "    <tr style=\"text-align: right;\">\n",
       "      <th></th>\n",
       "      <th>general keywords</th>\n",
       "      <th>specific_keywords</th>\n",
       "    </tr>\n",
       "  </thead>\n",
       "  <tbody>\n",
       "    <tr>\n",
       "      <th>tf-idf 1-gram lematization all</th>\n",
       "      <td>0.052131</td>\n",
       "      <td>0.443485</td>\n",
       "    </tr>\n",
       "    <tr>\n",
       "      <th>tf-idf 1-gram lematization nouns</th>\n",
       "      <td>0.052932</td>\n",
       "      <td>0.453880</td>\n",
       "    </tr>\n",
       "    <tr>\n",
       "      <th>tf-idf 2-gram lematization all</th>\n",
       "      <td>0.054516</td>\n",
       "      <td>0.602975</td>\n",
       "    </tr>\n",
       "    <tr>\n",
       "      <th>tf-idf 2-gram lematization nouns</th>\n",
       "      <td>0.055375</td>\n",
       "      <td>0.615382</td>\n",
       "    </tr>\n",
       "  </tbody>\n",
       "</table>\n",
       "</div>"
      ],
      "text/plain": [
       "                                  general keywords  specific_keywords\n",
       "tf-idf 1-gram lematization all            0.052131           0.443485\n",
       "tf-idf 1-gram lematization nouns          0.052932           0.453880\n",
       "tf-idf 2-gram lematization all            0.054516           0.602975\n",
       "tf-idf 2-gram lematization nouns          0.055375           0.615382"
      ]
     },
     "execution_count": 30,
     "metadata": {},
     "output_type": "execute_result"
    }
   ],
   "source": [
    "print(\"mAP scores for lemmatization tfidf models:\")\n",
    "lemmatization_tfidf_results"
   ]
  },
  {
   "cell_type": "markdown",
   "metadata": {},
   "source": [
    "#### Grid search for BM25 k1 parameter"
   ]
  },
  {
   "cell_type": "code",
   "execution_count": 6,
   "metadata": {},
   "outputs": [],
   "source": [
    "k1_grid = np.arange(0.1,1.5,0.1)\n",
    "search_k1_bm25_models = [(f\"BM25 k1={k1:.2f}\", partial(TfidfRetrieval, corpus=papers_basic, use_bm25=True, k1=k1)) for k1 in k1_grid]"
   ]
  },
  {
   "cell_type": "code",
   "execution_count": null,
   "metadata": {},
   "outputs": [],
   "source": [
    "%%time\n",
    "search_k1_bm25_results = train_evaluate_models(search_k1_bm25_models, [general_keywords, specific_keywords], n_jobs=len(search_k1_bm25_models))"
   ]
  },
  {
   "cell_type": "code",
   "execution_count": 8,
   "metadata": {},
   "outputs": [
    {
     "name": "stdout",
     "output_type": "stream",
     "text": [
      "mAP scores for bm25 k1 search models:\n"
     ]
    },
    {
     "data": {
      "text/html": [
       "<div>\n",
       "<style scoped>\n",
       "    .dataframe tbody tr th:only-of-type {\n",
       "        vertical-align: middle;\n",
       "    }\n",
       "\n",
       "    .dataframe tbody tr th {\n",
       "        vertical-align: top;\n",
       "    }\n",
       "\n",
       "    .dataframe thead th {\n",
       "        text-align: right;\n",
       "    }\n",
       "</style>\n",
       "<table border=\"1\" class=\"dataframe\">\n",
       "  <thead>\n",
       "    <tr style=\"text-align: right;\">\n",
       "      <th></th>\n",
       "      <th>general keywords</th>\n",
       "      <th>specific_keywords</th>\n",
       "    </tr>\n",
       "  </thead>\n",
       "  <tbody>\n",
       "    <tr>\n",
       "      <th>BM25 k1=0.10</th>\n",
       "      <td>0.035042</td>\n",
       "      <td>0.450762</td>\n",
       "    </tr>\n",
       "    <tr>\n",
       "      <th>BM25 k1=0.20</th>\n",
       "      <td>0.037415</td>\n",
       "      <td>0.459711</td>\n",
       "    </tr>\n",
       "    <tr>\n",
       "      <th>BM25 k1=0.30</th>\n",
       "      <td>0.040201</td>\n",
       "      <td>0.466010</td>\n",
       "    </tr>\n",
       "    <tr>\n",
       "      <th>BM25 k1=0.40</th>\n",
       "      <td>0.041391</td>\n",
       "      <td>0.471763</td>\n",
       "    </tr>\n",
       "    <tr>\n",
       "      <th>BM25 k1=0.50</th>\n",
       "      <td>0.042846</td>\n",
       "      <td>0.474780</td>\n",
       "    </tr>\n",
       "    <tr>\n",
       "      <th>BM25 k1=0.60</th>\n",
       "      <td>0.044383</td>\n",
       "      <td>0.476522</td>\n",
       "    </tr>\n",
       "    <tr>\n",
       "      <th>BM25 k1=0.70</th>\n",
       "      <td>0.045310</td>\n",
       "      <td>0.477743</td>\n",
       "    </tr>\n",
       "    <tr>\n",
       "      <th>BM25 k1=0.80</th>\n",
       "      <td>0.046103</td>\n",
       "      <td>0.479169</td>\n",
       "    </tr>\n",
       "    <tr>\n",
       "      <th>BM25 k1=0.90</th>\n",
       "      <td>0.047374</td>\n",
       "      <td>0.478976</td>\n",
       "    </tr>\n",
       "    <tr>\n",
       "      <th>BM25 k1=1.00</th>\n",
       "      <td>0.047386</td>\n",
       "      <td>0.478830</td>\n",
       "    </tr>\n",
       "    <tr>\n",
       "      <th>BM25 k1=1.10</th>\n",
       "      <td>0.047887</td>\n",
       "      <td>0.478459</td>\n",
       "    </tr>\n",
       "    <tr>\n",
       "      <th>BM25 k1=1.20</th>\n",
       "      <td>0.048852</td>\n",
       "      <td>0.478189</td>\n",
       "    </tr>\n",
       "    <tr>\n",
       "      <th>BM25 k1=1.30</th>\n",
       "      <td>0.048753</td>\n",
       "      <td>0.477445</td>\n",
       "    </tr>\n",
       "    <tr>\n",
       "      <th>BM25 k1=1.40</th>\n",
       "      <td>0.049251</td>\n",
       "      <td>0.477257</td>\n",
       "    </tr>\n",
       "  </tbody>\n",
       "</table>\n",
       "</div>"
      ],
      "text/plain": [
       "              general keywords  specific_keywords\n",
       "BM25 k1=0.10          0.035042           0.450762\n",
       "BM25 k1=0.20          0.037415           0.459711\n",
       "BM25 k1=0.30          0.040201           0.466010\n",
       "BM25 k1=0.40          0.041391           0.471763\n",
       "BM25 k1=0.50          0.042846           0.474780\n",
       "BM25 k1=0.60          0.044383           0.476522\n",
       "BM25 k1=0.70          0.045310           0.477743\n",
       "BM25 k1=0.80          0.046103           0.479169\n",
       "BM25 k1=0.90          0.047374           0.478976\n",
       "BM25 k1=1.00          0.047386           0.478830\n",
       "BM25 k1=1.10          0.047887           0.478459\n",
       "BM25 k1=1.20          0.048852           0.478189\n",
       "BM25 k1=1.30          0.048753           0.477445\n",
       "BM25 k1=1.40          0.049251           0.477257"
      ]
     },
     "execution_count": 8,
     "metadata": {},
     "output_type": "execute_result"
    }
   ],
   "source": [
    "print(\"mAP scores for bm25 k1 search models:\")\n",
    "search_k1_bm25_results"
   ]
  },
  {
   "cell_type": "code",
   "execution_count": 34,
   "metadata": {},
   "outputs": [
    {
     "data": {
      "image/png": "[encoded data removed]",
      "text/plain": [
       "<Figure size 864x360 with 1 Axes>"
      ]
     },
     "metadata": {
      "needs_background": "light"
     },
     "output_type": "display_data"
    }
   ],
   "source": [
    "ax = search_k1_bm25_results[\"specific_keywords\"].plot(figsize=(12,5), style=\"-bo\", rot=45, legend=False)\n",
    "ax.set_ylabel(\"mAP\");"
   ]
  },
  {
   "cell_type": "markdown",
   "metadata": {},
   "source": [
    "Results:\n",
    "- k1 of 0.2 has the best performance"
   ]
  },
  {
   "cell_type": "markdown",
   "metadata": {},
   "source": [
    "#### Grid search for BM25 b parameter"
   ]
  },
  {
   "cell_type": "code",
   "execution_count": 5,
   "metadata": {},
   "outputs": [],
   "source": [
    "b_grid = np.arange(0.1,1.1,0.1)\n",
    "search_b_bm25_models = [(f\"BM25 b={b:.2f}\", partial(TfidfRetrieval, corpus=papers_basic, use_bm25=True, b=b, k1=0.2)) for b in b_grid]"
   ]
  },
  {
   "cell_type": "code",
   "execution_count": null,
   "metadata": {},
   "outputs": [],
   "source": [
    "%%time\n",
    "search_b_bm25_results = train_evaluate_models(search_b_bm25_models, [general_keywords, specific_keywords], n_jobs=len(search_b_bm25_models))"
   ]
  },
  {
   "cell_type": "code",
   "execution_count": 32,
   "metadata": {},
   "outputs": [
    {
     "name": "stdout",
     "output_type": "stream",
     "text": [
      "mAP scores for bm25 b search models:\n"
     ]
    },
    {
     "data": {
      "text/html": [
       "<div>\n",
       "<style scoped>\n",
       "    .dataframe tbody tr th:only-of-type {\n",
       "        vertical-align: middle;\n",
       "    }\n",
       "\n",
       "    .dataframe tbody tr th {\n",
       "        vertical-align: top;\n",
       "    }\n",
       "\n",
       "    .dataframe thead th {\n",
       "        text-align: right;\n",
       "    }\n",
       "</style>\n",
       "<table border=\"1\" class=\"dataframe\">\n",
       "  <thead>\n",
       "    <tr style=\"text-align: right;\">\n",
       "      <th></th>\n",
       "      <th>general keywords</th>\n",
       "      <th>specific_keywords</th>\n",
       "    </tr>\n",
       "  </thead>\n",
       "  <tbody>\n",
       "    <tr>\n",
       "      <th>BM25 b=0.10</th>\n",
       "      <td>0.054874</td>\n",
       "      <td>0.522593</td>\n",
       "    </tr>\n",
       "    <tr>\n",
       "      <th>BM25 b=0.20</th>\n",
       "      <td>0.055107</td>\n",
       "      <td>0.524565</td>\n",
       "    </tr>\n",
       "    <tr>\n",
       "      <th>BM25 b=0.30</th>\n",
       "      <td>0.055184</td>\n",
       "      <td>0.526734</td>\n",
       "    </tr>\n",
       "    <tr>\n",
       "      <th>BM25 b=0.40</th>\n",
       "      <td>0.055502</td>\n",
       "      <td>0.527595</td>\n",
       "    </tr>\n",
       "    <tr>\n",
       "      <th>BM25 b=0.50</th>\n",
       "      <td>0.055383</td>\n",
       "      <td>0.529235</td>\n",
       "    </tr>\n",
       "    <tr>\n",
       "      <th>BM25 b=0.60</th>\n",
       "      <td>0.055352</td>\n",
       "      <td>0.529695</td>\n",
       "    </tr>\n",
       "    <tr>\n",
       "      <th>BM25 b=0.70</th>\n",
       "      <td>0.055046</td>\n",
       "      <td>0.530505</td>\n",
       "    </tr>\n",
       "    <tr>\n",
       "      <th>BM25 b=0.80</th>\n",
       "      <td>0.055030</td>\n",
       "      <td>0.530794</td>\n",
       "    </tr>\n",
       "    <tr>\n",
       "      <th>BM25 b=0.90</th>\n",
       "      <td>0.055027</td>\n",
       "      <td>0.529518</td>\n",
       "    </tr>\n",
       "    <tr>\n",
       "      <th>BM25 b=1.00</th>\n",
       "      <td>0.053787</td>\n",
       "      <td>0.528531</td>\n",
       "    </tr>\n",
       "  </tbody>\n",
       "</table>\n",
       "</div>"
      ],
      "text/plain": [
       "             general keywords  specific_keywords\n",
       "BM25 b=0.10          0.054874           0.522593\n",
       "BM25 b=0.20          0.055107           0.524565\n",
       "BM25 b=0.30          0.055184           0.526734\n",
       "BM25 b=0.40          0.055502           0.527595\n",
       "BM25 b=0.50          0.055383           0.529235\n",
       "BM25 b=0.60          0.055352           0.529695\n",
       "BM25 b=0.70          0.055046           0.530505\n",
       "BM25 b=0.80          0.055030           0.530794\n",
       "BM25 b=0.90          0.055027           0.529518\n",
       "BM25 b=1.00          0.053787           0.528531"
      ]
     },
     "execution_count": 32,
     "metadata": {},
     "output_type": "execute_result"
    }
   ],
   "source": [
    "print(\"mAP scores for bm25 b search models:\")\n",
    "search_b_bm25_results"
   ]
  },
  {
   "cell_type": "code",
   "execution_count": 33,
   "metadata": {},
   "outputs": [
    {
     "data": {
      "image/png": "[encoded data removed]",
      "text/plain": [
       "<Figure size 864x360 with 1 Axes>"
      ]
     },
     "metadata": {
      "needs_background": "light"
     },
     "output_type": "display_data"
    }
   ],
   "source": [
    "ax = search_b_bm25_results[\"specific_keywords\"].plot(figsize=(12,5), style=\"-bo\", rot=45, legend=False)\n",
    "ax.set_ylabel(\"mAP\");"
   ]
  },
  {
   "cell_type": "markdown",
   "metadata": {},
   "source": [
    "Results:\n",
    "- b parameter does not have a great effect on model performance\n",
    "- best value at 0.7"
   ]
  },
  {
   "cell_type": "markdown",
   "metadata": {},
   "source": [
    "#### Test bm25 with best parameters on n-grams"
   ]
  },
  {
   "cell_type": "code",
   "execution_count": 17,
   "metadata": {},
   "outputs": [],
   "source": [
    "ngram_bm25_models = [\n",
    "    (\"bm25 2-gram\", partial(TfidfRetrieval, corpus=papers_basic, max_ngram=2, use_bm25=True, k1=0.2, b=0.7)),\n",
    "    (\"bm25 3-gram\", partial(TfidfRetrieval, corpus=papers_basic, max_ngram=3, use_bm25=True, k1=0.2, b=0.7)),\n",
    "]"
   ]
  },
  {
   "cell_type": "code",
   "execution_count": null,
   "metadata": {},
   "outputs": [],
   "source": [
    "ngram_bm25_results = train_evaluate_models(ngram_bm25_models, [general_keywords, specific_keywords])"
   ]
  },
  {
   "cell_type": "code",
   "execution_count": 35,
   "metadata": {},
   "outputs": [
    {
     "name": "stdout",
     "output_type": "stream",
     "text": [
      "mAP scores for ngram bm25 models:\n"
     ]
    },
    {
     "data": {
      "text/html": [
       "<div>\n",
       "<style scoped>\n",
       "    .dataframe tbody tr th:only-of-type {\n",
       "        vertical-align: middle;\n",
       "    }\n",
       "\n",
       "    .dataframe tbody tr th {\n",
       "        vertical-align: top;\n",
       "    }\n",
       "\n",
       "    .dataframe thead th {\n",
       "        text-align: right;\n",
       "    }\n",
       "</style>\n",
       "<table border=\"1\" class=\"dataframe\">\n",
       "  <thead>\n",
       "    <tr style=\"text-align: right;\">\n",
       "      <th></th>\n",
       "      <th>general keywords</th>\n",
       "      <th>specific_keywords</th>\n",
       "    </tr>\n",
       "  </thead>\n",
       "  <tbody>\n",
       "    <tr>\n",
       "      <th>bm25 2-gram</th>\n",
       "      <td>0.054687</td>\n",
       "      <td>0.618666</td>\n",
       "    </tr>\n",
       "    <tr>\n",
       "      <th>bm25 3-gram</th>\n",
       "      <td>0.054675</td>\n",
       "      <td>0.618989</td>\n",
       "    </tr>\n",
       "  </tbody>\n",
       "</table>\n",
       "</div>"
      ],
      "text/plain": [
       "             general keywords  specific_keywords\n",
       "bm25 2-gram          0.054687           0.618666\n",
       "bm25 3-gram          0.054675           0.618989"
      ]
     },
     "execution_count": 35,
     "metadata": {},
     "output_type": "execute_result"
    }
   ],
   "source": [
    "print(\"mAP scores for ngram bm25 models:\")\n",
    "ngram_bm25_results"
   ]
  },
  {
   "cell_type": "markdown",
   "metadata": {},
   "source": [
    "Results:\n",
    "- bigrams improve result of bm25\n",
    "- bm25 bigram model achieves best score on specific keywords\n",
    "- general keyword score still very low"
   ]
  },
  {
   "cell_type": "code",
   "execution_count": 7,
   "metadata": {},
   "outputs": [],
   "source": [
    "from query_expansion_retrieval import QueryExpansionRetrieval"
   ]
  },
  {
   "cell_type": "code",
   "execution_count": 8,
   "metadata": {},
   "outputs": [],
   "source": [
    "with open(\"../data/keyword_hierarchy.json\", 'r') as file:\n",
    "    keyword_hierarchy = json.load(file)"
   ]
  },
  {
   "cell_type": "code",
   "execution_count": 15,
   "metadata": {},
   "outputs": [],
   "source": [
    "bm25_model_unigram = TfidfRetrieval(corpus=papers_basic, max_ngram=1, use_bm25=True, k1=0.2, b=0.7)\n",
    "bm25_model_bigram = TfidfRetrieval(corpus=papers_basic, max_ngram=2, use_bm25=True, k1=0.2, b=0.7)"
   ]
  },
  {
   "cell_type": "code",
   "execution_count": 41,
   "metadata": {},
   "outputs": [],
   "source": [
    "query_expansion_models = [\n",
    "    (\"qe unigram expand all\", \n",
    "     partial(QueryExpansionRetrieval, \n",
    "             wrapped_model=bm25_model_unigram, \n",
    "             expansion_hierarchy=keyword_hierarchy,\n",
    "             only_expand_once=False,\n",
    "             separate_weighting=False)),\n",
    "    (\"qe unigram expand first\",\n",
    "     partial(QueryExpansionRetrieval, \n",
    "             wrapped_model=bm25_model_unigram, \n",
    "             expansion_hierarchy=keyword_hierarchy,\n",
    "             only_expand_once=True,\n",
    "             separate_weighting=False)),\n",
    "    (\"qe bigram expand all\", \n",
    "     partial(QueryExpansionRetrieval, \n",
    "             wrapped_model=bm25_model_bigram,\n",
    "             expansion_hierarchy=keyword_hierarchy,\n",
    "             only_expand_once=False,\n",
    "             separate_weighting=False)),\n",
    "    (\"qe bigram expand first\",\n",
    "     partial(QueryExpansionRetrieval, \n",
    "             wrapped_model=bm25_model_bigram, \n",
    "             expansion_hierarchy=keyword_hierarchy,\n",
    "             only_expand_once=True,\n",
    "             separate_weighting=False)),\n",
    "    (\"qe unigram expand all separate weighting\",\n",
    "     partial(QueryExpansionRetrieval, \n",
    "             wrapped_model=bm25_model_unigram, \n",
    "             expansion_hierarchy=keyword_hierarchy,\n",
    "             only_expand_once=False,\n",
    "             separate_weighting=True)),\n",
    "    (\"qe unigram expand first separate weighting\",\n",
    "     partial(QueryExpansionRetrieval, \n",
    "             wrapped_model=bm25_model_unigram, \n",
    "             expansion_hierarchy=keyword_hierarchy,\n",
    "             only_expand_once=True,\n",
    "             separate_weighting=True))\n",
    "]"
   ]
  },
  {
   "cell_type": "code",
   "execution_count": null,
   "metadata": {},
   "outputs": [
    {
     "name": "stdout",
     "output_type": "stream",
     "text": [
      "INFO:root:Start training model qe unigram expand all\n",
      "INFO:root:Start training model qe unigram expand first\n",
      "INFO:root:Start evaluating model qe unigram expand all\n"
     ]
    },
    {
     "data": {
      "application/vnd.jupyter.widget-view+json": {
       "model_id": "42e17dbd68e0446f959df02537383d0e",
       "version_major": 2,
       "version_minor": 0
      },
      "text/plain": [
       "HBox(children=(IntProgress(value=0, layout=Layout(flex='2'), max=5293), HTML(value='')), layout=Layout(display…"
      ]
     },
     "metadata": {},
     "output_type": "display_data"
    },
    {
     "name": "stdout",
     "output_type": "stream",
     "text": [
      "INFO:root:Start evaluating model qe unigram expand first\n"
     ]
    },
    {
     "data": {
      "application/vnd.jupyter.widget-view+json": {
       "model_id": "2b71bc16f8e5427c8f2368989de96de7",
       "version_major": 2,
       "version_minor": 0
      },
      "text/plain": [
       "HBox(children=(IntProgress(value=0, layout=Layout(flex='2'), max=5293), HTML(value='')), layout=Layout(display…"
      ]
     },
     "metadata": {},
     "output_type": "display_data"
    },
    {
     "name": "stdout",
     "output_type": "stream",
     "text": [
      "INFO:root:Start training model qe bigram expand all\n",
      "INFO:root:Start evaluating model qe bigram expand all\n"
     ]
    },
    {
     "data": {
      "application/vnd.jupyter.widget-view+json": {
       "model_id": "d9e439033f714db7827ba02462fd7075",
       "version_major": 2,
       "version_minor": 0
      },
      "text/plain": [
       "HBox(children=(IntProgress(value=0, layout=Layout(flex='2'), max=5293), HTML(value='')), layout=Layout(display…"
      ]
     },
     "metadata": {},
     "output_type": "display_data"
    },
    {
     "name": "stdout",
     "output_type": "stream",
     "text": [
      "INFO:root:Start training model qe bigram expand first\n",
      "INFO:root:Start evaluating model qe bigram expand first\n"
     ]
    },
    {
     "data": {
      "application/vnd.jupyter.widget-view+json": {
       "model_id": "7e88719f7f9540d080202fd7cbadd7cd",
       "version_major": 2,
       "version_minor": 0
      },
      "text/plain": [
       "HBox(children=(IntProgress(value=0, layout=Layout(flex='2'), max=5293), HTML(value='')), layout=Layout(display…"
      ]
     },
     "metadata": {},
     "output_type": "display_data"
    }
   ],
   "source": [
    "query_expansion_results = train_evaluate_models(query_expansion_models, [general_keywords, specific_keywords])"
   ]
  },
  {
   "cell_type": "code",
   "execution_count": 44,
   "metadata": {},
   "outputs": [
    {
     "name": "stdout",
     "output_type": "stream",
     "text": [
      "mAP scores for query expansion models:\n"
     ]
    },
    {
     "data": {
      "text/html": [
       "<div>\n",
       "<style scoped>\n",
       "    .dataframe tbody tr th:only-of-type {\n",
       "        vertical-align: middle;\n",
       "    }\n",
       "\n",
       "    .dataframe tbody tr th {\n",
       "        vertical-align: top;\n",
       "    }\n",
       "\n",
       "    .dataframe thead th {\n",
       "        text-align: right;\n",
       "    }\n",
       "</style>\n",
       "<table border=\"1\" class=\"dataframe\">\n",
       "  <thead>\n",
       "    <tr style=\"text-align: right;\">\n",
       "      <th></th>\n",
       "      <th>general keywords</th>\n",
       "      <th>specific_keywords</th>\n",
       "    </tr>\n",
       "  </thead>\n",
       "  <tbody>\n",
       "    <tr>\n",
       "      <th>qe unigram expand all</th>\n",
       "      <td>0.115694</td>\n",
       "      <td>0.436585</td>\n",
       "    </tr>\n",
       "    <tr>\n",
       "      <th>qe unigram expand first</th>\n",
       "      <td>0.141666</td>\n",
       "      <td>0.444082</td>\n",
       "    </tr>\n",
       "    <tr>\n",
       "      <th>qe bigram expand all</th>\n",
       "      <td>0.135888</td>\n",
       "      <td>0.524883</td>\n",
       "    </tr>\n",
       "    <tr>\n",
       "      <th>qe bigram expand first</th>\n",
       "      <td>0.141590</td>\n",
       "      <td>0.531907</td>\n",
       "    </tr>\n",
       "    <tr>\n",
       "      <th>qe unigram expand all separate weighting</th>\n",
       "      <td>0.064065</td>\n",
       "      <td>0.531431</td>\n",
       "    </tr>\n",
       "    <tr>\n",
       "      <th>qe unigram expand first separate weighting</th>\n",
       "      <td>0.063396</td>\n",
       "      <td>0.531243</td>\n",
       "    </tr>\n",
       "  </tbody>\n",
       "</table>\n",
       "</div>"
      ],
      "text/plain": [
       "                                            general keywords  specific_keywords\n",
       "qe unigram expand all                               0.115694           0.436585\n",
       "qe unigram expand first                             0.141666           0.444082\n",
       "qe bigram expand all                                0.135888           0.524883\n",
       "qe bigram expand first                              0.141590           0.531907\n",
       "qe unigram expand all separate weighting            0.064065           0.531431\n",
       "qe unigram expand first separate weighting          0.063396           0.531243"
      ]
     },
     "execution_count": 44,
     "metadata": {},
     "output_type": "execute_result"
    }
   ],
   "source": [
    "print(\"mAP scores for query expansion models:\")\n",
    "query_expansion_results"
   ]
  },
  {
   "cell_type": "code",
   "execution_count": 7,
   "metadata": {},
   "outputs": [],
   "source": [
    "bm25_model_unigram = TfidfRetrieval(corpus=papers_basic_lemmatization_nouns, max_ngram=1, use_bm25=True, k1=0.2, b=0.7)\n",
    "bm25_model_bigram = TfidfRetrieval(corpus=papers_basic_lemmatization_nouns, max_ngram=2, use_bm25=True, k1=0.2, b=0.7)"
   ]
  },
  {
   "cell_type": "code",
   "execution_count": 8,
   "metadata": {},
   "outputs": [],
   "source": [
    "query_expansion_models_lem = [\n",
    "    (\"qe unigram expand first\",\n",
    "     partial(QueryExpansionRetrieval, \n",
    "             wrapped_model=bm25_model_unigram, \n",
    "             expansion_hierarchy=keyword_hierarchy,\n",
    "             only_expand_once=True,\n",
    "             separate_weighting=False)),\n",
    "    (\"qe bigram expand first\",\n",
    "     partial(QueryExpansionRetrieval, \n",
    "             wrapped_model=bm25_model_bigram, \n",
    "             expansion_hierarchy=keyword_hierarchy,\n",
    "             only_expand_once=True,\n",
    "             separate_weighting=False)),\n",
    "    (\"qe unigram expand first separate weighting\",\n",
    "     partial(QueryExpansionRetrieval, \n",
    "             wrapped_model=bm25_model_unigram, \n",
    "             expansion_hierarchy=keyword_hierarchy,\n",
    "             only_expand_once=True,\n",
    "             separate_weighting=True))\n",
    "]"
   ]
  },
  {
   "cell_type": "code",
   "execution_count": 9,
   "metadata": {},
   "outputs": [
    {
     "name": "stdout",
     "output_type": "stream",
     "text": [
      "INFO:root:Start training model qe unigram expand first\n",
      "INFO:root:Start training model qe bigram expand first\n",
      "INFO:root:Start training model qe unigram expand first separate weighting\n",
      "INFO:root:Start evaluating model qe unigram expand first separate weighting\n"
     ]
    },
    {
     "data": {
      "application/vnd.jupyter.widget-view+json": {
       "model_id": "95da4736cb0b4e2a915207fbaf68effd",
       "version_major": 2,
       "version_minor": 0
      },
      "text/plain": [
       "HBox(children=(IntProgress(value=0, layout=Layout(flex='2'), max=5293), HTML(value='')), layout=Layout(display…"
      ]
     },
     "metadata": {},
     "output_type": "display_data"
    },
    {
     "name": "stdout",
     "output_type": "stream",
     "text": [
      "INFO:numexpr.utils:Note: NumExpr detected 32 cores but \"NUMEXPR_MAX_THREADS\" not set, so enforcing safe limit of 8.\n",
      "INFO:root:Start evaluating model qe unigram expand first\n"
     ]
    },
    {
     "data": {
      "application/vnd.jupyter.widget-view+json": {
       "model_id": "c610a6b1277547caba78d7e4c115f7e0",
       "version_major": 2,
       "version_minor": 0
      },
      "text/plain": [
       "HBox(children=(IntProgress(value=0, layout=Layout(flex='2'), max=5293), HTML(value='')), layout=Layout(display…"
      ]
     },
     "metadata": {},
     "output_type": "display_data"
    },
    {
     "name": "stdout",
     "output_type": "stream",
     "text": [
      "INFO:root:Start evaluating model qe bigram expand first\n"
     ]
    },
    {
     "data": {
      "application/vnd.jupyter.widget-view+json": {
       "model_id": "b5bebc3849e845bda1ac7e50f4438523",
       "version_major": 2,
       "version_minor": 0
      },
      "text/plain": [
       "HBox(children=(IntProgress(value=0, layout=Layout(flex='2'), max=5293), HTML(value='')), layout=Layout(display…"
      ]
     },
     "metadata": {},
     "output_type": "display_data"
    },
    {
     "name": "stdout",
     "output_type": "stream",
     "text": [
      "\n",
      "INFO:root:Finished processing model qe unigram expand first\n",
      "\n",
      "INFO:root:Finished processing model qe unigram expand first separate weighting\n",
      "\n",
      "INFO:root:Finished processing model qe bigram expand first\n"
     ]
    }
   ],
   "source": [
    "query_expansion_results_lem = train_evaluate_models(query_expansion_models_lem, [general_keywords, specific_keywords])"
   ]
  },
  {
   "cell_type": "code",
   "execution_count": 10,
   "metadata": {},
   "outputs": [
    {
     "name": "stdout",
     "output_type": "stream",
     "text": [
      "mAP scores for query expansion models with lemmatization:\n"
     ]
    },
    {
     "data": {
      "text/html": [
       "<div>\n",
       "<style scoped>\n",
       "    .dataframe tbody tr th:only-of-type {\n",
       "        vertical-align: middle;\n",
       "    }\n",
       "\n",
       "    .dataframe tbody tr th {\n",
       "        vertical-align: top;\n",
       "    }\n",
       "\n",
       "    .dataframe thead th {\n",
       "        text-align: right;\n",
       "    }\n",
       "</style>\n",
       "<table border=\"1\" class=\"dataframe\">\n",
       "  <thead>\n",
       "    <tr style=\"text-align: right;\">\n",
       "      <th></th>\n",
       "      <th>general keywords</th>\n",
       "      <th>specific_keywords</th>\n",
       "    </tr>\n",
       "  </thead>\n",
       "  <tbody>\n",
       "    <tr>\n",
       "      <th>qe unigram expand first</th>\n",
       "      <td>0.145838</td>\n",
       "      <td>0.444117</td>\n",
       "    </tr>\n",
       "    <tr>\n",
       "      <th>qe bigram expand first</th>\n",
       "      <td>0.146872</td>\n",
       "      <td>0.548994</td>\n",
       "    </tr>\n",
       "    <tr>\n",
       "      <th>qe unigram expand first separate weighting</th>\n",
       "      <td>0.141948</td>\n",
       "      <td>0.495248</td>\n",
       "    </tr>\n",
       "  </tbody>\n",
       "</table>\n",
       "</div>"
      ],
      "text/plain": [
       "                                            general keywords  specific_keywords\n",
       "qe unigram expand first                             0.145838           0.444117\n",
       "qe bigram expand first                              0.146872           0.548994\n",
       "qe unigram expand first separate weighting          0.141948           0.495248"
      ]
     },
     "execution_count": 10,
     "metadata": {},
     "output_type": "execute_result"
    }
   ],
   "source": [
    "print(\"mAP scores for query expansion models with lemmatization:\")\n",
    "query_expansion_results_lem"
   ]
  },
  {
   "cell_type": "code",
   "execution_count": 5,
   "metadata": {},
   "outputs": [],
   "source": [
    "best_bm25_model = TfidfRetrieval(corpus=papers_basic_lemmatization_nouns, max_ngram=2, use_bm25=True, k1=0.2, b=0.7)\n",
    "best_bm25_model.save(\"../data/models/tfidf/bm25_lemmatized_bigram.model\")"
   ]
  },
  {
   "cell_type": "code",
   "execution_count": null,
   "metadata": {},
   "outputs": [],
   "source": [
    "best_qe_model = QueryExpansionRetrieval( \n",
    "    wrapped_model=best_bm25_model,\n",
    "    expansion_hierarchy=keyword_hierarchy,\n",
    "    only_expand_once=True,\n",
    "    separate_weighting=False)"
   ]
  },
  {
   "cell_type": "code",
   "execution_count": null,
   "metadata": {},
   "outputs": [],
   "source": [
    "best_qe_model.save(\"../data/models/tfidf/bm25_lemmatized_bigram_qe.model\")"
   ]
  },
  {
   "cell_type": "code",
   "execution_count": null,
   "metadata": {},
   "outputs": [],
   "source": []
  }
 ],
 "metadata": {
  "kernelspec": {
   "display_name": "paper_retrieval_env",
   "language": "python",
   "name": "paper_retrieval_env"
  },
  "language_info": {
   "codemirror_mode": {
    "name": "ipython",
    "version": 3
   },
   "file_extension": ".py",
   "mimetype": "text/x-python",
   "name": "python",
   "nbconvert_exporter": "python",
   "pygments_lexer": "ipython3",
   "version": "3.7.5"
  }
 },
 "nbformat": 4,
 "nbformat_minor": 4
}
