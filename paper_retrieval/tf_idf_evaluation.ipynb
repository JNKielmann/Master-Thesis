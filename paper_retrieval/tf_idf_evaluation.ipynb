{
 "cells": [
  {
   "cell_type": "markdown",
   "metadata": {},
   "source": [
    "# TF-IDF Evaluation"
   ]
  },
  {
   "cell_type": "code",
   "execution_count": 1,
   "metadata": {},
   "outputs": [],
   "source": [
    "%load_ext autoreload\n",
    "%autoreload 2\n",
    "import json\n",
    "from gensim.summarization.bm25 import BM25\n",
    "from gensim.models.phrases import Phrases, Phraser\n",
    "import pandas as pd\n",
    "pd.set_option('display.max_columns', None)  \n",
    "pd.set_option('display.expand_frame_repr', False)\n",
    "pd.set_option('max_colwidth', 1000)\n",
    "import numpy as np\n",
    "from multiprocessing import Pool\n",
    "from functools import partial\n",
    "import matplotlib.pyplot as plt\n",
    "import spacy\n",
    "import seaborn as sns\n",
    "sns.set()\n",
    "\n",
    "\n",
    "from tqdm.notebook import tqdm\n",
    "import warnings\n",
    "with warnings.catch_warnings():\n",
    "    warnings.simplefilter(\"ignore\")\n",
    "    tqdm.pandas()\n",
    "\n",
    "import sys\n",
    "import logging\n",
    "logging.basicConfig(level=logging.INFO, stream=sys.stdout)\n",
    "\n",
    "\n",
    "from tfidf_retrieval import TfidfRetrieval\n",
    "from evaluation import *\n",
    "from preprocessing import apply_pipeline, Corpus, BasicPreprocessing, BigramPreprocessor, SpacyPreprocessor"
   ]
  },
  {
   "cell_type": "markdown",
   "metadata": {},
   "source": [
    "#### Load corpus using different preprocessing pipelines"
   ]
  },
  {
   "cell_type": "code",
   "execution_count": 2,
   "metadata": {},
   "outputs": [
    {
     "name": "stdout",
     "output_type": "stream",
     "text": [
      "INFO:preprocessing.pipeline:Start preprocessing pipeline \"basic\" for file ../data/kit_expert_2017_papers.csv.\n",
      "INFO:preprocessing.pipeline:Loaded cached preprocessed corpus from ../data/kit_expert_2017_papers_basic\n",
      "INFO:preprocessing.pipeline:Start preprocessing pipeline \"basic_spacy_lemmatization_all\" for file ../data/kit_expert_2017_papers.csv.\n",
      "INFO:preprocessing.pipeline:Loaded cached preprocessed corpus from ../data/kit_expert_2017_papers_basic_spacy_lemmatization_all\n",
      "INFO:preprocessing.pipeline:Start preprocessing pipeline \"basic_spacy_lemmatization_nouns\" for file ../data/kit_expert_2017_papers.csv.\n",
      "INFO:preprocessing.pipeline:Start stage \"basic\"\n",
      "\n",
      "\n",
      "\n",
      "\n",
      "\n",
      "\n",
      "\n",
      "\n",
      "INFO:preprocessing.pipeline:Finished stage \"basic\" in 2.42 seconds\n",
      "INFO:preprocessing.pipeline:Start stage \"spacy_lemmatization_nouns\"\n"
     ]
    },
    {
     "data": {
      "application/vnd.jupyter.widget-view+json": {
       "model_id": "1c28534155224780a043192f2f8b9d4b",
       "version_major": 2,
       "version_minor": 0
      },
      "text/plain": [
       "HBox(children=(IntProgress(value=0, max=3905), HTML(value='')))"
      ]
     },
     "metadata": {},
     "output_type": "display_data"
    },
    {
     "data": {
      "application/vnd.jupyter.widget-view+json": {
       "model_id": "99101b087c6a41bfb01856df8d4b0311",
       "version_major": 2,
       "version_minor": 0
      },
      "text/plain": [
       "HBox(children=(IntProgress(value=0, max=3905), HTML(value='')))"
      ]
     },
     "metadata": {},
     "output_type": "display_data"
    },
    {
     "data": {
      "application/vnd.jupyter.widget-view+json": {
       "model_id": "fbcbe8cabd414d5f9738a79eaf0779d9",
       "version_major": 2,
       "version_minor": 0
      },
      "text/plain": [
       "HBox(children=(IntProgress(value=0, max=3905), HTML(value='')))"
      ]
     },
     "metadata": {},
     "output_type": "display_data"
    },
    {
     "data": {
      "application/vnd.jupyter.widget-view+json": {
       "model_id": "75661033b22a44abae996d5f966c7a74",
       "version_major": 2,
       "version_minor": 0
      },
      "text/plain": [
       "HBox(children=(IntProgress(value=0, max=3905), HTML(value='')))"
      ]
     },
     "metadata": {},
     "output_type": "display_data"
    },
    {
     "data": {
      "application/vnd.jupyter.widget-view+json": {
       "model_id": "4ce1e619f9fb4d23a0e1a779f0aaa18b",
       "version_major": 2,
       "version_minor": 0
      },
      "text/plain": [
       "HBox(children=(IntProgress(value=0, max=3905), HTML(value='')))"
      ]
     },
     "metadata": {},
     "output_type": "display_data"
    },
    {
     "data": {
      "application/vnd.jupyter.widget-view+json": {
       "model_id": "3d69e8aee6c140a2a7a118713228dd79",
       "version_major": 2,
       "version_minor": 0
      },
      "text/plain": [
       "HBox(children=(IntProgress(value=0, max=3905), HTML(value='')))"
      ]
     },
     "metadata": {},
     "output_type": "display_data"
    },
    {
     "data": {
      "application/vnd.jupyter.widget-view+json": {
       "model_id": "2ccdde5db99542ebb3fe583e44c052f3",
       "version_major": 2,
       "version_minor": 0
      },
      "text/plain": [
       "HBox(children=(IntProgress(value=0, max=3905), HTML(value='')))"
      ]
     },
     "metadata": {},
     "output_type": "display_data"
    },
    {
     "data": {
      "application/vnd.jupyter.widget-view+json": {
       "model_id": "3e2343152c8640feb21c3491665755b0",
       "version_major": 2,
       "version_minor": 0
      },
      "text/plain": [
       "HBox(children=(IntProgress(value=0, max=3905), HTML(value='')))"
      ]
     },
     "metadata": {},
     "output_type": "display_data"
    },
    {
     "name": "stdout",
     "output_type": "stream",
     "text": [
      "\n",
      "\n",
      "\n",
      "\n",
      "\n",
      "\n",
      "\n",
      "\n",
      "INFO:preprocessing.pipeline:Finished stage \"spacy_lemmatization_nouns\" in 242.51 seconds\n",
      "INFO:preprocessing.pipeline:Finished preprocessing pipeline. Saved preprocessed corpus to cache file ../data/kit_expert_2017_papers_basic_spacy_lemmatization_nouns\n"
     ]
    }
   ],
   "source": [
    "base_file =  \"../data/kit_expert_2017_papers.csv\"\n",
    "\n",
    "p = [BasicPreprocessing()]\n",
    "papers_basic = Corpus(base_file, p)\n",
    "\n",
    "p = [BasicPreprocessing(), SpacyPreprocessor(lemmatization=\"all\")]\n",
    "papers_basic_lemmatization_all = Corpus(base_file, p, load_from_cache=True)\n",
    "\n",
    "p = [BasicPreprocessing(), SpacyPreprocessor(lemmatization=\"nouns\")]\n",
    "papers_basic_lemmatization_nouns = Corpus(base_file, p, load_from_cache=True)"
   ]
  },
  {
   "cell_type": "markdown",
   "metadata": {},
   "source": [
    "#### Load keywords to use as test data"
   ]
  },
  {
   "cell_type": "code",
   "execution_count": 3,
   "metadata": {},
   "outputs": [],
   "source": [
    "with open(\"../data/kit_expert_2017_keywords.json\", \"r\") as file:\n",
    "    keywords = json.load(file)"
   ]
  },
  {
   "cell_type": "code",
   "execution_count": 7,
   "metadata": {},
   "outputs": [],
   "source": [
    "general_keywords = (\"general keywords\", [k for k in keywords if k[\"level\"]<=1])\n",
    "specific_keywords = (\"specific_keywords\", [k for k in keywords if k[\"level\"]>=2][:5000])"
   ]
  },
  {
   "cell_type": "markdown",
   "metadata": {},
   "source": [
    "#### Test simple tf-idf models on unigrams"
   ]
  },
  {
   "cell_type": "code",
   "execution_count": 8,
   "metadata": {},
   "outputs": [],
   "source": [
    "unigram_tfidf_models = [\n",
    "    (\"tf linear\", partial(TfidfRetrieval, corpus = papers_basic, max_ngram=1, use_idf=False, sublinear_tf=False)),\n",
    "    (\"tf sublinear\", partial(TfidfRetrieval, corpus = papers_basic, max_ngram=1, use_idf=False, sublinear_tf=True)),\n",
    "    (\"tf-idf linear\", partial(TfidfRetrieval, corpus = papers_basic, max_ngram=1, use_idf=True, sublinear_tf=False)),\n",
    "    (\"tf-idf sublinear\", partial(TfidfRetrieval, corpus = papers_basic, max_ngram=1, use_idf=True, sublinear_tf=True)),\n",
    "]"
   ]
  },
  {
   "cell_type": "code",
   "execution_count": 9,
   "metadata": {},
   "outputs": [
    {
     "name": "stdout",
     "output_type": "stream",
     "text": [
      "\n",
      "\n",
      "\n",
      "\n"
     ]
    }
   ],
   "source": [
    "unigram_tfidf_results = train_evaluate_models(unigram_tfidf_models, [general_keywords, specific_keywords], n_jobs=4)"
   ]
  },
  {
   "cell_type": "code",
   "execution_count": 10,
   "metadata": {},
   "outputs": [
    {
     "name": "stdout",
     "output_type": "stream",
     "text": [
      "mAP scores for unigram tfidf models:\n"
     ]
    },
    {
     "data": {
      "text/html": [
       "<div>\n",
       "<style scoped>\n",
       "    .dataframe tbody tr th:only-of-type {\n",
       "        vertical-align: middle;\n",
       "    }\n",
       "\n",
       "    .dataframe tbody tr th {\n",
       "        vertical-align: top;\n",
       "    }\n",
       "\n",
       "    .dataframe thead th {\n",
       "        text-align: right;\n",
       "    }\n",
       "</style>\n",
       "<table border=\"1\" class=\"dataframe\">\n",
       "  <thead>\n",
       "    <tr style=\"text-align: right;\">\n",
       "      <th></th>\n",
       "      <th>general keywords</th>\n",
       "      <th>specific_keywords</th>\n",
       "    </tr>\n",
       "  </thead>\n",
       "  <tbody>\n",
       "    <tr>\n",
       "      <th>tf linear</th>\n",
       "      <td>0.048705</td>\n",
       "      <td>0.315517</td>\n",
       "    </tr>\n",
       "    <tr>\n",
       "      <th>tf sublinear</th>\n",
       "      <td>0.054267</td>\n",
       "      <td>0.411899</td>\n",
       "    </tr>\n",
       "    <tr>\n",
       "      <th>tf-idf linear</th>\n",
       "      <td>0.049875</td>\n",
       "      <td>0.384793</td>\n",
       "    </tr>\n",
       "    <tr>\n",
       "      <th>tf-idf sublinear</th>\n",
       "      <td>0.051161</td>\n",
       "      <td>0.457455</td>\n",
       "    </tr>\n",
       "  </tbody>\n",
       "</table>\n",
       "</div>"
      ],
      "text/plain": [
       "                  general keywords  specific_keywords\n",
       "tf linear                 0.048705           0.315517\n",
       "tf sublinear              0.054267           0.411899\n",
       "tf-idf linear             0.049875           0.384793\n",
       "tf-idf sublinear          0.051161           0.457455"
      ]
     },
     "execution_count": 10,
     "metadata": {},
     "output_type": "execute_result"
    }
   ],
   "source": [
    "print(\"mAP scores for unigram tfidf models:\")\n",
    "unigram_tfidf_results"
   ]
  },
  {
   "cell_type": "markdown",
   "metadata": {},
   "source": [
    "Results:\n",
    "- Performs very bad on general keywords\n",
    "- Performs ok on specific keywords\n",
    "- Use of inverse document frequency improves result \n",
    "- Use of sublinear scaling of term frequency improves results "
   ]
  },
  {
   "cell_type": "markdown",
   "metadata": {},
   "source": [
    "#### Test tf-idf models on n-grams"
   ]
  },
  {
   "cell_type": "code",
   "execution_count": 11,
   "metadata": {},
   "outputs": [],
   "source": [
    "ngram_tfidf_models = [\n",
    "    (\"tf-idf sublinear 2-gram\", partial(TfidfRetrieval, corpus=papers_basic, max_ngram=2, use_idf=True, sublinear_tf=True)),\n",
    "    (\"tf-idf sublinear 3-gram\", partial(TfidfRetrieval, corpus=papers_basic, max_ngram=3, use_idf=True, sublinear_tf=True)),\n",
    "    (\"tf-idf sublinear 4-gram\", partial(TfidfRetrieval, corpus=papers_basic, max_ngram=4, use_idf=True, sublinear_tf=True)),\n",
    "]"
   ]
  },
  {
   "cell_type": "code",
   "execution_count": null,
   "metadata": {},
   "outputs": [
    {
     "name": "stdout",
     "output_type": "stream",
     "text": [
      "\n"
     ]
    }
   ],
   "source": [
    "ngram_tfidf_results = train_evaluate_models(ngram_tfidf_models, [general_keywords, specific_keywords], n_jobs=5)"
   ]
  },
  {
   "cell_type": "code",
   "execution_count": null,
   "metadata": {},
   "outputs": [],
   "source": [
    "print(\"mAP scores for ngram tfidf models:\")\n",
    "ngram_tfidf_results"
   ]
  },
  {
   "cell_type": "markdown",
   "metadata": {},
   "source": [
    "Results:\n",
    "- No significant change for general keywords\n",
    "- Bigrams provide great improvement for specific keywords\n",
    "- 3 and 4-grams do not lead to significant further improvements"
   ]
  },
  {
   "cell_type": "code",
   "execution_count": null,
   "metadata": {},
   "outputs": [],
   "source": [
    "lemmatization_tfidf_models = [\n",
    "    (\"tf-idf 1-gram lematization all\", partial(TfidfRetrieval, corpus = papers_basic_lemmatization_all, max_ngram=1, use_idf=True, sublinear_tf=True)),\n",
    "    (\"tf-idf 1-gram lematization nouns\", partial(TfidfRetrieval, corpus = papers_basic_lemmatization_nouns, max_ngram=1, use_idf=True, sublinear_tf=True)),\n",
    "    (\"tf-idf 2-gram lematization all\", partial(TfidfRetrieval, corpus = papers_basic_lemmatization_all, max_ngram=2, use_idf=True, sublinear_tf=True)),\n",
    "    (\"tf-idf 2-gram lematization nouns\", partial(TfidfRetrieval, corpus = papers_basic_lemmatization_nouns, max_ngram=2, use_idf=True, sublinear_tf=True)),\n",
    "]"
   ]
  },
  {
   "cell_type": "code",
   "execution_count": null,
   "metadata": {},
   "outputs": [],
   "source": [
    "lemmatization_tfidf_results = train_evaluate_models(lemmatization_tfidf_models, [general_keywords, specific_keywords], n_jobs=4)"
   ]
  },
  {
   "cell_type": "code",
   "execution_count": null,
   "metadata": {},
   "outputs": [],
   "source": [
    "print(\"mAP scores for lemmatization tfidf models:\")\n",
    "lemmatization_tfidf_results"
   ]
  },
  {
   "cell_type": "markdown",
   "metadata": {},
   "source": [
    "#### Grid search for BM25 k1 parameter"
   ]
  },
  {
   "cell_type": "code",
   "execution_count": 42,
   "metadata": {},
   "outputs": [],
   "source": [
    "k1_grid = np.arange(0.1,1.5,0.1)\n",
    "search_k1_bm25_models = [(f\"BM25 k1={k1:.2f}\", partial(TfidfRetrieval, corpus=papers_basic, use_bm25=True, k1=k1)) for k1 in k1_grid]"
   ]
  },
  {
   "cell_type": "code",
   "execution_count": null,
   "metadata": {},
   "outputs": [],
   "source": [
    "%%time\n",
    "search_k1_bm25_results = train_evaluate_models(search_k1_bm25_models, [general_keywords, specific_keywords], n_jobs=len(search_k1_bm25_models))"
   ]
  },
  {
   "cell_type": "code",
   "execution_count": 14,
   "metadata": {},
   "outputs": [
    {
     "name": "stdout",
     "output_type": "stream",
     "text": [
      "mAP scores for bm25 k1 search models:\n"
     ]
    },
    {
     "data": {
      "text/html": [
       "<div>\n",
       "<style scoped>\n",
       "    .dataframe tbody tr th:only-of-type {\n",
       "        vertical-align: middle;\n",
       "    }\n",
       "\n",
       "    .dataframe tbody tr th {\n",
       "        vertical-align: top;\n",
       "    }\n",
       "\n",
       "    .dataframe thead th {\n",
       "        text-align: right;\n",
       "    }\n",
       "</style>\n",
       "<table border=\"1\" class=\"dataframe\">\n",
       "  <thead>\n",
       "    <tr style=\"text-align: right;\">\n",
       "      <th></th>\n",
       "      <th>general keywords</th>\n",
       "      <th>specific_keywords</th>\n",
       "    </tr>\n",
       "  </thead>\n",
       "  <tbody>\n",
       "    <tr>\n",
       "      <th>BM25 k1=0.10</th>\n",
       "      <td>0.054976</td>\n",
       "      <td>0.534623</td>\n",
       "    </tr>\n",
       "    <tr>\n",
       "      <th>BM25 k1=0.20</th>\n",
       "      <td>0.055168</td>\n",
       "      <td>0.535226</td>\n",
       "    </tr>\n",
       "    <tr>\n",
       "      <th>BM25 k1=0.30</th>\n",
       "      <td>0.055318</td>\n",
       "      <td>0.533408</td>\n",
       "    </tr>\n",
       "    <tr>\n",
       "      <th>BM25 k1=0.40</th>\n",
       "      <td>0.055461</td>\n",
       "      <td>0.530193</td>\n",
       "    </tr>\n",
       "    <tr>\n",
       "      <th>BM25 k1=0.50</th>\n",
       "      <td>0.055592</td>\n",
       "      <td>0.526211</td>\n",
       "    </tr>\n",
       "    <tr>\n",
       "      <th>BM25 k1=0.60</th>\n",
       "      <td>0.055640</td>\n",
       "      <td>0.523617</td>\n",
       "    </tr>\n",
       "    <tr>\n",
       "      <th>BM25 k1=0.70</th>\n",
       "      <td>0.055747</td>\n",
       "      <td>0.519903</td>\n",
       "    </tr>\n",
       "    <tr>\n",
       "      <th>BM25 k1=0.80</th>\n",
       "      <td>0.055788</td>\n",
       "      <td>0.514663</td>\n",
       "    </tr>\n",
       "    <tr>\n",
       "      <th>BM25 k1=0.90</th>\n",
       "      <td>0.055874</td>\n",
       "      <td>0.510322</td>\n",
       "    </tr>\n",
       "    <tr>\n",
       "      <th>BM25 k1=1.00</th>\n",
       "      <td>0.055978</td>\n",
       "      <td>0.506207</td>\n",
       "    </tr>\n",
       "    <tr>\n",
       "      <th>BM25 k1=1.10</th>\n",
       "      <td>0.056033</td>\n",
       "      <td>0.501578</td>\n",
       "    </tr>\n",
       "    <tr>\n",
       "      <th>BM25 k1=1.20</th>\n",
       "      <td>0.055434</td>\n",
       "      <td>0.499576</td>\n",
       "    </tr>\n",
       "    <tr>\n",
       "      <th>BM25 k1=1.30</th>\n",
       "      <td>0.055592</td>\n",
       "      <td>0.496937</td>\n",
       "    </tr>\n",
       "    <tr>\n",
       "      <th>BM25 k1=1.40</th>\n",
       "      <td>0.055360</td>\n",
       "      <td>0.493435</td>\n",
       "    </tr>\n",
       "  </tbody>\n",
       "</table>\n",
       "</div>"
      ],
      "text/plain": [
       "              general keywords  specific_keywords\n",
       "BM25 k1=0.10          0.054976           0.534623\n",
       "BM25 k1=0.20          0.055168           0.535226\n",
       "BM25 k1=0.30          0.055318           0.533408\n",
       "BM25 k1=0.40          0.055461           0.530193\n",
       "BM25 k1=0.50          0.055592           0.526211\n",
       "BM25 k1=0.60          0.055640           0.523617\n",
       "BM25 k1=0.70          0.055747           0.519903\n",
       "BM25 k1=0.80          0.055788           0.514663\n",
       "BM25 k1=0.90          0.055874           0.510322\n",
       "BM25 k1=1.00          0.055978           0.506207\n",
       "BM25 k1=1.10          0.056033           0.501578\n",
       "BM25 k1=1.20          0.055434           0.499576\n",
       "BM25 k1=1.30          0.055592           0.496937\n",
       "BM25 k1=1.40          0.055360           0.493435"
      ]
     },
     "execution_count": 14,
     "metadata": {},
     "output_type": "execute_result"
    }
   ],
   "source": [
    "print(\"mAP scores for bm25 k1 search models:\")\n",
    "search_k1_bm25_results"
   ]
  },
  {
   "cell_type": "code",
   "execution_count": 44,
   "metadata": {},
   "outputs": [
    {
     "data": {
      "image/png": "[encoded data removed]",
      "text/plain": [
       "<Figure size 864x360 with 1 Axes>"
      ]
     },
     "metadata": {},
     "output_type": "display_data"
    }
   ],
   "source": [
    "ax = search_k1_bm25_results[\"specific_keywords\"].plot(figsize=(12,5), style=\"-bo\", rot=45, legend=False)\n",
    "ax.set_ylabel(\"mAP\");"
   ]
  },
  {
   "cell_type": "markdown",
   "metadata": {},
   "source": [
    "Results:\n",
    "- k1 of 0.2 has the best performance"
   ]
  },
  {
   "cell_type": "markdown",
   "metadata": {},
   "source": [
    "#### Grid search for BM25 b parameter"
   ]
  },
  {
   "cell_type": "code",
   "execution_count": 16,
   "metadata": {},
   "outputs": [],
   "source": [
    "b_grid = np.arange(0.1,1.1,0.1)\n",
    "search_b_bm25_models = [(f\"BM25 b={b:.2f}\", partial(TfidfRetrieval, corpus=papers_basic, use_bm25=True, b=b, k1=0.2)) for b in b_grid]"
   ]
  },
  {
   "cell_type": "code",
   "execution_count": null,
   "metadata": {},
   "outputs": [],
   "source": [
    "%%time\n",
    "search_b_bm25_results = train_evaluate_models(search_b_bm25_models, [general_keywords, specific_keywords], n_jobs=len(search_b_bm25_models))"
   ]
  },
  {
   "cell_type": "code",
   "execution_count": 22,
   "metadata": {},
   "outputs": [
    {
     "name": "stdout",
     "output_type": "stream",
     "text": [
      "mAP scores for bm25 b search models:\n"
     ]
    },
    {
     "data": {
      "text/html": [
       "<div>\n",
       "<style scoped>\n",
       "    .dataframe tbody tr th:only-of-type {\n",
       "        vertical-align: middle;\n",
       "    }\n",
       "\n",
       "    .dataframe tbody tr th {\n",
       "        vertical-align: top;\n",
       "    }\n",
       "\n",
       "    .dataframe thead th {\n",
       "        text-align: right;\n",
       "    }\n",
       "</style>\n",
       "<table border=\"1\" class=\"dataframe\">\n",
       "  <thead>\n",
       "    <tr style=\"text-align: right;\">\n",
       "      <th></th>\n",
       "      <th>general keywords</th>\n",
       "      <th>specific_keywords</th>\n",
       "    </tr>\n",
       "  </thead>\n",
       "  <tbody>\n",
       "    <tr>\n",
       "      <th>BM25 b=0.10</th>\n",
       "      <td>0.054874</td>\n",
       "      <td>0.527841</td>\n",
       "    </tr>\n",
       "    <tr>\n",
       "      <th>BM25 b=0.20</th>\n",
       "      <td>0.055107</td>\n",
       "      <td>0.528939</td>\n",
       "    </tr>\n",
       "    <tr>\n",
       "      <th>BM25 b=0.30</th>\n",
       "      <td>0.055184</td>\n",
       "      <td>0.531163</td>\n",
       "    </tr>\n",
       "    <tr>\n",
       "      <th>BM25 b=0.40</th>\n",
       "      <td>0.055502</td>\n",
       "      <td>0.532409</td>\n",
       "    </tr>\n",
       "    <tr>\n",
       "      <th>BM25 b=0.50</th>\n",
       "      <td>0.055383</td>\n",
       "      <td>0.534166</td>\n",
       "    </tr>\n",
       "    <tr>\n",
       "      <th>BM25 b=0.60</th>\n",
       "      <td>0.055352</td>\n",
       "      <td>0.533565</td>\n",
       "    </tr>\n",
       "    <tr>\n",
       "      <th>BM25 b=0.70</th>\n",
       "      <td>0.055046</td>\n",
       "      <td>0.535282</td>\n",
       "    </tr>\n",
       "    <tr>\n",
       "      <th>BM25 b=0.80</th>\n",
       "      <td>0.055030</td>\n",
       "      <td>0.534848</td>\n",
       "    </tr>\n",
       "    <tr>\n",
       "      <th>BM25 b=0.90</th>\n",
       "      <td>0.055027</td>\n",
       "      <td>0.532954</td>\n",
       "    </tr>\n",
       "    <tr>\n",
       "      <th>BM25 b=1.00</th>\n",
       "      <td>0.053787</td>\n",
       "      <td>0.532048</td>\n",
       "    </tr>\n",
       "  </tbody>\n",
       "</table>\n",
       "</div>"
      ],
      "text/plain": [
       "             general keywords  specific_keywords\n",
       "BM25 b=0.10          0.054874           0.527841\n",
       "BM25 b=0.20          0.055107           0.528939\n",
       "BM25 b=0.30          0.055184           0.531163\n",
       "BM25 b=0.40          0.055502           0.532409\n",
       "BM25 b=0.50          0.055383           0.534166\n",
       "BM25 b=0.60          0.055352           0.533565\n",
       "BM25 b=0.70          0.055046           0.535282\n",
       "BM25 b=0.80          0.055030           0.534848\n",
       "BM25 b=0.90          0.055027           0.532954\n",
       "BM25 b=1.00          0.053787           0.532048"
      ]
     },
     "execution_count": 22,
     "metadata": {},
     "output_type": "execute_result"
    }
   ],
   "source": [
    "print(\"mAP scores for bm25 b search models:\")\n",
    "search_b_bm25_results"
   ]
  },
  {
   "cell_type": "code",
   "execution_count": 45,
   "metadata": {},
   "outputs": [
    {
     "data": {
      "image/png": "[encoded data removed]",
      "text/plain": [
       "<Figure size 864x360 with 1 Axes>"
      ]
     },
     "metadata": {},
     "output_type": "display_data"
    }
   ],
   "source": [
    "ax = search_b_bm25_results[\"specific_keywords\"].plot(figsize=(12,5), style=\"-bo\", rot=45, legend=False)\n",
    "ax.set_ylabel(\"mAP\");"
   ]
  },
  {
   "cell_type": "markdown",
   "metadata": {},
   "source": [
    "Results:\n",
    "- b parameter does not have a great effect on model performance\n",
    "- best value at 0.7"
   ]
  },
  {
   "cell_type": "markdown",
   "metadata": {},
   "source": [
    "#### Test bm25 with best parameters on n-grams"
   ]
  },
  {
   "cell_type": "code",
   "execution_count": 11,
   "metadata": {},
   "outputs": [],
   "source": [
    "ngram_bm25_models = [\n",
    "    (\"bm25 2-gram\", partial(TfidfRetrieval, corpus=papers_basic, max_ngram=2, use_bm25=True, k1=0.2, b=0.7)),\n",
    "    (\"bm25 3-gram\", partial(TfidfRetrieval, corpus=papers_basic, max_ngram=3, use_bm25=True, k1=0.2, b=0.7)),\n",
    "]"
   ]
  },
  {
   "cell_type": "code",
   "execution_count": 14,
   "metadata": {},
   "outputs": [
    {
     "name": "stdout",
     "output_type": "stream",
     "text": [
      "1477712\n"
     ]
    },
    {
     "data": {
      "application/vnd.jupyter.widget-view+json": {
       "model_id": "1a9a36c5258342c6b15bfb1c1c55e2a3",
       "version_major": 2,
       "version_minor": 0
      },
      "text/plain": [
       "HBox(children=(IntProgress(value=0, layout=Layout(flex='2'), max=1293), HTML(value='')), layout=Layout(display…"
      ]
     },
     "metadata": {},
     "output_type": "display_data"
    },
    {
     "name": "stdout",
     "output_type": "stream",
     "text": [
      "\n",
      "CPU times: user 3.71 s, sys: 1.76 s, total: 5.47 s\n",
      "Wall time: 13min 44s\n"
     ]
    }
   ],
   "source": [
    "ngram_bm25_results = train_evaluate_models(ngram_bm25_models, [general_keywords, specific_keywords])"
   ]
  },
  {
   "cell_type": "code",
   "execution_count": 15,
   "metadata": {},
   "outputs": [
    {
     "name": "stdout",
     "output_type": "stream",
     "text": [
      "mAP scores for ngram bm25 models:\n"
     ]
    },
    {
     "data": {
      "text/html": [
       "<div>\n",
       "<style scoped>\n",
       "    .dataframe tbody tr th:only-of-type {\n",
       "        vertical-align: middle;\n",
       "    }\n",
       "\n",
       "    .dataframe tbody tr th {\n",
       "        vertical-align: top;\n",
       "    }\n",
       "\n",
       "    .dataframe thead th {\n",
       "        text-align: right;\n",
       "    }\n",
       "</style>\n",
       "<table border=\"1\" class=\"dataframe\">\n",
       "  <thead>\n",
       "    <tr style=\"text-align: right;\">\n",
       "      <th></th>\n",
       "      <th>general keywords</th>\n",
       "      <th>specific_keywords</th>\n",
       "    </tr>\n",
       "  </thead>\n",
       "  <tbody>\n",
       "    <tr>\n",
       "      <th>bm25 2-gram</th>\n",
       "      <td>0.054687</td>\n",
       "      <td>0.622511</td>\n",
       "    </tr>\n",
       "  </tbody>\n",
       "</table>\n",
       "</div>"
      ],
      "text/plain": [
       "             general keywords  specific_keywords\n",
       "bm25 2-gram          0.054687           0.622511"
      ]
     },
     "execution_count": 15,
     "metadata": {},
     "output_type": "execute_result"
    }
   ],
   "source": [
    "print(\"mAP scores for ngram bm25 models:\")\n",
    "ngram_bm25_results"
   ]
  },
  {
   "cell_type": "markdown",
   "metadata": {},
   "source": [
    "Results:\n",
    "- bigrams improve result of bm25\n",
    "- bm25 bigram model achieves best score on specific keywords\n",
    "- general keyword score still very low"
   ]
  },
  {
   "cell_type": "code",
   "execution_count": 16,
   "metadata": {},
   "outputs": [],
   "source": [
    "from query_expansion_retrieval import QueryExpansionRetrieval"
   ]
  },
  {
   "cell_type": "code",
   "execution_count": 17,
   "metadata": {},
   "outputs": [],
   "source": [
    "with open(\"../data/keyword_hierarchy.json\", 'r') as file:\n",
    "    keyword_hierarchy = json.load(file)"
   ]
  },
  {
   "cell_type": "code",
   "execution_count": 18,
   "metadata": {},
   "outputs": [
    {
     "name": "stdout",
     "output_type": "stream",
     "text": [
      "79896\n",
      "1477712\n"
     ]
    }
   ],
   "source": [
    "bm25_model_unigram = TfidfRetrieval(corpus=papers_basic, max_ngram=1, use_bm25=True, k1=0.2, b=0.7)\n",
    "bm25_model_bigram = TfidfRetrieval(corpus=papers_basic, max_ngram=2, use_bm25=True, k1=0.2, b=0.7)"
   ]
  },
  {
   "cell_type": "code",
   "execution_count": null,
   "metadata": {},
   "outputs": [],
   "source": [
    "query_expansion_models = [\n",
    "    (\"qe unigram expand all\", \n",
    "     partial(QueryExpansionRetrieval, \n",
    "             wrapped_model=bm25_model_unigram, \n",
    "             expansion_hierarchy=keyword_hierarchy,\n",
    "             only_expand_once=False,\n",
    "             separate_weighting=False)),\n",
    "    (\"qe unigram expand first\"\n",
    "     partial(QueryExpansionRetrieval, \n",
    "             wrapped_model=bm25_model_unigram, \n",
    "             expansion_hierarchy=keyword_hierarchy,\n",
    "             only_expand_once=True,\n",
    "             separate_weighting=False)),\n",
    "    (\"qe bigram expand all\", \n",
    "     partial(QueryExpansionRetrieval, \n",
    "             wrapped_model=bm25_model_bigram,\n",
    "             expansion_hierarchy=keyword_hierarchy,\n",
    "             only_expand_once=False,\n",
    "             separate_weighting=False)),\n",
    "    (\"qe bigram expand first\"\n",
    "     partial(QueryExpansionRetrieval, \n",
    "             wrapped_model=bm25_model_bigram, \n",
    "             expansion_hierarchy=keyword_hierarchy,\n",
    "             only_expand_once=True,\n",
    "             separate_weighting=False)),\n",
    "    (\"qe unigram expand all separate weighting\"\n",
    "     partial(QueryExpansionRetrieval, \n",
    "             wrapped_model=bm25_model_unigram, \n",
    "             expansion_hierarchy=keyword_hierarchy,\n",
    "             only_expand_once=False,\n",
    "             separate_weighting=True)),\n",
    "    (\"qe unigram expand first separate weighting\"\n",
    "     partial(QueryExpansionRetrieval, \n",
    "             wrapped_model=bm25_model_unigram, \n",
    "             expansion_hierarchy=keyword_hierarchy,\n",
    "             only_expand_once=True,\n",
    "             separate_weighting=True))\n",
    "]"
   ]
  },
  {
   "cell_type": "code",
   "execution_count": null,
   "metadata": {},
   "outputs": [],
   "source": [
    "query_expansion_results = train_evaluate_models(query_expansion_results, [general_keywords, specific_keywords])"
   ]
  },
  {
   "cell_type": "code",
   "execution_count": null,
   "metadata": {},
   "outputs": [],
   "source": [
    "print(\"mAP scores for query expansion models:\")\n",
    "ngram_bm25_result"
   ]
  }
 ],
 "metadata": {
  "kernelspec": {
   "display_name": "Python 3",
   "language": "python",
   "name": "python3"
  },
  "language_info": {
   "codemirror_mode": {
    "name": "ipython",
    "version": 3
   },
   "file_extension": ".py",
   "mimetype": "text/x-python",
   "name": "python",
   "nbconvert_exporter": "python",
   "pygments_lexer": "ipython3",
   "version": "3.7.4"
  }
 },
 "nbformat": 4,
 "nbformat_minor": 4
}
