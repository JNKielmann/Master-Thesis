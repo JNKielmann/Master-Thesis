{
 "cells": [
  {
   "cell_type": "code",
   "execution_count": 1,
   "metadata": {},
   "outputs": [],
   "source": [
    "%load_ext autoreload\n",
    "%autoreload 2\n",
    "import json\n",
    "from gensim.summarization.bm25 import BM25\n",
    "from gensim.models.phrases import Phrases, Phraser\n",
    "import pandas as pd\n",
    "pd.set_option('display.max_columns', None)  \n",
    "pd.set_option('display.expand_frame_repr', False)\n",
    "pd.set_option('max_colwidth', 1000)\n",
    "import numpy as np\n",
    "from multiprocessing import Pool\n",
    "from functools import partial\n",
    "import matplotlib.pyplot as plt\n",
    "import spacy\n",
    "import seaborn as sns\n",
    "sns.set()\n",
    "\n",
    "\n",
    "from tqdm.notebook import tqdm\n",
    "import warnings\n",
    "with warnings.catch_warnings():\n",
    "    warnings.simplefilter(\"ignore\")\n",
    "    tqdm.pandas()\n",
    "\n",
    "import sys\n",
    "import logging\n",
    "logging.basicConfig(level=logging.INFO, stream=sys.stdout)\n",
    "\n",
    "\n",
    "from tfidf_retrieval import TfidfRetrieval\n",
    "from evaluation import *\n",
    "from preprocessing import apply_pipeline, Corpus, BasicPreprocessing, BigramPreprocessor, SpacyPreprocessor"
   ]
  },
  {
   "cell_type": "code",
   "execution_count": 3,
   "metadata": {},
   "outputs": [
    {
     "name": "stdout",
     "output_type": "stream",
     "text": [
      "INFO:preprocessing.pipeline:Start preprocessing pipeline \"basic\" for file ../data/kit_expert_2017_papers.csv.\n",
      "INFO:preprocessing.pipeline:Loaded cached preprocessed corpus from ../data/kit_expert_2017_papers_basic\n",
      "INFO:preprocessing.pipeline:Start preprocessing pipeline \"basic_bigrams\" for file ../data/kit_expert_2017_papers.csv.\n",
      "INFO:preprocessing.pipeline:Loaded cached preprocessed corpus from ../data/kit_expert_2017_papers_basic_bigrams\n",
      "INFO:preprocessing.pipeline:Start preprocessing pipeline \"basic_spacy_lemmatization\" for file ../data/kit_expert_2017_papers.csv.\n",
      "INFO:preprocessing.pipeline:Loaded cached preprocessed corpus from ../data/kit_expert_2017_papers_basic_spacy_lemmatization\n",
      "INFO:preprocessing.pipeline:Start preprocessing pipeline \"basic_spacy_lemmatization_bigrams\" for file ../data/kit_expert_2017_papers.csv.\n",
      "INFO:preprocessing.pipeline:Loaded cached preprocessed corpus from ../data/kit_expert_2017_papers_basic_spacy_lemmatization_bigrams\n"
     ]
    }
   ],
   "source": [
    "base_file =  \"../data/kit_expert_2017_papers.csv\"\n",
    "\n",
    "p = [BasicPreprocessing()]\n",
    "papers_basic = Corpus(base_file, p)\n",
    "\n",
    "p = [BasicPreprocessing(), BigramPreprocessor()]\n",
    "papers_basic_bigram = Corpus(base_file, p)\n",
    "\n",
    "p = [BasicPreprocessing(), SpacyPreprocessor(lemmatization=True)]\n",
    "papers_basic_lemmatization = Corpus(base_file, p, load_from_cache=True)\n",
    "\n",
    "p = [BasicPreprocessing(), SpacyPreprocessor(lemmatization=True), BigramPreprocessor()]\n",
    "papers_basic_lemmatization_bigram = Corpus(base_file, p)\n"
   ]
  },
  {
   "cell_type": "code",
   "execution_count": 4,
   "metadata": {},
   "outputs": [],
   "source": [
    "with open(\"../data/kit_expert_2017_keywords.json\", \"r\") as file:\n",
    "    keywords = json.load(file)"
   ]
  },
  {
   "cell_type": "code",
   "execution_count": 7,
   "metadata": {},
   "outputs": [],
   "source": [
    "general_keywords = (\"general keywords\", [k for k in keywords if k[\"level\"]<=1])\n",
    "specific_keywords = (\"specific_keywords\", [k for k in keywords if k[\"level\"]>=2][:1000])"
   ]
  },
  {
   "cell_type": "code",
   "execution_count": null,
   "metadata": {},
   "outputs": [],
   "source": [
    "unigram_tfidf_models = [\n",
    "    (\"tf linear\", partial(TfidfRetrieval, corpus = papers_basic, max_ngrams=1, use_idf=False, sublinear_tf=False)),\n",
    "    (\"tf sublinear\", partial(TfidfRetrieval, corpus = papers_basic, max_ngrams=1, use_idf=False, sublinear_tf=True)),\n",
    "    (\"tf-idf linear\", partial(TfidfRetrieval, corpus = papers_basic, max_ngrams=1, use_idf=True, sublinear_tf=False)),\n",
    "    (\"tf-idf sublinear\", partial(TfidfRetrieval, corpus = papers_basic, max_ngrams=1, use_idf=True, sublinear_tf=True)),\n",
    "]"
   ]
  },
  {
   "cell_type": "code",
   "execution_count": null,
   "metadata": {},
   "outputs": [],
   "source": [
    "%%time\n",
    "unigram_tfidf_results = train_evaluate_models(unigram_tfidf_models, [general_keywords, specific_keywords])"
   ]
  },
  {
   "cell_type": "code",
   "execution_count": null,
   "metadata": {},
   "outputs": [],
   "source": [
    "print(\"mAP scores for unigram tfidf models:\")\n",
    "unigram_tfidf_results"
   ]
  },
  {
   "cell_type": "code",
   "execution_count": null,
   "metadata": {},
   "outputs": [],
   "source": [
    "ngram_tfidf_models = [\n",
    "    (\"tf-idf sublinear 2-gram\", partial(TfidfRetrieval, corpus=papers_basic, max_ngrams=2, use_idf=True, sublinear_tf=True)),\n",
    "    (\"tf-idf sublinear 3-gram\", partial(TfidfRetrieval, corpus=papers_basic, max_ngrams=3, use_idf=True, sublinear_tf=True)),\n",
    "    (\"tf-idf sublinear 4-gram\", partial(TfidfRetrieval, corpus=papers_basic, max_ngrams=4, use_idf=True, sublinear_tf=True)),\n",
    "    (\"tf-idf sublinear 5-gram\", partial(TfidfRetrieval, corpus=papers_basic, max_ngrams=5, use_idf=True, sublinear_tf=True)),\n",
    "    (\"tf-idf sublinear 6-gram\", partial(TfidfRetrieval, corpus=papers_basic, max_ngrams=6, use_idf=True, sublinear_tf=True)),\n",
    "]"
   ]
  },
  {
   "cell_type": "code",
   "execution_count": null,
   "metadata": {},
   "outputs": [],
   "source": [
    "%%time\n",
    "ngram_tfidf_results = train_evaluate_models(ngram_tfidf_models, [general_keywords, specific_keywords])"
   ]
  },
  {
   "cell_type": "code",
   "execution_count": null,
   "metadata": {},
   "outputs": [],
   "source": [
    "print(\"mAP scores for ngram tfidf models:\")\n",
    "ngram_tfidf_results"
   ]
  },
  {
   "cell_type": "code",
   "execution_count": null,
   "metadata": {},
   "outputs": [],
   "source": [
    "k1_grid = np.arange(0.1,1.5,0.1)\n",
    "search_k1_bm25_models = [(f\"BM25 k1={k1:.2f}\", partial(TfidfRetrieval, corpus=papers_basic, use_bm25=True, k1=k1)) for k1 in k1_grid]"
   ]
  },
  {
   "cell_type": "code",
   "execution_count": null,
   "metadata": {},
   "outputs": [],
   "source": [
    "%%time\n",
    "search_k1_bm25_results = train_evaluate_models(search_k1_bm25_models, [general_keywords, specific_keywords])"
   ]
  },
  {
   "cell_type": "code",
   "execution_count": null,
   "metadata": {},
   "outputs": [],
   "source": [
    "print(\"mAP scores for bm25 k1 search models:\")\n",
    "search_k1_bm25_results"
   ]
  },
  {
   "cell_type": "code",
   "execution_count": null,
   "metadata": {},
   "outputs": [],
   "source": [
    "b_grid = np.arange(0.1,1.1,0.1)\n",
    "search_b_bm25_models = [(f\"BM25 b={b:.2f}\", partial(TfidfRetrieval, corpus=papers_basic, use_bm25=True, b=b, k1=0.3)) for b in b_grid]"
   ]
  },
  {
   "cell_type": "code",
   "execution_count": null,
   "metadata": {},
   "outputs": [],
   "source": [
    "%%time\n",
    "search_b_bm25_results = train_evaluate_models(search_b_bm25_models, [general_keywords, specific_keywords])"
   ]
  },
  {
   "cell_type": "code",
   "execution_count": null,
   "metadata": {},
   "outputs": [],
   "source": [
    "print(\"mAP scores for bm25 b search models:\")\n",
    "search_b_bm25_results"
   ]
  },
  {
   "cell_type": "code",
   "execution_count": null,
   "metadata": {},
   "outputs": [],
   "source": [
    "ngram_bm25_models = [\n",
    "    (\"bm25 2-gram\", partial(TfidfRetrieval, corpus=papers_basic, max_ngrams=2, use_bm25=True, k1=0.3, b=0.7)),\n",
    "    (\"bm25 3-gram\", partial(TfidfRetrieval, corpus=papers_basic, max_ngrams=3, use_bm25=True, k1=0.3, b=0.7)),\n",
    "    (\"bm25 4-gram\", partial(TfidfRetrieval, corpus=papers_basic, max_ngrams=4, use_bm25=True, k1=0.3, b=0.7)),\n",
    "    (\"bm25 5-gram\", partial(TfidfRetrieval, corpus=papers_basic, max_ngrams=5, use_bm25=True, k1=0.3, b=0.7)),\n",
    "    (\"bm25 6-gram\", partial(TfidfRetrieval, corpus=papers_basic, max_ngrams=6, use_bm25=True, k1=0.3, b=0.7)),\n",
    "]"
   ]
  },
  {
   "cell_type": "code",
   "execution_count": null,
   "metadata": {},
   "outputs": [],
   "source": [
    "%%time\n",
    "ngram_bm25_results = train_evaluate_models(ngram_bm25_results, [general_keywords, specific_keywords])"
   ]
  },
  {
   "cell_type": "code",
   "execution_count": null,
   "metadata": {},
   "outputs": [],
   "source": [
    "print(\"mAP scores for ngram bm25 models:\")\n",
    "ngram_bm25_results"
   ]
  }
 ],
 "metadata": {
  "kernelspec": {
   "display_name": "Python 3",
   "language": "python",
   "name": "python3"
  },
  "language_info": {
   "codemirror_mode": {
    "name": "ipython",
    "version": 3
   },
   "file_extension": ".py",
   "mimetype": "text/x-python",
   "name": "python",
   "nbconvert_exporter": "python",
   "pygments_lexer": "ipython3",
   "version": "3.7.4"
  }
 },
 "nbformat": 4,
 "nbformat_minor": 4
}
